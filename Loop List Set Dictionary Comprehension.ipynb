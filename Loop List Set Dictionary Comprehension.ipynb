{
 "cells": [
  {
   "cell_type": "code",
   "execution_count": 1,
   "id": "cb3ae33f",
   "metadata": {},
   "outputs": [
    {
     "data": {
      "text/plain": [
       "[0, 1, 4, 9, 16, 25, 36, 49, 64, 81]"
      ]
     },
     "execution_count": 1,
     "metadata": {},
     "output_type": "execute_result"
    }
   ],
   "source": [
    "#create a list containing the first ten perfect squares\n",
    "square = []\n",
    "for i in range(10):\n",
    "    square.append(i * i)\n",
    "square"
   ]
  },
  {
   "cell_type": "code",
   "execution_count": 2,
   "id": "323c6781",
   "metadata": {},
   "outputs": [
    {
     "data": {
      "text/plain": [
       "[0, 1, 4, 9, 16, 25, 36, 49, 64, 81]"
      ]
     },
     "execution_count": 2,
     "metadata": {},
     "output_type": "execute_result"
    }
   ],
   "source": [
    "#Using list comprehension\n",
    "square = [i * i for i in range(10)]\n",
    "square"
   ]
  },
  {
   "cell_type": "code",
   "execution_count": 3,
   "id": "d5e1ed44",
   "metadata": {},
   "outputs": [
    {
     "data": {
      "text/plain": [
       "['a', 'e', 'u', 'i', 'a']"
      ]
     },
     "execution_count": 3,
     "metadata": {},
     "output_type": "execute_result"
    }
   ],
   "source": [
    "sentence = 'Happy Republic Day'\n",
    "vowels = [i for i in sentence if i in 'aeiou']\n",
    "vowels"
   ]
  },
  {
   "cell_type": "code",
   "execution_count": 4,
   "id": "95b6878f",
   "metadata": {},
   "outputs": [
    {
     "name": "stdout",
     "output_type": "stream",
     "text": [
      "['T', 'h', 'r', 'c', 'k', 't', 'w', 'h', 'w', 's', 'n', 'm', 'd', 'T', 'd', 'c', 'm', 'b', 'c', 'k', 'f', 'r', 'm', 'M', 'r', 's', 'b', 'c', 's', 'h', 'm', 's', 's', 'd', 'h', 's', 'f', 'r', 'n', 'd', 's']\n"
     ]
    }
   ],
   "source": [
    "sentence = 'The rocket, who was named Ted, came back \\\n",
    "             from Mars because he missed his friends.'\n",
    "def is_consonant(letter):\n",
    "    vowels = 'aeiou'\n",
    "    return letter.isalpha() and letter.lower() not in vowels\n",
    "consonants = [i for i in sentence if is_consonant(i)]\n",
    "print(consonants)"
   ]
  },
  {
   "cell_type": "code",
   "execution_count": 5,
   "id": "54d13a32",
   "metadata": {},
   "outputs": [
    {
     "data": {
      "text/plain": [
       "[1.25, 0, 10.22, 3.78, 0, 1.16, 2.34, 5.67, 0, 5.46]"
      ]
     },
     "execution_count": 5,
     "metadata": {},
     "output_type": "execute_result"
    }
   ],
   "source": [
    "original_price = [1.25, -9.45, 10.22, 3.78, -5.92, 1.16,2.34,5.67,-0.09,5.46]\n",
    "price = [i if i > 0 else 0 for i in original_price]\n",
    "price"
   ]
  },
  {
   "cell_type": "code",
   "execution_count": 6,
   "id": "58624948",
   "metadata": {},
   "outputs": [
    {
     "data": {
      "text/plain": [
       "'A set comprehension is almost exactly the same as a list comprehension in Python \\nThe difference is that set comprehensions make sure the output contains no duplicates \\nYou can create a set comprehension by using curly braces instead of brackets.'"
      ]
     },
     "execution_count": 6,
     "metadata": {},
     "output_type": "execute_result"
    }
   ],
   "source": [
    "'''A set comprehension is almost exactly the same as a list comprehension in Python \n",
    "The difference is that set comprehensions make sure the output contains no duplicates \n",
    "You can create a set comprehension by using curly braces instead of brackets.'''"
   ]
  },
  {
   "cell_type": "code",
   "execution_count": 7,
   "id": "deafe451",
   "metadata": {},
   "outputs": [
    {
     "data": {
      "text/plain": [
       "{'a', 'e', 'i', 'o', 'u'}"
      ]
     },
     "execution_count": 7,
     "metadata": {},
     "output_type": "execute_result"
    }
   ],
   "source": [
    "#Set comprehenssion\n",
    "quote = \"Work is workship.Hello friends,How are you\"\n",
    "unique_vowel = {i for i in quote if i in 'aeiou'}\n",
    "unique_vowel"
   ]
  },
  {
   "cell_type": "code",
   "execution_count": 8,
   "id": "1286e160",
   "metadata": {},
   "outputs": [
    {
     "data": {
      "text/plain": [
       "{'Pune': [0, 0, 0, 0, 0, 0, 0],\n",
       " 'Mumbai': [0, 0, 0, 0, 0, 0, 0],\n",
       " 'Delhi': [0, 0, 0, 0, 0, 0, 0],\n",
       " 'Kolkata': [0, 0, 0, 0, 0, 0, 0],\n",
       " 'Banglore': [0, 0, 0, 0, 0, 0, 0]}"
      ]
     },
     "execution_count": 8,
     "metadata": {},
     "output_type": "execute_result"
    }
   ],
   "source": [
    "cities = ['Pune', 'Mumbai', 'Delhi', 'Kolkata', 'Banglore']\n",
    "temps = {city: [0 for _ in range(7)] for city in cities}\n",
    "temps"
   ]
  },
  {
   "cell_type": "code",
   "execution_count": 9,
   "id": "3da4e299",
   "metadata": {},
   "outputs": [
    {
     "data": {
      "text/plain": [
       "[[0, 1, 2, 3, 4],\n",
       " [0, 1, 2, 3, 4],\n",
       " [0, 1, 2, 3, 4],\n",
       " [0, 1, 2, 3, 4],\n",
       " [0, 1, 2, 3, 4],\n",
       " [0, 1, 2, 3, 4]]"
      ]
     },
     "execution_count": 9,
     "metadata": {},
     "output_type": "execute_result"
    }
   ],
   "source": [
    "#Nested lists are a common way to create matrices, which are often used for mathematical purposes. \n",
    "matrix = [[i for i in range(5)] for _ in range(6)]\n",
    "matrix"
   ]
  },
  {
   "cell_type": "code",
   "execution_count": 10,
   "id": "835df8b3",
   "metadata": {},
   "outputs": [
    {
     "data": {
      "text/plain": [
       "[0, 0, 0, 1, 1, 1, 2, 2, 2]"
      ]
     },
     "execution_count": 10,
     "metadata": {},
     "output_type": "execute_result"
    }
   ],
   "source": [
    "#flattening nested lists.\n",
    "matrix = [\n",
    "        [0, 0, 0],\n",
    "        [1, 1, 1],\n",
    "        [2, 2, 2],\n",
    "        ]\n",
    "flat = [num for row in matrix for num in row]\n",
    "flat"
   ]
  },
  {
   "cell_type": "code",
   "execution_count": 11,
   "id": "595e64e6",
   "metadata": {},
   "outputs": [
    {
     "data": {
      "text/plain": [
       "[0, 0, 0, 1, 1, 1, 2, 2, 2]"
      ]
     },
     "execution_count": 11,
     "metadata": {},
     "output_type": "execute_result"
    }
   ],
   "source": [
    "matrix = [\n",
    "            [0, 0, 0],\n",
    "            [1, 1, 1],\n",
    "            [2, 2, 2],\n",
    "         ]\n",
    "flat = []\n",
    "for row in matrix:\n",
    "    for num in row:\n",
    "        flat.append(num)\n",
    "flat"
   ]
  },
  {
   "cell_type": "code",
   "execution_count": 12,
   "id": "b413c297",
   "metadata": {},
   "outputs": [
    {
     "data": {
      "text/plain": [
       "332833500"
      ]
     },
     "execution_count": 12,
     "metadata": {},
     "output_type": "execute_result"
    }
   ],
   "source": [
    "sum([i * i for i in range(1000)])"
   ]
  },
  {
   "cell_type": "code",
   "execution_count": 13,
   "id": "c7e99070",
   "metadata": {},
   "outputs": [
    {
     "data": {
      "text/plain": [
       "333333332833333333500000000"
      ]
     },
     "execution_count": 13,
     "metadata": {},
     "output_type": "execute_result"
    }
   ],
   "source": [
    "sum(i * i for i in range(1000000000))"
   ]
  },
  {
   "cell_type": "code",
   "execution_count": 14,
   "id": "1a90c9a5",
   "metadata": {},
   "outputs": [
    {
     "data": {
      "text/plain": [
       "333333332833333333500000000"
      ]
     },
     "execution_count": 14,
     "metadata": {},
     "output_type": "execute_result"
    }
   ],
   "source": [
    "sum(map(lambda i: i*i, range(1000000000)))"
   ]
  },
  {
   "cell_type": "code",
   "execution_count": 15,
   "id": "78286b61",
   "metadata": {},
   "outputs": [
    {
     "name": "stdout",
     "output_type": "stream",
     "text": [
      "The output of lambda function is 30 \n"
     ]
    }
   ],
   "source": [
    "a = lambda x,y : x*y\n",
    "print(\"The output of lambda function is {} \".format(a(5, 6)))"
   ]
  },
  {
   "cell_type": "code",
   "execution_count": 16,
   "id": "e206728c",
   "metadata": {},
   "outputs": [
    {
     "data": {
      "text/plain": [
       "30"
      ]
     },
     "execution_count": 16,
     "metadata": {},
     "output_type": "execute_result"
    }
   ],
   "source": [
    "a = lambda x,y : x*y\n",
    "a(5, 6)"
   ]
  }
 ],
 "metadata": {
  "kernelspec": {
   "display_name": "Python 3 (ipykernel)",
   "language": "python",
   "name": "python3"
  },
  "language_info": {
   "codemirror_mode": {
    "name": "ipython",
    "version": 3
   },
   "file_extension": ".py",
   "mimetype": "text/x-python",
   "name": "python",
   "nbconvert_exporter": "python",
   "pygments_lexer": "ipython3",
   "version": "3.9.12"
  }
 },
 "nbformat": 4,
 "nbformat_minor": 5
}
