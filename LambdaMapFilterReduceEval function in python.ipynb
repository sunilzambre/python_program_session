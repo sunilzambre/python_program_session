{
 "cells": [
  {
   "cell_type": "code",
   "execution_count": 1,
   "id": "e6513526",
   "metadata": {},
   "outputs": [],
   "source": [
    "#syntax to declare the lambda function lambda argument(s) : expression\n",
    "#declare a lambda function\n",
    "check = lambda : print('Hello World')"
   ]
  },
  {
   "cell_type": "code",
   "execution_count": 2,
   "id": "fa5c250f",
   "metadata": {},
   "outputs": [
    {
     "name": "stdout",
     "output_type": "stream",
     "text": [
      "Hello World\n"
     ]
    }
   ],
   "source": [
    "check() #To execute this lambda function, we need to call it. "
   ]
  },
  {
   "cell_type": "code",
   "execution_count": 3,
   "id": "1611b188",
   "metadata": {},
   "outputs": [
    {
     "name": "stdout",
     "output_type": "stream",
     "text": [
      "Hello dear students\n"
     ]
    }
   ],
   "source": [
    "# lambda that accepts one argument\n",
    "user = lambda name : print('Hello dear', name)\n",
    "# lambda call\n",
    "user('students')"
   ]
  },
  {
   "cell_type": "code",
   "execution_count": 4,
   "id": "8f5accb8",
   "metadata": {},
   "outputs": [
    {
     "name": "stdout",
     "output_type": "stream",
     "text": [
      "Even number in given list:  [2, 4, 6, 8, 10]\n"
     ]
    }
   ],
   "source": [
    "# Program to filter out only the even items from a list\n",
    "my_list = [1, 2, 3, 4, 5, 6, 7, 8, 9, 10]\n",
    "new_list = list(filter(lambda x: (x%2 == 0) , my_list))\n",
    "print(\"Even number in given list: \",new_list)"
   ]
  },
  {
   "cell_type": "code",
   "execution_count": 5,
   "id": "28ac0571",
   "metadata": {},
   "outputs": [
    {
     "name": "stdout",
     "output_type": "stream",
     "text": [
      "[2, 10, 8, 12, 16, 22, 6, 24]\n"
     ]
    }
   ],
   "source": [
    "# Program to double each item in a list using map()\n",
    "my_list = [1, 5, 4, 6, 8, 11, 3, 12]\n",
    "\n",
    "new_list = list(map(lambda x: x * 2 , my_list))\n",
    "\n",
    "print(new_list)"
   ]
  },
  {
   "cell_type": "code",
   "execution_count": 6,
   "id": "b81fd458",
   "metadata": {},
   "outputs": [
    {
     "name": "stdout",
     "output_type": "stream",
     "text": [
      "\n",
      "Original lists:\n",
      "['Red', 'Green', 'Blue', 'White', 'Black']\n",
      "\n",
      "Reverse strings of the said given list:\n",
      "['deR', 'neerG', 'eulB', 'etihW', 'kcalB']\n"
     ]
    }
   ],
   "source": [
    "def revstr(str_list):\n",
    "    result = list(map(lambda x: \"\".join(reversed(x)), str_list))\n",
    "    return result\n",
    "\n",
    "color_list = [\"Red\", \"Green\", \"Blue\", \"White\", \"Black\"]\n",
    "print(\"\\nOriginal lists:\")\n",
    "print(color_list)\n",
    "print(\"\\nReverse strings of the said given list:\")\n",
    "print(revstr(color_list))"
   ]
  },
  {
   "cell_type": "code",
   "execution_count": 7,
   "id": "9241ef1b",
   "metadata": {},
   "outputs": [
    {
     "data": {
      "text/plain": [
       "['Black', 'White', 'Blue', 'Green', 'Red']"
      ]
     },
     "execution_count": 7,
     "metadata": {},
     "output_type": "execute_result"
    }
   ],
   "source": [
    "color_list = [\"Red\", \"Green\", \"Blue\", \"White\", \"Black\"]\n",
    "color_list[::-1]"
   ]
  },
  {
   "cell_type": "code",
   "execution_count": 8,
   "id": "d44e7fbc",
   "metadata": {},
   "outputs": [
    {
     "data": {
      "text/plain": [
       "'dlrow olleh'"
      ]
     },
     "execution_count": 8,
     "metadata": {},
     "output_type": "execute_result"
    }
   ],
   "source": [
    "\"hello world\"[::-1]"
   ]
  },
  {
   "cell_type": "code",
   "execution_count": 9,
   "id": "91901c7e",
   "metadata": {},
   "outputs": [
    {
     "name": "stdout",
     "output_type": "stream",
     "text": [
      "Total Even numbers in the list:  [2, 4, 6, 8, 10]\n",
      "Total Odd numbers in the list:  [1, 3, 5, 7, 9]\n"
     ]
    }
   ],
   "source": [
    "# Check the Odd and Even numbers by using Lambda function\n",
    "numlist = [1,2,3,4,5,6,7,8,9,10]\n",
    "even = list(filter(lambda x: x % 2 == 0,numlist))\n",
    "print(\"Total Even numbers in the list: \", even)\n",
    "\n",
    "odd = list(filter(lambda x: x % 2 != 0,numlist))\n",
    "print(\"Total Odd numbers in the list: \", odd)"
   ]
  },
  {
   "cell_type": "code",
   "execution_count": 10,
   "id": "b51728e5",
   "metadata": {},
   "outputs": [
    {
     "name": "stdout",
     "output_type": "stream",
     "text": [
      "Enter the list:[1,2,3,4,5,6,7,8,9,10,11,12,13,14,15,16,17,18,25,28,29,94,56]\n",
      "The even number is the list user entered:  [2, 4, 6, 8, 10, 12, 14, 16, 18, 28, 94, 56]\n",
      "The odd number in the list user entered: [1, 3, 5, 7, 9, 11, 13, 15, 17, 25, 29]\n"
     ]
    }
   ],
   "source": [
    "lmb=eval(input(\"Enter the list:\"))\n",
    "lmb1=list(filter(lambda x : x % 2 == 0,lmb))\n",
    "print(\"The even number is the list user entered: \",lmb1)\n",
    "lmb2=list(filter(lambda x : x % 2 != 0,lmb))\n",
    "print(\"The odd number in the list user entered:\",lmb2)"
   ]
  },
  {
   "cell_type": "code",
   "execution_count": 11,
   "id": "795238ec",
   "metadata": {},
   "outputs": [
    {
     "data": {
      "text/plain": [
       "25"
      ]
     },
     "execution_count": 11,
     "metadata": {},
     "output_type": "execute_result"
    }
   ],
   "source": [
    "square = lambda n: n ** 2\n",
    "# Calling lambda function\n",
    "square(5)"
   ]
  },
  {
   "cell_type": "code",
   "execution_count": 12,
   "id": "f3408754",
   "metadata": {},
   "outputs": [
    {
     "data": {
      "text/plain": [
       "6"
      ]
     },
     "execution_count": 12,
     "metadata": {},
     "output_type": "execute_result"
    }
   ],
   "source": [
    "maximum = lambda x, y: x if x > y else y\n",
    "maximum(4, 6)"
   ]
  },
  {
   "cell_type": "code",
   "execution_count": 13,
   "id": "88c55c91",
   "metadata": {},
   "outputs": [
    {
     "name": "stdout",
     "output_type": "stream",
     "text": [
      "[2, 4, 6]\n"
     ]
    }
   ],
   "source": [
    "#Using Lambda Function Inside filter()\n",
    "num = [1, 2, 3, 4, 5, 6, 7]\n",
    "# the lambda function returns True for even numbers \n",
    "enum_iterator = filter(lambda x: (x%2 == 0), num)\n",
    "\n",
    "# converting to list\n",
    "en = list(enum_iterator)\n",
    "\n",
    "print(en)"
   ]
  },
  {
   "cell_type": "code",
   "execution_count": 14,
   "id": "afd853b1",
   "metadata": {},
   "outputs": [
    {
     "name": "stdout",
     "output_type": "stream",
     "text": [
      "[1, 'a', True, '0']\n"
     ]
    }
   ],
   "source": [
    "#Using None as a Function Inside filter()\n",
    "# random list\n",
    "random_list = [1, 'a', 0, False, True, '0']\n",
    "\n",
    "filt_iterator = filter(None, random_list)\n",
    "\n",
    "#converting to list\n",
    "filt_list = list(filt_iterator)\n",
    "\n",
    "print(filt_list)"
   ]
  },
  {
   "cell_type": "code",
   "execution_count": 15,
   "id": "64dc6163",
   "metadata": {},
   "outputs": [
    {
     "name": "stdout",
     "output_type": "stream",
     "text": [
      "('a', 'e', 'o', 'u')\n"
     ]
    }
   ],
   "source": [
    "letters = ['a', 'b', 'd', 'e', 'j', 'o','k','y','u','x']\n",
    "\n",
    "# a function that returns True if letter is vowel\n",
    "def filter_vowels(letter):\n",
    "    vowels = ['a', 'e', 'i', 'o', 'u']\n",
    "    return True if letter in vowels else False\n",
    "\n",
    "filtered_vowels = filter(filter_vowels, letters)\n",
    "\n",
    "# converting to tuple\n",
    "vowels = tuple(filtered_vowels)\n",
    "print(vowels)"
   ]
  },
  {
   "cell_type": "code",
   "execution_count": 16,
   "id": "998ca636",
   "metadata": {},
   "outputs": [
    {
     "name": "stdout",
     "output_type": "stream",
     "text": [
      "Enter a number 50\n",
      "2500\n"
     ]
    }
   ],
   "source": [
    "number =int(input(\"Enter a number \"))\n",
    "# eval performs the multiplication passed as argument\n",
    "square_number = eval('number * number')\n",
    "print(square_number)"
   ]
  },
  {
   "cell_type": "code",
   "execution_count": 17,
   "id": "94db852d",
   "metadata": {},
   "outputs": [
    {
     "name": "stdout",
     "output_type": "stream",
     "text": [
      "Type a function: calculatePerimeter(l)\n",
      "If length is  1 , Perimeter =  4\n",
      "If length is  2 , Perimeter =  8\n",
      "If length is  3 , Perimeter =  12\n",
      "If length is  4 , Perimeter =  16\n"
     ]
    }
   ],
   "source": [
    "# Perimeter of Square\n",
    "def calculatePerimeter(l):\n",
    "    return 4*l\n",
    "\n",
    "# Area of Square\n",
    "def calculateArea(l):\n",
    "    return l*l\n",
    "\n",
    "expression = input(\"Type a function: \")\n",
    "\n",
    "for l in range(1, 5):\n",
    "    if (expression == 'calculatePerimeter(l)'):\n",
    "        print(\"If length is \", l, \", Perimeter = \", eval(expression))\n",
    "    elif (expression == 'calculateArea(l)'):\n",
    "        print(\"If length is \", l, \", Area = \", eval(expression))\n",
    "    else:\n",
    "        print('Wrong Function')\n",
    "        break"
   ]
  },
  {
   "cell_type": "code",
   "execution_count": 18,
   "id": "1353619f",
   "metadata": {},
   "outputs": [
    {
     "name": "stdout",
     "output_type": "stream",
     "text": [
      "['In', 'Out', '_', '_11', '_12', '_7', '_8', '__', '___', '__builtin__', '__builtins__', '__doc__', '__loader__', '__name__', '__package__', '__spec__', '_dh', '_i', '_i1', '_i10', '_i11', '_i12', '_i13', '_i14', '_i15', '_i16', '_i17', '_i18', '_i2', '_i3', '_i4', '_i5', '_i6', '_i7', '_i8', '_i9', '_ih', '_ii', '_iii', '_oh', 'calculateArea', 'calculatePerimeter', 'check', 'color_list', 'en', 'enum_iterator', 'even', 'exit', 'expression', 'filt_iterator', 'filt_list', 'filter_vowels', 'filtered_vowels', 'get_ipython', 'l', 'letters', 'lmb', 'lmb1', 'lmb2', 'maximum', 'my_list', 'new_list', 'num', 'number', 'numlist', 'odd', 'quit', 'random_list', 'revstr', 'square', 'square_number', 'user', 'vowels']\n"
     ]
    }
   ],
   "source": [
    "print(eval('dir()'))"
   ]
  },
  {
   "cell_type": "code",
   "execution_count": 19,
   "id": "ba53c92a",
   "metadata": {},
   "outputs": [
    {
     "name": "stdout",
     "output_type": "stream",
     "text": [
      "['__builtins__']\n"
     ]
    },
    {
     "ename": "NameError",
     "evalue": "name 'sqrt' is not defined",
     "output_type": "error",
     "traceback": [
      "\u001b[1;31m---------------------------------------------------------------------------\u001b[0m",
      "\u001b[1;31mNameError\u001b[0m                                 Traceback (most recent call last)",
      "Input \u001b[1;32mIn [19]\u001b[0m, in \u001b[0;36m<cell line: 6>\u001b[1;34m()\u001b[0m\n\u001b[0;32m      3\u001b[0m \u001b[38;5;28mprint\u001b[39m(\u001b[38;5;28meval\u001b[39m(\u001b[38;5;124m'\u001b[39m\u001b[38;5;124mdir()\u001b[39m\u001b[38;5;124m'\u001b[39m, {}))\n\u001b[0;32m      5\u001b[0m \u001b[38;5;66;03m# The code will raise an exception\u001b[39;00m\n\u001b[1;32m----> 6\u001b[0m \u001b[38;5;28mprint\u001b[39m(\u001b[38;5;28;43meval\u001b[39;49m\u001b[43m(\u001b[49m\u001b[38;5;124;43m'\u001b[39;49m\u001b[38;5;124;43msqrt(25)\u001b[39;49m\u001b[38;5;124;43m'\u001b[39;49m\u001b[43m,\u001b[49m\u001b[43m \u001b[49m\u001b[43m{\u001b[49m\u001b[43m}\u001b[49m\u001b[43m)\u001b[49m)\n",
      "File \u001b[1;32m<string>:1\u001b[0m, in \u001b[0;36m<module>\u001b[1;34m\u001b[0m\n",
      "\u001b[1;31mNameError\u001b[0m: name 'sqrt' is not defined"
     ]
    }
   ],
   "source": [
    "#Passing empty dictionary as globals parameter\n",
    "from math import *\n",
    "print(eval('dir()', {}))\n",
    "\n",
    "# The code will raise an exception\n",
    "print(eval('sqrt(25)', {}))"
   ]
  }
 ],
 "metadata": {
  "kernelspec": {
   "display_name": "Python 3 (ipykernel)",
   "language": "python",
   "name": "python3"
  },
  "language_info": {
   "codemirror_mode": {
    "name": "ipython",
    "version": 3
   },
   "file_extension": ".py",
   "mimetype": "text/x-python",
   "name": "python",
   "nbconvert_exporter": "python",
   "pygments_lexer": "ipython3",
   "version": "3.9.12"
  }
 },
 "nbformat": 4,
 "nbformat_minor": 5
}
