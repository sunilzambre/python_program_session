{
 "cells": [
  {
   "cell_type": "markdown",
   "id": "4c6a5157",
   "metadata": {},
   "source": [
    "#### 1) Write a Python function using NumPy that takes in a 2D array and returns a new 2D array that contains only the even elements from the original array."
   ]
  },
  {
   "cell_type": "code",
   "execution_count": 1,
   "id": "e089cf7f",
   "metadata": {},
   "outputs": [
    {
     "name": "stdout",
     "output_type": "stream",
     "text": [
      "[array([2.]) array([4., 6.]) array([8.])]\n"
     ]
    }
   ],
   "source": [
    "import numpy as np\n",
    "\n",
    "def even_elements(arr):\n",
    "    # Find the even elements in the array\n",
    "    mask = (arr % 2 == 0)\n",
    "   \n",
    "    # Create a new array containing only the even elements\n",
    "    result = np.where(mask, arr, np.nan)\n",
    "    \n",
    "    # Remove any rows with only NaN values\n",
    "    result = result[~np.isnan(result).all(axis=1)]\n",
    "   \n",
    "    # Remove any NaN values from the rows\n",
    "    result = [row[~np.isnan(row)] for row in result]\n",
    "    \n",
    "    # Convert the result to a NumPy array with dtype=object\n",
    "    result = np.array(result, dtype=object)\n",
    "    return result\n",
    "\n",
    "# Example usage\n",
    "arr = np.array([[1, 2, 3],\n",
    "               [4, 5, 6],\n",
    "               [7, 8, 9]])\n",
    "result = even_elements(arr)\n",
    "print(result)"
   ]
  },
  {
   "cell_type": "markdown",
   "id": "280844e3",
   "metadata": {},
   "source": [
    "#### 2)Write a program to dispaly(*) equilateral triangle -Pyramid style."
   ]
  },
  {
   "cell_type": "code",
   "execution_count": 2,
   "id": "6fb679ec",
   "metadata": {},
   "outputs": [
    {
     "name": "stdout",
     "output_type": "stream",
     "text": [
      "Enter a number of rows in the triangle:5\n",
      "    *\n",
      "   ***\n",
      "  *****\n",
      " *******\n",
      "*********\n"
     ]
    }
   ],
   "source": [
    "n =int(input(\"Enter a number of rows in the triangle:\"))\n",
    "\n",
    "for i in range(n):\n",
    "    # print spaces before the first asterisk\n",
    "    for j in range(n-i-1):\n",
    "        print(\" \", end=\"\")\n",
    "    # print the asterisks for this row\n",
    "    for j in range(2*i+1):\n",
    "        print(\"*\", end=\"\")\n",
    "    # move to the next line\n",
    "    print()"
   ]
  },
  {
   "cell_type": "markdown",
   "id": "7726274a",
   "metadata": {},
   "source": [
    "#### 3)Write a program to display * in right angled traingled form."
   ]
  },
  {
   "cell_type": "code",
   "execution_count": 3,
   "id": "93af2545",
   "metadata": {},
   "outputs": [
    {
     "name": "stdout",
     "output_type": "stream",
     "text": [
      "* \n",
      "* * \n",
      "* * * \n",
      "* * * * \n",
      "* * * * * \n"
     ]
    }
   ],
   "source": [
    "def pyramid(n):\n",
    "    for i in range(0,n):\n",
    "        for j in range(0,i+1):\n",
    "            print(\"*\",end=\" \")\n",
    "        print()\n",
    "pyramid(5)"
   ]
  },
  {
   "cell_type": "markdown",
   "id": "9b3caa28",
   "metadata": {},
   "source": [
    "#### 4)Write a program to find reverse of string and check it is palindrome or not"
   ]
  },
  {
   "cell_type": "code",
   "execution_count": 4,
   "id": "e1c4b519",
   "metadata": {},
   "outputs": [
    {
     "name": "stdout",
     "output_type": "stream",
     "text": [
      "Enter a string:nitin\n",
      "Reverse string is : nitin\n",
      "String is a palindrome.\n"
     ]
    }
   ],
   "source": [
    "a = input(\"Enter a string:\")\n",
    "\n",
    "rev = \"\"\n",
    "\n",
    "for ch in a:\n",
    "    rev = rev + ch \n",
    "\n",
    "print(\"Reverse string is :\",rev)\n",
    "\n",
    "if a == rev:\n",
    "    print(\"String is a palindrome.\")\n",
    "else:\n",
    "    print(\"String is not a palindrome.\")"
   ]
  },
  {
   "cell_type": "markdown",
   "id": "e995aa7b",
   "metadata": {},
   "source": [
    "#### 5) Write a program take a two numbers as input from user and returns their sum using split(),list comprehension"
   ]
  },
  {
   "cell_type": "code",
   "execution_count": 5,
   "id": "31be9115",
   "metadata": {},
   "outputs": [
    {
     "name": "stdout",
     "output_type": "stream",
     "text": [
      "Enter the values separated by commas: 1000,2000\n",
      "The adding result is: 3000\n"
     ]
    }
   ],
   "source": [
    "def add_numbers(x, y):\n",
    "    sum = x + y\n",
    "    return sum\n",
    "\n",
    "# Get the input as a comma-separated string\n",
    "input_str = input(\"Enter the values separated by commas: \")\n",
    "\n",
    "# Split the string into a list of integers\n",
    "num_list = [int(num) for num in input_str.split(',')]\n",
    "\n",
    "# Unpack the list and pass the values as arguments to the add_numbers function\n",
    "result = add_numbers(*num_list)\n",
    "\n",
    "print(\"The adding result is:\",result)"
   ]
  },
  {
   "cell_type": "markdown",
   "id": "36f9648b",
   "metadata": {},
   "source": [
    "#### 6) Armstrong number (Hint: Check 153 and 407)-sum of cube of  its digit."
   ]
  },
  {
   "cell_type": "code",
   "execution_count": 6,
   "id": "7b813d2b",
   "metadata": {},
   "outputs": [
    {
     "name": "stdout",
     "output_type": "stream",
     "text": [
      "Enter a number:153\n",
      "Number is an armstrong number\n"
     ]
    }
   ],
   "source": [
    "num = int(input(\"Enter a number:\"))\n",
    "sum=0\n",
    "a = num\n",
    "while num > 0:\n",
    "    dig = num % 10\n",
    "    sum = sum + dig * dig * dig\n",
    "    num = num // 10\n",
    "if a==sum:\n",
    "    print(\"Number is an armstrong number\")\n",
    "else:\n",
    "    print(\"Number is not an armstrong number\")"
   ]
  },
  {
   "cell_type": "markdown",
   "id": "96cb8ca5",
   "metadata": {},
   "source": [
    "#### 7)Write a function that takes a list of integers and returns the sum of all the even numbers in the list"
   ]
  },
  {
   "cell_type": "code",
   "execution_count": 7,
   "id": "4b055ffc",
   "metadata": {},
   "outputs": [
    {
     "name": "stdout",
     "output_type": "stream",
     "text": [
      "Enter a list of numbers separated by commas: 1,2,3,4,5,6,7,8,9,10\n",
      "The sum of even numbers is:  30\n"
     ]
    }
   ],
   "source": [
    "def even_num(number):\n",
    "    sum = 0\n",
    "    for num in number:\n",
    "        if num % 2 == 0:\n",
    "            sum = sum + num\n",
    "    return sum\n",
    "\n",
    "# Get the input as a comma-separated string\n",
    "input_str = input(\"Enter a list of numbers separated by commas: \")\n",
    "\n",
    "# Split the string into a list of integers\n",
    "num_list = [int(num) for num in input_str.split(',')]\n",
    "\n",
    "result = even_num(num_list)\n",
    "print(\"The sum of even numbers is: \", result)"
   ]
  },
  {
   "cell_type": "code",
   "execution_count": 8,
   "id": "9b84d8a9",
   "metadata": {},
   "outputs": [
    {
     "name": "stdout",
     "output_type": "stream",
     "text": [
      "Enter a list of numbers separated by commas: 1,2,3,4,5,6,7,8,9,10\n",
      "The sum of even numbers is:  30\n"
     ]
    }
   ],
   "source": [
    "from functools import reduce\n",
    "\n",
    "def add_even_numbers(acc, num):\n",
    "    if num % 2 == 0:\n",
    "        return acc + num\n",
    "    else:\n",
    "        return acc\n",
    "\n",
    "# Get the input as a comma-separated string\n",
    "input_str = input(\"Enter a list of numbers separated by commas: \")\n",
    "\n",
    "# Split the string into a list of integers\n",
    "num_list = [int(num) for num in input_str.split(',')]\n",
    "\n",
    "result = reduce(add_even_numbers, num_list, 0)\n",
    "print(\"The sum of even numbers is: \", result)"
   ]
  },
  {
   "cell_type": "code",
   "execution_count": 9,
   "id": "6c63d602",
   "metadata": {},
   "outputs": [
    {
     "name": "stdout",
     "output_type": "stream",
     "text": [
      "Enter multiple values separated by space: 1 2 3 4 5\n",
      "The list of numbers is: [1, 2, 3, 4, 5]\n"
     ]
    }
   ],
   "source": [
    "# Taking multiple input at a time\n",
    "x = [int(x) for x in input(\"Enter multiple values separated by space: \").split()]\n",
    "print(\"The list of numbers is:\", x)"
   ]
  },
  {
   "cell_type": "code",
   "execution_count": 10,
   "id": "ad2b7c76",
   "metadata": {},
   "outputs": [
    {
     "name": "stdout",
     "output_type": "stream",
     "text": [
      "[2, 4, 6, 8, 10]\n"
     ]
    }
   ],
   "source": [
    "#print even number using lambda function\n",
    "print(list(filter(lambda x : x%2==0,range(1,11))))"
   ]
  },
  {
   "cell_type": "code",
   "execution_count": 11,
   "id": "e90a639d",
   "metadata": {},
   "outputs": [
    {
     "name": "stdout",
     "output_type": "stream",
     "text": [
      "1 2 3 4 5 6 7\n"
     ]
    }
   ],
   "source": [
    "#print without new line in python 3.x without using for loop\n",
    "l=[1,2,3,4,5,6,7]\n",
    "print(*l)  #The * before the list variable l is called the \"splat\" or \"unpacking\" operator."
   ]
  },
  {
   "cell_type": "code",
   "execution_count": 12,
   "id": "e9c0369f",
   "metadata": {},
   "outputs": [
    {
     "name": "stdout",
     "output_type": "stream",
     "text": [
      "100\n",
      "50\n"
     ]
    }
   ],
   "source": [
    "#positional argument \n",
    "def sub(a,b):\n",
    "    print(a-b)\n",
    "sub(200,100)\n",
    "sub(100,50)"
   ]
  },
  {
   "cell_type": "code",
   "execution_count": 13,
   "id": "736426bf",
   "metadata": {},
   "outputs": [
    {
     "name": "stdout",
     "output_type": "stream",
     "text": [
      "Hello sunil Good Evening\n",
      "Hello sunil Good Evening\n"
     ]
    }
   ],
   "source": [
    "#keyword argument\n",
    "def wish(name,msg):\n",
    "    print(\"Hello\",name,msg)\n",
    "wish(name=\"sunil\",msg=\"Good Evening\")\n",
    "wish(msg=\"Good Evening\",name=\"sunil\")"
   ]
  },
  {
   "cell_type": "code",
   "execution_count": 14,
   "id": "0ad49308",
   "metadata": {},
   "outputs": [
    {
     "name": "stdout",
     "output_type": "stream",
     "text": [
      "Hello sunil Good Evening\n",
      "Hello sunil Good Evening\n"
     ]
    }
   ],
   "source": [
    "#positional and keyword argument simultaneously\n",
    "def greet(name,msg):\n",
    "    print(\"Hello\",name,msg)\n",
    "greet(\"sunil\",\"Good Evening\")\n",
    "greet(\"sunil\",msg=\"Good Evening\")\n",
    "#greet(name=\"sunil\",\"Good Evening\")         #SyntaxError: positional argument follows keyword argument"
   ]
  },
  {
   "cell_type": "code",
   "execution_count": 15,
   "id": "c6118ba4",
   "metadata": {},
   "outputs": [
    {
     "name": "stdout",
     "output_type": "stream",
     "text": [
      "Hello sunil Good Evening\n",
      "Hello guest Good Evening\n"
     ]
    }
   ],
   "source": [
    "#default argument\n",
    "def simple(name=\"guest\"):\n",
    "    print(\"Hello\",name,\"Good Evening\")\n",
    "simple(\"sunil\")\n",
    "simple()"
   ]
  },
  {
   "cell_type": "code",
   "execution_count": 16,
   "id": "062b075f",
   "metadata": {},
   "outputs": [
    {
     "name": "stdout",
     "output_type": "stream",
     "text": [
      "The sum: 0\n",
      "The sum: 10\n",
      "The sum: 30\n",
      "The sum: 60\n",
      "The sum: 100\n"
     ]
    }
   ],
   "source": [
    "#variable length argument \n",
    "def sum(*n):\n",
    "    total=0\n",
    "    for n1 in n:\n",
    "        total=total+n1\n",
    "    print(\"The sum:\",total)\n",
    "sum()\n",
    "sum(10)\n",
    "sum(10,20)\n",
    "sum(10,20,30)\n",
    "sum(10,20,30,40)"
   ]
  },
  {
   "cell_type": "code",
   "execution_count": 17,
   "id": "ece453b5",
   "metadata": {},
   "outputs": [
    {
     "name": "stdout",
     "output_type": "stream",
     "text": [
      "10\n",
      "10\n",
      "20\n",
      "30\n",
      "40\n",
      "10\n",
      "A\n",
      "30\n",
      "B\n"
     ]
    }
   ],
   "source": [
    "#variable length argument with positional argument\n",
    "def f1(n1,*s):\n",
    "    print(n1)\n",
    "    for s1 in s:\n",
    "        print(s1)\n",
    "f1(10)\n",
    "f1(10,20,30,40)\n",
    "f1(10,\"A\",30,\"B\")"
   ]
  },
  {
   "cell_type": "code",
   "execution_count": 18,
   "id": "c426d933",
   "metadata": {},
   "outputs": [
    {
     "name": "stdout",
     "output_type": "stream",
     "text": [
      "A\n",
      "B\n",
      "100\n"
     ]
    }
   ],
   "source": [
    "#variable length argument with keyword argument\n",
    "def f2(*s,n1):\n",
    "    for s1 in s:\n",
    "        print(s1)\n",
    "    print(n1)\n",
    "f2(\"A\",\"B\",n1=100)\n",
    "#f2(\"A\",\"B\",10)                 #TypeError: f2() missing 1 required keyword-only argument: 'n1'"
   ]
  },
  {
   "cell_type": "code",
   "execution_count": 19,
   "id": "0288a9f9",
   "metadata": {},
   "outputs": [
    {
     "name": "stdout",
     "output_type": "stream",
     "text": [
      "n1 : 10\n",
      "n2 : 20\n",
      "n3 : 30\n",
      "rno : 100\n",
      "name : sunil\n",
      "marks : 70\n",
      "subject : python\n"
     ]
    }
   ],
   "source": [
    "#keyword argument stored inside dictionary\n",
    "def display(**kwargs):\n",
    "    for k,v in kwargs.items():\n",
    "        print(k,\":\",v)\n",
    "display(n1=10,n2=20,n3=30)\n",
    "display(rno=100,name=\"sunil\",marks=70,subject=\"python\")"
   ]
  },
  {
   "cell_type": "code",
   "execution_count": 20,
   "id": "ff63419b",
   "metadata": {},
   "outputs": [
    {
     "name": "stdout",
     "output_type": "stream",
     "text": [
      "name : iPhone\n",
      "price : 1000\n",
      "manufacturer : Apple\n",
      "color : Black\n",
      "name : Galaxy\n",
      "price : 800\n",
      "manufacturer : Samsung\n",
      "color : White\n"
     ]
    }
   ],
   "source": [
    "def display_product_info(**product):\n",
    "    for key, value in product.items():\n",
    "        print(key, \":\", value)\n",
    "\n",
    "product1 = {\"name\": \"iPhone\", \"price\": 1000, \"manufacturer\": \"Apple\", \"color\": \"Black\"}\n",
    "product2 = {\"name\": \"Galaxy\", \"price\": 800, \"manufacturer\": \"Samsung\", \"color\": \"White\"}\n",
    "\n",
    "display_product_info(**product1)\n",
    "display_product_info(**product2)"
   ]
  },
  {
   "cell_type": "code",
   "execution_count": 21,
   "id": "e96dca61",
   "metadata": {},
   "outputs": [
    {
     "name": "stdout",
     "output_type": "stream",
     "text": [
      "make : Toyota\n",
      "model : Corolla\n",
      "year : 2015\n",
      "color : Red\n",
      "make : Honda\n",
      "model : Civic\n",
      "year : 2018\n",
      "color : Blue\n"
     ]
    }
   ],
   "source": [
    "def display_car_info(**car):\n",
    "    for key, value in car.items():\n",
    "        print(key, \":\", value)\n",
    "\n",
    "car1 = {\"make\": \"Toyota\", \"model\": \"Corolla\", \"year\": 2015, \"color\": \"Red\"}\n",
    "car2 = {\"make\": \"Honda\", \"model\": \"Civic\", \"year\": 2018, \"color\": \"Blue\"}\n",
    "\n",
    "display_car_info(**car1)\n",
    "display_car_info(**car2)"
   ]
  },
  {
   "cell_type": "code",
   "execution_count": 22,
   "id": "73eb84ca",
   "metadata": {},
   "outputs": [
    {
     "name": "stdout",
     "output_type": "stream",
     "text": [
      "title : To Kill a Mockingbird\n",
      "author : Harper Lee\n",
      "publisher : J.B. Lippincott & Co.\n",
      "year : 1960\n",
      "title : 1984\n",
      "author : George Orwell\n",
      "publisher : Secker & Warburg\n",
      "year : 1949\n"
     ]
    }
   ],
   "source": [
    "def display_book_info(**book):\n",
    "    for key, value in book.items():\n",
    "        print(key, \":\", value)\n",
    "\n",
    "book1 = {\"title\": \"To Kill a Mockingbird\", \"author\": \"Harper Lee\", \"publisher\": \"J.B. Lippincott & Co.\", \"year\": 1960}\n",
    "book2 = {\"title\": \"1984\", \"author\": \"George Orwell\", \"publisher\": \"Secker & Warburg\", \"year\": 1949}\n",
    "\n",
    "display_book_info(**book1)\n",
    "display_book_info(**book2)"
   ]
  },
  {
   "cell_type": "code",
   "execution_count": null,
   "id": "e38d4641",
   "metadata": {},
   "outputs": [],
   "source": []
  }
 ],
 "metadata": {
  "kernelspec": {
   "display_name": "Python 3 (ipykernel)",
   "language": "python",
   "name": "python3"
  },
  "language_info": {
   "codemirror_mode": {
    "name": "ipython",
    "version": 3
   },
   "file_extension": ".py",
   "mimetype": "text/x-python",
   "name": "python",
   "nbconvert_exporter": "python",
   "pygments_lexer": "ipython3",
   "version": "3.9.12"
  }
 },
 "nbformat": 4,
 "nbformat_minor": 5
}
