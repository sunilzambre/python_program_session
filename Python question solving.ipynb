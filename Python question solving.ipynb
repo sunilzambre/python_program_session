{
 "cells": [
  {
   "cell_type": "markdown",
   "id": "9f87e5e5",
   "metadata": {},
   "source": [
    "# How can you randomize the items of a list in place in Python?"
   ]
  },
  {
   "cell_type": "code",
   "execution_count": 1,
   "id": "b29a2966",
   "metadata": {},
   "outputs": [
    {
     "name": "stdout",
     "output_type": "stream",
     "text": [
      "['He', 'In', 'Python', 'Loves', 'Code', 'To']\n"
     ]
    }
   ],
   "source": [
    "from random import shuffle\n",
    "List = ['He', 'Loves', 'To', 'Code', 'In', 'Python']\n",
    "shuffle(List)\n",
    "print(List)"
   ]
  },
  {
   "cell_type": "code",
   "execution_count": 2,
   "id": "b1ec3e61",
   "metadata": {},
   "outputs": [],
   "source": [
    "my_list = [2, 3, 5, 7, 11]\n",
    "squared_list = [x**2 for x in my_list]        # list comprehension"
   ]
  },
  {
   "cell_type": "code",
   "execution_count": 3,
   "id": "f0057217",
   "metadata": {},
   "outputs": [
    {
     "name": "stdout",
     "output_type": "stream",
     "text": [
      "[4, 9, 25, 49, 121]\n"
     ]
    }
   ],
   "source": [
    "print(squared_list)"
   ]
  },
  {
   "cell_type": "code",
   "execution_count": 4,
   "id": "5f468d08",
   "metadata": {},
   "outputs": [
    {
     "name": "stdout",
     "output_type": "stream",
     "text": [
      "{2: 4, 3: 9, 5: 25, 7: 49, 11: 121}\n"
     ]
    }
   ],
   "source": [
    "squared_dict = {x : x **2 for x in my_list}    # dict comprehension\n",
    "print(squared_dict)"
   ]
  },
  {
   "cell_type": "markdown",
   "id": "a2b72398",
   "metadata": {},
   "source": [
    "# Write a sorting algorithm for a numerical dataset in Python?"
   ]
  },
  {
   "cell_type": "code",
   "execution_count": 5,
   "id": "1bccb4d8",
   "metadata": {},
   "outputs": [
    {
     "name": "stdout",
     "output_type": "stream",
     "text": [
      "[2, 3, 4, 6, 8]\n"
     ]
    }
   ],
   "source": [
    "my_list = [\"8\", \"4\", \"3\", \"6\", \"2\"]\n",
    "my_list = [int(i) for i in my_list]\n",
    "my_list.sort()\n",
    "print (my_list)"
   ]
  },
  {
   "cell_type": "code",
   "execution_count": 6,
   "id": "ddef3d15",
   "metadata": {},
   "outputs": [
    {
     "name": "stdout",
     "output_type": "stream",
     "text": [
      " ASCII value of 'a' is 97\n"
     ]
    }
   ],
   "source": [
    "#Write a Program to print ASCII Value of a character in python?\n",
    "x= 'a'\n",
    "# print the ASCII value of assigned character stored in x\n",
    "print(\" ASCII value of '\" + x + \"' is\", ord(x))"
   ]
  },
  {
   "cell_type": "code",
   "execution_count": 7,
   "id": "69ab9c29",
   "metadata": {},
   "outputs": [
    {
     "data": {
      "text/plain": [
       "[7, 8]"
      ]
     },
     "execution_count": 7,
     "metadata": {},
     "output_type": "execute_result"
    }
   ],
   "source": [
    "list(filter(lambda x : x > 6,range(9))) "
   ]
  },
  {
   "cell_type": "code",
   "execution_count": 8,
   "id": "279f875a",
   "metadata": {},
   "outputs": [
    {
     "data": {
      "text/plain": [
       "[0, 1, 4, 9, 16]"
      ]
     },
     "execution_count": 8,
     "metadata": {},
     "output_type": "execute_result"
    }
   ],
   "source": [
    "list(map(lambda x : x**2,range(5))) "
   ]
  },
  {
   "cell_type": "code",
   "execution_count": 9,
   "id": "e8fa94a5",
   "metadata": {},
   "outputs": [
    {
     "data": {
      "text/plain": [
       "-13"
      ]
     },
     "execution_count": 9,
     "metadata": {},
     "output_type": "execute_result"
    }
   ],
   "source": [
    "from functools import reduce\n",
    "reduce(lambda x, y : x-y,[1,2,3,4,5]) "
   ]
  },
  {
   "cell_type": "code",
   "execution_count": 10,
   "id": "ae7441f8",
   "metadata": {},
   "outputs": [],
   "source": [
    "#remove duplicate elements from the list we use the set() function.\n",
    "demo_list=[5,4,4,6,8,12,12,1,5]\n",
    "unique_list = list(set(demo_list))"
   ]
  },
  {
   "cell_type": "code",
   "execution_count": 11,
   "id": "68f80e59",
   "metadata": {},
   "outputs": [
    {
     "data": {
      "text/plain": [
       "[1, 4, 5, 6, 8, 12]"
      ]
     },
     "execution_count": 11,
     "metadata": {},
     "output_type": "execute_result"
    }
   ],
   "source": [
    "unique_list"
   ]
  }
 ],
 "metadata": {
  "kernelspec": {
   "display_name": "Python 3 (ipykernel)",
   "language": "python",
   "name": "python3"
  },
  "language_info": {
   "codemirror_mode": {
    "name": "ipython",
    "version": 3
   },
   "file_extension": ".py",
   "mimetype": "text/x-python",
   "name": "python",
   "nbconvert_exporter": "python",
   "pygments_lexer": "ipython3",
   "version": "3.9.12"
  }
 },
 "nbformat": 4,
 "nbformat_minor": 5
}
