{
 "cells": [
  {
   "cell_type": "code",
   "execution_count": 1,
   "id": "c7c19175",
   "metadata": {},
   "outputs": [
    {
     "name": "stdout",
     "output_type": "stream",
     "text": [
      "The output of list comprehension [4, 16, 36]\n"
     ]
    }
   ],
   "source": [
    "#Program to generate a new list of squares of even numbers by using list comprehension\n",
    "numbers = [1, 2, 3, 4, 5, 6]\n",
    "even_sq = [x**2 for x in numbers if x % 2 == 0]\n",
    "print(\"The output of list comprehension\",even_sq)"
   ]
  },
  {
   "cell_type": "code",
   "execution_count": 2,
   "id": "83bad12a",
   "metadata": {},
   "outputs": [
    {
     "name": "stdout",
     "output_type": "stream",
     "text": [
      "Even numbers: [2, 4, 6]\n",
      "Odd numbers: [1, 3, 5]\n"
     ]
    }
   ],
   "source": [
    "#Print odd and even number by using list comprehension\n",
    "numbers = [1, 2, 3, 4, 5, 6]\n",
    "\n",
    "even_numbers = [x for x in numbers if x % 2 == 0]\n",
    "odd_numbers = [x for x in numbers if x % 2 != 0]\n",
    "\n",
    "print(\"Even numbers:\", even_numbers)\n",
    "print(\"Odd numbers:\", odd_numbers)"
   ]
  },
  {
   "cell_type": "code",
   "execution_count": 3,
   "id": "1c7b7504",
   "metadata": {},
   "outputs": [
    {
     "name": "stdout",
     "output_type": "stream",
     "text": [
      "[0, 1, 4, 9, 16, 25, 36, 49, 64, 81]\n"
     ]
    }
   ],
   "source": [
    "squared_num = [x**2 for x in range(10)]\n",
    "print(squared_num)"
   ]
  },
  {
   "cell_type": "code",
   "execution_count": 4,
   "id": "9a5c7f67",
   "metadata": {},
   "outputs": [
    {
     "name": "stdout",
     "output_type": "stream",
     "text": [
      "[2, 3, 5, 7, 11, 13, 17, 19]\n"
     ]
    }
   ],
   "source": [
    "#Prime number by using list comprehension\n",
    "def is_prime(num):\n",
    "    if num < 2:\n",
    "        return False\n",
    "    for i in range(2, num):\n",
    "        if num % i == 0:\n",
    "            return False\n",
    "    return True\n",
    "\n",
    "def prime_numbers(max_num):\n",
    "    return [num for num in range(2, max_num + 1) if is_prime(num)]\n",
    "\n",
    "print(prime_numbers(20))"
   ]
  },
  {
   "cell_type": "code",
   "execution_count": 5,
   "id": "621790db",
   "metadata": {},
   "outputs": [
    {
     "data": {
      "text/plain": [
       "[0, 1, 0, 0, 1, 1, 0, 1, 2, 1, 1, 3, 3, 2, 4, 6, 5, 6, 10, 11]"
      ]
     },
     "execution_count": 5,
     "metadata": {},
     "output_type": "execute_result"
    }
   ],
   "source": [
    "def fibonacci(n):\n",
    "    return [\n",
    "        sum(fibonacci(i-2)[-2:] + [0] * (2-len(fibonacci(i-2))))\n",
    "        if i > 1 else i\n",
    "        for i in range(n) ]\n",
    "fibonacci(20)"
   ]
  },
  {
   "cell_type": "code",
   "execution_count": 6,
   "id": "c3b7c341",
   "metadata": {},
   "outputs": [
    {
     "data": {
      "text/plain": [
       "[[1],\n",
       " [1, 1],\n",
       " [1, 2, 1],\n",
       " [1, 3, 3, 1],\n",
       " [1, 4, 6, 4, 1],\n",
       " [1, 5, 10, 10, 5, 1],\n",
       " [1, 6, 15, 20, 15, 6, 1],\n",
       " [1, 7, 21, 35, 35, 21, 7, 1],\n",
       " [1, 8, 28, 56, 70, 56, 28, 8, 1],\n",
       " [1, 9, 36, 84, 126, 126, 84, 36, 9, 1]]"
      ]
     },
     "execution_count": 6,
     "metadata": {},
     "output_type": "execute_result"
    }
   ],
   "source": [
    "def pascal_triangle(n):\n",
    "    triangle = [[1] * (i + 1) for i in range(n)]\n",
    "    for i in range(n):\n",
    "        for j in range(1, i):\n",
    "            triangle[i][j] = triangle[i-1][j-1] + triangle[i-1][j]\n",
    "    return triangle\n",
    "pascal_triangle(10)"
   ]
  },
  {
   "cell_type": "code",
   "execution_count": 7,
   "id": "638685d0",
   "metadata": {},
   "outputs": [
    {
     "name": "stdout",
     "output_type": "stream",
     "text": [
      "Enter a string: nitin\n",
      "The string is a palindrome.\n"
     ]
    }
   ],
   "source": [
    "def is_palindrome(s):\n",
    "    return s == \"\".join([char for char in reversed(s)])\n",
    "\n",
    "string = input(\"Enter a string: \")\n",
    "if is_palindrome(string):\n",
    "    print(\"The string is a palindrome.\")\n",
    "else:\n",
    "    print(\"The string is not a palindrome.\")"
   ]
  },
  {
   "cell_type": "code",
   "execution_count": 8,
   "id": "17d15c84",
   "metadata": {},
   "outputs": [
    {
     "name": "stdout",
     "output_type": "stream",
     "text": [
      "    *    \n",
      "   ***   \n",
      "  *****  \n",
      " ******* \n",
      "*********\n"
     ]
    }
   ],
   "source": [
    "n = 5\n",
    "pattern = [\"*\" * (2 * i - 1) for i in range(1, n + 1)]\n",
    "for i in pattern:\n",
    "    print(i.center(2 * n - 1))"
   ]
  },
  {
   "cell_type": "code",
   "execution_count": 9,
   "id": "88b50d61",
   "metadata": {},
   "outputs": [
    {
     "name": "stdout",
     "output_type": "stream",
     "text": [
      "5\n"
     ]
    }
   ],
   "source": [
    "list = [1, 2, 3, 4, 5]\n",
    "max_num = max([num for num in list])\n",
    "print(max_num)"
   ]
  },
  {
   "cell_type": "code",
   "execution_count": 10,
   "id": "3648f30b",
   "metadata": {},
   "outputs": [
    {
     "name": "stdout",
     "output_type": "stream",
     "text": [
      "1\n"
     ]
    }
   ],
   "source": [
    "numbers = [3, 4, 1, 9, 2]\n",
    "minimum = min(number for number in numbers)\n",
    "print(minimum)"
   ]
  },
  {
   "cell_type": "code",
   "execution_count": 11,
   "id": "88ad2771",
   "metadata": {},
   "outputs": [
    {
     "name": "stdout",
     "output_type": "stream",
     "text": [
      "Enter the string:sunil\n"
     ]
    },
    {
     "data": {
      "text/plain": [
       "'linus'"
      ]
     },
     "execution_count": 11,
     "metadata": {},
     "output_type": "execute_result"
    }
   ],
   "source": [
    "def reverse_string(string):\n",
    "    return \"\".join([char for char in string][::-1])\n",
    "inp=input(\"Enter the string:\")\n",
    "reverse_string(inp)"
   ]
  },
  {
   "cell_type": "code",
   "execution_count": 12,
   "id": "eab591ce",
   "metadata": {},
   "outputs": [
    {
     "data": {
      "text/plain": [
       "120"
      ]
     },
     "execution_count": 12,
     "metadata": {},
     "output_type": "execute_result"
    }
   ],
   "source": [
    "def factorial(n):\n",
    "    return 1 if n == 0 else n * factorial(n - 1)\n",
    "factorial(5)"
   ]
  },
  {
   "cell_type": "code",
   "execution_count": 13,
   "id": "6d762fee",
   "metadata": {},
   "outputs": [
    {
     "name": "stdout",
     "output_type": "stream",
     "text": [
      "120\n"
     ]
    }
   ],
   "source": [
    "def factorial(n):\n",
    "    result = 1\n",
    "    for i in range(1, n + 1):\n",
    "        result *= i\n",
    "    return result\n",
    "print(factorial(5))"
   ]
  },
  {
   "cell_type": "code",
   "execution_count": 14,
   "id": "882a0c93",
   "metadata": {},
   "outputs": [
    {
     "name": "stdout",
     "output_type": "stream",
     "text": [
      "{'even': [2, 4, 6, 8, 10], 'odd': [1, 3, 5, 7, 9]}\n"
     ]
    }
   ],
   "source": [
    "numbers = range(1, 11)\n",
    "result = {'even': [x for x in numbers if x % 2 == 0],\n",
    "          'odd': [x for x in numbers if x % 2 != 0]}\n",
    "print(result)"
   ]
  },
  {
   "cell_type": "code",
   "execution_count": 15,
   "id": "56b13250",
   "metadata": {},
   "outputs": [
    {
     "name": "stdout",
     "output_type": "stream",
     "text": [
      "Enter multiple numbers: 1 2 3 4 5 6 7 8 9 10 11 12 13 14 15 16 17 18 19 20\n",
      "{'even': [2, 4, 6, 8, 10, 12, 14, 16, 18, 20], 'odd': [1, 3, 5, 7, 9, 11, 13, 15, 17, 19]}\n"
     ]
    }
   ],
   "source": [
    "numbers = [int(x) for x in input(\"Enter multiple numbers: \").split()]\n",
    "\n",
    "result = {\"even\": [x for x in numbers if x % 2 == 0],\n",
    "           \"odd\": [x for x in numbers if x % 2 != 0]\n",
    "         }\n",
    "print(result)"
   ]
  },
  {
   "cell_type": "code",
   "execution_count": 16,
   "id": "3ce4e2e0",
   "metadata": {},
   "outputs": [
    {
     "name": "stdout",
     "output_type": "stream",
     "text": [
      "{2, 3, 5, 7, 11, 13, 17, 19, 23, 29, 31, 37, 41, 43, 47, 53, 59, 61, 67, 71, 73, 79, 83, 89, 97}\n"
     ]
    }
   ],
   "source": [
    "def is_prime(n):\n",
    "    if n <= 1:\n",
    "        return False\n",
    "    for i in range(2, n):\n",
    "        if n % i == 0:\n",
    "            return False\n",
    "    return True\n",
    "primes = {x for x in range(2, 100) if is_prime(x)}\n",
    "print(primes)"
   ]
  },
  {
   "cell_type": "code",
   "execution_count": 17,
   "id": "aa1d8ff3",
   "metadata": {},
   "outputs": [
    {
     "name": "stdout",
     "output_type": "stream",
     "text": [
      "{2: True, 3: True, 5: True, 7: True, 11: True, 13: True, 17: True, 19: True}\n"
     ]
    }
   ],
   "source": [
    "limit = 20\n",
    "primes = {num: True for num in range(2, limit+1)}\n",
    "\n",
    "for num in range(2, int(limit**0.5)+1):\n",
    "    for i in range(2*num, limit+1, num):\n",
    "        primes[i] = False\n",
    "\n",
    "primes = {num: is_prime for num, is_prime in primes.items() if is_prime}\n",
    "print(primes)"
   ]
  },
  {
   "cell_type": "code",
   "execution_count": 18,
   "id": "41adbce9",
   "metadata": {},
   "outputs": [
    {
     "name": "stdout",
     "output_type": "stream",
     "text": [
      "{0, 2, 4, 6, 8}\n"
     ]
    }
   ],
   "source": [
    "even = {x for x in range(10) if x % 2 == 0}\n",
    "print(even)"
   ]
  },
  {
   "cell_type": "code",
   "execution_count": 19,
   "id": "1caed3ff",
   "metadata": {},
   "outputs": [
    {
     "name": "stdout",
     "output_type": "stream",
     "text": [
      "{1, 3, 5, 7, 9}\n"
     ]
    }
   ],
   "source": [
    "numbers = range(10)\n",
    "odd_numbers = {x for x in numbers if x % 2 != 0}\n",
    "print(odd_numbers)"
   ]
  }
 ],
 "metadata": {
  "kernelspec": {
   "display_name": "Python 3 (ipykernel)",
   "language": "python",
   "name": "python3"
  },
  "language_info": {
   "codemirror_mode": {
    "name": "ipython",
    "version": 3
   },
   "file_extension": ".py",
   "mimetype": "text/x-python",
   "name": "python",
   "nbconvert_exporter": "python",
   "pygments_lexer": "ipython3",
   "version": "3.9.12"
  }
 },
 "nbformat": 4,
 "nbformat_minor": 5
}
