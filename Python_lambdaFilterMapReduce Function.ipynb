{
 "cells": [
  {
   "cell_type": "code",
   "execution_count": 1,
   "id": "e8282419",
   "metadata": {},
   "outputs": [
    {
     "data": {
      "text/plain": [
       "[15, 35, 55]"
      ]
     },
     "execution_count": 1,
     "metadata": {},
     "output_type": "execute_result"
    }
   ],
   "source": [
    "a=[10,20,30]\n",
    "b=[5,15,25]\n",
    "[(x+y) for (x,y) in zip(a,b)]"
   ]
  },
  {
   "cell_type": "code",
   "execution_count": 2,
   "id": "14a47127",
   "metadata": {},
   "outputs": [
    {
     "name": "stdout",
     "output_type": "stream",
     "text": [
      "10\n",
      "20\n",
      "30\n"
     ]
    }
   ],
   "source": [
    "for i in a:\n",
    "    print(i)"
   ]
  },
  {
   "cell_type": "code",
   "execution_count": 3,
   "id": "1a18c949",
   "metadata": {},
   "outputs": [
    {
     "name": "stdout",
     "output_type": "stream",
     "text": [
      "5\n",
      "15\n",
      "25\n"
     ]
    }
   ],
   "source": [
    "for k in b:\n",
    "    print(k)"
   ]
  },
  {
   "cell_type": "code",
   "execution_count": 4,
   "id": "24f85bb1",
   "metadata": {},
   "outputs": [
    {
     "data": {
      "text/plain": [
       "[5, 5, 5]"
      ]
     },
     "execution_count": 4,
     "metadata": {},
     "output_type": "execute_result"
    }
   ],
   "source": [
    "[(x-y) for (x,y) in zip(a,b)]"
   ]
  },
  {
   "cell_type": "code",
   "execution_count": 5,
   "id": "7f0b507e",
   "metadata": {},
   "outputs": [
    {
     "data": {
      "text/plain": [
       "[(10, 5),\n",
       " (10, 15),\n",
       " (10, 25),\n",
       " (20, 5),\n",
       " (20, 15),\n",
       " (20, 25),\n",
       " (30, 5),\n",
       " (30, 15),\n",
       " (30, 25)]"
      ]
     },
     "execution_count": 5,
     "metadata": {},
     "output_type": "execute_result"
    }
   ],
   "source": [
    "[(x,y) for x in a for y in b ]"
   ]
  },
  {
   "cell_type": "code",
   "execution_count": 6,
   "id": "d6c511a9",
   "metadata": {},
   "outputs": [
    {
     "name": "stdout",
     "output_type": "stream",
     "text": [
      "40\n",
      "200\n",
      "300\n"
     ]
    }
   ],
   "source": [
    "mul=lambda a,b : a * b\n",
    "print(mul(10,4))\n",
    "print(mul(20,10))\n",
    "add=lambda x,y : x + y\n",
    "print(add(100,200))"
   ]
  },
  {
   "cell_type": "code",
   "execution_count": 7,
   "id": "b29cb67b",
   "metadata": {},
   "outputs": [
    {
     "name": "stdout",
     "output_type": "stream",
     "text": [
      "Enter the first value100\n",
      "Enter the second value300\n",
      "Addition of 100 and 300 is 400\n"
     ]
    }
   ],
   "source": [
    "sum=lambda a,b : a + b\n",
    "a=int(input(\"Enter the first value\"))\n",
    "b=int(input(\"Enter the second value\"))\n",
    "\n",
    "result=sum(a,b)\n",
    "\n",
    "print(\"Addition of {} and {} is {}\".format(a,b,result))\n",
    "\n",
    "\n"
   ]
  },
  {
   "cell_type": "code",
   "execution_count": 8,
   "id": "e734fbb8",
   "metadata": {},
   "outputs": [
    {
     "name": "stdout",
     "output_type": "stream",
     "text": [
      "Enter the first value : 300\n",
      "Enter the second value: 100\n",
      "The subtraction of 300 and 100 is 200\n"
     ]
    }
   ],
   "source": [
    "sub=lambda m,n : m - n\n",
    "m=int(input(\"Enter the first value : \"))\n",
    "n=int(input(\"Enter the second value: \"))\n",
    "\n",
    "answer=sub(m,n)\n",
    "\n",
    "print(\"The subtraction of {0} and {1} is {2}\".format(m,n,answer))"
   ]
  },
  {
   "cell_type": "code",
   "execution_count": 9,
   "id": "38a32bb0",
   "metadata": {},
   "outputs": [
    {
     "name": "stdout",
     "output_type": "stream",
     "text": [
      "Enter the first values:20\n",
      "Enter the second values:3\n",
      "Multiplication of 20 and 3 is 60\n"
     ]
    }
   ],
   "source": [
    "mul=lambda c,d : c * d\n",
    "c=eval(input(\"Enter the first values:\"))\n",
    "d=eval(input(\"Enter the second values:\"))\n",
    "\n",
    "ans=mul(c,d)\n",
    "\n",
    "print(\"Multiplication of {0} and {1} is {2}\".format(c,d,ans))"
   ]
  },
  {
   "cell_type": "code",
   "execution_count": 10,
   "id": "3387c43a",
   "metadata": {},
   "outputs": [
    {
     "name": "stdout",
     "output_type": "stream",
     "text": [
      "Enter the first values100\n",
      "Enter the second values2\n",
      "The division of 100 and 2 is 50.0\n"
     ]
    }
   ],
   "source": [
    "div=lambda k,m : k / m\n",
    "k=eval(input(\"Enter the first values\"))\n",
    "m=eval(input(\"Enter the second values\"))\n",
    "\n",
    "division=div(k,m)\n",
    "\n",
    "print(\"The division of {0} and {1} is {2}\".format(k,m,division))"
   ]
  },
  {
   "cell_type": "code",
   "execution_count": 11,
   "id": "72e381bf",
   "metadata": {},
   "outputs": [
    {
     "data": {
      "text/plain": [
       "[30, 50, 70]"
      ]
     },
     "execution_count": 11,
     "metadata": {},
     "output_type": "execute_result"
    }
   ],
   "source": [
    "a=[10,20,30]\n",
    "b=[20,30,40]\n",
    "[(x+y) for (x,y) in zip(a,b)]"
   ]
  },
  {
   "cell_type": "code",
   "execution_count": 12,
   "id": "cdcb082b",
   "metadata": {},
   "outputs": [
    {
     "name": "stdout",
     "output_type": "stream",
     "text": [
      "Enter the numbers (separated by comma): 1,2,3,4,5,6,7,8,9,10\n",
      "[2, 4, 6, 8, 10]\n"
     ]
    }
   ],
   "source": [
    "numbers = input(\"Enter the numbers (separated by comma): \")\n",
    "even_num = [int(x) for x in numbers.split(',') if int(x) % 2 == 0]\n",
    "print(even_num)"
   ]
  },
  {
   "cell_type": "code",
   "execution_count": 13,
   "id": "96614044",
   "metadata": {},
   "outputs": [
    {
     "name": "stdout",
     "output_type": "stream",
     "text": [
      "Enter the numbers (separated by comma): 21,22,23,24,25,26,27,28,29,30\n",
      "[22, 24, 26, 28, 30]\n"
     ]
    }
   ],
   "source": [
    "numbers = input(\"Enter the numbers (separated by comma): \")\n",
    "even_num = list(filter(lambda x: int(x) % 2 == 0, numbers.split(',')))\n",
    "even_num = [int(x) for x in even_num]\n",
    "print(even_num)"
   ]
  },
  {
   "cell_type": "code",
   "execution_count": 14,
   "id": "c8e18f62",
   "metadata": {},
   "outputs": [
    {
     "name": "stdout",
     "output_type": "stream",
     "text": [
      "Enter the values separated by comma: 91,92,93,94,95\n",
      "[91, 93, 95]\n"
     ]
    }
   ],
   "source": [
    "num=input(\"Enter the values separated by comma: \")\n",
    "odd_num=list(filter(lambda x : int(x) % 2 !=0,num.split(',')))\n",
    "odd_num=[int(x) for x in odd_num]\n",
    "print(odd_num)"
   ]
  },
  {
   "cell_type": "code",
   "execution_count": 15,
   "id": "2669fba4",
   "metadata": {},
   "outputs": [
    {
     "name": "stdout",
     "output_type": "stream",
     "text": [
      "Enter the numbers1,2,3,4,5,6,7,8,9,10\n",
      "[2, 4, 6, 8, 10]\n"
     ]
    }
   ],
   "source": [
    "def is_even(num):\n",
    "    return num % 2==0\n",
    "num=eval(input(\"Enter the numbers\"))\n",
    "even=list(filter(is_even,num))\n",
    "print(even)"
   ]
  },
  {
   "cell_type": "code",
   "execution_count": 17,
   "id": "66ffcb0d",
   "metadata": {},
   "outputs": [
    {
     "name": "stdout",
     "output_type": "stream",
     "text": [
      "Enter numbers separated by space: 1 2 3 4 5 6 7 8 9 10\n",
      "Even numbers: [2, 4, 6, 8, 10]\n"
     ]
    }
   ],
   "source": [
    "def is_even(num):\n",
    "    return num % 2 == 0\n",
    "\n",
    "numbers = input(\"Enter numbers separated by space: \")\n",
    "num_list = list(map(int, numbers.split()))\n",
    "\n",
    "even_numbers = list(filter(is_even, num_list))\n",
    "print(\"Even numbers:\", even_numbers)"
   ]
  },
  {
   "cell_type": "code",
   "execution_count": 18,
   "id": "78e8d695",
   "metadata": {},
   "outputs": [
    {
     "name": "stdout",
     "output_type": "stream",
     "text": [
      "Enter the numbers separated by space1 2 3 4 5 6 7 8 9 10\n",
      "Odd numbers : [1, 3, 5, 7, 9]\n"
     ]
    }
   ],
   "source": [
    "def is_odd(num):\n",
    "    return num % 2!=0\n",
    "number=input(\"Enter the numbers separated by space\")\n",
    "num_list=list(map(int,number.split()))\n",
    "\n",
    "odd_num=list(filter(is_odd,num_list))\n",
    "\n",
    "print(\"Odd numbers :\",odd_num)"
   ]
  },
  {
   "cell_type": "code",
   "execution_count": 19,
   "id": "93e13e59",
   "metadata": {},
   "outputs": [
    {
     "name": "stdout",
     "output_type": "stream",
     "text": [
      "Enter the start range: 1\n",
      "Enter the end range: 20\n",
      "2 4 6 8 10 12 14 16 18 20 "
     ]
    }
   ],
   "source": [
    "start=int(input(\"Enter the start range: \"))\n",
    "end=int(input(\"Enter the end range: \"))\n",
    "for i in range(start,end+1):\n",
    "    if i % 2 == 0:\n",
    "        print(i,end=\" \")"
   ]
  },
  {
   "cell_type": "code",
   "execution_count": 20,
   "id": "ff2e8f30",
   "metadata": {},
   "outputs": [
    {
     "name": "stdout",
     "output_type": "stream",
     "text": [
      "Enter the start range: 10\n",
      "Enter the end range: 20\n",
      "11 13 15 17 19 "
     ]
    }
   ],
   "source": [
    "start=int(input(\"Enter the start range: \"))\n",
    "end=int(input(\"Enter the end range: \"))\n",
    "for i in range(start,end+1):\n",
    "    if i % 2 != 0:\n",
    "        print(i,end=\" \")"
   ]
  },
  {
   "cell_type": "code",
   "execution_count": 21,
   "id": "63b15621",
   "metadata": {},
   "outputs": [
    {
     "name": "stdout",
     "output_type": "stream",
     "text": [
      "Enter the start range: 20\n",
      "Enter the end range: 30\n",
      "Even numbers are :  [20, 22, 24, 26, 28, 30]\n"
     ]
    }
   ],
   "source": [
    "start=int(input(\"Enter the start range: \"))\n",
    "end=int(input(\"Enter the end range: \"))\n",
    "\n",
    "even_num=list(filter(lambda x : x % 2 == 0,range(start,end+1)))\n",
    "\n",
    "print(\"Even numbers are : \",even_num)"
   ]
  },
  {
   "cell_type": "code",
   "execution_count": 22,
   "id": "b68e2627",
   "metadata": {},
   "outputs": [
    {
     "name": "stdout",
     "output_type": "stream",
     "text": [
      "HELLO SUNIL GOOD EVENING\n"
     ]
    }
   ],
   "source": [
    "string=\"hello sunil good evening\"\n",
    "\n",
    "new_string=\"\".join(map(lambda char : char.upper(),string))\n",
    "\n",
    "print(new_string)\n"
   ]
  },
  {
   "cell_type": "code",
   "execution_count": 23,
   "id": "72eed645",
   "metadata": {},
   "outputs": [
    {
     "name": "stdout",
     "output_type": "stream",
     "text": [
      "HELLO SUNIL GOOD EVENING\n"
     ]
    }
   ],
   "source": [
    "st=\"hello sunil good evening\"\n",
    "\n",
    "new_st=\"\".join(map(lambda char : char.title(),st))\n",
    "\n",
    "print(new_st)"
   ]
  },
  {
   "cell_type": "code",
   "execution_count": 24,
   "id": "c736268b",
   "metadata": {},
   "outputs": [
    {
     "name": "stdout",
     "output_type": "stream",
     "text": [
      "HELLO SUNIL GOOD EVENING\n"
     ]
    }
   ],
   "source": [
    "str1=\"hello sunil good evening\"\n",
    "\n",
    "new_str=\"\".join(map(lambda char : char.capitalize(),str1))\n",
    "\n",
    "print(new_str)\n"
   ]
  },
  {
   "cell_type": "code",
   "execution_count": null,
   "id": "ca200693",
   "metadata": {},
   "outputs": [],
   "source": []
  }
 ],
 "metadata": {
  "kernelspec": {
   "display_name": "Python 3 (ipykernel)",
   "language": "python",
   "name": "python3"
  },
  "language_info": {
   "codemirror_mode": {
    "name": "ipython",
    "version": 3
   },
   "file_extension": ".py",
   "mimetype": "text/x-python",
   "name": "python",
   "nbconvert_exporter": "python",
   "pygments_lexer": "ipython3",
   "version": "3.9.12"
  }
 },
 "nbformat": 4,
 "nbformat_minor": 5
}
