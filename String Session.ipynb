{
 "cells": [
  {
   "cell_type": "code",
   "execution_count": 1,
   "id": "2cbb476e",
   "metadata": {},
   "outputs": [
    {
     "name": "stdout",
     "output_type": "stream",
     "text": [
      "<class 'str'>\n",
      "Hellosunil\n",
      "hi sunil\n",
      "sunilsunilsunil\n"
     ]
    }
   ],
   "source": [
    "s1='sunil'\n",
    "print(type(s1))\n",
    "print('Hello'+s1)\n",
    "print(\"hi\",s1)\n",
    "print(s1*3)"
   ]
  },
  {
   "cell_type": "code",
   "execution_count": 2,
   "id": "5cd2bd03",
   "metadata": {},
   "outputs": [
    {
     "name": "stdout",
     "output_type": "stream",
     "text": [
      "This is ' single quote symbol\n",
      "This is \" double quote symbol\n",
      "This is ' single quote symbol\n",
      "This is \"double quote symbol\"\n",
      "The \"study notes\" by 'sunil' is helpful\n",
      "The \"python notes\" by 'orelly' is helpful \n"
     ]
    }
   ],
   "source": [
    "st='This is \\' single quote symbol'\n",
    "print(st)\n",
    "st0='This is \\\" double quote symbol'\n",
    "print(st0)\n",
    "st1=\"This is ' single quote symbol\"\n",
    "print(st1)\n",
    "st2='This is \"double quote symbol\"'\n",
    "print(st2)\n",
    "st3=('The \\\"study notes\\\" by \\'sunil\\' is helpful')\n",
    "print(st3)\n",
    "st4='''The \"python notes\" by 'orelly' is helpful '''\n",
    "print(st4)"
   ]
  },
  {
   "cell_type": "code",
   "execution_count": 3,
   "id": "a034c28c",
   "metadata": {},
   "outputs": [
    {
     "name": "stdout",
     "output_type": "stream",
     "text": [
      "I\n",
      "n\n",
      "d\n",
      "i\n",
      "a\n",
      "\t I\n",
      "\t n\n",
      "\t d\n",
      "\t i\n",
      "\t a\n"
     ]
    }
   ],
   "source": [
    "#using index\n",
    "d='India'\n",
    "print(d[0])\n",
    "print(d[1])\n",
    "print(d[2])\n",
    "print(d[3])\n",
    "print(d[4])\n",
    "# print(d[5])\n",
    "\n",
    "for i in d:\n",
    "    print(\"\\t\",i)"
   ]
  },
  {
   "cell_type": "code",
   "execution_count": 4,
   "id": "a2dd963f",
   "metadata": {},
   "outputs": [
    {
     "name": "stdout",
     "output_type": "stream",
     "text": [
      "Enter somethingHappy Journey\n",
      "The character present at positive index 0 and negative index -13 is H\n",
      "The character present at positive index 1 and negative index -12 is a\n",
      "The character present at positive index 2 and negative index -11 is p\n",
      "The character present at positive index 3 and negative index -10 is p\n",
      "The character present at positive index 4 and negative index -9 is y\n",
      "The character present at positive index 5 and negative index -8 is  \n",
      "The character present at positive index 6 and negative index -7 is J\n",
      "The character present at positive index 7 and negative index -6 is o\n",
      "The character present at positive index 8 and negative index -5 is u\n",
      "The character present at positive index 9 and negative index -4 is r\n",
      "The character present at positive index 10 and negative index -3 is n\n",
      "The character present at positive index 11 and negative index -2 is e\n",
      "The character present at positive index 12 and negative index -1 is y\n"
     ]
    }
   ],
   "source": [
    "s=input('Enter something')\n",
    "i=0\n",
    "for x in s:\n",
    "    print(\"The character present at positive index {} and negative index {} is {}\".format(i,i-len(s),x))\n",
    "    i=i+1"
   ]
  },
  {
   "cell_type": "code",
   "execution_count": 5,
   "id": "b8c7fd5f",
   "metadata": {},
   "outputs": [
    {
     "name": "stdout",
     "output_type": "stream",
     "text": [
      "ython \n",
      "python is high level programming language\n",
      "python is high level programming language\n",
      "p\n",
      "p\n",
      "python \n",
      "egaugnal gnimmargorp level hgih si nohtyp\n",
      "True\n",
      "True\n"
     ]
    }
   ],
   "source": [
    "s='python is high level programming language'\n",
    "print(s[1:7:1])\n",
    "print(s[0::])\n",
    "print(s[::])\n",
    "# print(s[::0])\n",
    "print(s[0:1:])\n",
    "print(s[0:1:1])\n",
    "# print(s[1:1:1])\n",
    "# print(s[0:0:1])\n",
    "print(s[:7])\n",
    "print(s[ ::-1])\n",
    "print('r' in s)\n",
    "print('t' in s)    "
   ]
  },
  {
   "cell_type": "code",
   "execution_count": 6,
   "id": "e3feaec6",
   "metadata": {},
   "outputs": [
    {
     "name": "stdout",
     "output_type": "stream",
     "text": [
      "Enter the main string Hill Station\n",
      "Enter the substring illness\n",
      "illness is found in main string\n"
     ]
    }
   ],
   "source": [
    "d=input('Enter the main string ')\n",
    "subs=input('Enter the substring ')\n",
    "if subs in d:\n",
    "    print(subs,\"is found in main string\")  \n",
    "    for i in subs:\n",
    "        print(i)\n",
    "else:\n",
    "    print(subs,\"is found in main string\")"
   ]
  },
  {
   "cell_type": "code",
   "execution_count": 7,
   "id": "853c570b",
   "metadata": {},
   "outputs": [
    {
     "name": "stdout",
     "output_type": "stream",
     "text": [
      "Enter any string: sunil\n",
      "forward direction: \n",
      "sunil\n",
      "forward direction: \n",
      "sunil\n",
      "backword direction: \n",
      "linus"
     ]
    }
   ],
   "source": [
    "str1=input('Enter any string: ')\n",
    "print('forward direction: ')\n",
    "for i in str1:\n",
    "    print(i,end='')\n",
    "print('\\nforward direction: ')\n",
    "\n",
    "for i in str1[::]:\n",
    "    print(i,end='')\n",
    "\n",
    "print('\\nbackword direction: ')\n",
    "for i in str1[::-1]:\n",
    "    print(i,end='')"
   ]
  },
  {
   "cell_type": "code",
   "execution_count": 8,
   "id": "2429c4b6",
   "metadata": {},
   "outputs": [
    {
     "name": "stdout",
     "output_type": "stream",
     "text": [
      "Enter the first string: sunil\n",
      "Enter the second string: rahul\n",
      "first string is greater than second string\n"
     ]
    }
   ],
   "source": [
    "s1=input('Enter the first string: ')\n",
    "s2=input('Enter the second string: ')\n",
    "if s1==s2:\n",
    "    print('Both strings are equal')\n",
    "elif s1<s2:\n",
    "    print('first string is less than second string')\n",
    "else:\n",
    "    print('first string is greater than second string')"
   ]
  },
  {
   "cell_type": "code",
   "execution_count": 9,
   "id": "6b08330d",
   "metadata": {},
   "outputs": [
    {
     "name": "stdout",
     "output_type": "stream",
     "text": [
      "6\n",
      "3\n",
      "2\n",
      "bbcbbcbbcbbcbddb\n"
     ]
    }
   ],
   "source": [
    "s='abcabcabcbacadda'\n",
    "print(s.count('a'))\n",
    "print(s.count('ab'))\n",
    "print(s.count('a',3,7))\n",
    "print(s.replace('a','b'))"
   ]
  },
  {
   "cell_type": "code",
   "execution_count": 10,
   "id": "c325e667",
   "metadata": {},
   "outputs": [
    {
     "name": "stdout",
     "output_type": "stream",
     "text": [
      "abab is available at: 2189784382640\n",
      "bbbb is available at: 2189784567472\n"
     ]
    }
   ],
   "source": [
    "s='abab'\n",
    "s1=s.replace('a','b')\n",
    "print(s,'is available at:',id(s))\n",
    "print(s1,'is available at:',id(s1))"
   ]
  },
  {
   "cell_type": "code",
   "execution_count": 11,
   "id": "1766a348",
   "metadata": {},
   "outputs": [
    {
     "name": "stdout",
     "output_type": "stream",
     "text": [
      "happy\n",
      "new\n",
      "year\n"
     ]
    }
   ],
   "source": [
    "g='happy new year'\n",
    "x=g.split()\n",
    "for i in x:\n",
    "    print(i)"
   ]
  },
  {
   "cell_type": "code",
   "execution_count": 12,
   "id": "f072a74e",
   "metadata": {},
   "outputs": [
    {
     "name": "stdout",
     "output_type": "stream",
     "text": [
      "26\n",
      "11\n",
      "2022\n",
      "27\n",
      "11\n",
      "2022\n",
      "28\n",
      "11\n",
      "2022\n"
     ]
    }
   ],
   "source": [
    "d='26-11-2022'\"\\n\"'27-11-2022'\"\\n\"'28-11-2022'\n",
    "l=d.split('-')\n",
    "for i in l:\n",
    "    print(i)"
   ]
  },
  {
   "cell_type": "code",
   "execution_count": 13,
   "id": "5f0c4bd1",
   "metadata": {},
   "outputs": [
    {
     "name": "stdout",
     "output_type": "stream",
     "text": [
      "rahul-aniket-ajit-santosh-shashi-anil-tushar\n"
     ]
    }
   ],
   "source": [
    "t=('rahul','aniket','ajit','santosh','shashi','anil','tushar')\n",
    "s='-'.join(t)\n",
    "print(s)"
   ]
  },
  {
   "cell_type": "code",
   "execution_count": 14,
   "id": "44cca5ad",
   "metadata": {},
   "outputs": [
    {
     "name": "stdout",
     "output_type": "stream",
     "text": [
      "dongarsoni:ayodhyanagar:tasgaon:sangli\n",
      "120:121:167:110\n"
     ]
    }
   ],
   "source": [
    "l=['dongarsoni','ayodhyanagar','tasgaon','sangli']\n",
    "l1=['120','121','167','110']\n",
    "s=':'.join(l)\n",
    "s2=':'.join(l1)\n",
    "print(s)\n",
    "print(s2)"
   ]
  },
  {
   "cell_type": "code",
   "execution_count": 15,
   "id": "555f9929",
   "metadata": {},
   "outputs": [
    {
     "name": "stdout",
     "output_type": "stream",
     "text": [
      "LEARN AND EARN\n",
      "Learn And Earn\n",
      "lEARN AND EARN\n",
      "Learn and earn\n",
      "False\n",
      "True\n",
      "False\n",
      "False\n",
      "False\n",
      "False\n"
     ]
    }
   ],
   "source": [
    "s='Learn and earn'\n",
    "print(s.upper())\n",
    "print(s.title())\n",
    "print(s.swapcase())\n",
    "print(s.capitalize())\n",
    "print(s.startswith('money'))\n",
    "print(s.endswith('earn'))\n",
    "print(s.isalnum())\n",
    "print(s.isalpha())\n",
    "print(s.isdigit())\n",
    "print(s.isspace())"
   ]
  },
  {
   "cell_type": "code",
   "execution_count": 16,
   "id": "24cb4d11",
   "metadata": {},
   "outputs": [
    {
     "name": "stdout",
     "output_type": "stream",
     "text": [
      "True\n",
      "True\n",
      "False\n",
      "True\n",
      "True\n",
      "True\n",
      "True\n",
      "False\n",
      "False\n",
      "True\n",
      "True\n",
      "True\n"
     ]
    }
   ],
   "source": [
    "print(\" \".isspace())\n",
    "print(\"Learning Python Is Easy\".istitle())\n",
    "print(\"Learning python is easy\".istitle())\n",
    "print(\"SUNIL\".isupper())\n",
    "print(\"sunil\".islower())\n",
    "print(\"sunil1410\".islower())\n",
    "print(\"123456788\".isdigit())\n",
    "print(\"Sunil\".islower())\n",
    "print(\"SUNIL\".isdigit())\n",
    "print(\"sunil\".isalpha())\n",
    "print(\"SunIL\".isalnum())\n",
    "print(\"sunil1234560\".isalnum())"
   ]
  },
  {
   "cell_type": "code",
   "execution_count": 17,
   "id": "77fbc8ed",
   "metadata": {},
   "outputs": [
    {
     "name": "stdout",
     "output_type": "stream",
     "text": [
      "Enter any character: A\n",
      "Alpha numeric character\n",
      "Alphabet chracter\n",
      "uppercase alphabet character\n"
     ]
    }
   ],
   "source": [
    "st=input('Enter any character: ')\n",
    "if st.isalnum():\n",
    "    print('Alpha numeric character')\n",
    "    if st.isalpha():\n",
    "        print('Alphabet chracter')\n",
    "        if st.islower():\n",
    "            print('Lower case alphabet chracter')\n",
    "        else:\n",
    "            print('uppercase alphabet character')\n",
    "    else:\n",
    "        print('It is digit')\n",
    "elif st.isspace():\n",
    "    print('It is space character')\n",
    "else:\n",
    "    print('Non space special character')"
   ]
  },
  {
   "cell_type": "code",
   "execution_count": 18,
   "id": "2adb49f7",
   "metadata": {},
   "outputs": [
    {
     "name": "stdout",
     "output_type": "stream",
     "text": [
      "sunil your salary is 25000 and age is 39 \n",
      "sunil your salary is 25000 and age is 39 \n",
      "sunil your salary is 25000 and age is 39 \n"
     ]
    }
   ],
   "source": [
    "name='sunil'\n",
    "salary='25000'\n",
    "age=39\n",
    "print(\"{} your salary is {} and age is {} \".format(name,salary,age))\n",
    "print(\"{0} your salary is {1} and age is {2} \".format(name,salary,age))\n",
    "print(\"{x} your salary is {y} and age is {z} \".format(x=name,y=salary,z=age))"
   ]
  },
  {
   "cell_type": "code",
   "execution_count": 19,
   "id": "e95dd4fd",
   "metadata": {},
   "outputs": [
    {
     "name": "stdout",
     "output_type": "stream",
     "text": [
      "Enter the stringGrape City Tasgaon\n",
      "noagsaT ytiC eparG\n",
      "18\n",
      "<class 'str'>\n",
      "2189784738512\n"
     ]
    }
   ],
   "source": [
    "s=input('Enter the string')\n",
    "print(s[::-1])\n",
    "print(len(s))\n",
    "print(type(s))\n",
    "print(id(s))"
   ]
  },
  {
   "cell_type": "code",
   "execution_count": 20,
   "id": "8dc32653",
   "metadata": {},
   "outputs": [
    {
     "name": "stdout",
     "output_type": "stream",
     "text": [
      "Enter the string Hello Everyone\n",
      "enoyrevE olleH\n"
     ]
    }
   ],
   "source": [
    "s1=input('Enter the string ')\n",
    "print(\"\".join(reversed(s1)))"
   ]
  },
  {
   "cell_type": "code",
   "execution_count": 21,
   "id": "bc0e4f7e",
   "metadata": {},
   "outputs": [
    {
     "name": "stdout",
     "output_type": "stream",
     "text": [
      "Enter the string Happy Republic Day\n",
      "Characters at even position HpyRpbi a\n",
      "Characters at odd position ap eulcDy\n"
     ]
    }
   ],
   "source": [
    "s1=input('Enter the string ')\n",
    "print('Characters at even position',s1[0::2])\n",
    "print('Characters at odd position',s1[1::2])"
   ]
  }
 ],
 "metadata": {
  "kernelspec": {
   "display_name": "Python 3 (ipykernel)",
   "language": "python",
   "name": "python3"
  },
  "language_info": {
   "codemirror_mode": {
    "name": "ipython",
    "version": 3
   },
   "file_extension": ".py",
   "mimetype": "text/x-python",
   "name": "python",
   "nbconvert_exporter": "python",
   "pygments_lexer": "ipython3",
   "version": "3.9.12"
  }
 },
 "nbformat": 4,
 "nbformat_minor": 5
}
