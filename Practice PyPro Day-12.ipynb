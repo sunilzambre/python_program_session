{
 "cells": [
  {
   "cell_type": "code",
   "execution_count": 1,
   "id": "09e84d5e",
   "metadata": {
    "scrolled": true
   },
   "outputs": [
    {
     "name": "stdout",
     "output_type": "stream",
     "text": [
      "Enter stringhappy\n",
      "<class 'str'>\n"
     ]
    }
   ],
   "source": [
    "x=input('Enter string')\n",
    "print(type(x))  "
   ]
  },
  {
   "cell_type": "code",
   "execution_count": 2,
   "id": "8ff90ec7",
   "metadata": {
    "scrolled": true
   },
   "outputs": [
    {
     "name": "stdout",
     "output_type": "stream",
     "text": [
      "60 <class 'int'> 2166247870672\n",
      "20.0 <class 'float'> 2166335146672\n",
      "50 <class 'int'> 2166247681872\n",
      "10.0 <class 'float'>\n"
     ]
    }
   ],
   "source": [
    "y=eval('10+20+30')\n",
    "y1=eval('100/5')\n",
    "y2=eval('10*5')\n",
    "y4=eval('10+20/3**4//5*40')\n",
    "print(y,type(y),id(y))\n",
    "print(y1,type(y1),id(y1))\n",
    "print(y2,type(y2),id(y2))\n",
    "print(y4,type(y4))"
   ]
  },
  {
   "cell_type": "code",
   "execution_count": 3,
   "id": "39fd7c1c",
   "metadata": {
    "scrolled": false
   },
   "outputs": [
    {
     "name": "stdout",
     "output_type": "stream",
     "text": [
      "<class 'list'>\n",
      "C:\\Users\\Admin\\anaconda3\\lib\\site-packages\\ipykernel_launcher.py\n",
      "-f\n",
      "C:\\Users\\Admin\\AppData\\Roaming\\jupyter\\runtime\\kernel-c6e5688d-90a3-46c8-b1f0-2db3f3b5b3b3.json\n"
     ]
    }
   ],
   "source": [
    "from sys import argv\n",
    "print(type(argv))\n",
    "print(argv[0])\n",
    "print(argv[1])\n",
    "print(argv[2]) "
   ]
  },
  {
   "cell_type": "code",
   "execution_count": 4,
   "id": "fbb2f83a",
   "metadata": {},
   "outputs": [
    {
     "name": "stdout",
     "output_type": "stream",
     "text": [
      "The number of command line argument 3\n",
      "The command line argument ['C:\\\\Users\\\\Admin\\\\anaconda3\\\\lib\\\\site-packages\\\\ipykernel_launcher.py', '-f', 'C:\\\\Users\\\\Admin\\\\AppData\\\\Roaming\\\\jupyter\\\\runtime\\\\kernel-c6e5688d-90a3-46c8-b1f0-2db3f3b5b3b3.json']\n",
      "The command line argument one by one \n",
      "C:\\Users\\Admin\\anaconda3\\lib\\site-packages\\ipykernel_launcher.py\n",
      "-f\n",
      "C:\\Users\\Admin\\AppData\\Roaming\\jupyter\\runtime\\kernel-c6e5688d-90a3-46c8-b1f0-2db3f3b5b3b3.json\n"
     ]
    }
   ],
   "source": [
    "from sys import argv\n",
    "print('The number of command line argument',len(argv))\n",
    "print(\"The command line argument\",argv)\n",
    "print(\"The command line argument one by one \")\n",
    "for x in argv:\n",
    "    print(x)"
   ]
  },
  {
   "cell_type": "code",
   "execution_count": 5,
   "id": "a6ccc2ce",
   "metadata": {},
   "outputs": [
    {
     "name": "stdout",
     "output_type": "stream",
     "text": [
      "['C:\\\\Users\\\\Admin\\\\anaconda3\\\\lib\\\\site-packages\\\\ipykernel_launcher.py', '-f', 'C:\\\\Users\\\\Admin\\\\AppData\\\\Roaming\\\\jupyter\\\\runtime\\\\kernel-c6e5688d-90a3-46c8-b1f0-2db3f3b5b3b3.json']\n"
     ]
    },
    {
     "data": {
      "text/plain": [
       "3"
      ]
     },
     "execution_count": 5,
     "metadata": {},
     "output_type": "execute_result"
    }
   ],
   "source": [
    "import sys\n",
    "print(sys.argv)\n",
    "len(sys.argv)"
   ]
  },
  {
   "cell_type": "code",
   "execution_count": 6,
   "id": "dbfd95db",
   "metadata": {},
   "outputs": [
    {
     "name": "stdout",
     "output_type": "stream",
     "text": [
      "<class 'int'>\n",
      "1200.0\n"
     ]
    },
    {
     "data": {
      "text/plain": [
       "float"
      ]
     },
     "execution_count": 6,
     "metadata": {},
     "output_type": "execute_result"
    }
   ],
   "source": [
    "a=10\n",
    "print(type(a))\n",
    "bin(15)\n",
    "bin(0)\n",
    "hex(100)\n",
    "f=1.2e3\n",
    "print(f)\n",
    "type(f)"
   ]
  },
  {
   "cell_type": "code",
   "execution_count": 7,
   "id": "77f6e52d",
   "metadata": {},
   "outputs": [
    {
     "name": "stdout",
     "output_type": "stream",
     "text": [
      "True\n",
      "False\n"
     ]
    },
    {
     "data": {
      "text/plain": [
       "0"
      ]
     },
     "execution_count": 7,
     "metadata": {},
     "output_type": "execute_result"
    }
   ],
   "source": [
    "b=True\n",
    "B=False\n",
    "print(b)\n",
    "print(B)\n",
    "True+True\n",
    "False+False\n",
    "True-False\n",
    "False-False"
   ]
  },
  {
   "cell_type": "code",
   "execution_count": 8,
   "id": "e578b159",
   "metadata": {},
   "outputs": [
    {
     "name": "stdout",
     "output_type": "stream",
     "text": [
      "sunil\n",
      "sunil\n",
      "      zambre\n",
      "i'm from tasgaon\n",
      "welcome to grape city 'Tasgaon' \n",
      "Harvesting seession of \"Grapes\" will be started soon\n"
     ]
    }
   ],
   "source": [
    "s1='sunil'\n",
    "s2='sunil'\n",
    "s3='''sunil\n",
    "      zambre'''\n",
    "print(s2)\n",
    "print(s3)\n",
    "\n",
    "print(\"i'm from tasgaon\")\n",
    "\n",
    "print('''welcome to grape city \\'Tasgaon\\' ''')\n",
    "\n",
    "print('''Harvesting seession of \"Grapes\" will be started soon..........''')"
   ]
  },
  {
   "cell_type": "code",
   "execution_count": 9,
   "id": "334a7194",
   "metadata": {},
   "outputs": [
    {
     "name": "stdout",
     "output_type": "stream",
     "text": [
      "12\n",
      "<class 'str'>\n",
      "2166335480688\n",
      "ayodhyanagar\n",
      "\n",
      "ayodhyanagar\n",
      "a\n",
      "yodhyanagar\n",
      "ayodhya\n",
      "ayodhyanagarayodhyanagarayodhyanagarayodhyanagarayodhyanagar\n",
      "ayodhyanagar\n"
     ]
    }
   ],
   "source": [
    "st='ayodhyanagar'\n",
    "print(len(st))\n",
    "print(type(st))\n",
    "print(id(st))\n",
    "print(st[:])\n",
    "print(st[0:0])\n",
    "print(st[0:])\n",
    "print(st[:1])\n",
    "print(st[1:])\n",
    "print(st[:7])\n",
    "print(st*5)\n",
    "print(st[::])"
   ]
  },
  {
   "cell_type": "code",
   "execution_count": 10,
   "id": "620fe11f",
   "metadata": {},
   "outputs": [
    {
     "name": "stdout",
     "output_type": "stream",
     "text": [
      "12\n",
      "1\n",
      "0\n",
      "10\n",
      "(10+0j)\n",
      "(10.5+0j)\n",
      "(1+0j)\n",
      "0j\n",
      "<class 'complex'>\n",
      "(10.5+0j)\n"
     ]
    },
    {
     "data": {
      "text/plain": [
       "(1+1j)"
      ]
     },
     "execution_count": 10,
     "metadata": {},
     "output_type": "execute_result"
    }
   ],
   "source": [
    "print(int(12.345))\n",
    "# print(int(10+2j))\n",
    "print(int(True))\n",
    "print(int(False))\n",
    "print(int(\"10\"))\n",
    "# print(int(\"10.5\"))\n",
    "print(complex(10))\n",
    "print(complex(10.5))\n",
    "print(complex(True))\n",
    "print(complex(False))\n",
    "a=3+2j\n",
    "print(type(a))\n",
    "print(complex('10.5'))\n",
    "complex(10,-2)\n",
    "complex(3,4)\n",
    "complex(False,False)\n",
    "complex(True,True)\n"
   ]
  },
  {
   "cell_type": "code",
   "execution_count": 11,
   "id": "7b543a03",
   "metadata": {},
   "outputs": [
    {
     "name": "stdout",
     "output_type": "stream",
     "text": [
      "False\n",
      "True\n",
      "True\n",
      "False\n",
      "False\n",
      "True\n",
      "True\n",
      "True\n",
      "True\n",
      "True\n",
      "True\n",
      "True\n",
      "True\n",
      "sunil\n",
      "2166335530160\n",
      "2166249112944\n"
     ]
    }
   ],
   "source": [
    "print(bool(0))\n",
    "print(bool(1))\n",
    "print(bool(True))\n",
    "print(bool(False))\n",
    "print(bool(0.0))\n",
    "print(bool(1.1))\n",
    "print(bool(1.5))\n",
    "print(bool(1+7j))\n",
    "print(bool(\"10.7\"))\n",
    "print(bool(0.234567899))\n",
    "print(bool(\"True\"))\n",
    "print(bool(\"False\"))\n",
    "print(bool(3.6e3))\n",
    "print(str('sunil'))\n",
    "print(id(str(10-8J)))\n",
    "print(id(str(True)))"
   ]
  },
  {
   "cell_type": "code",
   "execution_count": 12,
   "id": "c200718a",
   "metadata": {},
   "outputs": [
    {
     "name": "stdout",
     "output_type": "stream",
     "text": [
      "<class 'bytes'>\n",
      "10\n",
      "20\n",
      "30\n",
      "40\n",
      "50\n",
      "60\n",
      "70\n",
      "80\n",
      "90\n",
      "100\n"
     ]
    }
   ],
   "source": [
    "z=[10,20,30,40,50,60,70,80,90,100]\n",
    "b=bytes(z)\n",
    "print(type(b))\n",
    "# print(b[0])\n",
    "# print(b[-1])\n",
    "for j in b:\n",
    "    print(j)"
   ]
  },
  {
   "cell_type": "code",
   "execution_count": 13,
   "id": "ae5037b2",
   "metadata": {},
   "outputs": [
    {
     "name": "stdout",
     "output_type": "stream",
     "text": [
      "5\n",
      "20\n",
      "35\n",
      "65\n",
      "75\n",
      "95\n",
      "Elements can be modified \n",
      "100\n",
      "20\n",
      "35\n",
      "65\n",
      "75\n",
      "95\n"
     ]
    }
   ],
   "source": [
    "y=[5,20,35,65,75,95]\n",
    "b=bytearray(y)\n",
    "for k in b:\n",
    "    print(k)\n",
    "print(\"Elements can be modified \")\n",
    "b[0]=100\n",
    "for k in b:\n",
    "    print(k)"
   ]
  },
  {
   "cell_type": "code",
   "execution_count": 16,
   "id": "8b05f26d",
   "metadata": {},
   "outputs": [
    {
     "ename": "ValueError",
     "evalue": "byte must be in range(0, 256)",
     "output_type": "error",
     "traceback": [
      "\u001b[1;31m---------------------------------------------------------------------------\u001b[0m",
      "\u001b[1;31mValueError\u001b[0m                                Traceback (most recent call last)",
      "Input \u001b[1;32mIn [16]\u001b[0m, in \u001b[0;36m<cell line: 2>\u001b[1;34m()\u001b[0m\n\u001b[0;32m      1\u001b[0m x\u001b[38;5;241m=\u001b[39m[\u001b[38;5;241m0\u001b[39m,\u001b[38;5;241m256\u001b[39m]\n\u001b[1;32m----> 2\u001b[0m b\u001b[38;5;241m=\u001b[39m\u001b[38;5;28;43mbytearray\u001b[39;49m\u001b[43m(\u001b[49m\u001b[43mx\u001b[49m\u001b[43m)\u001b[49m\n\u001b[0;32m      3\u001b[0m \u001b[38;5;28mtype\u001b[39m(b)\n",
      "\u001b[1;31mValueError\u001b[0m: byte must be in range(0, 256)"
     ]
    }
   ],
   "source": [
    "x=[0,256]\n",
    "b=bytearray(x)\n",
    "type(b)"
   ]
  },
  {
   "cell_type": "code",
   "execution_count": 17,
   "id": "dafbf869",
   "metadata": {},
   "outputs": [
    {
     "name": "stdout",
     "output_type": "stream",
     "text": [
      "[14, 10, 1984, 'sunil', 'True', 38.11]\n",
      "14\n",
      "10\n",
      "sunil\n",
      "14\n",
      "10\n",
      "1984\n",
      "sunil\n",
      "True\n",
      "38.11\n",
      "[14, 10, 1984, 'sunil', 'True', 38.11, 'Dongarsoni', 'Ayodyanagar']\n",
      "[14, 10, 1984, 'sunil', 'True', 'Dongarsoni', 'Ayodyanagar']\n",
      "[14, 10, 1984, 'sunil', 'True', 'Dongarsoni', 'Ayodyanagar', 14, 10, 1984, 'sunil', 'True', 'Dongarsoni', 'Ayodyanagar']\n"
     ]
    }
   ],
   "source": [
    "List=[14,10,1984,\"sunil\",'True',38.11]\n",
    "print(List)\n",
    "print(List[0])\n",
    "print(List[1])\n",
    "print(List[3])\n",
    "\n",
    "for SZ in List:\n",
    "    print(SZ)\n",
    "List.append(\"Dongarsoni\") \n",
    "List.append(\"Ayodyanagar\")\n",
    "print(List)\n",
    "List.remove(38.11)\n",
    "print(List)\n",
    "List2=List*2\n",
    "print(List2)"
   ]
  },
  {
   "cell_type": "code",
   "execution_count": 18,
   "id": "d94766cf",
   "metadata": {},
   "outputs": [
    {
     "name": "stdout",
     "output_type": "stream",
     "text": [
      "<class 'tuple'>\n"
     ]
    }
   ],
   "source": [
    "T=(29,2022,\"Grapes\",'Tasgaon')\n",
    "print(type(T))\n",
    "# T[0]=23\n",
    "# T.append(\"sunil\")\n",
    "# T.remove('Grapes')"
   ]
  },
  {
   "cell_type": "code",
   "execution_count": null,
   "id": "0c45d9d7",
   "metadata": {},
   "outputs": [],
   "source": [
    "R=range(10)\n",
    "for r in R:\n",
    "    print(r)\n",
    "\n",
    "R1=range(10,20)\n",
    "print(\"\\t(2)Range data type form no2\")\n",
    "for r1 in R1:\n",
    "    print(\"\\t\\t\",r1)\n",
    "\n",
    "R2=range(10,20,2)\n",
    "print(\"(3)Range data type form no3 \")\n",
    "for r2 in R2:\n",
    "    print(\"\\t\",r2)\n",
    "print('Elements present in the range data type with index',R2[0])"
   ]
  },
  {
   "cell_type": "code",
   "execution_count": null,
   "id": "39832252",
   "metadata": {},
   "outputs": [],
   "source": [
    " L=list(range(20))\n",
    "print(\"Creating list values with range data type\",L)"
   ]
  },
  {
   "cell_type": "code",
   "execution_count": 19,
   "id": "0a981137",
   "metadata": {},
   "outputs": [
    {
     "name": "stdout",
     "output_type": "stream",
     "text": [
      "{32, 97, 3, 4, 'sunil', 8, 9, 74, 11, 56}\n",
      "{32, 97, 3, 4, 'sunil', 8, 9, 74, 11, 'zambre', 56}\n",
      "{32, 3, 4, 'sunil', 8, 9, 74, 11, 'zambre', 56}\n",
      "frozenset({32, 3, 4, 'sunil', 8, 9, 74, 11, 'zambre', 56})\n",
      "<class 'frozenset'>\n",
      "32\n",
      "3\n",
      "4\n",
      "sunil\n",
      "8\n",
      "9\n",
      "74\n",
      "11\n",
      "zambre\n",
      "56\n"
     ]
    }
   ],
   "source": [
    "SET={8,4,3,9,11,32,56,97,74,'sunil'}\n",
    "print(SET)\n",
    "SET.add('zambre')\n",
    "print(SET)\n",
    "SET.remove(97)\n",
    "print(SET)\n",
    "fs=frozenset(SET)\n",
    "print(fs)\n",
    "print(type(fs))\n",
    "for fset in fs:\n",
    "    print(fset)\n",
    "# fs.add(70)\n",
    "# fs.remove(32)"
   ]
  },
  {
   "cell_type": "code",
   "execution_count": 20,
   "id": "135e4c4e",
   "metadata": {},
   "outputs": [
    {
     "name": "stdout",
     "output_type": "stream",
     "text": [
      "Empty Dictionary {}\n",
      "{105: 'satara', 110: 'sangli', 120: 'kolhapur', 130: 'solapur', 140: 'thane'}\n"
     ]
    }
   ],
   "source": [
    "Dic={}\n",
    "print(\"Empty Dictionary\",Dic)\n",
    "\n",
    "Dic1={105:'satara',110:'sangli',120:'kolhapur',130:'solapur',140:'thane'}\n",
    "print(Dic1) "
   ]
  },
  {
   "cell_type": "code",
   "execution_count": 21,
   "id": "30fdf893",
   "metadata": {},
   "outputs": [
    {
     "name": "stdout",
     "output_type": "stream",
     "text": [
      "My name is 'sunil'\n",
      "I'm from tasgaon\n",
      "Hello \bEveryone\n",
      "Happy new year \"2023\"\n"
     ]
    }
   ],
   "source": [
    "print(\"My name is \\'sunil\\'\")\n",
    "print('''I\\'m from tasgaon''')\n",
    "print(\"Hello \\bEveryone\")\n",
    "print('Happy new year \\\"2023\\\"')"
   ]
  },
  {
   "cell_type": "code",
   "execution_count": null,
   "id": "382b3cdb",
   "metadata": {},
   "outputs": [],
   "source": []
  }
 ],
 "metadata": {
  "kernelspec": {
   "display_name": "Python 3 (ipykernel)",
   "language": "python",
   "name": "python3"
  },
  "language_info": {
   "codemirror_mode": {
    "name": "ipython",
    "version": 3
   },
   "file_extension": ".py",
   "mimetype": "text/x-python",
   "name": "python",
   "nbconvert_exporter": "python",
   "pygments_lexer": "ipython3",
   "version": "3.9.12"
  }
 },
 "nbformat": 4,
 "nbformat_minor": 5
}
