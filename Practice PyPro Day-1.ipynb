{
 "cells": [
  {
   "cell_type": "code",
   "execution_count": 1,
   "id": "5c3b9b8d",
   "metadata": {},
   "outputs": [
    {
     "name": "stdout",
     "output_type": "stream",
     "text": [
      "Enter the number:205\n",
      "Enter the number:305\n",
      "The addition of 205 and 305 is 510\n"
     ]
    }
   ],
   "source": [
    "a=int(input(\"Enter the number:\"))\n",
    "b=int(input(\"Enter the number:\"))\n",
    "c=a+b\n",
    "#print(\"The addtion of two number is: \",c)\n",
    "print(\"The addition of {} and {} is {}\".format(a,b,c))"
   ]
  },
  {
   "cell_type": "code",
   "execution_count": 2,
   "id": "2de5d4f6",
   "metadata": {},
   "outputs": [
    {
     "name": "stdout",
     "output_type": "stream",
     "text": [
      "The addtion of two number is:  27\n"
     ]
    }
   ],
   "source": [
    "def add(a,b):\n",
    "    return a +b\n",
    "d=add(13,14)\n",
    "print(\"The addtion of two number is: \",d)"
   ]
  },
  {
   "cell_type": "code",
   "execution_count": 3,
   "id": "a2475494",
   "metadata": {},
   "outputs": [
    {
     "name": "stdout",
     "output_type": "stream",
     "text": [
      "Enter the first number: 1200\n",
      "Enter the second number: 1300\n",
      "The addition of two number is: 2500\n"
     ]
    }
   ],
   "source": [
    "def add(a,b):\n",
    "    print(\"The addition of two number is:\",a+b)\n",
    "a=int(input(\"Enter the first number: \"))\n",
    "b=int(input(\"Enter the second number: \"))\n",
    "add(a,b)"
   ]
  },
  {
   "cell_type": "code",
   "execution_count": 4,
   "id": "4790714d",
   "metadata": {},
   "outputs": [
    {
     "name": "stdout",
     "output_type": "stream",
     "text": [
      "100\n"
     ]
    }
   ],
   "source": [
    "def add(a,b):\n",
    "    print(a+b)\n",
    "add(a=40,b=60)"
   ]
  },
  {
   "cell_type": "code",
   "execution_count": 5,
   "id": "04b21402",
   "metadata": {},
   "outputs": [
    {
     "name": "stdout",
     "output_type": "stream",
     "text": [
      "The sum is  30\n"
     ]
    }
   ],
   "source": [
    "s=lambda a,b : a + b\n",
    "print(\"The sum is \",s(10,20))"
   ]
  },
  {
   "cell_type": "code",
   "execution_count": 6,
   "id": "6d2f877a",
   "metadata": {},
   "outputs": [
    {
     "name": "stdout",
     "output_type": "stream",
     "text": [
      "[6, 8, 10, 6]\n"
     ]
    }
   ],
   "source": [
    "l=[3,4,5,3]\n",
    "l1=list(map(lambda x : x + x,l))\n",
    "print(l1)"
   ]
  },
  {
   "cell_type": "code",
   "execution_count": 7,
   "id": "33b8ef93",
   "metadata": {},
   "outputs": [
    {
     "name": "stdout",
     "output_type": "stream",
     "text": [
      "Enter the radius:5\n",
      "The area of circle is:  78.5\n"
     ]
    }
   ],
   "source": [
    "pie=3.14\n",
    "def area(r):\n",
    "    print(\"The area of circle is: \",pie*r*r)\n",
    "r=int(input(\"Enter the radius:\"))\n",
    "area(r)"
   ]
  },
  {
   "cell_type": "code",
   "execution_count": 8,
   "id": "cd3a8591",
   "metadata": {},
   "outputs": [
    {
     "name": "stdout",
     "output_type": "stream",
     "text": [
      "The area of circle is: 78.5\n"
     ]
    }
   ],
   "source": [
    "geo=lambda pie,r : pie*r*r\n",
    "print(\"The area of circle is:\",geo(3.14,5))"
   ]
  },
  {
   "cell_type": "code",
   "execution_count": 9,
   "id": "2390140a",
   "metadata": {},
   "outputs": [
    {
     "name": "stdout",
     "output_type": "stream",
     "text": [
      "407\n",
      "417\n",
      "427\n",
      "437\n",
      "447\n",
      "457\n",
      "467\n",
      "477\n",
      "487\n",
      "497\n"
     ]
    }
   ],
   "source": [
    "for i in range(400,500):\n",
    "    if i%10==7:\n",
    "        print(i)"
   ]
  },
  {
   "cell_type": "code",
   "execution_count": 10,
   "id": "13dd1795",
   "metadata": {},
   "outputs": [
    {
     "name": "stdout",
     "output_type": "stream",
     "text": [
      "15\n",
      "25\n",
      "35\n",
      "45\n"
     ]
    }
   ],
   "source": [
    "for i in range(10,50):\n",
    "    if i%10==5:\n",
    "        print(i)"
   ]
  },
  {
   "cell_type": "code",
   "execution_count": 11,
   "id": "9e543d8a",
   "metadata": {},
   "outputs": [
    {
     "name": "stdout",
     "output_type": "stream",
     "text": [
      "14\n",
      "24\n",
      "34\n",
      "44\n"
     ]
    }
   ],
   "source": [
    "for i in range(10,50):\n",
    "    if i%10==4:\n",
    "        print(i)"
   ]
  },
  {
   "cell_type": "code",
   "execution_count": 12,
   "id": "268873f1",
   "metadata": {},
   "outputs": [
    {
     "name": "stdout",
     "output_type": "stream",
     "text": [
      "Enter a number: 1334\n",
      "1334 is even\n"
     ]
    }
   ],
   "source": [
    "num=int(input(\"Enter a number: \"))\n",
    "if num%2==0:\n",
    "    print(\"{} is even\".format(num))\n",
    "else:\n",
    "    print(\"{} is odd\".format(num))"
   ]
  },
  {
   "cell_type": "code",
   "execution_count": 13,
   "id": "debf9f28",
   "metadata": {},
   "outputs": [
    {
     "name": "stdout",
     "output_type": "stream",
     "text": [
      "0 2 4 6 8 10 12 14 16 18 20 22 24 26 28 30 32 34 36 38 40 42 44 46 48 "
     ]
    }
   ],
   "source": [
    "for i in range(0,50):\n",
    "    if i%2==0:\n",
    "        print(i,end=\" \")"
   ]
  },
  {
   "cell_type": "code",
   "execution_count": 14,
   "id": "1d8d4eb2",
   "metadata": {},
   "outputs": [
    {
     "name": "stdout",
     "output_type": "stream",
     "text": [
      "[2, 4, 6, 8, 10]\n"
     ]
    }
   ],
   "source": [
    "l=[1,2,3,4,5,6,7,8,9,10]\n",
    "l1=[x for x in l if x % 2 ==0]\n",
    "print(l1)"
   ]
  },
  {
   "cell_type": "code",
   "execution_count": 15,
   "id": "40329e6b",
   "metadata": {},
   "outputs": [
    {
     "name": "stdout",
     "output_type": "stream",
     "text": [
      "[1, 3, 5, 7, 9, 11, 13, 15, 17, 19]\n"
     ]
    }
   ],
   "source": [
    "t=[x for x in range(1,20,2)]\n",
    "print(t)"
   ]
  }
 ],
 "metadata": {
  "kernelspec": {
   "display_name": "Python 3 (ipykernel)",
   "language": "python",
   "name": "python3"
  },
  "language_info": {
   "codemirror_mode": {
    "name": "ipython",
    "version": 3
   },
   "file_extension": ".py",
   "mimetype": "text/x-python",
   "name": "python",
   "nbconvert_exporter": "python",
   "pygments_lexer": "ipython3",
   "version": "3.9.12"
  }
 },
 "nbformat": 4,
 "nbformat_minor": 5
}
