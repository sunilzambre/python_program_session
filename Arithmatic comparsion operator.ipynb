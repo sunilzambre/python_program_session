{
 "cells": [
  {
   "cell_type": "markdown",
   "id": "0ad23848",
   "metadata": {},
   "source": [
    "# Arithmetic Operators"
   ]
  },
  {
   "cell_type": "code",
   "execution_count": 1,
   "id": "808e77fc",
   "metadata": {},
   "outputs": [
    {
     "name": "stdout",
     "output_type": "stream",
     "text": [
      "30\n",
      "11\n",
      "SunilZambre Tasgaon Maharashtra\n"
     ]
    }
   ],
   "source": [
    "'''Addition(+): It adds two opreands and returns there sum.\n",
    "   #Syntax:Operand1 + Operand2 = Result\n",
    "'''\n",
    "a=10\n",
    "b=20\n",
    "print(a+b)\n",
    "print(a+1)\n",
    "print(\"Sunil\"+\"Zambre\"+\" \"+'Tasgaon'+\" \"+\"Maharashtra\")"
   ]
  },
  {
   "cell_type": "code",
   "execution_count": 2,
   "id": "998bae0b",
   "metadata": {},
   "outputs": [
    {
     "name": "stdout",
     "output_type": "stream",
     "text": [
      "20\n",
      "29\n",
      "17\n"
     ]
    }
   ],
   "source": [
    "'''Subtraction(–):It subtracts one operand from the other \n",
    "   and returns there difference either positive or negative depending on the actual values of operands.\n",
    "   #Syntax:Operand1 - Operand2 = Result\n",
    "'''\n",
    "a=30\n",
    "b=50\n",
    "print(b-a)\n",
    "print(a-1)\n",
    "print(20-3)"
   ]
  },
  {
   "cell_type": "code",
   "execution_count": 3,
   "id": "342a4ea1",
   "metadata": {},
   "outputs": [
    {
     "name": "stdout",
     "output_type": "stream",
     "text": [
      "12\n",
      "60\n",
      "SunilSunilSunilSunil\n"
     ]
    }
   ],
   "source": [
    "'''Multiplication(*):It multiplies two operands and returns the product of both the operands.\n",
    "   Syntax: Operand1 * Operand2 = Result\n",
    "'''\n",
    "a=2\n",
    "b=6\n",
    "print(a*b)\n",
    "print(20*3)\n",
    "print(\"Sunil\"*4)"
   ]
  },
  {
   "cell_type": "code",
   "execution_count": 4,
   "id": "e8dd7dc5",
   "metadata": {},
   "outputs": [
    {
     "name": "stdout",
     "output_type": "stream",
     "text": [
      "0.5\n",
      "10.0\n",
      "6.666666666666667\n"
     ]
    }
   ],
   "source": [
    "'''Division ( / ) :It divides one operad by another and returns the quotient in floating point values.\n",
    "   Syntax : Operand1 / Operand2 = Result\n",
    "'''\n",
    "a=20\n",
    "b=10\n",
    "print(b/a)\n",
    "print(a/2)\n",
    "print(20/3)"
   ]
  },
  {
   "cell_type": "code",
   "execution_count": 5,
   "id": "f1479573",
   "metadata": {},
   "outputs": [
    {
     "name": "stdout",
     "output_type": "stream",
     "text": [
      "5\n",
      "1\n",
      "2\n"
     ]
    }
   ],
   "source": [
    "'''Modulus ( % ): It divides one operand by another and returns the remainder if there is any else it returns 0.\n",
    "   Syntax : Operand1 % Operand2 = Result\n",
    "'''\n",
    "a=10\n",
    "b=25\n",
    "print(b%a)\n",
    "print(a%3)\n",
    "print(20%3)"
   ]
  },
  {
   "cell_type": "code",
   "execution_count": 6,
   "id": "86471c37",
   "metadata": {},
   "outputs": [
    {
     "name": "stdout",
     "output_type": "stream",
     "text": [
      "100\n",
      "1000\n",
      "8\n"
     ]
    }
   ],
   "source": [
    "'''Exponential ( ** ): The exponential operator (**) is used to calculate power. e.g., 23 (2 raised to power 3).\n",
    "    Syntax: Operand1 ** Operand2 = Result\n",
    "'''\n",
    "a=10\n",
    "b=2\n",
    "print(a**2)\n",
    "print(a**3)\n",
    "print(2**3)"
   ]
  },
  {
   "cell_type": "code",
   "execution_count": 7,
   "id": "e140af33",
   "metadata": {},
   "outputs": [
    {
     "name": "stdout",
     "output_type": "stream",
     "text": [
      "3\n",
      "1\n",
      "8\n"
     ]
    }
   ],
   "source": [
    "'''Floor Division ( // ): The Floor Division operator divides two operands \n",
    "                         and returns the quotient as a whole number which is the largest possible integer.\n",
    "                         Syntax : Operand1 // Operand2 = Result\n",
    "'''\n",
    "a=10\n",
    "b=3\n",
    "print(a//b)\n",
    "print(a//6)\n",
    "print(70//8)"
   ]
  },
  {
   "cell_type": "markdown",
   "id": "e16a1dfd",
   "metadata": {},
   "source": [
    "# Assignment Operators"
   ]
  },
  {
   "cell_type": "code",
   "execution_count": 8,
   "id": "440d9645",
   "metadata": {},
   "outputs": [
    {
     "name": "stdout",
     "output_type": "stream",
     "text": [
      "10\n",
      "20.6\n",
      "Hello Sunil\n"
     ]
    }
   ],
   "source": [
    "'''Equal(=) : It assigns the value or value of variable directly to the variable at left hand side.\n",
    "   Syntax: Variable1 = Variable2 / 'Value'\n",
    "'''\n",
    "a=10\n",
    "b=a\n",
    "print(b)\n",
    "b=20.6\n",
    "print(b)\n",
    "b = \"Hello Sunil\"\n",
    "print(b)"
   ]
  },
  {
   "cell_type": "code",
   "execution_count": 9,
   "id": "9f07dcff",
   "metadata": {},
   "outputs": [
    {
     "name": "stdout",
     "output_type": "stream",
     "text": [
      "30\n"
     ]
    }
   ],
   "source": [
    "'''Plus-Equal(+=):It adds the value or variable at right hand side to the variable at left hand side \n",
    "                  and assigns the result to the variable at left hand side.\n",
    "   Syntax : Variable1 += Variable2 / 'Value'\n",
    "'''\n",
    "a=10\n",
    "a+=20  #equivalent to a=a+20\n",
    "print(a)"
   ]
  },
  {
   "cell_type": "code",
   "execution_count": 10,
   "id": "146fd729",
   "metadata": {},
   "outputs": [
    {
     "name": "stdout",
     "output_type": "stream",
     "text": [
      "8\n"
     ]
    }
   ],
   "source": [
    "''' Minus-Equal(-=):It subtracts the value or variable at right hand side from the variable at left hand side \n",
    "                    and assigns the result to the variable at left hand side.\n",
    "   Syntax:Variable1 -= Variable2 / 'Value'\n",
    "'''\n",
    "a=10 \n",
    "a-=2 #equivalent to a=a-2\n",
    "print(a)"
   ]
  },
  {
   "cell_type": "code",
   "execution_count": 11,
   "id": "da2f30de",
   "metadata": {},
   "outputs": [
    {
     "name": "stdout",
     "output_type": "stream",
     "text": [
      "50\n"
     ]
    }
   ],
   "source": [
    "'''Multiplication-Equal(*=): It multiplies the value or variable at right hand side to the variable at left hand side \n",
    "                             and assigns the result to the variable at left hand side.\n",
    "  Syntax : Variable1 *= Variable2 / 'Value'\n",
    "'''\n",
    "a=10\n",
    "a*=5 #equivalent to a=a*5\n",
    "print(a)"
   ]
  },
  {
   "cell_type": "code",
   "execution_count": 12,
   "id": "81a035b9",
   "metadata": {},
   "outputs": [
    {
     "name": "stdout",
     "output_type": "stream",
     "text": [
      "2.0\n"
     ]
    }
   ],
   "source": [
    "'''Division-Equal(/=): It divides the variable at  left hand side by the variable or value at right hand side \n",
    "                      and assigns the result to the variable at left hand side.\n",
    "\n",
    "                   Syntax :Variable1 /= Variable2 or 'Value'\n",
    "'''\n",
    "a=10\n",
    "a/=5 #equivalent to a=a/5\n",
    "print(a)"
   ]
  },
  {
   "cell_type": "code",
   "execution_count": 13,
   "id": "0fd67acb",
   "metadata": {},
   "outputs": [
    {
     "name": "stdout",
     "output_type": "stream",
     "text": [
      "1\n"
     ]
    }
   ],
   "source": [
    "'''Modulus-Equal(%=):It divides the variable at  left hand side by the variable or value at right hand side \n",
    "   and assigns the remainder to the variable at left hand side.\n",
    " Syntax :Variable1 %= Variable2 or 'Value'\n",
    "'''\n",
    "a=10\n",
    "a%=3 #equivalent to a=a%3\n",
    "print(a)"
   ]
  },
  {
   "cell_type": "code",
   "execution_count": 14,
   "id": "06e77ad3",
   "metadata": {},
   "outputs": [
    {
     "name": "stdout",
     "output_type": "stream",
     "text": [
      "3\n"
     ]
    }
   ],
   "source": [
    "a=10\n",
    "a//=3 #equivalent to a=a//3\n",
    "print(a)"
   ]
  },
  {
   "cell_type": "code",
   "execution_count": 15,
   "id": "bd0d83e7",
   "metadata": {},
   "outputs": [
    {
     "name": "stdout",
     "output_type": "stream",
     "text": [
      "1000\n"
     ]
    }
   ],
   "source": [
    "a=10\n",
    "a**=3 #equivalent to a=a**3\n",
    "print(a)"
   ]
  },
  {
   "cell_type": "code",
   "execution_count": 16,
   "id": "862beebf",
   "metadata": {},
   "outputs": [
    {
     "name": "stdout",
     "output_type": "stream",
     "text": [
      "10\n"
     ]
    }
   ],
   "source": [
    "a=10\n",
    "a&=10 #equivalent to a=a&10\n",
    "print(a)"
   ]
  },
  {
   "cell_type": "code",
   "execution_count": 17,
   "id": "d2f125a1",
   "metadata": {},
   "outputs": [
    {
     "name": "stdout",
     "output_type": "stream",
     "text": [
      "10\n"
     ]
    }
   ],
   "source": [
    "a=10\n",
    "a|=10 #equivalent to a=a|10\n",
    "print(a)"
   ]
  },
  {
   "cell_type": "code",
   "execution_count": 18,
   "id": "2edd8fa5",
   "metadata": {},
   "outputs": [
    {
     "name": "stdout",
     "output_type": "stream",
     "text": [
      "8\n"
     ]
    }
   ],
   "source": [
    "a=10\n",
    "a^=2 #equivalent to a=a^2\n",
    "print(a)"
   ]
  },
  {
   "cell_type": "code",
   "execution_count": 19,
   "id": "594fe760",
   "metadata": {},
   "outputs": [
    {
     "name": "stdout",
     "output_type": "stream",
     "text": [
      "2\n"
     ]
    }
   ],
   "source": [
    "a=10\n",
    "a>>=2 #equivalent to a=a>>2\n",
    "print(a)"
   ]
  },
  {
   "cell_type": "code",
   "execution_count": 20,
   "id": "bf3d5e20",
   "metadata": {},
   "outputs": [
    {
     "name": "stdout",
     "output_type": "stream",
     "text": [
      "40\n"
     ]
    }
   ],
   "source": [
    "a=10\n",
    "a<<=2 #equivalent to a=a<<2\n",
    "print(a)"
   ]
  },
  {
   "cell_type": "markdown",
   "id": "7c1a04c1",
   "metadata": {},
   "source": [
    "# Comparison Operators"
   ]
  },
  {
   "cell_type": "code",
   "execution_count": 21,
   "id": "b7bc5e60",
   "metadata": {},
   "outputs": [
    {
     "name": "stdout",
     "output_type": "stream",
     "text": [
      "False\n",
      "True\n",
      "10\n"
     ]
    }
   ],
   "source": [
    "a = 10\n",
    "b = 20\n",
    "print(a == b)\n",
    "print(10 == 10)\n",
    "a == 10\n",
    "print(a)"
   ]
  },
  {
   "cell_type": "code",
   "execution_count": 22,
   "id": "451f67fc",
   "metadata": {},
   "outputs": [
    {
     "name": "stdout",
     "output_type": "stream",
     "text": [
      "True\n",
      "False\n",
      "False\n"
     ]
    }
   ],
   "source": [
    "a = 10\n",
    "b = 20\n",
    "print(a != b)\n",
    "print(10 != 10)\n",
    "print(a != 10)"
   ]
  },
  {
   "cell_type": "code",
   "execution_count": 23,
   "id": "a50aa4da",
   "metadata": {},
   "outputs": [
    {
     "name": "stdout",
     "output_type": "stream",
     "text": [
      "False\n",
      "True\n",
      "False\n"
     ]
    }
   ],
   "source": [
    "a = 10\n",
    "b = 20\n",
    "print(a > b)\n",
    "print(11 > 10)\n",
    "print(a > 15)"
   ]
  },
  {
   "cell_type": "code",
   "execution_count": 24,
   "id": "6f1c25a5",
   "metadata": {},
   "outputs": [
    {
     "name": "stdout",
     "output_type": "stream",
     "text": [
      "True\n",
      "False\n",
      "True\n"
     ]
    }
   ],
   "source": [
    "a = 10\n",
    "b = 20\n",
    "print(a < b)\n",
    "print(11 < 10)\n",
    "print(a < 15)"
   ]
  },
  {
   "cell_type": "code",
   "execution_count": 25,
   "id": "9a291902",
   "metadata": {},
   "outputs": [
    {
     "name": "stdout",
     "output_type": "stream",
     "text": [
      "False\n",
      "True\n",
      "False\n"
     ]
    }
   ],
   "source": [
    "a = 10\n",
    "b = 20\n",
    "print(a >= b)\n",
    "print(11 >= 10)\n",
    "print(a >= 15)"
   ]
  },
  {
   "cell_type": "code",
   "execution_count": null,
   "id": "60248287",
   "metadata": {},
   "outputs": [],
   "source": []
  }
 ],
 "metadata": {
  "kernelspec": {
   "display_name": "Python 3 (ipykernel)",
   "language": "python",
   "name": "python3"
  },
  "language_info": {
   "codemirror_mode": {
    "name": "ipython",
    "version": 3
   },
   "file_extension": ".py",
   "mimetype": "text/x-python",
   "name": "python",
   "nbconvert_exporter": "python",
   "pygments_lexer": "ipython3",
   "version": "3.9.12"
  }
 },
 "nbformat": 4,
 "nbformat_minor": 5
}
