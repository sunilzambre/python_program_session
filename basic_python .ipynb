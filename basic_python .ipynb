{
 "cells": [
  {
   "cell_type": "code",
   "execution_count": 1,
   "id": "e1db7479",
   "metadata": {},
   "outputs": [
    {
     "name": "stdout",
     "output_type": "stream",
     "text": [
      "Enter the list:[1,2,3,4,5,6,7,8,9,10]\n",
      "2 4 6 8 10 "
     ]
    }
   ],
   "source": [
    "inp =eval(input(\"Enter the list:\"))\n",
    "\n",
    "for i in inp:\n",
    "    if i%2==0:\n",
    "        print(i,end=\" \")"
   ]
  },
  {
   "cell_type": "code",
   "execution_count": 2,
   "id": "f534082c",
   "metadata": {},
   "outputs": [
    {
     "name": "stdout",
     "output_type": "stream",
     "text": [
      "Enter the list element[1,2,3,4,5,6,7,8,9,10]\n",
      "odd number list is 1\n",
      "odd number list is 3\n",
      "odd number list is 5\n",
      "odd number list is 7\n",
      "odd number list is 9\n"
     ]
    }
   ],
   "source": [
    "l1=eval(input(\"Enter the list element\"))\n",
    "for i in l1:\n",
    "    if i%2!=0:\n",
    "        print(\"odd number list is {}\".format(i))\n",
    "        "
   ]
  },
  {
   "cell_type": "code",
   "execution_count": 3,
   "id": "c5972d84",
   "metadata": {},
   "outputs": [
    {
     "name": "stdout",
     "output_type": "stream",
     "text": [
      "Enter the list:[1,2,3,4,5,6,7,8,9,10]\n",
      "[2, 4, 6, 8, 10]\n"
     ]
    }
   ],
   "source": [
    "l=eval(input(\"Enter the list:\"))\n",
    "l1=[x for x in l if x %2==0]\n",
    "print(l1)"
   ]
  },
  {
   "cell_type": "code",
   "execution_count": 4,
   "id": "d30c1763",
   "metadata": {},
   "outputs": [
    {
     "name": "stdout",
     "output_type": "stream",
     "text": [
      "Enter the list element:[1,2,3,4,5,6,7,8,9,10]\n",
      "[1, 3, 5, 7, 9]\n"
     ]
    }
   ],
   "source": [
    "lst=eval(input(\"Enter the list element:\"))\n",
    "name=[p for p in lst if p%2!=0]\n",
    "print(name)"
   ]
  },
  {
   "cell_type": "code",
   "execution_count": 5,
   "id": "6fd09564",
   "metadata": {},
   "outputs": [
    {
     "name": "stdout",
     "output_type": "stream",
     "text": [
      "Enter the list element:[1,2,3,4,5,6,7,8,9,10]\n",
      "The odd number is [2, 4, 6, 8, 10]\n"
     ]
    }
   ],
   "source": [
    "def odd(x):\n",
    "    if x % 2 ==0:\n",
    "        return True\n",
    "    else:\n",
    "        return False\n",
    "l=eval(input(\"Enter the list element:\"))\n",
    "l1=list(filter(odd,l))\n",
    "print(\"The odd number is\",l1)"
   ]
  },
  {
   "cell_type": "code",
   "execution_count": 6,
   "id": "1850a8f9",
   "metadata": {},
   "outputs": [
    {
     "name": "stdout",
     "output_type": "stream",
     "text": [
      "Enter the list[1,2,3,4,5,6,7,8,9,10]\n",
      "Even num [2, 4, 6, 8, 10]\n"
     ]
    }
   ],
   "source": [
    "m=eval(input(\"Enter the list\"))\n",
    "m1=list(filter(lambda x : x % 2 ==0,m))\n",
    "print(\"Even num\",m1)\n"
   ]
  },
  {
   "cell_type": "code",
   "execution_count": 7,
   "id": "d23b7edd",
   "metadata": {},
   "outputs": [
    {
     "name": "stdout",
     "output_type": "stream",
     "text": [
      "True\n",
      "False\n",
      "True\n",
      "False\n",
      "True\n",
      "False\n",
      "True\n",
      "False\n",
      "True\n",
      "False\n"
     ]
    }
   ],
   "source": [
    "for i in range(10):\n",
    "    s=lambda i : i %2 ==0\n",
    "    print(s(i))"
   ]
  },
  {
   "cell_type": "code",
   "execution_count": 8,
   "id": "dbca4d63",
   "metadata": {},
   "outputs": [
    {
     "name": "stdout",
     "output_type": "stream",
     "text": [
      "0 2 4 6 8 10 12 14 16 18 "
     ]
    }
   ],
   "source": [
    "for x in range(0,20):\n",
    "    if x %2==0:\n",
    "        print(x,end=\" \")"
   ]
  },
  {
   "cell_type": "code",
   "execution_count": 9,
   "id": "fcfbf05f",
   "metadata": {},
   "outputs": [
    {
     "name": "stdout",
     "output_type": "stream",
     "text": [
      "Enter the dictionary{1:\"A\",2:\"B\"}\n",
      "\n"
     ]
    }
   ],
   "source": [
    "x=eval(input(\"Enter the dictionary\"))\n",
    "for i in x.keys():\n",
    "    if i%2==0:\n",
    "        print()"
   ]
  },
  {
   "cell_type": "code",
   "execution_count": 11,
   "id": "5b770ded",
   "metadata": {},
   "outputs": [
    {
     "name": "stdout",
     "output_type": "stream",
     "text": [
      "Enter 'add','sub' 'multiply', or 'divide': sub\n",
      "30\n"
     ]
    }
   ],
   "source": [
    "functions = {\n",
    "    'add': lambda x, y: x + y,\n",
    "    'sub': lambda x, y: x + y,\n",
    "    'multiply': lambda x, y: x * y,\n",
    "    'divide': lambda x, y: x / y\n",
    "}\n",
    "\n",
    "selected_function = input(\"Enter 'add','sub' 'multiply', or 'divide': \")\n",
    "result = functions[selected_function](10, 20)\n",
    "print(result)"
   ]
  },
  {
   "cell_type": "code",
   "execution_count": 12,
   "id": "720d13b7",
   "metadata": {},
   "outputs": [
    {
     "name": "stdout",
     "output_type": "stream",
     "text": [
      "30\n"
     ]
    }
   ],
   "source": [
    "sum=lambda x,y : x +y \n",
    "print(sum(10,20))"
   ]
  },
  {
   "cell_type": "code",
   "execution_count": 13,
   "id": "a3f7a422",
   "metadata": {},
   "outputs": [
    {
     "name": "stdout",
     "output_type": "stream",
     "text": [
      "60\n"
     ]
    }
   ],
   "source": [
    "mul = lambda x,y : x * y\n",
    "print(mul(20,3))"
   ]
  },
  {
   "cell_type": "code",
   "execution_count": 14,
   "id": "a43d2d64",
   "metadata": {},
   "outputs": [
    {
     "data": {
      "text/plain": [
       "2.0"
      ]
     },
     "execution_count": 14,
     "metadata": {},
     "output_type": "execute_result"
    }
   ],
   "source": [
    "div = lambda x,y : x/y\n",
    "div(20,10)"
   ]
  },
  {
   "cell_type": "code",
   "execution_count": null,
   "id": "dba4f10e",
   "metadata": {},
   "outputs": [],
   "source": [
    "sub=lambda x,y : x - y\n",
    "sub(200,100)"
   ]
  },
  {
   "cell_type": "code",
   "execution_count": 15,
   "id": "460bd7a4",
   "metadata": {},
   "outputs": [
    {
     "name": "stdout",
     "output_type": "stream",
     "text": [
      "The result by using lambda fuction is  24\n",
      "The result by using lambda fuction is 24 \n"
     ]
    }
   ],
   "source": [
    "prod=lambda x,y,z :x*y*z\n",
    "result=prod(2,3,4)\n",
    "print(\"The result by using lambda fuction is \",result)\n",
    "print(\"The result by using lambda fuction is {} \".format(result))"
   ]
  },
  {
   "cell_type": "code",
   "execution_count": 16,
   "id": "29c42a56",
   "metadata": {},
   "outputs": [
    {
     "name": "stdout",
     "output_type": "stream",
     "text": [
      "{1: 1, 2: 2, 3: 3, 4: 4, 5: 5, 6: 6, 7: 7, 8: 8, 9: 9, 10: 10, 11: 11, 12: 12, 13: 13, 14: 14, 15: 15, 16: 16, 17: 17, 18: 18, 19: 19}\n"
     ]
    }
   ],
   "source": [
    "even={x : x for x in range(1,20)}\n",
    "print(even)"
   ]
  },
  {
   "cell_type": "code",
   "execution_count": null,
   "id": "d6c4760a",
   "metadata": {},
   "outputs": [],
   "source": [
    "tup=tuple(x **2 for x in range(5))\n",
    "print(tup)"
   ]
  },
  {
   "cell_type": "code",
   "execution_count": 19,
   "id": "e5a31cbd",
   "metadata": {},
   "outputs": [
    {
     "name": "stdout",
     "output_type": "stream",
     "text": [
      "Hello,World!\n"
     ]
    }
   ],
   "source": [
    "concat_lambda=lambda str1,str2 : str1+str2\n",
    "result=concat_lambda(\"Hello,\",\"World!\")\n",
    "print(result)"
   ]
  },
  {
   "cell_type": "code",
   "execution_count": 20,
   "id": "5e8d781b",
   "metadata": {},
   "outputs": [
    {
     "name": "stdout",
     "output_type": "stream",
     "text": [
      "0.5\n",
      "0.5\n",
      "0.5\n",
      "0.5\n"
     ]
    }
   ],
   "source": [
    "operation_lambda = lambda x, y, op: x + y if op == '+' else x - y if op == '-' else x * y if op == '*' else x / y if op == '/' else None\n",
    "result = operation_lambda(10, 20, '+')\n",
    "result = operation_lambda(10, 20, '*')\n",
    "result = operation_lambda(10, 20, '-')\n",
    "result = operation_lambda(10, 20, '/')\n",
    "print(result)\n",
    "print(result)\n",
    "print(result)\n",
    "print(result)"
   ]
  },
  {
   "cell_type": "code",
   "execution_count": 24,
   "id": "5b91d136",
   "metadata": {},
   "outputs": [
    {
     "name": "stdout",
     "output_type": "stream",
     "text": [
      "Enter the list separated by spaces: [1,2,3,4,5,6,7,8,9,10]\n"
     ]
    },
    {
     "ename": "ValueError",
     "evalue": "invalid literal for int() with base 10: '[1,2,3,4,5,6,7,8,9,10]'",
     "output_type": "error",
     "traceback": [
      "\u001b[1;31m---------------------------------------------------------------------------\u001b[0m",
      "\u001b[1;31mValueError\u001b[0m                                Traceback (most recent call last)",
      "Input \u001b[1;32mIn [24]\u001b[0m, in \u001b[0;36m<cell line: 2>\u001b[1;34m()\u001b[0m\n\u001b[0;32m      1\u001b[0m lst \u001b[38;5;241m=\u001b[39m \u001b[38;5;28minput\u001b[39m(\u001b[38;5;124m\"\u001b[39m\u001b[38;5;124mEnter the list separated by spaces: \u001b[39m\u001b[38;5;124m\"\u001b[39m)\n\u001b[1;32m----> 2\u001b[0m lst \u001b[38;5;241m=\u001b[39m \u001b[38;5;28;43mlist\u001b[39;49m\u001b[43m(\u001b[49m\u001b[38;5;28;43mmap\u001b[39;49m\u001b[43m(\u001b[49m\u001b[38;5;28;43mint\u001b[39;49m\u001b[43m,\u001b[49m\u001b[43m \u001b[49m\u001b[43mlst\u001b[49m\u001b[38;5;241;43m.\u001b[39;49m\u001b[43msplit\u001b[49m\u001b[43m(\u001b[49m\u001b[43m)\u001b[49m\u001b[43m)\u001b[49m\u001b[43m)\u001b[49m\n\u001b[0;32m      3\u001b[0m filt \u001b[38;5;241m=\u001b[39m \u001b[38;5;28mlist\u001b[39m(\u001b[38;5;28mfilter\u001b[39m(\u001b[38;5;28;01mlambda\u001b[39;00m x: x \u001b[38;5;241m%\u001b[39m \u001b[38;5;241m2\u001b[39m \u001b[38;5;241m==\u001b[39m \u001b[38;5;241m0\u001b[39m, lst))\n\u001b[0;32m      4\u001b[0m \u001b[38;5;28mprint\u001b[39m(filt)\n",
      "\u001b[1;31mValueError\u001b[0m: invalid literal for int() with base 10: '[1,2,3,4,5,6,7,8,9,10]'"
     ]
    }
   ],
   "source": [
    "lst = input(\"Enter the list separated by spaces: \")\n",
    "lst = list(map(int, lst.split()))\n",
    "filt = list(filter(lambda x: x % 2 == 0, lst))\n",
    "print(filt)"
   ]
  },
  {
   "cell_type": "code",
   "execution_count": 25,
   "id": "3dc02a28",
   "metadata": {},
   "outputs": [
    {
     "name": "stdout",
     "output_type": "stream",
     "text": [
      "[1, 3, 5, 7, 9]\n"
     ]
    }
   ],
   "source": [
    "numbers = [1, 2, 3, 4, 5, 6, 7, 8, 9, 10]\n",
    "filter_num = list(filter(lambda x: x % 2 != 0, numbers))\n",
    "print(filter_num)"
   ]
  },
  {
   "cell_type": "code",
   "execution_count": 27,
   "id": "9e15d9e0",
   "metadata": {},
   "outputs": [
    {
     "name": "stdout",
     "output_type": "stream",
     "text": [
      "['cherry']\n"
     ]
    }
   ],
   "source": [
    "words = ['apple', 'banana', 'cherry', 'orange', 'pineapple']\n",
    "filter_word = list(filter(lambda x: 'a' not in x, words))\n",
    "print(filter_word)"
   ]
  },
  {
   "cell_type": "code",
   "execution_count": 28,
   "id": "2bbbc001",
   "metadata": {},
   "outputs": [
    {
     "name": "stdout",
     "output_type": "stream",
     "text": [
      "[1.2, 2.5, 3.7, 4.8]\n"
     ]
    }
   ],
   "source": [
    "numbers = [1.2, 2.5, 3.7, 4.8, 5.1, 6.3, 7.9, 8.2, 9.6]\n",
    "filter_number = list(filter(lambda x: x <= 5.0, numbers))\n",
    "print(filter_number)"
   ]
  },
  {
   "cell_type": "code",
   "execution_count": 30,
   "id": "54813085",
   "metadata": {},
   "outputs": [
    {
     "name": "stdout",
     "output_type": "stream",
     "text": [
      "[{'name': 'Rahul', 'age': 30, 'gender': 'Male'}, {'name': 'Santosh', 'age': 35, 'gender': 'Male'}, {'name': 'Sunil', 'age': 37, 'gender': 'Male'}]\n"
     ]
    }
   ],
   "source": [
    "people = [{'name': 'Rahul', 'age': 30 , 'gender': 'Male'}, \n",
    "          {'name': 'Santosh', 'age': 35, 'gender': 'Male'}, \n",
    "          {'name': 'Sunil', 'age': 37, 'gender': 'Male'}]\n",
    "filter_people = list(filter(lambda x: 'gender' in x, people))\n",
    "print(filter_people)"
   ]
  },
  {
   "cell_type": "code",
   "execution_count": null,
   "id": "d64f386a",
   "metadata": {},
   "outputs": [],
   "source": []
  }
 ],
 "metadata": {
  "kernelspec": {
   "display_name": "Python 3 (ipykernel)",
   "language": "python",
   "name": "python3"
  },
  "language_info": {
   "codemirror_mode": {
    "name": "ipython",
    "version": 3
   },
   "file_extension": ".py",
   "mimetype": "text/x-python",
   "name": "python",
   "nbconvert_exporter": "python",
   "pygments_lexer": "ipython3",
   "version": "3.9.12"
  }
 },
 "nbformat": 4,
 "nbformat_minor": 5
}
