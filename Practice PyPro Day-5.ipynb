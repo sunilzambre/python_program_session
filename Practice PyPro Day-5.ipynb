{
 "cells": [
  {
   "cell_type": "code",
   "execution_count": 1,
   "id": "e7938ba9",
   "metadata": {},
   "outputs": [
    {
     "name": "stdout",
     "output_type": "stream",
     "text": [
      "Enter the first value  : 1001\n",
      "Enter the second value  : 2002\n",
      "The addtion of two number is : 3003\n"
     ]
    }
   ],
   "source": [
    "def addn(a,b):\n",
    "    sum=a+b\n",
    "    return sum\n",
    "num1=int(input(\"Enter the first value  : \"))  \n",
    "num2=int(input(\"Enter the second value  : \"))\n",
    "print(\"The addtion of two number is : {}\".format(addn(num1,num2)))"
   ]
  },
  {
   "cell_type": "code",
   "execution_count": 2,
   "id": "9341fd05",
   "metadata": {},
   "outputs": [
    {
     "name": "stdout",
     "output_type": "stream",
     "text": [
      "Enter the first value  : 1800\n",
      "Enter the second value :900\n",
      "The subtraction of two number is : 900\n"
     ]
    }
   ],
   "source": [
    "def subt(a,b):\n",
    "    sub=a-b\n",
    "    return sub\n",
    "n1=int(input(\"Enter the first value  : \"))\n",
    "n2=int(input(\"Enter the second value :\"))\n",
    "print(\"The subtraction of two number is : {}\".format(subt(n1,n2)))"
   ]
  },
  {
   "cell_type": "code",
   "execution_count": 3,
   "id": "f50040c7",
   "metadata": {},
   "outputs": [
    {
     "data": {
      "text/plain": [
       "3003"
      ]
     },
     "execution_count": 3,
     "metadata": {},
     "output_type": "execute_result"
    }
   ],
   "source": [
    "addn(num1,num2)"
   ]
  },
  {
   "cell_type": "code",
   "execution_count": 4,
   "id": "6fb81d1f",
   "metadata": {},
   "outputs": [
    {
     "data": {
      "text/plain": [
       "900"
      ]
     },
     "execution_count": 4,
     "metadata": {},
     "output_type": "execute_result"
    }
   ],
   "source": [
    "subt(n1,n2)"
   ]
  },
  {
   "cell_type": "code",
   "execution_count": 5,
   "id": "c3db6b4e",
   "metadata": {},
   "outputs": [
    {
     "name": "stdout",
     "output_type": "stream",
     "text": [
      "foot-print\n"
     ]
    }
   ],
   "source": [
    "print('foot','print',sep=\"-\")"
   ]
  },
  {
   "cell_type": "code",
   "execution_count": 6,
   "id": "51b26d50",
   "metadata": {},
   "outputs": [
    {
     "name": "stdout",
     "output_type": "stream",
     "text": [
      "hello sunil\n",
      "hellosunil\n"
     ]
    }
   ],
   "source": [
    "print(\"hello\",\"sunil\")\n",
    "print(\"hello\"+\"sunil\")"
   ]
  },
  {
   "cell_type": "code",
   "execution_count": 7,
   "id": "0ce9b1ec",
   "metadata": {},
   "outputs": [
    {
     "name": "stdout",
     "output_type": "stream",
     "text": [
      "hello-->world\n"
     ]
    }
   ],
   "source": [
    "print(\"hello\",\"world\",sep='-->')"
   ]
  },
  {
   "cell_type": "code",
   "execution_count": 8,
   "id": "2d6236c1",
   "metadata": {},
   "outputs": [
    {
     "name": "stdout",
     "output_type": "stream",
     "text": [
      "['I', 'N', 'D', 'I', 'A']\n"
     ]
    }
   ],
   "source": [
    "elist=[]\n",
    "for word in 'INDIA':\n",
    "    elist.append(word)\n",
    "print(elist)"
   ]
  },
  {
   "cell_type": "code",
   "execution_count": 9,
   "id": "a607ef61",
   "metadata": {},
   "outputs": [
    {
     "name": "stdout",
     "output_type": "stream",
     "text": [
      "['I', 'N', 'D', 'I', 'A']\n"
     ]
    }
   ],
   "source": [
    "listco=[word for word in 'INDIA']\n",
    "print(listco)"
   ]
  },
  {
   "cell_type": "code",
   "execution_count": 10,
   "id": "0fdbb629",
   "metadata": {},
   "outputs": [
    {
     "name": "stdout",
     "output_type": "stream",
     "text": [
      "['I', 'N', 'D', 'I', 'A']\n"
     ]
    }
   ],
   "source": [
    "letter=list(map(lambda x : x,'INDIA'))\n",
    "print(letter)"
   ]
  },
  {
   "cell_type": "code",
   "execution_count": 11,
   "id": "14a02d9d",
   "metadata": {},
   "outputs": [
    {
     "name": "stdout",
     "output_type": "stream",
     "text": [
      "[0, 2, 4, 6, 8, 10, 12, 14, 16, 18]\n"
     ]
    }
   ],
   "source": [
    "num_list=[x for x in range(20) if x%2==0]\n",
    "print(num_list)"
   ]
  },
  {
   "cell_type": "code",
   "execution_count": 12,
   "id": "7e8637f4",
   "metadata": {},
   "outputs": [
    {
     "name": "stdout",
     "output_type": "stream",
     "text": [
      "[0, 10, 20, 30, 40, 50, 60, 70, 80, 90]\n"
     ]
    }
   ],
   "source": [
    "num1=[y for y in range(100) if y%2==0 if y%5==0]\n",
    "print(num1)"
   ]
  },
  {
   "cell_type": "code",
   "execution_count": 13,
   "id": "9aa2229b",
   "metadata": {},
   "outputs": [
    {
     "name": "stdout",
     "output_type": "stream",
     "text": [
      "['Even', 'odd', 'Even', 'odd', 'Even', 'odd', 'Even', 'odd', 'Even', 'odd']\n"
     ]
    }
   ],
   "source": [
    "obj=[\"Even\" if i%2==0 else \"odd\" for i in range(10)]\n",
    "print(obj)"
   ]
  },
  {
   "cell_type": "code",
   "execution_count": 14,
   "id": "51f14505",
   "metadata": {},
   "outputs": [
    {
     "name": "stdout",
     "output_type": "stream",
     "text": [
      "Enter a year: 2023\n",
      "2023 is not a leap year\n"
     ]
    }
   ],
   "source": [
    "year = int(input(\"Enter a year: \"))\n",
    "if (year % 400 == 0) and (year % 100 == 0):\n",
    "    print(\"{0} is a leap year\".format(year))\n",
    "elif (year % 4 ==0) and (year % 100 != 0):\n",
    "    print(\"{0} is a leap year\".format(year))\n",
    "else:\n",
    "    print(\"{0} is not a leap year\".format(year))"
   ]
  },
  {
   "cell_type": "code",
   "execution_count": 15,
   "id": "849c385e",
   "metadata": {},
   "outputs": [
    {
     "name": "stdout",
     "output_type": "stream",
     "text": [
      "How many terms: 7\n",
      "Fibonacci sequence:\n",
      "0 1 1 2 3 5 8 "
     ]
    }
   ],
   "source": [
    "nterms = int(input(\"How many terms: \"))\n",
    "n1, n2 = 0, 1\n",
    "count = 0\n",
    "if nterms <= 0:\n",
    "    print(\"Please enter a positive integer !\")\n",
    "elif nterms == 1:\n",
    "    print(\"Fibonacci sequence upto\",nterms)\n",
    "    print(n1)\n",
    "else:\n",
    "    print(\"Fibonacci sequence:\")\n",
    "    while count < nterms:\n",
    "        print(n1,end=\" \")\n",
    "        nth = n1 + n2\n",
    "        n1 = n2\n",
    "        n2 = nth\n",
    "        count += 1"
   ]
  },
  {
   "cell_type": "code",
   "execution_count": 16,
   "id": "b88c0413",
   "metadata": {},
   "outputs": [
    {
     "name": "stdout",
     "output_type": "stream",
     "text": [
      "Enter a number: 29\n",
      "29 is a prime number\n"
     ]
    }
   ],
   "source": [
    "num = int(input(\"Enter a number: \"))\n",
    "flag = False\n",
    "if num == 1:\n",
    "    print(num, \"is not a prime number\")\n",
    "elif num > 1:\n",
    "    for i in range(2, num):\n",
    "        if (num % i) == 0:\n",
    "            flag = True\n",
    "            break\n",
    "    if flag:\n",
    "        print(num, \"is not a prime number\")\n",
    "    else:\n",
    "        print(num, \"is a prime number\")"
   ]
  },
  {
   "cell_type": "code",
   "execution_count": 17,
   "id": "71c6a4f5",
   "metadata": {},
   "outputs": [
    {
     "name": "stdout",
     "output_type": "stream",
     "text": [
      "Enter a number: 7\n",
      "The factorial of 7 is 5040\n"
     ]
    }
   ],
   "source": [
    "num = int(input(\"Enter a number: \"))\n",
    "factorial = 1\n",
    "if num < 0:\n",
    "    print(\"Sorry, factorial does not exist for negative numbers\")\n",
    "elif num == 0:\n",
    "    print(\"The factorial of 0 is 1\")\n",
    "else:\n",
    "    for i in range(1,num + 1):\n",
    "        factorial = factorial*i\n",
    "    print(\"The factorial of {0} is {1}\".format(num,factorial))"
   ]
  },
  {
   "cell_type": "code",
   "execution_count": 18,
   "id": "2ecff565",
   "metadata": {},
   "outputs": [
    {
     "name": "stdout",
     "output_type": "stream",
     "text": [
      "Enter a number: 5\n",
      "The factorial of 5 is 120\n"
     ]
    }
   ],
   "source": [
    "def factorial(x):\n",
    "    if x == 1:\n",
    "        return 1\n",
    "    else:\n",
    "        return (x * factorial(x-1))\n",
    "num = int(input(\"Enter a number: \"))\n",
    "result = factorial(num)\n",
    "print(\"The factorial of\", num, \"is\", result)"
   ]
  },
  {
   "cell_type": "code",
   "execution_count": 20,
   "id": "d7d8479b",
   "metadata": {},
   "outputs": [
    {
     "name": "stdout",
     "output_type": "stream",
     "text": [
      "Enter first number: 10\n",
      "Enter second number: 10\n",
      "The sum is 20.00\n"
     ]
    }
   ],
   "source": [
    "print('The sum is %.2f' %(float(input('Enter first number: ')) + float(input('Enter second number: '))))"
   ]
  },
  {
   "cell_type": "code",
   "execution_count": 21,
   "id": "0beee10d",
   "metadata": {},
   "outputs": [
    {
     "name": "stdout",
     "output_type": "stream",
     "text": [
      "Enter a number: 106\n",
      "106 is Even\n"
     ]
    }
   ],
   "source": [
    "num = int(input(\"Enter a number: \"))\n",
    "if (num % 2) == 0:\n",
    "    print(\"{0} is Even\".format(num))\n",
    "else:\n",
    "    print(\"{0} is Odd\".format(num))"
   ]
  },
  {
   "cell_type": "code",
   "execution_count": 23,
   "id": "8dbb1c58",
   "metadata": {},
   "outputs": [
    {
     "name": "stdout",
     "output_type": "stream",
     "text": [
      "Enter a number: 64\n",
      "The square root of 64.000 is 8.000\n"
     ]
    }
   ],
   "source": [
    "num = float(input('Enter a number: '))\n",
    "sqrt = num ** 0.5\n",
    "print('The square root of %0.3f is %0.3f'%(num ,sqrt))"
   ]
  },
  {
   "cell_type": "code",
   "execution_count": 24,
   "id": "9ac7ee3b",
   "metadata": {},
   "outputs": [
    {
     "name": "stdout",
     "output_type": "stream",
     "text": [
      "Enter value of x: 15\n",
      "Enter value of y: 25\n",
      "The value of x after swapping: 25\n",
      "The value of y after swapping: 15\n"
     ]
    }
   ],
   "source": [
    "x = input('Enter value of x: ')\n",
    "y = input('Enter value of y: ')\n",
    "temp = x\n",
    "x = y\n",
    "y = temp\n",
    "print('The value of x after swapping: {}'.format(x))\n",
    "print('The value of y after swapping: {}'.format(y))"
   ]
  },
  {
   "cell_type": "code",
   "execution_count": 29,
   "id": "73c7ca5c",
   "metadata": {},
   "outputs": [
    {
     "name": "stdout",
     "output_type": "stream",
     "text": [
      "5\n"
     ]
    }
   ],
   "source": [
    "count=0\n",
    "mystr=\"suunilzambresunilzambresunilsunil\"\n",
    "mychr='u'\n",
    "for i in mystr:\n",
    "    if i==mychr:\n",
    "        count+=1\n",
    "print(count)"
   ]
  },
  {
   "cell_type": "code",
   "execution_count": 30,
   "id": "17fc3681",
   "metadata": {},
   "outputs": [
    {
     "name": "stdout",
     "output_type": "stream",
     "text": [
      "9\n"
     ]
    }
   ],
   "source": [
    "my_string = \"sunilsunilsunilsunilsunilvsunilsunilsunilsunil\"\n",
    "my_char = \"n\"\n",
    "print(my_string.count(my_char))"
   ]
  },
  {
   "cell_type": "code",
   "execution_count": 32,
   "id": "a838a2c1",
   "metadata": {},
   "outputs": [
    {
     "name": "stdout",
     "output_type": "stream",
     "text": [
      "stop1\n"
     ]
    }
   ],
   "source": [
    "import time\n",
    "def countdown(time_sec):\n",
    "    while time_sec:\n",
    "        mins, secs = divmod(time_sec, 60)\n",
    "        timeformat = '{:02d}:{:02d}'.format(mins, secs)\n",
    "        print(timeformat, end='\\r')\n",
    "        time.sleep(1)\n",
    "        time_sec -= 1\n",
    "    print(\"stop\")\n",
    "countdown(60)"
   ]
  },
  {
   "cell_type": "code",
   "execution_count": 43,
   "id": "de88fb07",
   "metadata": {},
   "outputs": [
    {
     "name": "stdout",
     "output_type": "stream",
     "text": [
      "DaI\n",
      "DIa\n",
      "aDI\n",
      "aID\n",
      "IaD\n",
      "IDa\n",
      "None\n"
     ]
    }
   ],
   "source": [
    "def getpermu(string, i=0):\n",
    "    if i == len(string):\n",
    "        print(\"\".join(string))      \n",
    "    for j in range(i, len(string)):\n",
    "        words = [c for c in string]\n",
    "        words[i], words[j] = words[j], words[i]\n",
    "        getpermu(words, i + 1)\n",
    "print(getpermu('DaI'))"
   ]
  },
  {
   "cell_type": "code",
   "execution_count": 45,
   "id": "6d81a4e0",
   "metadata": {},
   "outputs": [
    {
     "name": "stdout",
     "output_type": "stream",
     "text": [
      "Enter the number 3256\n",
      "Reversed Number: 6523\n"
     ]
    }
   ],
   "source": [
    "num =int(input(\"Enter the number \"))\n",
    "rev = 0\n",
    "while num != 0:\n",
    "    digit = num % 10\n",
    "    rev = rev * 10 + digit\n",
    "    num //= 10\n",
    "print(\"Reversed Number: \" + str(rev))"
   ]
  },
  {
   "cell_type": "code",
   "execution_count": 46,
   "id": "3424a445",
   "metadata": {},
   "outputs": [
    {
     "name": "stdout",
     "output_type": "stream",
     "text": [
      "Enter the number 432\n",
      "234\n"
     ]
    }
   ],
   "source": [
    "num =int(input(\"Enter the number \"))\n",
    "print(str(num)[::-1])"
   ]
  },
  {
   "cell_type": "code",
   "execution_count": 47,
   "id": "c2e3c4b0",
   "metadata": {},
   "outputs": [
    {
     "name": "stdout",
     "output_type": "stream",
     "text": [
      "Python is easy\n"
     ]
    }
   ],
   "source": [
    "mystr= \"python is easy\"\n",
    "print(mystr[0].upper() + mystr[1:])"
   ]
  },
  {
   "cell_type": "code",
   "execution_count": 48,
   "id": "2efb7b90",
   "metadata": {},
   "outputs": [
    {
     "name": "stdout",
     "output_type": "stream",
     "text": [
      "Python is open source and freeware\n"
     ]
    }
   ],
   "source": [
    "mystr1= \"python is open source and freeware\"\n",
    "capst= mystr1.capitalize()\n",
    "print(capst)"
   ]
  },
  {
   "cell_type": "code",
   "execution_count": 49,
   "id": "1d85129f",
   "metadata": {},
   "outputs": [
    {
     "name": "stdout",
     "output_type": "stream",
     "text": [
      "Enter the number: 4572\n",
      "Number of digits: 4\n"
     ]
    }
   ],
   "source": [
    "num =int(input(\"Enter the number: \"))\n",
    "count = 0\n",
    "while num != 0:\n",
    "    num //= 10\n",
    "    count += 1\n",
    "print(\"Number of digits: \" + str(count))"
   ]
  },
  {
   "cell_type": "code",
   "execution_count": 52,
   "id": "34e3a768",
   "metadata": {},
   "outputs": [
    {
     "name": "stdout",
     "output_type": "stream",
     "text": [
      "Enter the base value = 4\n",
      "Enter the exponent value =3\n",
      "Answer is = 64\n"
     ]
    }
   ],
   "source": [
    "base =int(input(\"Enter the base value = \"))\n",
    "exponent =int(input(\"Enter the exponent value =\"))\n",
    "result = 1\n",
    "while exponent != 0:\n",
    "    result *= base\n",
    "    exponent-=1\n",
    "print(\"Answer is = \" + str(result))"
   ]
  },
  {
   "cell_type": "code",
   "execution_count": 53,
   "id": "420f09c3",
   "metadata": {},
   "outputs": [
    {
     "name": "stdout",
     "output_type": "stream",
     "text": [
      "Enter the base value: 4\n",
      "Enter the exponent value: 3\n",
      "Answer = 64\n"
     ]
    }
   ],
   "source": [
    "base =int(input(\"Enter the base value: \"))\n",
    "exponent =int(input(\"Enter the exponent value: \"))\n",
    "result = 1\n",
    "for exponent in range(exponent, 0, -1):\n",
    "    result *= base\n",
    "print(\"Answer = \" + str(result))"
   ]
  },
  {
   "cell_type": "code",
   "execution_count": 56,
   "id": "d2090f0d",
   "metadata": {},
   "outputs": [
    {
     "name": "stdout",
     "output_type": "stream",
     "text": [
      "Answer = 0.015625\n"
     ]
    }
   ],
   "source": [
    "base = 4\n",
    "expo = -3\n",
    "result = pow(base, expo)\n",
    "print(\"Answer = \" + str(result))"
   ]
  },
  {
   "cell_type": "code",
   "execution_count": 60,
   "id": "d0332255",
   "metadata": {},
   "outputs": [
    {
     "name": "stdout",
     "output_type": "stream",
     "text": [
      "C:\\Users\\Admin\n",
      "C:\\Users\\Admin\n"
     ]
    }
   ],
   "source": [
    "import os\n",
    "print(os.path.dirname(os.path.abspath(\"Data.txt\")))\n",
    "print(os.path.abspath(os.getcwd()))"
   ]
  },
  {
   "cell_type": "code",
   "execution_count": 59,
   "id": "f01c6c57",
   "metadata": {},
   "outputs": [
    {
     "name": "stdout",
     "output_type": "stream",
     "text": [
      "C:\\Users\\Admin\n",
      "C:\\Users\\Admin\n"
     ]
    }
   ],
   "source": [
    "import pathlib\n",
    "print(pathlib.Path(\"Data1.txt\").parent.absolute())\n",
    "print(pathlib.Path().absolute())"
   ]
  },
  {
   "cell_type": "code",
   "execution_count": 64,
   "id": "bdaddeea",
   "metadata": {},
   "outputs": [],
   "source": [
    "import os\n",
    "for root, dirs, files in os.walk(\"my_dir\"):\n",
    "    for file in files:\n",
    "        if file.endswith(\".txt\"):\n",
    "            print(file)"
   ]
  },
  {
   "cell_type": "code",
   "execution_count": 66,
   "id": "70f23ce6",
   "metadata": {},
   "outputs": [
    {
     "ename": "FileNotFoundError",
     "evalue": "[WinError 3] The system cannot find the path specified: 'mydir'",
     "output_type": "error",
     "traceback": [
      "\u001b[1;31m---------------------------------------------------------------------------\u001b[0m",
      "\u001b[1;31mFileNotFoundError\u001b[0m                         Traceback (most recent call last)",
      "Input \u001b[1;32mIn [66]\u001b[0m, in \u001b[0;36m<cell line: 2>\u001b[1;34m()\u001b[0m\n\u001b[0;32m      1\u001b[0m \u001b[38;5;28;01mimport\u001b[39;00m \u001b[38;5;21;01mos\u001b[39;00m\n\u001b[1;32m----> 2\u001b[0m \u001b[38;5;28;01mfor\u001b[39;00m file \u001b[38;5;129;01min\u001b[39;00m \u001b[43mos\u001b[49m\u001b[38;5;241;43m.\u001b[39;49m\u001b[43mlistdir\u001b[49m\u001b[43m(\u001b[49m\u001b[38;5;124;43m\"\u001b[39;49m\u001b[38;5;124;43mmydir\u001b[39;49m\u001b[38;5;124;43m\"\u001b[39;49m\u001b[43m)\u001b[49m:\n\u001b[0;32m      3\u001b[0m     \u001b[38;5;28;01mif\u001b[39;00m file\u001b[38;5;241m.\u001b[39mendswith(\u001b[38;5;124m\"\u001b[39m\u001b[38;5;124m.txt\u001b[39m\u001b[38;5;124m\"\u001b[39m):\n\u001b[0;32m      4\u001b[0m         \u001b[38;5;28mprint\u001b[39m(file)\n",
      "\u001b[1;31mFileNotFoundError\u001b[0m: [WinError 3] The system cannot find the path specified: 'mydir'"
     ]
    }
   ],
   "source": [
    "import os\n",
    "for file in os.listdir(\"mydir\"):\n",
    "    if file.endswith(\".txt\"):\n",
    "        print(file)"
   ]
  },
  {
   "cell_type": "code",
   "execution_count": 67,
   "id": "385bdfa7",
   "metadata": {},
   "outputs": [
    {
     "ename": "FileNotFoundError",
     "evalue": "[WinError 2] The system cannot find the file specified: 'my_dir'",
     "output_type": "error",
     "traceback": [
      "\u001b[1;31m---------------------------------------------------------------------------\u001b[0m",
      "\u001b[1;31mFileNotFoundError\u001b[0m                         Traceback (most recent call last)",
      "Input \u001b[1;32mIn [67]\u001b[0m, in \u001b[0;36m<cell line: 2>\u001b[1;34m()\u001b[0m\n\u001b[0;32m      1\u001b[0m \u001b[38;5;28;01mimport\u001b[39;00m \u001b[38;5;21;01mglob\u001b[39;00m\u001b[38;5;241m,\u001b[39m \u001b[38;5;21;01mos\u001b[39;00m\n\u001b[1;32m----> 2\u001b[0m \u001b[43mos\u001b[49m\u001b[38;5;241;43m.\u001b[39;49m\u001b[43mchdir\u001b[49m\u001b[43m(\u001b[49m\u001b[38;5;124;43m\"\u001b[39;49m\u001b[38;5;124;43mmy_dir\u001b[39;49m\u001b[38;5;124;43m\"\u001b[39;49m\u001b[43m)\u001b[49m\n\u001b[0;32m      3\u001b[0m \u001b[38;5;28;01mfor\u001b[39;00m file \u001b[38;5;129;01min\u001b[39;00m glob\u001b[38;5;241m.\u001b[39mglob(\u001b[38;5;124m\"\u001b[39m\u001b[38;5;124m*.txt\u001b[39m\u001b[38;5;124m\"\u001b[39m):\n\u001b[0;32m      4\u001b[0m     \u001b[38;5;28mprint\u001b[39m(file)\n",
      "\u001b[1;31mFileNotFoundError\u001b[0m: [WinError 2] The system cannot find the file specified: 'my_dir'"
     ]
    }
   ],
   "source": [
    "import glob, os\n",
    "os.chdir(\"my_dir\")\n",
    "for file in glob.glob(\"*.txt\"):\n",
    "    print(file)"
   ]
  }
 ],
 "metadata": {
  "kernelspec": {
   "display_name": "Python 3 (ipykernel)",
   "language": "python",
   "name": "python3"
  },
  "language_info": {
   "codemirror_mode": {
    "name": "ipython",
    "version": 3
   },
   "file_extension": ".py",
   "mimetype": "text/x-python",
   "name": "python",
   "nbconvert_exporter": "python",
   "pygments_lexer": "ipython3",
   "version": "3.9.12"
  }
 },
 "nbformat": 4,
 "nbformat_minor": 5
}
