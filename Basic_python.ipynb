{
 "cells": [
  {
   "cell_type": "code",
   "execution_count": 1,
   "id": "941a93de",
   "metadata": {},
   "outputs": [
    {
     "name": "stdout",
     "output_type": "stream",
     "text": [
      "Your first nameSunil\n",
      "Your last nameZambre\n",
      "Hello Zambre Sunil\n"
     ]
    }
   ],
   "source": [
    "fname=input(\"Your first name\")\n",
    "lname=input(\"Your last name\")\n",
    "print(\"Hello \" +lname+\" \"+fname)"
   ]
  },
  {
   "cell_type": "code",
   "execution_count": 2,
   "id": "1029cf4b",
   "metadata": {},
   "outputs": [
    {
     "name": "stdout",
     "output_type": "stream",
     "text": [
      "Some comma separated number1,2,3,4,5,6,7,8,9,10\n",
      "List:  ['1', '2', '3', '4', '5', '6', '7', '8', '9', '10']\n",
      "Tuple:  ('1', '2', '3', '4', '5', '6', '7', '8', '9', '10')\n"
     ]
    }
   ],
   "source": [
    "values=input(\"Some comma separated number\")\n",
    "list=values.split(\",\")\n",
    "tuple=tuple(list)\n",
    "print('List: ',list)\n",
    "print('Tuple: ',tuple)"
   ]
  },
  {
   "cell_type": "code",
   "execution_count": 3,
   "id": "842a3bff",
   "metadata": {},
   "outputs": [
    {
     "name": "stdout",
     "output_type": "stream",
     "text": [
      "Red Black\n"
     ]
    }
   ],
   "source": [
    "color_list=[\"Red\",\"Green\",\"White\",\"Black\"]\n",
    "print(\"%s %s\"%(color_list[0],color_list[-1]))"
   ]
  },
  {
   "cell_type": "code",
   "execution_count": 4,
   "id": "67e525a4",
   "metadata": {},
   "outputs": [
    {
     "name": "stdout",
     "output_type": "stream",
     "text": [
      "The exam will start from : 1 / 3 / 2023\n"
     ]
    }
   ],
   "source": [
    "exam_date=(1,3,2023)\n",
    "print(\"The exam will start from : %i / %i / %i\"%exam_date)"
   ]
  },
  {
   "cell_type": "code",
   "execution_count": 5,
   "id": "53f5fab3",
   "metadata": {},
   "outputs": [
    {
     "name": "stdout",
     "output_type": "stream",
     "text": [
      "Enter an integer: 5\n",
      "615\n"
     ]
    }
   ],
   "source": [
    "a = int(input(\"Enter an integer: \"))\n",
    "\n",
    "n1 = a\n",
    "n2 = int(str(a) * 2)\n",
    "n3 = int(str(a) * 3)\n",
    "\n",
    "\n",
    "total = n1 + n2 + n3\n",
    "print(total)"
   ]
  },
  {
   "cell_type": "code",
   "execution_count": 6,
   "id": "37483fdd",
   "metadata": {},
   "outputs": [
    {
     "name": "stdout",
     "output_type": "stream",
     "text": [
      "Input the year: 2023\n",
      "Input the month: 3\n",
      "     March 2023\n",
      "Mo Tu We Th Fr Sa Su\n",
      "       1  2  3  4  5\n",
      " 6  7  8  9 10 11 12\n",
      "13 14 15 16 17 18 19\n",
      "20 21 22 23 24 25 26\n",
      "27 28 29 30 31\n",
      "\n"
     ]
    }
   ],
   "source": [
    "import calendar\n",
    "y=int(input(\"Input the year: \"))\n",
    "m=int(input(\"Input the month: \"))\n",
    "print(calendar.month(y,m))"
   ]
  },
  {
   "cell_type": "code",
   "execution_count": 7,
   "id": "eeac5c8a",
   "metadata": {},
   "outputs": [
    {
     "name": "stdout",
     "output_type": "stream",
     "text": [
      "35\n"
     ]
    }
   ],
   "source": [
    "from datetime import date\n",
    "f_date=date(2023,2,2)\n",
    "l_date=date(2023,3,9)\n",
    "num=l_date - f_date\n",
    "print(num.days)"
   ]
  },
  {
   "cell_type": "code",
   "execution_count": 8,
   "id": "286c5ce4",
   "metadata": {},
   "outputs": [
    {
     "name": "stdout",
     "output_type": "stream",
     "text": [
      "The volume of sphere is  904.3199999999999\n"
     ]
    }
   ],
   "source": [
    "pi=3.14\n",
    "r=6.0\n",
    "v=4.0/3.0 * pi * r**3\n",
    "print(\"The volume of sphere is \",v)"
   ]
  },
  {
   "cell_type": "code",
   "execution_count": 9,
   "id": "cb0a0720",
   "metadata": {},
   "outputs": [
    {
     "name": "stdout",
     "output_type": "stream",
     "text": [
      "True\n",
      "False\n"
     ]
    }
   ],
   "source": [
    "def check(n):\n",
    "    return ((abs(1000-n)<=100) or abs(2000-n)<=100)\n",
    "print(check(900))\n",
    "print(check(899))"
   ]
  },
  {
   "cell_type": "code",
   "execution_count": 10,
   "id": "404e7c16",
   "metadata": {},
   "outputs": [
    {
     "name": "stdout",
     "output_type": "stream",
     "text": [
      "6\n",
      "27\n"
     ]
    }
   ],
   "source": [
    "def sum_thrice(x,y,z):\n",
    "    sum = x + y + z\n",
    "    if x == y == z:\n",
    "        sum=sum *3\n",
    "    return sum\n",
    "print(sum_thrice(1,2,3))\n",
    "print(sum_thrice(3,3,3))"
   ]
  },
  {
   "cell_type": "code",
   "execution_count": 11,
   "id": "ad9223e3",
   "metadata": {},
   "outputs": [
    {
     "name": "stdout",
     "output_type": "stream",
     "text": [
      " HelloHello\n",
      " .py.py.py\n"
     ]
    }
   ],
   "source": [
    "def large_string(str,n):\n",
    "    result=\" \"\n",
    "    for i in range(n):\n",
    "        result= result + str\n",
    "    return result\n",
    "print(large_string('Hello',2))\n",
    "print(large_string('.py',3))"
   ]
  },
  {
   "cell_type": "code",
   "execution_count": 12,
   "id": "19824f49",
   "metadata": {},
   "outputs": [
    {
     "name": "stdout",
     "output_type": "stream",
     "text": [
      "Enter a number7\n",
      "This is an odd number \n"
     ]
    }
   ],
   "source": [
    "num=int(input(\"Enter a number\"))\n",
    "mod=num%2\n",
    "if mod > 0:\n",
    "    print(\"This is an odd number \")\n",
    "else:\n",
    "    print(\"This is an even number\")\n"
   ]
  },
  {
   "cell_type": "code",
   "execution_count": 13,
   "id": "d44da316",
   "metadata": {},
   "outputs": [
    {
     "name": "stdout",
     "output_type": "stream",
     "text": [
      "2\n",
      "3\n"
     ]
    }
   ],
   "source": [
    "def list_count(nums):\n",
    "    count = 0\n",
    "    for num in nums:\n",
    "        if num == 4:\n",
    "            count = count + 1\n",
    "    return count\n",
    "print(list_count([1,2,3,5,4,7,4]))\n",
    "print(list_count([5,2,4,5,4,7,4]))"
   ]
  },
  {
   "cell_type": "code",
   "execution_count": 14,
   "id": "526da3be",
   "metadata": {},
   "outputs": [
    {
     "name": "stdout",
     "output_type": "stream",
     "text": [
      "Enter the value for base:12\n",
      "Enter the value for height5\n",
      "Area =  30.0\n"
     ]
    }
   ],
   "source": [
    "a=int(input(\"Enter the value for base:\"))\n",
    "b=int(input(\"Enter the value for height\"))\n",
    "\n",
    "area = a * b / 2\n",
    "\n",
    "print(\"Area = \",area)"
   ]
  },
  {
   "cell_type": "code",
   "execution_count": 15,
   "id": "76d492ba",
   "metadata": {},
   "outputs": [
    {
     "name": "stdout",
     "output_type": "stream",
     "text": [
      "0\n",
      "0\n",
      "0\n",
      "6\n"
     ]
    }
   ],
   "source": [
    "def sum(x,y,z):\n",
    "    if x==y or y==z or x==z:\n",
    "        sum=0\n",
    "    else:\n",
    "        sum=x+y+z\n",
    "    return sum\n",
    "print(sum(2,1,2))\n",
    "print(sum(3,2,2))\n",
    "print(sum(2,2,2))\n",
    "print(sum(1,2,3))"
   ]
  },
  {
   "cell_type": "code",
   "execution_count": 16,
   "id": "ef2c3377",
   "metadata": {},
   "outputs": [
    {
     "name": "stdout",
     "output_type": "stream",
     "text": [
      "20\n",
      "12\n",
      "22\n"
     ]
    }
   ],
   "source": [
    "def sum(x,y):\n",
    "    sum=x+y\n",
    "    if sum in range(15,20):\n",
    "        return 20\n",
    "    else:\n",
    "        return sum\n",
    "print(sum(10,6))\n",
    "print(sum(10,2))\n",
    "print(sum(10,12))\n"
   ]
  },
  {
   "cell_type": "code",
   "execution_count": 17,
   "id": "6a7a40e6",
   "metadata": {},
   "outputs": [
    {
     "name": "stdout",
     "output_type": "stream",
     "text": [
      "True\n",
      "True\n",
      "True\n"
     ]
    }
   ],
   "source": [
    "def test_num(x,y):\n",
    "    if x==y or abs(x-y)==5 or (x+y)==5:\n",
    "        return True\n",
    "    else:\n",
    "        return False\n",
    "print(test_num(7,2))\n",
    "print(test_num(3,2))\n",
    "print(test_num(2,2))"
   ]
  },
  {
   "cell_type": "code",
   "execution_count": 18,
   "id": "fae1612e",
   "metadata": {},
   "outputs": [
    {
     "name": "stdout",
     "output_type": "stream",
     "text": [
      "Name: Sunil\n",
      "age:37\n",
      "Adress:Tasgaon,Maharashtra,India\n"
     ]
    }
   ],
   "source": [
    "def personal_detail():\n",
    "    name,age=\"Sunil\",37\n",
    "    address=\"Tasgaon,Maharashtra,India\"\n",
    "    print(\"Name: {}\\nage:{}\\nAdress:{}\".format(name,age,address))\n",
    "personal_detail()  "
   ]
  },
  {
   "cell_type": "code",
   "execution_count": 21,
   "id": "4816c30b",
   "metadata": {},
   "outputs": [
    {
     "name": "stdout",
     "output_type": "stream",
     "text": [
      "(4 + 3 )^2= 49\n"
     ]
    }
   ],
   "source": [
    "x,y = 4,3\n",
    "result=x * x + 2 * x * y + y * y\n",
    "print(\"({} + {} )^2= {}\".format(x,y,result))"
   ]
  }
 ],
 "metadata": {
  "kernelspec": {
   "display_name": "Python 3 (ipykernel)",
   "language": "python",
   "name": "python3"
  },
  "language_info": {
   "codemirror_mode": {
    "name": "ipython",
    "version": 3
   },
   "file_extension": ".py",
   "mimetype": "text/x-python",
   "name": "python",
   "nbconvert_exporter": "python",
   "pygments_lexer": "ipython3",
   "version": "3.9.12"
  }
 },
 "nbformat": 4,
 "nbformat_minor": 5
}
