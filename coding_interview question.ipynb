{
 "cells": [
  {
   "cell_type": "code",
   "execution_count": 1,
   "id": "505eb080",
   "metadata": {},
   "outputs": [
    {
     "name": "stdout",
     "output_type": "stream",
     "text": [
      "Enter a value: 5\n",
      "5 is prime\n"
     ]
    }
   ],
   "source": [
    "num=int(input(\"Enter a value: \"))\n",
    "is_prime= num > 0 and all (num % i !=0 for i in range(2,int(num**0.5)+1))\n",
    "print(num,\"is prime\" if is_prime else \"not prime\")"
   ]
  },
  {
   "cell_type": "code",
   "execution_count": 2,
   "id": "cec15a5d",
   "metadata": {},
   "outputs": [
    {
     "name": "stdout",
     "output_type": "stream",
     "text": [
      "Enter a number: 12345\n",
      "The reverse number is:  54321\n"
     ]
    }
   ],
   "source": [
    "num=int(input(\"Enter a number: \"))\n",
    "rev=0\n",
    "while num > 0:\n",
    "    digit=num % 10\n",
    "    rev = rev * 10 + digit\n",
    "    num = num // 10\n",
    "print(\"The reverse number is: \",rev)"
   ]
  },
  {
   "cell_type": "code",
   "execution_count": 3,
   "id": "1afa982d",
   "metadata": {},
   "outputs": [
    {
     "name": "stdout",
     "output_type": "stream",
     "text": [
      "Enter a number:121\n",
      "Number is palindrome\n"
     ]
    }
   ],
   "source": [
    "num=int(input(\"Enter a number:\"))\n",
    "temp=num\n",
    "rev=0\n",
    "while num !=0 :\n",
    "    dig=num % 10\n",
    "    rev = rev * 10 + dig\n",
    "    num = num // 10\n",
    "if temp==rev:\n",
    "    print(\"Number is palindrome\")\n",
    "else:\n",
    "    print(\"Number is not palindrome\")"
   ]
  },
  {
   "cell_type": "code",
   "execution_count": 4,
   "id": "b1fb16ff",
   "metadata": {},
   "outputs": [
    {
     "name": "stdout",
     "output_type": "stream",
     "text": [
      "Enter an integer:5\n",
      "The factorial of given number  5 is 120\n"
     ]
    }
   ],
   "source": [
    "num=int(input(\"Enter an integer:\"))\n",
    "fact = 1\n",
    "for i in range(1,num + 1):\n",
    "    fact = fact * i\n",
    "print(\"The factorial of given number \",num,\"is\",fact)"
   ]
  },
  {
   "cell_type": "code",
   "execution_count": 5,
   "id": "fb3da222",
   "metadata": {},
   "outputs": [
    {
     "name": "stdout",
     "output_type": "stream",
     "text": [
      "1 1 2 3 5 8 13 21 34 55 89 \n",
      "This is fobonaci series...!\n"
     ]
    }
   ],
   "source": [
    "a, b =0, 1\n",
    "while b < 100:\n",
    "    print(b,end=\" \")\n",
    "    a,b=b, a+b\n",
    "print(\"\\nThis is fobonaci series...!\")"
   ]
  },
  {
   "cell_type": "code",
   "execution_count": 6,
   "id": "0482b1af",
   "metadata": {},
   "outputs": [
    {
     "name": "stdout",
     "output_type": "stream",
     "text": [
      "0 1 1 2 3 5 8 13 21 34 \n",
      "This is fobonaci series...!\n"
     ]
    }
   ],
   "source": [
    "a,b = 0, 1\n",
    "for i in range(10):\n",
    "    print(a,end=\" \")\n",
    "    a,b=b, a + b\n",
    "print(\"\\nThis is fobonaci series...!\")"
   ]
  },
  {
   "cell_type": "code",
   "execution_count": 7,
   "id": "ca4a94cd",
   "metadata": {},
   "outputs": [
    {
     "name": "stdout",
     "output_type": "stream",
     "text": [
      "Enter a year:2020\n",
      "Leap year\n"
     ]
    }
   ],
   "source": [
    "year=int(input(\"Enter a year:\"))\n",
    "if year % 4 ==0 and (year % 100 !=0 or year % 400 ==0):\n",
    "    print(\"Leap year\")\n",
    "else:\n",
    "    print(\"Not leap year\")"
   ]
  },
  {
   "cell_type": "code",
   "execution_count": 8,
   "id": "7d35be91",
   "metadata": {},
   "outputs": [
    {
     "name": "stdout",
     "output_type": "stream",
     "text": [
      "The final result is:  [5, 7, 9]\n"
     ]
    }
   ],
   "source": [
    "list1=[1,2,3]\n",
    "list2=[4,5,6]\n",
    "result=[]\n",
    "for i in range(len(list1)):\n",
    "    result.append(list1[i] + list2[i])\n",
    "print(\"The final result is: \", result)"
   ]
  },
  {
   "cell_type": "code",
   "execution_count": 9,
   "id": "7dd7ffb4",
   "metadata": {},
   "outputs": [
    {
     "name": "stdout",
     "output_type": "stream",
     "text": [
      "Using zip function:  [5, 7, 9]\n"
     ]
    }
   ],
   "source": [
    "result=[(x + y) for x, y in zip(list1,list2)]\n",
    "print(\"Using zip function: \", result)"
   ]
  },
  {
   "cell_type": "code",
   "execution_count": 10,
   "id": "0caf82f7",
   "metadata": {},
   "outputs": [
    {
     "name": "stdout",
     "output_type": "stream",
     "text": [
      "Enter a string:NITIN\n",
      "String is palindrome\n"
     ]
    }
   ],
   "source": [
    "string=input(\"Enter a string:\")\n",
    "if string==string[::-1]:\n",
    "    print(\"String is palindrome\")\n",
    "else:\n",
    "    print(\"String is palindrome\")"
   ]
  }
 ],
 "metadata": {
  "kernelspec": {
   "display_name": "Python 3 (ipykernel)",
   "language": "python",
   "name": "python3"
  },
  "language_info": {
   "codemirror_mode": {
    "name": "ipython",
    "version": 3
   },
   "file_extension": ".py",
   "mimetype": "text/x-python",
   "name": "python",
   "nbconvert_exporter": "python",
   "pygments_lexer": "ipython3",
   "version": "3.9.12"
  }
 },
 "nbformat": 4,
 "nbformat_minor": 5
}
