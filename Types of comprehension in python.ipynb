{
 "cells": [
  {
   "cell_type": "markdown",
   "id": "be1ef4da",
   "metadata": {},
   "source": [
    "# List comprehension"
   ]
  },
  {
   "cell_type": "code",
   "execution_count": 1,
   "id": "ce27676c",
   "metadata": {},
   "outputs": [
    {
     "name": "stdout",
     "output_type": "stream",
     "text": [
      "List Comprehenstion output:  [0, 4, 16, 36, 64]\n"
     ]
    }
   ],
   "source": [
    "# generates a list of the squares of even numbers from 0 to 9, using a list comprehension.\n",
    "sqr_num = [x**2 for x in range(10) if x % 2 == 0]\n",
    "print(\"List Comprehenstion output: \",sqr_num)"
   ]
  },
  {
   "cell_type": "code",
   "execution_count": 2,
   "id": "45d8def7",
   "metadata": {},
   "outputs": [
    {
     "name": "stdout",
     "output_type": "stream",
     "text": [
      "[0, 1, 8, 27, 64, 125, 216, 343, 512, 729]\n"
     ]
    }
   ],
   "source": [
    "cube_num=[x**3 for x in range(10)]\n",
    "print(cube_num)"
   ]
  },
  {
   "cell_type": "code",
   "execution_count": 3,
   "id": "39c86bd9",
   "metadata": {},
   "outputs": [
    {
     "name": "stdout",
     "output_type": "stream",
     "text": [
      "[2, 3, 4]\n"
     ]
    }
   ],
   "source": [
    "add=[x+1 for x in [1,2,3]]\n",
    "print(add)"
   ]
  },
  {
   "cell_type": "code",
   "execution_count": 4,
   "id": "33be8b16",
   "metadata": {},
   "outputs": [
    {
     "name": "stdout",
     "output_type": "stream",
     "text": [
      "Enter a list of numbers separated by spaces: 1 2 3 4 5 \n",
      "List of numbers: [1, 2, 3, 4, 5]\n"
     ]
    }
   ],
   "source": [
    "user_input = input(\"Enter a list of numbers separated by spaces: \")\n",
    "numbers = [int(num) for num in user_input.split()]\n",
    "print(\"List of numbers:\", numbers)"
   ]
  },
  {
   "cell_type": "markdown",
   "id": "a0e9e5d1",
   "metadata": {},
   "source": [
    "# Tuple comprehension"
   ]
  },
  {
   "cell_type": "code",
   "execution_count": 5,
   "id": "8833ec07",
   "metadata": {},
   "outputs": [
    {
     "name": "stdout",
     "output_type": "stream",
     "text": [
      "<generator object <genexpr> at 0x00000218B7B97200>\n"
     ]
    }
   ],
   "source": [
    "# generates a tuple of the squares of even numbers from 0 to 9, using a tuple comprehension.\n",
    "sq_num = (x**2 for x in range(10) if x % 2 == 0)\n",
    "print(sq_num)"
   ]
  },
  {
   "cell_type": "code",
   "execution_count": 6,
   "id": "78529b88",
   "metadata": {},
   "outputs": [
    {
     "name": "stdout",
     "output_type": "stream",
     "text": [
      "(0, 4, 16, 36, 64)\n"
     ]
    }
   ],
   "source": [
    "sq_num = tuple(x**2 for x in range(10) if x % 2 == 0)\n",
    "print(sq_num)"
   ]
  },
  {
   "cell_type": "code",
   "execution_count": 7,
   "id": "b5f2a6e1",
   "metadata": {},
   "outputs": [
    {
     "name": "stdout",
     "output_type": "stream",
     "text": [
      "(9, 19, 29, 39)\n"
     ]
    }
   ],
   "source": [
    "sub=tuple(x-1 for x in [10,20,30,40])\n",
    "print(sub)"
   ]
  },
  {
   "cell_type": "markdown",
   "id": "6f53c5bc",
   "metadata": {},
   "source": [
    "# Set comprehension"
   ]
  },
  {
   "cell_type": "code",
   "execution_count": 8,
   "id": "9d1047f9",
   "metadata": {},
   "outputs": [
    {
     "name": "stdout",
     "output_type": "stream",
     "text": [
      "{0, 64, 4, 36, 16}\n"
     ]
    }
   ],
   "source": [
    "#generates a set of the squares of even numbers from 0 to 9, using a set comprehension.\n",
    "square_num = {x**2 for x in range(10) if x % 2 == 0}\n",
    "print(square_num)"
   ]
  },
  {
   "cell_type": "code",
   "execution_count": 9,
   "id": "1340e110",
   "metadata": {},
   "outputs": [
    {
     "name": "stdout",
     "output_type": "stream",
     "text": [
      "Uppercase letters: {'H', 'W'}\n"
     ]
    }
   ],
   "source": [
    "#generates a set of all uppercase letters in a string.\n",
    "string = \"Hello World!\"\n",
    "uppercase_letters = {char for char in string if char.isupper()}\n",
    "print(\"Uppercase letters:\", uppercase_letters)"
   ]
  },
  {
   "cell_type": "code",
   "execution_count": 10,
   "id": "2776691d",
   "metadata": {},
   "outputs": [
    {
     "name": "stdout",
     "output_type": "stream",
     "text": [
      "Enter the word in UPPER CASE :SUNIL ZAMBARE\n",
      "Uppercase letters in the given word: {'Z', 'M', 'E', 'R', 'I', 'U', 'A', 'L', 'S', 'N', 'B'}\n"
     ]
    }
   ],
   "source": [
    "user_input=input(\"Enter the word in UPPER CASE :\")\n",
    "upper={char for char in user_input if char.isupper()}\n",
    "print(\"Uppercase letters in the given word:\",upper)"
   ]
  },
  {
   "cell_type": "code",
   "execution_count": 11,
   "id": "098d4c69",
   "metadata": {},
   "outputs": [
    {
     "name": "stdout",
     "output_type": "stream",
     "text": [
      "Enter the word in Lower Case :mauli park shindewadi\n",
      "Lower case letters in the given word: ['a', 'd', 'e', 'h', 'i', 'k', 'l', 'm', 'n', 'p', 'r', 's', 'u', 'w']\n"
     ]
    }
   ],
   "source": [
    "user_input=input(\"Enter the word in Lower Case :\")\n",
    "lower=sorted({char for char in user_input if char.islower()})\n",
    "print(\"Lower case letters in the given word:\",lower)"
   ]
  },
  {
   "cell_type": "markdown",
   "id": "25f4c75a",
   "metadata": {},
   "source": [
    "# Dictionary comprehension"
   ]
  },
  {
   "cell_type": "code",
   "execution_count": 12,
   "id": "745d2e43",
   "metadata": {},
   "outputs": [
    {
     "name": "stdout",
     "output_type": "stream",
     "text": [
      "{0: 0, 2: 4, 4: 16, 6: 36, 8: 64}\n"
     ]
    }
   ],
   "source": [
    "#generates a dictionary where the keys are even numbers from 0 to 9,values are their squares, using a dictionary comprehension.\n",
    "squared_num = {x: x**2 for x in range(10) if x % 2 == 0}\n",
    "print(squared_num)"
   ]
  },
  {
   "cell_type": "code",
   "execution_count": 13,
   "id": "6a5f7581",
   "metadata": {},
   "outputs": [
    {
     "name": "stdout",
     "output_type": "stream",
     "text": [
      "{1: 1, 3: 27, 5: 125}\n"
     ]
    }
   ],
   "source": [
    "st={ x : x**3 for x in [1,2,3,4,5] if x % 2 !=0}\n",
    "print(st)"
   ]
  },
  {
   "cell_type": "code",
   "execution_count": 14,
   "id": "bcfa7ee2",
   "metadata": {},
   "outputs": [
    {
     "name": "stdout",
     "output_type": "stream",
     "text": [
      "Enter the stringGood Afternoon\n",
      "{'G': 'G', 'o': 'o', 'd': 'd', ' ': ' ', 'A': 'A', 'f': 'f', 't': 't', 'e': 'e', 'r': 'r', 'n': 'n'}\n"
     ]
    }
   ],
   "source": [
    "usr_inp=input(\"Enter the string\")\n",
    "ch={ char : char for char in usr_inp}\n",
    "print(ch)"
   ]
  }
 ],
 "metadata": {
  "kernelspec": {
   "display_name": "Python 3 (ipykernel)",
   "language": "python",
   "name": "python3"
  },
  "language_info": {
   "codemirror_mode": {
    "name": "ipython",
    "version": 3
   },
   "file_extension": ".py",
   "mimetype": "text/x-python",
   "name": "python",
   "nbconvert_exporter": "python",
   "pygments_lexer": "ipython3",
   "version": "3.9.12"
  }
 },
 "nbformat": 4,
 "nbformat_minor": 5
}
