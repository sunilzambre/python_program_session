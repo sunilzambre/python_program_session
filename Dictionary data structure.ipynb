{
 "cells": [
  {
   "cell_type": "markdown",
   "id": "84ab4da6",
   "metadata": {},
   "source": [
    "# A dictionary in Python is an unordered collection of key-value pairs, where each key is unique. You can create a dictionary using curly braces {} with the keys and values separated by colons :"
   ]
  },
  {
   "cell_type": "code",
   "execution_count": 1,
   "id": "0eb9417f",
   "metadata": {},
   "outputs": [
    {
     "name": "stdout",
     "output_type": "stream",
     "text": [
      "{}\n"
     ]
    }
   ],
   "source": [
    "#How to create empty dictionary\n",
    "dictionary={}\n",
    "print(dictionary)"
   ]
  },
  {
   "cell_type": "code",
   "execution_count": 2,
   "id": "093ffbe0",
   "metadata": {},
   "outputs": [
    {
     "name": "stdout",
     "output_type": "stream",
     "text": [
      "{}\n"
     ]
    }
   ],
   "source": [
    "d=dict()\n",
    "print(d)"
   ]
  },
  {
   "cell_type": "code",
   "execution_count": 3,
   "id": "96c108f1",
   "metadata": {},
   "outputs": [
    {
     "data": {
      "text/plain": [
       "dict"
      ]
     },
     "execution_count": 3,
     "metadata": {},
     "output_type": "execute_result"
    }
   ],
   "source": [
    "#to check the type \n",
    "type(d)"
   ]
  },
  {
   "cell_type": "code",
   "execution_count": 4,
   "id": "31147b16",
   "metadata": {},
   "outputs": [
    {
     "data": {
      "text/plain": [
       "1724526888512"
      ]
     },
     "execution_count": 4,
     "metadata": {},
     "output_type": "execute_result"
    }
   ],
   "source": [
    "# to check the address\n",
    "id(d)"
   ]
  },
  {
   "cell_type": "code",
   "execution_count": 5,
   "id": "a3e530c6",
   "metadata": {},
   "outputs": [
    {
     "name": "stdout",
     "output_type": "stream",
     "text": [
      "{100: 'sunil', 200: 'santosh', 300: 'rahul'}\n"
     ]
    }
   ],
   "source": [
    "#Add entries in the dictionary\n",
    "d[100]='sunil'\n",
    "d[200]='santosh'\n",
    "d[300]='rahul'\n",
    "print(d)"
   ]
  },
  {
   "cell_type": "code",
   "execution_count": 6,
   "id": "2c208285",
   "metadata": {},
   "outputs": [
    {
     "name": "stdout",
     "output_type": "stream",
     "text": [
      "{100: 'city', 200: 'main road', 300: 'highway'}\n"
     ]
    }
   ],
   "source": [
    "#we know the data in advance then we create dictionary as follows\n",
    "d={100:'city',200:'main road',300:'highway'}\n",
    "print(d)"
   ]
  },
  {
   "cell_type": "code",
   "execution_count": 7,
   "id": "bdb857ac",
   "metadata": {},
   "outputs": [
    {
     "name": "stdout",
     "output_type": "stream",
     "text": [
      "pune\n",
      "mumbai\n",
      "delhi\n",
      "kolkatta\n",
      "banglore\n"
     ]
    }
   ],
   "source": [
    "#Access the data from dictionary\n",
    "#Acess data by using keys\n",
    "d={1:'pune',2:'mumbai',3:'delhi',4:'kolkatta',5:'banglore'}\n",
    "print(d[1])\n",
    "print(d[2])\n",
    "print(d[3])\n",
    "print(d[4])\n",
    "print(d[5])"
   ]
  },
  {
   "cell_type": "code",
   "execution_count": 8,
   "id": "fff18c7b",
   "metadata": {},
   "outputs": [
    {
     "name": "stdout",
     "output_type": "stream",
     "text": [
      "Addition of two number is 15\n"
     ]
    }
   ],
   "source": [
    "#Addition of two number by using dictionary\n",
    "number={'a':5,'b':10}\n",
    "result=number['a'] + number['b']\n",
    "print(\"Addition of two number is {}\".format(result))"
   ]
  },
  {
   "cell_type": "code",
   "execution_count": 9,
   "id": "f94f182f",
   "metadata": {},
   "outputs": [
    {
     "name": "stdout",
     "output_type": "stream",
     "text": [
      "Enter the number of student:5\n",
      "Enter the student name: Sunil\n",
      "Enter the student marks: 78\n",
      "Enter the student name: Rahul\n",
      "Enter the student marks: 92\n",
      "Enter the student name: Ankush\n",
      "Enter the student marks: 98\n",
      "Enter the student name: Akshay\n",
      "Enter the student marks: 99\n",
      "Enter the student name: Vaibhav\n",
      "Enter the student marks: 87\n",
      "Name of the student  \t % of marks\n",
      "\t Sunil \t\t 78\n",
      "\t Rahul \t\t 92\n",
      "\t Ankush \t\t 98\n",
      "\t Akshay \t\t 99\n",
      "\t Vaibhav \t\t 87\n"
     ]
    }
   ],
   "source": [
    "#programme to enter the name and percentage marks in a dictionary and display information\n",
    "rec={}\n",
    "n=int(input(\"Enter the number of student:\"))\n",
    "i = 1\n",
    "while i <= n:\n",
    "    name=input(\"Enter the student name: \")\n",
    "    marks=int(input(\"Enter the student marks: \"))\n",
    "    rec[name]=marks\n",
    "    i+=1\n",
    "print(\"Name of the student \",\"\\t\",\"% of marks\")\n",
    "for x in rec:\n",
    "      print(\"\\t\",x,\"\\t\\t\",rec[x])"
   ]
  },
  {
   "cell_type": "code",
   "execution_count": 10,
   "id": "851607e6",
   "metadata": {},
   "outputs": [
    {
     "name": "stdout",
     "output_type": "stream",
     "text": [
      "{100: 'ram', 200: 'sunil', 300: 'santosh'}\n"
     ]
    }
   ],
   "source": [
    "#how to update dictionary\n",
    "d={100:'ram',200:'sunil',300:'santosh'}\n",
    "print(d)"
   ]
  },
  {
   "cell_type": "code",
   "execution_count": 11,
   "id": "62c86f72",
   "metadata": {},
   "outputs": [
    {
     "name": "stdout",
     "output_type": "stream",
     "text": [
      "{100: 'ram', 200: 'sunil', 300: 'santosh', 400: 'rahul'}\n"
     ]
    }
   ],
   "source": [
    "d[400]='rahul'\n",
    "print(d)"
   ]
  },
  {
   "cell_type": "code",
   "execution_count": 12,
   "id": "b93c79d6",
   "metadata": {},
   "outputs": [
    {
     "name": "stdout",
     "output_type": "stream",
     "text": [
      "{100: 'sanket', 200: 'sunil', 300: 'santosh', 400: 'rahul'}\n"
     ]
    }
   ],
   "source": [
    "d[100]='sanket'\n",
    "print(d)"
   ]
  },
  {
   "cell_type": "code",
   "execution_count": 13,
   "id": "f721689b",
   "metadata": {},
   "outputs": [
    {
     "name": "stdout",
     "output_type": "stream",
     "text": [
      "{10: 'India', 20: 'Srilanka', 30: 'UK', 40: 'US', 50: 'Canada'}\n"
     ]
    }
   ],
   "source": [
    "#How to delete element from the dictionary\n",
    "dct={10:'India',20:'Srilanka',30:'UK',40:'US',50:'Canada'}\n",
    "print(dct)"
   ]
  },
  {
   "cell_type": "code",
   "execution_count": 14,
   "id": "2e5a5f0a",
   "metadata": {},
   "outputs": [
    {
     "name": "stdout",
     "output_type": "stream",
     "text": [
      "{20: 'Srilanka', 30: 'UK', 40: 'US', 50: 'Canada'}\n"
     ]
    }
   ],
   "source": [
    "del dct[10]\n",
    "print(dct)"
   ]
  },
  {
   "cell_type": "code",
   "execution_count": 15,
   "id": "eb8c42b2",
   "metadata": {},
   "outputs": [],
   "source": [
    "del dct[40]"
   ]
  },
  {
   "cell_type": "code",
   "execution_count": 16,
   "id": "48eaeeca",
   "metadata": {},
   "outputs": [
    {
     "name": "stdout",
     "output_type": "stream",
     "text": [
      "{20: 'Srilanka', 30: 'UK', 50: 'Canada'}\n"
     ]
    }
   ],
   "source": [
    "print(dct)"
   ]
  },
  {
   "cell_type": "code",
   "execution_count": 17,
   "id": "163fffa8",
   "metadata": {},
   "outputs": [],
   "source": [
    "#clear() to remove all the entries from dictionary\n",
    "dct.clear()"
   ]
  },
  {
   "cell_type": "code",
   "execution_count": 18,
   "id": "2a6a9bf0",
   "metadata": {},
   "outputs": [
    {
     "name": "stdout",
     "output_type": "stream",
     "text": [
      "{}\n"
     ]
    }
   ],
   "source": [
    "print(dct)"
   ]
  },
  {
   "cell_type": "code",
   "execution_count": 19,
   "id": "ea0a8e67",
   "metadata": {},
   "outputs": [],
   "source": [
    "del d"
   ]
  },
  {
   "cell_type": "code",
   "execution_count": 20,
   "id": "c82f4aed",
   "metadata": {},
   "outputs": [],
   "source": [
    "del dct"
   ]
  },
  {
   "cell_type": "code",
   "execution_count": 21,
   "id": "dc8969df",
   "metadata": {},
   "outputs": [
    {
     "ename": "NameError",
     "evalue": "name 'dct' is not defined",
     "output_type": "error",
     "traceback": [
      "\u001b[1;31m---------------------------------------------------------------------------\u001b[0m",
      "\u001b[1;31mNameError\u001b[0m                                 Traceback (most recent call last)",
      "Input \u001b[1;32mIn [21]\u001b[0m, in \u001b[0;36m<cell line: 1>\u001b[1;34m()\u001b[0m\n\u001b[1;32m----> 1\u001b[0m \u001b[43mdct\u001b[49m\n",
      "\u001b[1;31mNameError\u001b[0m: name 'dct' is not defined"
     ]
    }
   ],
   "source": [
    "dct"
   ]
  },
  {
   "cell_type": "code",
   "execution_count": 22,
   "id": "afc38887",
   "metadata": {},
   "outputs": [
    {
     "ename": "NameError",
     "evalue": "name 'd' is not defined",
     "output_type": "error",
     "traceback": [
      "\u001b[1;31m---------------------------------------------------------------------------\u001b[0m",
      "\u001b[1;31mNameError\u001b[0m                                 Traceback (most recent call last)",
      "Input \u001b[1;32mIn [22]\u001b[0m, in \u001b[0;36m<cell line: 1>\u001b[1;34m()\u001b[0m\n\u001b[1;32m----> 1\u001b[0m \u001b[43md\u001b[49m\n",
      "\u001b[1;31mNameError\u001b[0m: name 'd' is not defined"
     ]
    }
   ],
   "source": [
    "d"
   ]
  },
  {
   "cell_type": "code",
   "execution_count": 23,
   "id": "a5377a64",
   "metadata": {},
   "outputs": [
    {
     "data": {
      "text/plain": [
       "{}"
      ]
     },
     "execution_count": 23,
     "metadata": {},
     "output_type": "execute_result"
    }
   ],
   "source": [
    "#important function of dictionary\n",
    "dict()"
   ]
  },
  {
   "cell_type": "code",
   "execution_count": 25,
   "id": "bcbee6ec",
   "metadata": {},
   "outputs": [
    {
     "data": {
      "text/plain": [
       "{100: 'sunil', 200: 'santosh', 300: 'rahul'}"
      ]
     },
     "execution_count": 25,
     "metadata": {},
     "output_type": "execute_result"
    }
   ],
   "source": [
    "d=dict([(100,\"sunil\"),(200,\"santosh\"),(300,\"rahul\")])\n",
    "d"
   ]
  },
  {
   "cell_type": "code",
   "execution_count": 24,
   "id": "e671a276",
   "metadata": {},
   "outputs": [
    {
     "ename": "NameError",
     "evalue": "name 'd' is not defined",
     "output_type": "error",
     "traceback": [
      "\u001b[1;31m---------------------------------------------------------------------------\u001b[0m",
      "\u001b[1;31mNameError\u001b[0m                                 Traceback (most recent call last)",
      "Input \u001b[1;32mIn [24]\u001b[0m, in \u001b[0;36m<cell line: 1>\u001b[1;34m()\u001b[0m\n\u001b[1;32m----> 1\u001b[0m \u001b[38;5;28mlen\u001b[39m(\u001b[43md\u001b[49m)\n",
      "\u001b[1;31mNameError\u001b[0m: name 'd' is not defined"
     ]
    }
   ],
   "source": [
    "len(d)"
   ]
  },
  {
   "cell_type": "code",
   "execution_count": 26,
   "id": "c2d17cf9",
   "metadata": {},
   "outputs": [
    {
     "data": {
      "text/plain": [
       "dict"
      ]
     },
     "execution_count": 26,
     "metadata": {},
     "output_type": "execute_result"
    }
   ],
   "source": [
    "type(d)"
   ]
  },
  {
   "cell_type": "code",
   "execution_count": 27,
   "id": "97a53135",
   "metadata": {},
   "outputs": [
    {
     "ename": "NameError",
     "evalue": "name 'dct' is not defined",
     "output_type": "error",
     "traceback": [
      "\u001b[1;31m---------------------------------------------------------------------------\u001b[0m",
      "\u001b[1;31mNameError\u001b[0m                                 Traceback (most recent call last)",
      "Input \u001b[1;32mIn [27]\u001b[0m, in \u001b[0;36m<cell line: 1>\u001b[1;34m()\u001b[0m\n\u001b[1;32m----> 1\u001b[0m \u001b[38;5;28mid\u001b[39m(\u001b[43mdct\u001b[49m)\n",
      "\u001b[1;31mNameError\u001b[0m: name 'dct' is not defined"
     ]
    }
   ],
   "source": [
    "id(dct)"
   ]
  },
  {
   "cell_type": "code",
   "execution_count": 28,
   "id": "0117c3e9",
   "metadata": {},
   "outputs": [
    {
     "data": {
      "text/plain": [
       "1724555434112"
      ]
     },
     "execution_count": 28,
     "metadata": {},
     "output_type": "execute_result"
    }
   ],
   "source": [
    "id(d)"
   ]
  },
  {
   "cell_type": "code",
   "execution_count": 29,
   "id": "d4142910",
   "metadata": {},
   "outputs": [
    {
     "data": {
      "text/plain": [
       "'sunil'"
      ]
     },
     "execution_count": 29,
     "metadata": {},
     "output_type": "execute_result"
    }
   ],
   "source": [
    "d.get(100)"
   ]
  },
  {
   "cell_type": "code",
   "execution_count": 30,
   "id": "f7614f74",
   "metadata": {},
   "outputs": [
    {
     "data": {
      "text/plain": [
       "'santosh'"
      ]
     },
     "execution_count": 30,
     "metadata": {},
     "output_type": "execute_result"
    }
   ],
   "source": [
    "d.get(200)"
   ]
  },
  {
   "cell_type": "code",
   "execution_count": 31,
   "id": "584a5788",
   "metadata": {},
   "outputs": [
    {
     "data": {
      "text/plain": [
       "'rahul'"
      ]
     },
     "execution_count": 31,
     "metadata": {},
     "output_type": "execute_result"
    }
   ],
   "source": [
    "d.get(300)"
   ]
  },
  {
   "cell_type": "code",
   "execution_count": 33,
   "id": "f4f9f094",
   "metadata": {},
   "outputs": [],
   "source": [
    "d.get(400)"
   ]
  },
  {
   "cell_type": "code",
   "execution_count": 34,
   "id": "08917601",
   "metadata": {},
   "outputs": [
    {
     "ename": "TypeError",
     "evalue": "'builtin_function_or_method' object is not subscriptable",
     "output_type": "error",
     "traceback": [
      "\u001b[1;31m---------------------------------------------------------------------------\u001b[0m",
      "\u001b[1;31mTypeError\u001b[0m                                 Traceback (most recent call last)",
      "Input \u001b[1;32mIn [34]\u001b[0m, in \u001b[0;36m<cell line: 1>\u001b[1;34m()\u001b[0m\n\u001b[1;32m----> 1\u001b[0m \u001b[38;5;28mprint\u001b[39m(\u001b[43md\u001b[49m\u001b[38;5;241;43m.\u001b[39;49m\u001b[43mget\u001b[49m\u001b[43m[\u001b[49m\u001b[38;5;241;43m400\u001b[39;49m\u001b[43m]\u001b[49m)\n",
      "\u001b[1;31mTypeError\u001b[0m: 'builtin_function_or_method' object is not subscriptable"
     ]
    }
   ],
   "source": [
    "print(d.get[400])"
   ]
  },
  {
   "cell_type": "code",
   "execution_count": 35,
   "id": "45d386c4",
   "metadata": {},
   "outputs": [
    {
     "data": {
      "text/plain": [
       "'rahul'"
      ]
     },
     "execution_count": 35,
     "metadata": {},
     "output_type": "execute_result"
    }
   ],
   "source": [
    "d.pop(300)"
   ]
  },
  {
   "cell_type": "code",
   "execution_count": 36,
   "id": "36c70812",
   "metadata": {},
   "outputs": [
    {
     "name": "stdout",
     "output_type": "stream",
     "text": [
      "{100: 'sunil', 200: 'santosh'}\n"
     ]
    }
   ],
   "source": [
    "print(d)"
   ]
  },
  {
   "cell_type": "code",
   "execution_count": 37,
   "id": "b59aea7c",
   "metadata": {},
   "outputs": [
    {
     "data": {
      "text/plain": [
       "(200, 'santosh')"
      ]
     },
     "execution_count": 37,
     "metadata": {},
     "output_type": "execute_result"
    }
   ],
   "source": [
    "d.popitem()"
   ]
  },
  {
   "cell_type": "code",
   "execution_count": 38,
   "id": "df02be2d",
   "metadata": {},
   "outputs": [
    {
     "name": "stdout",
     "output_type": "stream",
     "text": [
      "{100: 'sunil'}\n"
     ]
    }
   ],
   "source": [
    "print(d)"
   ]
  },
  {
   "cell_type": "code",
   "execution_count": 39,
   "id": "0b771de5",
   "metadata": {},
   "outputs": [
    {
     "name": "stdout",
     "output_type": "stream",
     "text": [
      "100   sunil\n"
     ]
    }
   ],
   "source": [
    "for k,v in d.items():\n",
    "    print(k,\" \",v)"
   ]
  },
  {
   "cell_type": "code",
   "execution_count": 40,
   "id": "079d72f2",
   "metadata": {},
   "outputs": [
    {
     "name": "stdout",
     "output_type": "stream",
     "text": [
      "100\n"
     ]
    }
   ],
   "source": [
    "for k in d.keys():\n",
    "    print(k)"
   ]
  },
  {
   "cell_type": "code",
   "execution_count": 41,
   "id": "b24716e2",
   "metadata": {},
   "outputs": [
    {
     "name": "stdout",
     "output_type": "stream",
     "text": [
      "{100: 'sunil'}\n"
     ]
    }
   ],
   "source": [
    "d1=d.copy()\n",
    "print(d1)"
   ]
  },
  {
   "cell_type": "code",
   "execution_count": 42,
   "id": "0f120ead",
   "metadata": {},
   "outputs": [
    {
     "name": "stdout",
     "output_type": "stream",
     "text": [
      "{100: 'sunil', 200: 'sachin'}\n"
     ]
    }
   ],
   "source": [
    "d.setdefault(200,\"sachin\")\n",
    "print(d)"
   ]
  },
  {
   "cell_type": "code",
   "execution_count": 43,
   "id": "8bda9a60",
   "metadata": {},
   "outputs": [
    {
     "name": "stdout",
     "output_type": "stream",
     "text": [
      "{'Roll NO': '1', 'Name': 'sunil', 'Address': 'Mumbai'}\n"
     ]
    }
   ],
   "source": [
    "d = {'Roll NO': '1', 'Name': 'Ravi'}\n",
    "\n",
    "# Adding a new key-value pair\n",
    "d['Address'] = 'Mumbai'\n",
    "\n",
    "# Modifying an existing key-value pair\n",
    "d['Name'] = 'sunil'\n",
    "\n",
    "print(d)"
   ]
  },
  {
   "cell_type": "code",
   "execution_count": 44,
   "id": "fcbba0b9",
   "metadata": {},
   "outputs": [
    {
     "name": "stdout",
     "output_type": "stream",
     "text": [
      "Enter the dictionary:{'A':200,'B':400}\n",
      "sum is:  600\n"
     ]
    }
   ],
   "source": [
    "#Write a program to take dictionary from the keyboard and print the sum of values\n",
    "dict1=eval(input(\"Enter the dictionary:\"))\n",
    "s=sum(dict1.values())\n",
    "print(\"sum is: \",s)"
   ]
  },
  {
   "cell_type": "code",
   "execution_count": 45,
   "id": "56229191",
   "metadata": {},
   "outputs": [
    {
     "name": "stdout",
     "output_type": "stream",
     "text": [
      "sum is: 6\n"
     ]
    }
   ],
   "source": [
    "dict1 = {\"a\": 1, \"b\": 2, \"c\": 3}\n",
    "s = sum(value for value in dict1.values())  #generator expression\n",
    "print(\"sum is:\", s)"
   ]
  },
  {
   "cell_type": "markdown",
   "id": "af77606a",
   "metadata": {},
   "source": [
    "# Python program that uses a dictionary to count the number of occurrences of each letter in a given string"
   ]
  },
  {
   "cell_type": "code",
   "execution_count": 46,
   "id": "9f3cda6d",
   "metadata": {},
   "outputs": [
    {
     "name": "stdout",
     "output_type": "stream",
     "text": [
      "Enter a string: Happy Days\n",
      "Occurrence of each letter:\n",
      "H : 1\n",
      "a : 2\n",
      "p : 2\n",
      "y : 2\n",
      "  : 1\n",
      "D : 1\n",
      "s : 1\n"
     ]
    }
   ],
   "source": [
    "string = input(\"Enter a string: \")\n",
    "char_count = {}\n",
    "\n",
    "for char in string:\n",
    "    if char in char_count:\n",
    "        char_count[char] += 1\n",
    "    else:\n",
    "        char_count[char] = 1\n",
    "\n",
    "print(\"Occurrence of each letter:\")\n",
    "for char, count in char_count.items():\n",
    "    print(char, \":\", count)"
   ]
  },
  {
   "cell_type": "code",
   "execution_count": 47,
   "id": "f0e25b1b",
   "metadata": {},
   "outputs": [
    {
     "name": "stdout",
     "output_type": "stream",
     "text": [
      "Enter any word mississippi\n",
      "m occured 1 times\n",
      "i occured 4 times\n",
      "s occured 4 times\n",
      "p occured 2 times\n"
     ]
    }
   ],
   "source": [
    "word=input(\"Enter any word \")\n",
    "d={}\n",
    "for x in word:\n",
    "    d[x]=d.get(x,0) + 1\n",
    "for k,v in d.items():\n",
    "    print(k,\"occured\",v,\"times\")"
   ]
  },
  {
   "cell_type": "markdown",
   "id": "3655436b",
   "metadata": {},
   "source": [
    "# program to find  number of occurence of each vowel present in the given string"
   ]
  },
  {
   "cell_type": "code",
   "execution_count": 48,
   "id": "1cad5ce0",
   "metadata": {},
   "outputs": [
    {
     "name": "stdout",
     "output_type": "stream",
     "text": [
      "Enter any wordBudget for INDIA\n",
      "A occured 1 times\n",
      "I occured 2 times\n",
      "e occured 1 times\n",
      "o occured 1 times\n",
      "u occured 1 times\n"
     ]
    }
   ],
   "source": [
    "word=input(\"Enter any word\")\n",
    "vowels={'a','e','i','o','u','A','E','I','O','U'}\n",
    "d1={}\n",
    "for x in word:\n",
    "    if x in vowels:\n",
    "        d1[x]=d1.get(x,0)+1\n",
    "for k,v in sorted(d1.items()):\n",
    "    print(k,\"occured\",v,\"times\")"
   ]
  },
  {
   "cell_type": "markdown",
   "id": "7eae7fda",
   "metadata": {},
   "source": [
    "# Python program that uses a dictionary to count the number of occurrences of each vowel in a given string"
   ]
  },
  {
   "cell_type": "code",
   "execution_count": 49,
   "id": "e445db91",
   "metadata": {},
   "outputs": [
    {
     "name": "stdout",
     "output_type": "stream",
     "text": [
      "Enter a string: Pray for nation\n",
      "Occurrence of each vowel:\n",
      "a : 2\n",
      "o : 2\n",
      "i : 1\n"
     ]
    }
   ],
   "source": [
    "string = input(\"Enter a string: \")\n",
    "vowel_count = {}\n",
    "vowels = \"aeiouAEIOU\"\n",
    "\n",
    "for char in string:\n",
    "    if char in vowels:\n",
    "        if char in vowel_count:\n",
    "            vowel_count[char] += 1\n",
    "        else:\n",
    "            vowel_count[char] = 1\n",
    "\n",
    "print(\"Occurrence of each vowel:\")\n",
    "for char, count in vowel_count.items():\n",
    "    print(char, \":\", count)"
   ]
  },
  {
   "cell_type": "markdown",
   "id": "c4010ceb",
   "metadata": {},
   "source": [
    "# Using dictionary comprehension to convert the list of tuples to a dictionary"
   ]
  },
  {
   "cell_type": "code",
   "execution_count": 50,
   "id": "56c55287",
   "metadata": {},
   "outputs": [
    {
     "name": "stdout",
     "output_type": "stream",
     "text": [
      "{'Rahul': 80, 'Santosh': 90, 'Anil': 95}\n"
     ]
    }
   ],
   "source": [
    "# A list of tuples\n",
    "students = [(\"Rahul\", \"Physics\", 80), (\"Santosh\", \"Computer\", 90), (\"Anil\", \"Chemistry\", 95)]\n",
    "\n",
    "# Using dictionary comprehension to convert the list of tuples to a dictionary\n",
    "student_scores = {student[0]: student[2] for student in students}\n",
    "\n",
    "print(student_scores)"
   ]
  },
  {
   "cell_type": "code",
   "execution_count": 51,
   "id": "891c1d61",
   "metadata": {},
   "outputs": [],
   "source": [
    "squares={ x : x * x for x in range(1,6) }"
   ]
  },
  {
   "cell_type": "code",
   "execution_count": 52,
   "id": "c2158327",
   "metadata": {},
   "outputs": [
    {
     "name": "stdout",
     "output_type": "stream",
     "text": [
      "{1: 1, 2: 4, 3: 9, 4: 16, 5: 25}\n"
     ]
    }
   ],
   "source": [
    "print(squares)"
   ]
  },
  {
   "cell_type": "code",
   "execution_count": 53,
   "id": "2c6ea0b1",
   "metadata": {},
   "outputs": [],
   "source": [
    "double={ m : 2 * m for m in range(1,6) }"
   ]
  },
  {
   "cell_type": "code",
   "execution_count": 54,
   "id": "e765cb86",
   "metadata": {},
   "outputs": [
    {
     "name": "stdout",
     "output_type": "stream",
     "text": [
      "{1: 2, 2: 4, 3: 6, 4: 8, 5: 10}\n"
     ]
    }
   ],
   "source": [
    "print(double)"
   ]
  }
 ],
 "metadata": {
  "kernelspec": {
   "display_name": "Python 3 (ipykernel)",
   "language": "python",
   "name": "python3"
  },
  "language_info": {
   "codemirror_mode": {
    "name": "ipython",
    "version": 3
   },
   "file_extension": ".py",
   "mimetype": "text/x-python",
   "name": "python",
   "nbconvert_exporter": "python",
   "pygments_lexer": "ipython3",
   "version": "3.9.12"
  }
 },
 "nbformat": 4,
 "nbformat_minor": 5
}
