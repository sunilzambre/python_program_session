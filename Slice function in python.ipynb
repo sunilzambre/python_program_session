{
 "cells": [
  {
   "cell_type": "markdown",
   "id": "e3eafdee",
   "metadata": {},
   "source": [
    "# slice() function for List"
   ]
  },
  {
   "cell_type": "code",
   "execution_count": 1,
   "id": "b89a3402",
   "metadata": {},
   "outputs": [
    {
     "name": "stdout",
     "output_type": "stream",
     "text": [
      "['u', 'n', 'i']\n",
      "['s', 'u']\n",
      "['s', 'u', 'n', 'i', 'l', 'z', 'a', 'm', 'b', 'r']\n",
      "['u', 'n', 'i', 'l']\n"
     ]
    }
   ],
   "source": [
    "arr = ['s','u','n','i','l','z','a','m','b','r','e']\n",
    "\n",
    "#Slicing in list with 2 arguments\n",
    "a = slice(1,4)\n",
    "print(arr[a])\n",
    "\n",
    "#slicing in list with 1 argument\n",
    "a = slice(2)\n",
    "print(arr[a])\n",
    "\n",
    "a = slice(-1)\n",
    "print(arr[a])\n",
    "\n",
    "#Slicing in list with 3 arguments\n",
    "a = slice(1,5,1)\n",
    "print(arr[a])"
   ]
  },
  {
   "cell_type": "markdown",
   "id": "39b938ee",
   "metadata": {},
   "source": [
    "# slice() function for Tuple"
   ]
  },
  {
   "cell_type": "code",
   "execution_count": 2,
   "id": "73d6ce0a",
   "metadata": {},
   "outputs": [
    {
     "name": "stdout",
     "output_type": "stream",
     "text": [
      "('u', 'n', 'i')\n",
      "('s', 'u')\n",
      "('s', 'u', 'n', 'i', 'l', 'z', 'a', 'm', 'b', 'r')\n",
      "('u', 'n', 'i', 'l')\n"
     ]
    }
   ],
   "source": [
    "arr = tuple(['s','u','n','i','l','z','a','m','b','r','e'])\n",
    "\n",
    "#Slicing in list with 2 arguments\n",
    "a = slice(1,4)\n",
    "print(arr[a])\n",
    "\n",
    "#slicing in list with 1 argument\n",
    "a = slice(2)\n",
    "print(arr[a])\n",
    "\n",
    "a = slice(-1)\n",
    "print(arr[a])\n",
    "\n",
    "#Slicing in list with 3 arguments\n",
    "a = slice(1,5,1)\n",
    "print(arr[a])"
   ]
  },
  {
   "cell_type": "markdown",
   "id": "56470695",
   "metadata": {},
   "source": [
    "# slice() function on string"
   ]
  },
  {
   "cell_type": "code",
   "execution_count": 3,
   "id": "87440421",
   "metadata": {},
   "outputs": [
    {
     "name": "stdout",
     "output_type": "stream",
     "text": [
      "uni\n",
      "Su\n",
      "SunilZambreTasgao\n",
      "unil\n"
     ]
    }
   ],
   "source": [
    "arr = 'SunilZambreTasgaon' \n",
    "\n",
    "#Slicing in string with 2 arguments\n",
    "a = slice(1,4)\n",
    "print(arr[a])\n",
    "\n",
    "#slicing in string with 1 argument\n",
    "a = slice(2)\n",
    "print(arr[a])\n",
    "\n",
    "a = slice(-1)\n",
    "print(arr[a])\n",
    "\n",
    "#Slicing in string with 3 arguments\n",
    "a = slice(1,5,1)\n",
    "print(arr[a])"
   ]
  },
  {
   "cell_type": "code",
   "execution_count": 4,
   "id": "9ef7b2ca",
   "metadata": {},
   "outputs": [
    {
     "name": "stdout",
     "output_type": "stream",
     "text": [
      "Original string: Hello, World!\n",
      "Sliced string (2nd to 5th character): ello\n"
     ]
    }
   ],
   "source": [
    "string = \"Hello, World!\"\n",
    "\n",
    "# Slicing the string to get the sub-string\n",
    "print(\"Original string:\", string)\n",
    "print(\"Sliced string (2nd to 5th character):\", string[1:5])"
   ]
  },
  {
   "cell_type": "code",
   "execution_count": 5,
   "id": "5dc51d80",
   "metadata": {},
   "outputs": [
    {
     "name": "stdout",
     "output_type": "stream",
     "text": [
      "Original string: Slicing is an important aspect of Python programming.\n",
      "Sliced string (first 20 characters): Slicing is an import\n",
      "Sliced string (20th to 40th character): ant aspect of Python\n",
      "Sliced string (last 10 characters): ogramming.\n",
      "Sliced string (from 5th character to the end): ng is an important aspect of Python programming.\n",
      "Sliced string (every second character): Siigi nipratapc fPto rgamn.\n"
     ]
    }
   ],
   "source": [
    "# Initializing a string\n",
    "string = \"Slicing is an important aspect of Python programming.\"\n",
    "\n",
    "# Printing the original string\n",
    "print(\"Original string:\", string)\n",
    "\n",
    "# Slicing the string to get the first 20 characters\n",
    "print(\"Sliced string (first 20 characters):\", string[:20])\n",
    "\n",
    "# Slicing the string to get characters from index 20 to index 40\n",
    "print(\"Sliced string (20th to 40th character):\", string[20:40])\n",
    "\n",
    "# Slicing the string to get the last 10 characters\n",
    "print(\"Sliced string (last 10 characters):\", string[-10:])\n",
    "\n",
    "# Slicing the string to get characters from index 5 to the end\n",
    "print(\"Sliced string (from 5th character to the end):\", string[5:])\n",
    "\n",
    "# Slicing the string to get every second character\n",
    "print(\"Sliced string (every second character):\", string[::2])"
   ]
  },
  {
   "cell_type": "markdown",
   "id": "e321f81c",
   "metadata": {},
   "source": [
    "# slicing using a function in Python"
   ]
  },
  {
   "cell_type": "code",
   "execution_count": 6,
   "id": "74915d78",
   "metadata": {},
   "outputs": [
    {
     "name": "stdout",
     "output_type": "stream",
     "text": [
      "Original string: Slicing is an important aspect of Python programming.\n",
      "Sliced string (first 20 characters): Slicing is an import\n",
      "Sliced string (20th to 40th character): ant aspect of Python\n",
      "Sliced string (last 10 characters): ogramming.\n",
      "Sliced string (from 5th character to the end): ng is an important aspect of Python programming.\n",
      "Sliced string (every second character): Siigi nipratapc fPto rgamn.\n"
     ]
    }
   ],
   "source": [
    "def slice_string(string, start=None, end=None, step=None):\n",
    "    return string[start:end:step]\n",
    "\n",
    "# Initializing a string\n",
    "string = \"Slicing is an important aspect of Python programming.\"\n",
    "\n",
    "# Printing the original string\n",
    "print(\"Original string:\", string)\n",
    "\n",
    "# Using the slicing function to get the first 20 characters\n",
    "print(\"Sliced string (first 20 characters):\", slice_string(string, end=20))\n",
    "\n",
    "# Using the slicing function to get characters from index 20 to index 40\n",
    "print(\"Sliced string (20th to 40th character):\", slice_string(string, start=20, end=40))\n",
    "\n",
    "# Using the slicing function to get the last 10 characters\n",
    "print(\"Sliced string (last 10 characters):\", slice_string(string, start=-10))\n",
    "\n",
    "# Using the slicing function to get characters from index 5 to the end\n",
    "print(\"Sliced string (from 5th character to the end):\", slice_string(string, start=5))\n",
    "\n",
    "# Using the slicing function to get every second character\n",
    "print(\"Sliced string (every second character):\", slice_string(string, start=None, end=None, step=2))"
   ]
  },
  {
   "cell_type": "code",
   "execution_count": 7,
   "id": "af4256ef",
   "metadata": {},
   "outputs": [
    {
     "name": "stdout",
     "output_type": "stream",
     "text": [
      "Original string: Slicing is an important aspect of Python programming.\n",
      "Sliced string (every second character): Siigi nipratapc fPto rgamn.\n"
     ]
    }
   ],
   "source": [
    "# Initializing a string\n",
    "string = \"Slicing is an important aspect of Python programming.\"\n",
    "\n",
    "# Printing the original string\n",
    "print(\"Original string:\", string)\n",
    "\n",
    "# Slicing the string to get every second character\n",
    "sliced_string = \"\"\n",
    "for i in range(0, len(string), 2):\n",
    "    sliced_string += string[i]\n",
    "\n",
    "print(\"Sliced string (every second character):\", sliced_string)"
   ]
  },
  {
   "cell_type": "code",
   "execution_count": 8,
   "id": "288ec15e",
   "metadata": {},
   "outputs": [
    {
     "name": "stdout",
     "output_type": "stream",
     "text": [
      "Original string: Slicing is an important aspect of Python programming.\n",
      "Reversed string: .gnimmargorp nohtyP fo tcepsa tnatropmi na si gnicilS\n"
     ]
    }
   ],
   "source": [
    "# Initializing a string\n",
    "string = \"Slicing is an important aspect of Python programming.\"\n",
    "\n",
    "# Printing the original string\n",
    "print(\"Original string:\", string)\n",
    "\n",
    "# Reversing the string using slicing\n",
    "reversed_string = string[::-1]\n",
    "\n",
    "print(\"Reversed string:\", reversed_string)"
   ]
  },
  {
   "cell_type": "code",
   "execution_count": 9,
   "id": "6f8ef741",
   "metadata": {},
   "outputs": [
    {
     "data": {
      "text/plain": [
       "'dlrow olleh'"
      ]
     },
     "execution_count": 9,
     "metadata": {},
     "output_type": "execute_result"
    }
   ],
   "source": [
    "\"hello world\"[::-1]"
   ]
  },
  {
   "cell_type": "markdown",
   "id": "f56a9787",
   "metadata": {},
   "source": [
    "# Reverse a number in Python by converting it to a string."
   ]
  },
  {
   "cell_type": "code",
   "execution_count": 10,
   "id": "27f2fbef",
   "metadata": {},
   "outputs": [
    {
     "name": "stdout",
     "output_type": "stream",
     "text": [
      "Original number: 12345\n",
      "Reversed number: 54321\n"
     ]
    }
   ],
   "source": [
    "# Initializing a number\n",
    "num = 12345\n",
    "\n",
    "# Converting the number to a string\n",
    "num_string = str(num)\n",
    "\n",
    "# Printing the original number\n",
    "print(\"Original number:\", num)\n",
    "\n",
    "# Reversing the string representation of the number\n",
    "reversed_num_string = num_string[::-1]\n",
    "\n",
    "# Converting the reversed string back to an integer\n",
    "reversed_num = int(reversed_num_string)\n",
    "\n",
    "print(\"Reversed number:\", reversed_num)"
   ]
  },
  {
   "cell_type": "code",
   "execution_count": 11,
   "id": "334cab61",
   "metadata": {},
   "outputs": [
    {
     "name": "stdout",
     "output_type": "stream",
     "text": [
      "Name: Sunil Zambre\n",
      "Age: 39\n",
      "Country: INDIA\n",
      "Profession: Data Scientist\n"
     ]
    }
   ],
   "source": [
    "'''Slicing a dictionary is not possible because dictionaries are unordered collections of key-value pairs \n",
    "   do not support slicing operations. \n",
    "  you can select specific elements of a dictionary by accessing them using their keys\n",
    "'''\n",
    "# Initializing a dictionary\n",
    "dictionary = {\n",
    "    \"name\": \"Sunil Zambre\",\n",
    "    \"age\": 39,\n",
    "    \"country\": \"INDIA\",\n",
    "    \"profession\": \"Data Scientist\"\n",
    "}\n",
    "\n",
    "# Printing specific elements of the dictionary\n",
    "print(\"Name:\", dictionary[\"name\"])\n",
    "print(\"Age:\", dictionary[\"age\"])\n",
    "print(\"Country:\", dictionary[\"country\"])\n",
    "print(\"Profession:\", dictionary[\"profession\"])"
   ]
  },
  {
   "cell_type": "code",
   "execution_count": 12,
   "id": "1be45205",
   "metadata": {},
   "outputs": [
    {
     "name": "stdout",
     "output_type": "stream",
     "text": [
      "Union: {1, 2, 3, 4, 5, 6, 7, 8}\n",
      "Intersection: {4, 5}\n",
      "Difference: {1, 2, 3}\n"
     ]
    }
   ],
   "source": [
    "'''Slicing a set is not possible because sets are unordered collections of unique elements. \n",
    "   not support slicing operations.you can perform various set operations,  such as union, intersection,difference, \n",
    "   to create new sets based on the elements of existing sets. \n",
    "'''\n",
    "# Initializing two sets\n",
    "set1 = {1, 2, 3, 4, 5}\n",
    "set2 = {4, 5, 6, 7, 8}\n",
    "\n",
    "# Printing the union of two sets\n",
    "print(\"Union:\", set1 | set2)\n",
    "\n",
    "# Printing the intersection of two sets\n",
    "print(\"Intersection:\", set1 & set2)\n",
    "\n",
    "# Printing the difference of two sets\n",
    "print(\"Difference:\", set1 - set2)"
   ]
  },
  {
   "cell_type": "markdown",
   "id": "1f7ff6aa",
   "metadata": {},
   "source": [
    "# slicing in the list"
   ]
  },
  {
   "cell_type": "code",
   "execution_count": 13,
   "id": "8b3122e6",
   "metadata": {},
   "outputs": [
    {
     "name": "stdout",
     "output_type": "stream",
     "text": [
      "[1, 9, 5.12]\n",
      "[9, 5.12, 6]\n",
      "['Hello', 1, 9]\n",
      "['Hello', 1, 9, 5.12, 6]\n",
      "[1, 9]\n",
      "[]\n",
      "[6, 5.12, 9, 1, 'Hello']\n"
     ]
    }
   ],
   "source": [
    "arr = ['Hello', 1, 9, 5.12, 6]\n",
    "\n",
    "#Slicing in list with 2 arguments\n",
    "print(arr[1:4])\n",
    "\n",
    "#slicing in list with 1 argument\n",
    "print(arr[2:])\n",
    "print(arr[:3])\n",
    "print(arr[::1])\n",
    "\n",
    "#Slicing in list with 3 arguments\n",
    "print(arr[1:3:1])\n",
    "print(arr[1:3:-1])\n",
    "\n",
    "#reversing a string by Slicing\n",
    "print(arr[::-1])"
   ]
  },
  {
   "cell_type": "markdown",
   "id": "bad12d66",
   "metadata": {},
   "source": [
    "# slicing in tuple"
   ]
  },
  {
   "cell_type": "code",
   "execution_count": 14,
   "id": "f8dc2bda",
   "metadata": {},
   "outputs": [
    {
     "name": "stdout",
     "output_type": "stream",
     "text": [
      "('u', 'n', 'i')\n",
      "('n', 'i', 'l', 'Z', 'a', 'm', 'b', 'r', 'e')\n",
      "('S', 'u', 'n')\n",
      "('S', 'u', 'n', 'i', 'l', 'Z', 'a', 'm', 'b', 'r', 'e')\n",
      "('u', 'n')\n",
      "('e', 'r', 'b', 'm', 'a', 'Z', 'l', 'i', 'n', 'u', 'S')\n"
     ]
    }
   ],
   "source": [
    "arr = tuple('SunilZambre')\n",
    "\n",
    "#Slicing in list with 2 arguments\n",
    "print(arr[1:4])\n",
    "\n",
    "#slicing in list with 1 argument\n",
    "print(arr[2:])\n",
    "print(arr[:3])\n",
    "print(arr[::1])\n",
    "\n",
    "#Slicing in list with 3 arguments\n",
    "print(arr[1:3:1])\n",
    "\n",
    "#reversing an string by Slicing\n",
    "print(arr[::-1])"
   ]
  },
  {
   "cell_type": "markdown",
   "id": "9b2ee0c0",
   "metadata": {},
   "source": [
    "# slicing with negative indexes"
   ]
  },
  {
   "cell_type": "code",
   "execution_count": 15,
   "id": "cbbe2309",
   "metadata": {},
   "outputs": [
    {
     "name": "stdout",
     "output_type": "stream",
     "text": [
      "RE\n",
      "SUNIL ZAM\n",
      "ERBMAZ LINUS\n",
      "IL ZA\n"
     ]
    }
   ],
   "source": [
    "#Initialize the String\n",
    "String = 'SUNIL ZAMBRE'\n",
    "\n",
    "#Slicing using 1 negative index\n",
    "arr = String[-2:]\n",
    "print(arr)\n",
    "\n",
    "#Slicing using 1 negative index\n",
    "arr = String[:-3]\n",
    "print(arr)\n",
    "\n",
    "#Slicing using 3rd negative index\n",
    "arr = String[::-1]\n",
    "print(arr)\n",
    "\n",
    "#Slicing using 2 negative indexes\n",
    "arr = String[-9:-4]\n",
    "print(arr)"
   ]
  },
  {
   "cell_type": "markdown",
   "id": "6a830dec",
   "metadata": {},
   "source": [
    "# Slicing in List with negative indexes"
   ]
  },
  {
   "cell_type": "code",
   "execution_count": 16,
   "id": "511e1fa2",
   "metadata": {},
   "outputs": [
    {
     "name": "stdout",
     "output_type": "stream",
     "text": [
      "['r', 'e']\n",
      "['s', 'u', 'n', 'i', 'l', 'z', 'a', 'm']\n",
      "['e', 'r', 'b', 'm', 'a', 'z', 'l', 'i', 'n', 'u', 's']\n",
      "['n', 'i', 'l', 'z', 'a']\n"
     ]
    }
   ],
   "source": [
    "#Initialize the String\n",
    "String = ['s','u','n','i','l','z','a','m','b','r','e']\n",
    "\n",
    "#Slicing using 1 negative index\n",
    "arr = String[-2:]\n",
    "print(arr)\n",
    "\n",
    "#Slicing using 1 negative index\n",
    "arr = String[:-3]\n",
    "print(arr)\n",
    "\n",
    "#Slicing using 3rd negative index\n",
    "arr = String[::-1]\n",
    "print(arr)\n",
    "\n",
    "#Slicing using 2 negative indexes\n",
    "arr = String[-9:-4]\n",
    "print(arr)"
   ]
  },
  {
   "cell_type": "markdown",
   "id": "84cc3b9e",
   "metadata": {},
   "source": [
    "# Step argument in Slicing"
   ]
  },
  {
   "cell_type": "code",
   "execution_count": 17,
   "id": "143ec9ff",
   "metadata": {},
   "outputs": [
    {
     "name": "stdout",
     "output_type": "stream",
     "text": [
      "Maharashtra\n",
      "arthsarahaM\n",
      "Mhrsta\n",
      "Masr\n",
      "atsrhM\n"
     ]
    }
   ],
   "source": [
    "#initialize a string\n",
    "arr = 'Maharashtra'\n",
    "#using step argument without start and stop\n",
    "#this will print the string as it is\n",
    "print(arr[::1])\n",
    "#This will print the string in reverse order\n",
    "print(arr[::-1])\n",
    "\n",
    "#This will print the string elements with even index\n",
    "print(arr[::2])\n",
    "\n",
    "#This will print the string with odd indexes\n",
    "print(arr[::3])\n",
    "\n",
    "#This will print the array element in reverse order with even indexes\n",
    "print(arr[::-2])"
   ]
  },
  {
   "cell_type": "code",
   "execution_count": 18,
   "id": "b706fbe2",
   "metadata": {},
   "outputs": [
    {
     "name": "stdout",
     "output_type": "stream",
     "text": [
      "Sunil Zam\n",
      "Z lin\n",
      "nlZ\n",
      "ul\n",
      "mZlnS\n"
     ]
    }
   ],
   "source": [
    "#initialize a string\n",
    "arr = 'Sunil Zambre'\n",
    "#using step argument without start and stop\n",
    "#this will print the string as it is\n",
    "print(arr[0:9:1])\n",
    "#This will print the string in reverse order\n",
    "#startring from the index 2 to ending point 6\n",
    "ar = arr[2:7]\n",
    "print(ar[::-1])\n",
    "\n",
    "#This will print the string elements with even index\n",
    "#Starting from 2 to 7\n",
    "print(arr[2:8:2])\n",
    "\n",
    "#This will print the string with odd indexes\n",
    "#Starting from index 1 to 6\n",
    "print(arr[1:7:3])\n",
    "\n",
    "#This will print the array element in reverse order with even indexes\n",
    "ar = arr[0:9]\n",
    "print(ar[::-2])"
   ]
  },
  {
   "cell_type": "code",
   "execution_count": 19,
   "id": "38ed5d09",
   "metadata": {},
   "outputs": [
    {
     "name": "stdout",
     "output_type": "stream",
     "text": [
      "SunilZambre\n",
      "Hello team!\n"
     ]
    }
   ],
   "source": [
    "str1 = \"Sunil\"\n",
    "str2 = \"Zambre\"\n",
    "print(str1+str2)\n",
    "print(\"Hello\"+\" \"+\"team\"+\"!\")"
   ]
  },
  {
   "cell_type": "code",
   "execution_count": 20,
   "id": "7e5625fe",
   "metadata": {},
   "outputs": [
    {
     "name": "stdout",
     "output_type": "stream",
     "text": [
      "SunilSunilSunil\n",
      "Sunil Sunil Sunil \n",
      "\n",
      "SunilSunilSunil\n"
     ]
    }
   ],
   "source": [
    "str1 = \"Sunil\"\n",
    "n = 3\n",
    "print(str1 * n)\n",
    "print((str1 + \" \" )*n)\n",
    "print(str1*-2)\n",
    "# if negative integer is used with * operator then an empty string(\" \") is returned\n",
    "print(str1*3)"
   ]
  },
  {
   "cell_type": "code",
   "execution_count": 21,
   "id": "4a19bc21",
   "metadata": {},
   "outputs": [
    {
     "name": "stdout",
     "output_type": "stream",
     "text": [
      "True\n",
      "False\n",
      "True\n"
     ]
    }
   ],
   "source": [
    "#Using in operator\n",
    "str1 = \"Let's start preparing!\"\n",
    "print(\"!\" in str1)\n",
    "print(\"?\" in str1)\n",
    "print(\"?\" not in str1)"
   ]
  },
  {
   "cell_type": "code",
   "execution_count": 22,
   "id": "2580aa16",
   "metadata": {},
   "outputs": [
    {
     "name": "stdout",
     "output_type": "stream",
     "text": [
      "Value of pi is 3.14285714285714279\n",
      "Value of pi is 3.14285714285714279\n"
     ]
    }
   ],
   "source": [
    "PI = 22/7\n",
    "print(f\"Value of pi is {PI:.17f}\")\n",
    "# OR\n",
    "print(f\"Value of pi is {22/7:.17f}\") #the value of pi to 17 decimal places, which is the maximum precision \n",
    "                                     #supported by the float data type in Python."
   ]
  },
  {
   "cell_type": "code",
   "execution_count": 23,
   "id": "a4c2b422",
   "metadata": {},
   "outputs": [
    {
     "name": "stdout",
     "output_type": "stream",
     "text": [
      "My weight is 39 kgs.\n",
      "SunilZambre is for Programing\n"
     ]
    }
   ],
   "source": [
    "#f-strings \n",
    "w=39 \n",
    "print(f\"My weight is {w} kgs.\") \n",
    "webs='SunilZambre'\n",
    "print(f\"{webs} is for Programing\")"
   ]
  },
  {
   "cell_type": "code",
   "execution_count": 24,
   "id": "abfbfab6",
   "metadata": {},
   "outputs": [
    {
     "data": {
      "text/plain": [
       "'{ Hello Sunil Zambre}'"
      ]
     },
     "execution_count": 24,
     "metadata": {},
     "output_type": "execute_result"
    }
   ],
   "source": [
    "'{{ {0} {1} {2}}}'.format('Hello','Sunil','Zambre')"
   ]
  },
  {
   "cell_type": "code",
   "execution_count": 25,
   "id": "8062b6a5",
   "metadata": {},
   "outputs": [
    {
     "data": {
      "text/plain": [
       "'Sunil/Zambre/416311'"
      ]
     },
     "execution_count": 25,
     "metadata": {},
     "output_type": "execute_result"
    }
   ],
   "source": [
    "'{0}/{1}/{2}'.format( 'Sunil',  'Zambre',  '416311') #Positional Argument"
   ]
  },
  {
   "cell_type": "code",
   "execution_count": 26,
   "id": "d0d8f29b",
   "metadata": {},
   "outputs": [
    {
     "data": {
      "text/plain": [
       "'416311.Zambre.Sunil/SunilSunil.ZambreZambre.416311416311'"
      ]
     },
     "execution_count": 26,
     "metadata": {},
     "output_type": "execute_result"
    }
   ],
   "source": [
    "'{2}.{1}.{0}/{0}{0}.{1}{1}.{2}{2}'.format('Sunil',  'Zambre',  '416311')"
   ]
  },
  {
   "cell_type": "code",
   "execution_count": 27,
   "id": "e9f7b2be",
   "metadata": {},
   "outputs": [
    {
     "data": {
      "text/plain": [
       "'Sunil/Zambre/416311'"
      ]
     },
     "execution_count": 27,
     "metadata": {},
     "output_type": "execute_result"
    }
   ],
   "source": [
    "'{}/{}/{}'.format('Sunil',  'Zambre', '416311')"
   ]
  },
  {
   "cell_type": "code",
   "execution_count": 28,
   "id": "2832e306",
   "metadata": {},
   "outputs": [
    {
     "data": {
      "text/plain": [
       "'Hi/Hello/Namaste'"
      ]
     },
     "execution_count": 28,
     "metadata": {},
     "output_type": "execute_result"
    }
   ],
   "source": [
    "'{x}/{y}/{z}'.format(x='Hi', y='Hello', z='Namaste')"
   ]
  },
  {
   "cell_type": "markdown",
   "id": "2c16931b",
   "metadata": {},
   "source": [
    "# string interpolation"
   ]
  },
  {
   "cell_type": "code",
   "execution_count": 29,
   "id": "fd27c7c7",
   "metadata": {},
   "outputs": [
    {
     "name": "stdout",
     "output_type": "stream",
     "text": [
      "Welcome to Pune\n",
      "Sunil Zambre welcome to Pune.\n"
     ]
    }
   ],
   "source": [
    "'''In python modulo(%) operator is overloaded in str class to perform string formatting.\n",
    "   If we have lots of variable to concat , then we can use %-formatting.\n",
    " '''\n",
    "# string interpolation \n",
    "n1 = 'Sunil'\n",
    "n2 ='Pune'\n",
    "# for single substitution \n",
    "\n",
    "print('Welcome to % s'% n2) \n",
    "n3='Zambre'\n",
    "# for single and multiple substitutions () mandatory \n",
    "print('% s % s welcome to %s.'%(n1, n3,n2)) "
   ]
  },
  {
   "cell_type": "code",
   "execution_count": 30,
   "id": "4deee312",
   "metadata": {},
   "outputs": [
    {
     "name": "stdout",
     "output_type": "stream",
     "text": [
      "Welcome to Pune\n",
      "Sunil Zambre welcome to Pune.\n"
     ]
    }
   ],
   "source": [
    "# Python program to demonstrate \n",
    "# string interpolation \n",
    "n1 = 'Sunil'\n",
    "n2 ='Pune'\n",
    "\n",
    "# for single substitution \n",
    "print(\"Welcome to {}\".format(n2)) \n",
    "n3='Zambre'\n",
    "# for multiple substitutions  \n",
    "print('{b1} {b2} welcome to {b3}.'.format(b1=n1, b2=n3,b3=n2)) "
   ]
  },
  {
   "cell_type": "code",
   "execution_count": 31,
   "id": "abce08c6",
   "metadata": {},
   "outputs": [
    {
     "name": "stdout",
     "output_type": "stream",
     "text": [
      "Welcome to Pune\n",
      "Sunil Zambre Welcome to Pune.\n"
     ]
    }
   ],
   "source": [
    "# string interpolation \n",
    "from string import Template \n",
    "n1 = \"Sunil\"\n",
    "n2 =\"Pune\"\n",
    "\n",
    "# made a template which we can we use\n",
    "p=Template('Welcome to $s2')\n",
    "print(p.substitute(s2=n2))\n",
    "n3=\"Zambre\"\n",
    "p1=Template('$s1 $s2 Welcome to $s3.')\n",
    "print(p1.substitute(s1=n1, s2=n3,s3=n2)) "
   ]
  }
 ],
 "metadata": {
  "kernelspec": {
   "display_name": "Python 3 (ipykernel)",
   "language": "python",
   "name": "python3"
  },
  "language_info": {
   "codemirror_mode": {
    "name": "ipython",
    "version": 3
   },
   "file_extension": ".py",
   "mimetype": "text/x-python",
   "name": "python",
   "nbconvert_exporter": "python",
   "pygments_lexer": "ipython3",
   "version": "3.9.12"
  }
 },
 "nbformat": 4,
 "nbformat_minor": 5
}
