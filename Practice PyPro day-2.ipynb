{
 "cells": [
  {
   "cell_type": "code",
   "execution_count": 1,
   "id": "6e55947e",
   "metadata": {},
   "outputs": [
    {
     "name": "stdout",
     "output_type": "stream",
     "text": [
      "Enter the list:[1,2,3,4,5,6,7,8,9,10,11,12,13,14,15,16,17,18,19,10]\n",
      "2 4 6 8 10 12 14 16 18 10 "
     ]
    }
   ],
   "source": [
    "l=eval(input(\"Enter the list:\"))\n",
    "for i in l:\n",
    "    if i%2==0:\n",
    "        print(i,end=\" \")"
   ]
  },
  {
   "cell_type": "code",
   "execution_count": 2,
   "id": "5383d146",
   "metadata": {},
   "outputs": [
    {
     "name": "stdout",
     "output_type": "stream",
     "text": [
      "Enter the list: [71,72,73,74,75,76,77,78,79,80]\n",
      "The even number is:  [72, 74, 76, 78, 80]\n"
     ]
    }
   ],
   "source": [
    "def even(x):\n",
    "    if x %2==0:\n",
    "        return True\n",
    "    else:\n",
    "        return False\n",
    "l=eval(input(\"Enter the list: \"))\n",
    "l1=list(filter(even,l))\n",
    "print(\"The even number is: \",l1)"
   ]
  },
  {
   "cell_type": "code",
   "execution_count": 3,
   "id": "2f4d33c4",
   "metadata": {},
   "outputs": [
    {
     "name": "stdout",
     "output_type": "stream",
     "text": [
      "Enter the list:[41,42,43,44,45,46,47,48,49,50]\n",
      "The even number is :  [42, 44, 46, 48, 50]\n"
     ]
    }
   ],
   "source": [
    "lst=eval(input(\"Enter the list:\"))\n",
    "lst1=list(filter(lambda x : x % 2==0,lst))\n",
    "print(\"The even number is : \",lst1)"
   ]
  },
  {
   "cell_type": "code",
   "execution_count": 4,
   "id": "0751ef9b",
   "metadata": {},
   "outputs": [
    {
     "name": "stdout",
     "output_type": "stream",
     "text": [
      "2 4 6 8 10 12 14 16 18 "
     ]
    }
   ],
   "source": [
    "for i in range (2,20,2):\n",
    "    print(i,end=\" \")"
   ]
  },
  {
   "cell_type": "code",
   "execution_count": 5,
   "id": "c77d5fe7",
   "metadata": {},
   "outputs": [
    {
     "name": "stdout",
     "output_type": "stream",
     "text": [
      "0\n",
      "2\n",
      "4\n",
      "6\n",
      "8\n"
     ]
    }
   ],
   "source": [
    "for i in range(10):\n",
    "    if i % 2==0:\n",
    "        print(i)\n",
    "    else:\n",
    "        pass"
   ]
  },
  {
   "cell_type": "code",
   "execution_count": 6,
   "id": "b33aa017",
   "metadata": {},
   "outputs": [
    {
     "name": "stdout",
     "output_type": "stream",
     "text": [
      "[1, 3, 5, 7, 9, 11, 13, 15, 17, 19, 21, 23, 25, 27, 29, 31, 33, 35, 37, 39, 41, 43, 45, 47, 49, 51, 53, 55, 57, 59, 61, 63, 65, 67, 69, 71, 73, 75, 77, 79, 81, 83, 85, 87, 89, 91, 93, 95, 97, 99]\n"
     ]
    }
   ],
   "source": [
    "lst=[]\n",
    "for i in range(101):\n",
    "    if i%2!=0:\n",
    "        lst.append(i)\n",
    "print(lst)"
   ]
  }
 ],
 "metadata": {
  "kernelspec": {
   "display_name": "Python 3 (ipykernel)",
   "language": "python",
   "name": "python3"
  },
  "language_info": {
   "codemirror_mode": {
    "name": "ipython",
    "version": 3
   },
   "file_extension": ".py",
   "mimetype": "text/x-python",
   "name": "python",
   "nbconvert_exporter": "python",
   "pygments_lexer": "ipython3",
   "version": "3.9.12"
  }
 },
 "nbformat": 4,
 "nbformat_minor": 5
}
