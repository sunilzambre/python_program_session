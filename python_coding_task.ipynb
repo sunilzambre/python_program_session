{
 "cells": [
  {
   "cell_type": "markdown",
   "id": "6bbb9a36",
   "metadata": {},
   "source": [
    "## 1.Python program to interchange the first and last element of a list"
   ]
  },
  {
   "cell_type": "code",
   "execution_count": 1,
   "id": "9ff37906",
   "metadata": {},
   "outputs": [
    {
     "name": "stdout",
     "output_type": "stream",
     "text": [
      "Original List:  [1, 2, 3, 4, 5]\n",
      "Interchanged List:  [5, 2, 3, 4, 1]\n"
     ]
    }
   ],
   "source": [
    "def interchange_first_last(list):\n",
    "    if len(list) > 1:\n",
    "        list[0], list[-1] = list[-1], list[0]\n",
    "\n",
    "my_list = [1, 2, 3, 4, 5]\n",
    "print(\"Original List: \", my_list)\n",
    "\n",
    "interchange_first_last(my_list)\n",
    "print(\"Interchanged List: \", my_list)"
   ]
  },
  {
   "cell_type": "markdown",
   "id": "49d4dac1",
   "metadata": {},
   "source": [
    "## 2.Take user input as a string and convert it to a list and swap the the numbers at the given indices"
   ]
  },
  {
   "cell_type": "code",
   "execution_count": 7,
   "id": "ba8eade6",
   "metadata": {},
   "outputs": [
    {
     "name": "stdout",
     "output_type": "stream",
     "text": [
      "Enter a list of numbers: [10,20,30,40,50]\n",
      "Original List:  [10, 20, 30, 40, 50]\n",
      "Enter the indices of the two numbers to swap: 1 3\n",
      "Modified List:  [10, 40, 30, 20, 50]\n"
     ]
    }
   ],
   "source": [
    "# Take user input as a string and convert it to a list\n",
    "input_list = eval(input(\"Enter a list of numbers: \"))\n",
    "\n",
    "# Print the original list\n",
    "print(\"Original List: \", input_list)\n",
    "\n",
    "# Take user input for indices to swap\n",
    "index1, index2 = map(int, input(\"Enter the indices of the two numbers to swap: \").split())\n",
    "\n",
    "# Swap the numbers at the given indices\n",
    "input_list[index1], input_list[index2] = input_list[index2], input_list[index1]\n",
    "\n",
    "# Print the modified list\n",
    "print(\"Modified List: \", input_list)"
   ]
  },
  {
   "cell_type": "markdown",
   "id": "86d867e6",
   "metadata": {},
   "source": [
    "## 3.Write Python code that calculates the sum of the elements in a list"
   ]
  },
  {
   "cell_type": "code",
   "execution_count": 8,
   "id": "74a2419c",
   "metadata": {},
   "outputs": [
    {
     "name": "stdout",
     "output_type": "stream",
     "text": [
      "Enter a list of numbers: [1,2,3,4,5]\n",
      "Sum of the elements in the list: 15\n"
     ]
    }
   ],
   "source": [
    "# Take user input as a string and convert it to a list\n",
    "input_list = eval(input(\"Enter a list of numbers: \"))\n",
    "\n",
    "# Calculate the sum of the elements in the list\n",
    "sum_list = sum(input_list)\n",
    "\n",
    "# Print the sum of the elements in the list\n",
    "print(\"Sum of the elements in the list:\", sum_list)"
   ]
  },
  {
   "cell_type": "markdown",
   "id": "7f64546c",
   "metadata": {},
   "source": [
    "## 4.Write a Python code that multiplies all the numbers in a list"
   ]
  },
  {
   "cell_type": "code",
   "execution_count": 9,
   "id": "1a5a2678",
   "metadata": {},
   "outputs": [
    {
     "name": "stdout",
     "output_type": "stream",
     "text": [
      "Enter a list of numbers: [1,2,3,4,5,6,7,8,9,10]\n",
      "Product of the elements in the list: 3628800\n"
     ]
    }
   ],
   "source": [
    "# Take user input as a string and convert it to a list\n",
    "input_list = eval(input(\"Enter a list of numbers: \"))\n",
    "\n",
    "# Initialize a variable to hold the product of the elements in the list\n",
    "product = 1\n",
    "\n",
    "# Multiply all the numbers in the list\n",
    "for num in input_list:\n",
    "    product *= num\n",
    "\n",
    "# Print the product of the elements in the list\n",
    "print(\"Product of the elements in the list:\", product)"
   ]
  },
  {
   "cell_type": "markdown",
   "id": "a1e31c30",
   "metadata": {},
   "source": [
    "## 5.Write Python code that finds the largest number in a list when the user takes input."
   ]
  },
  {
   "cell_type": "code",
   "execution_count": 10,
   "id": "b9f9de18",
   "metadata": {},
   "outputs": [
    {
     "name": "stdout",
     "output_type": "stream",
     "text": [
      "Enter a list of numbers: [10,20,30,40,77,808,440,30,54,25]\n",
      "Largest number in the list: 808\n"
     ]
    }
   ],
   "source": [
    "# Take user input as a string and convert it to a list\n",
    "input_list = eval(input(\"Enter a list of numbers: \"))\n",
    "\n",
    "# Find the largest number in the list\n",
    "largest_num = max(input_list)\n",
    "\n",
    "# Print the largest number in the list\n",
    "print(\"Largest number in the list:\", largest_num)"
   ]
  },
  {
   "cell_type": "markdown",
   "id": "6e6ddcfd",
   "metadata": {},
   "source": [
    "## 6.Write a python to find the second largest number in a list."
   ]
  },
  {
   "cell_type": "code",
   "execution_count": 11,
   "id": "fcd0d05a",
   "metadata": {},
   "outputs": [
    {
     "name": "stdout",
     "output_type": "stream",
     "text": [
      "Enter a list of numbers: [120,300,45,68,42,71,83]\n",
      "Second largest number in the list: 120\n"
     ]
    }
   ],
   "source": [
    "# Take user input as a string and convert it to a list\n",
    "input_list = eval(input(\"Enter a list of numbers: \"))\n",
    "\n",
    "# Find the largest and second largest numbers in the list\n",
    "largest_num = max(input_list)\n",
    "second_largest_num = max([num for num in input_list if num != largest_num])\n",
    "\n",
    "# Print the second largest number in the list\n",
    "print(\"Second largest number in the list:\", second_largest_num)"
   ]
  },
  {
   "cell_type": "markdown",
   "id": "36f1afc8",
   "metadata": {},
   "source": [
    "## 7.Write a Python code that finds the N largest elements in a list"
   ]
  },
  {
   "cell_type": "code",
   "execution_count": 12,
   "id": "87b26c8c",
   "metadata": {},
   "outputs": [
    {
     "name": "stdout",
     "output_type": "stream",
     "text": [
      "Enter a list of numbers: [10,20,30,40,500,350,220]\n",
      "Enter the value of N: 30\n",
      "The 30 largest numbers in the list are: [500, 350, 220, 40, 30, 20, 10]\n"
     ]
    }
   ],
   "source": [
    "# Take user input as a string and convert it to a list\n",
    "input_list = eval(input(\"Enter a list of numbers: \"))\n",
    "\n",
    "# Take user input for number of largest elements to find\n",
    "n = int(input(\"Enter the value of N: \"))\n",
    "\n",
    "# Find the N largest numbers in the list\n",
    "n_largest = sorted(input_list, reverse=True)[:n]\n",
    "\n",
    "# Print the N largest numbers in the list\n",
    "print(\"The\", n, \"largest numbers in the list are:\", n_largest)"
   ]
  },
  {
   "cell_type": "markdown",
   "id": "aadeb825",
   "metadata": {},
   "source": [
    "## 8.Write a Python code that prints all the even numbers in a list"
   ]
  },
  {
   "cell_type": "code",
   "execution_count": 13,
   "id": "d852ff01",
   "metadata": {},
   "outputs": [
    {
     "name": "stdout",
     "output_type": "stream",
     "text": [
      "Enter a list of numbers: [1,2,3,4,5,6,7,8,9,10]\n",
      "Even numbers in the list are: \n",
      "2\n",
      "4\n",
      "6\n",
      "8\n",
      "10\n"
     ]
    }
   ],
   "source": [
    "# Take user input as a string and convert it to a list\n",
    "input_list = eval(input(\"Enter a list of numbers: \"))\n",
    "\n",
    "# Define a lambda function to filter even numbers\n",
    "even_filter = lambda x: x % 2 == 0\n",
    "\n",
    "# Use the filter() function with the lambda function to get the even numbers\n",
    "even_numbers = list(filter(even_filter, input_list))\n",
    "\n",
    "# Print the even numbers in the list\n",
    "print(\"Even numbers in the list are: \")\n",
    "for num in even_numbers:\n",
    "    print(num)"
   ]
  },
  {
   "cell_type": "markdown",
   "id": "1c9c3035",
   "metadata": {},
   "source": [
    "## 9.To find positive numbers in a list, you can iterate through each element in the list and check if it is greater than zero. If the element is greater than zero, it is a positive number and you can append it to a new list containing all the positive numbers"
   ]
  },
  {
   "cell_type": "code",
   "execution_count": 14,
   "id": "549ab8c9",
   "metadata": {},
   "outputs": [
    {
     "name": "stdout",
     "output_type": "stream",
     "text": [
      "The positive number in the list : [5, 8, 4]\n"
     ]
    }
   ],
   "source": [
    "original_list = [-2, 5, 0, -7, 8, -1, 4]\n",
    "positive_numbers = []\n",
    "\n",
    "for number in original_list:\n",
    "    if number > 0:\n",
    "        positive_numbers.append(number)\n",
    "\n",
    "print(\"The positive number in the list :\",positive_numbers)"
   ]
  },
  {
   "cell_type": "markdown",
   "id": "6fd1ac4c",
   "metadata": {},
   "source": [
    "## 10.To print all negative numbers in a range, you can use a for loop to iterate through the range and check if each number is less than zero. If the number is less than zero, it is a negative number and you can print it"
   ]
  },
  {
   "cell_type": "code",
   "execution_count": 15,
   "id": "18ee704a",
   "metadata": {},
   "outputs": [
    {
     "name": "stdout",
     "output_type": "stream",
     "text": [
      "-10 -9 -8 -7 -6 -5 -4 -3 -2 -1 "
     ]
    }
   ],
   "source": [
    "for i in range(-10, 11):\n",
    "    if i < 0:\n",
    "        print(i,end=\" \")"
   ]
  }
 ],
 "metadata": {
  "kernelspec": {
   "display_name": "Python 3 (ipykernel)",
   "language": "python",
   "name": "python3"
  },
  "language_info": {
   "codemirror_mode": {
    "name": "ipython",
    "version": 3
   },
   "file_extension": ".py",
   "mimetype": "text/x-python",
   "name": "python",
   "nbconvert_exporter": "python",
   "pygments_lexer": "ipython3",
   "version": "3.9.12"
  }
 },
 "nbformat": 4,
 "nbformat_minor": 5
}
