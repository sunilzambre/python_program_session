{
 "cells": [
  {
   "cell_type": "markdown",
   "id": "9a9ca512",
   "metadata": {},
   "source": [
    "## 1.Write a python code to read total data from a file."
   ]
  },
  {
   "cell_type": "code",
   "execution_count": 1,
   "id": "de251274",
   "metadata": {},
   "outputs": [
    {
     "name": "stdout",
     "output_type": "stream",
     "text": [
      "Hello, World!\n",
      "This is a test file.\n",
      "\n"
     ]
    }
   ],
   "source": [
    "f = open(\"myfile.txt\", \"r\")\n",
    "contents = f.read()\n",
    "print(contents)\n",
    "f.close()"
   ]
  },
  {
   "cell_type": "markdown",
   "id": "566c098c",
   "metadata": {},
   "source": [
    "## 2.Write a python code to read only first 10 characters."
   ]
  },
  {
   "cell_type": "code",
   "execution_count": 2,
   "id": "7d76e1d0",
   "metadata": {},
   "outputs": [
    {
     "name": "stdout",
     "output_type": "stream",
     "text": [
      "Hello, Wor\n",
      "This is a \n"
     ]
    }
   ],
   "source": [
    "with open('myfile.txt', 'r') as file:\n",
    "    line = file.readline()\n",
    "    while line:\n",
    "        first_10_chars = line[:10]\n",
    "        print(first_10_chars)\n",
    "        line = file.readline()"
   ]
  },
  {
   "cell_type": "markdown",
   "id": "17c20c6d",
   "metadata": {},
   "source": [
    "## 3.Write a demo program for properties of file object."
   ]
  },
  {
   "cell_type": "code",
   "execution_count": 3,
   "id": "03e94d08",
   "metadata": {},
   "outputs": [
    {
     "name": "stdout",
     "output_type": "stream",
     "text": [
      "Name: myfile.txt\n",
      "Mode: r\n",
      "Encoding: cp1252\n",
      "Closed: False\n",
      "Contents: Hello, World!\n",
      "This is a test file.\n",
      "\n"
     ]
    }
   ],
   "source": [
    "# Open a file for writing\n",
    "file = open('myfile.txt', 'w')\n",
    "\n",
    "# Write some text to the file\n",
    "file.write('Hello, World!\\nThis is a test file.\\n')\n",
    "\n",
    "# Close the file\n",
    "file.close()\n",
    "\n",
    "# Open the file for reading\n",
    "file = open('myfile.txt', 'r')\n",
    "\n",
    "# Print some properties of the file object\n",
    "print('Name:', file.name)\n",
    "print('Mode:', file.mode)\n",
    "print('Encoding:', file.encoding)\n",
    "print('Closed:', file.closed)\n",
    "\n",
    "# Read the contents of the file\n",
    "contents = file.read()\n",
    "\n",
    "# Print the contents of the file\n",
    "print('Contents:', contents)\n",
    "\n",
    "# Close the file\n",
    "file.close()"
   ]
  },
  {
   "cell_type": "code",
   "execution_count": 4,
   "id": "f29d6b1e",
   "metadata": {},
   "outputs": [
    {
     "name": "stdout",
     "output_type": "stream",
     "text": [
      "Data written to the file sucessfully..!\n"
     ]
    }
   ],
   "source": [
    "#Writing data to the text file \n",
    "\n",
    "f=open(\"abcd.txt\",\"w\")\n",
    "\n",
    "f.write(\"Sunil\\n\")\n",
    "\n",
    "f.write(\"Great \\n\")\n",
    "\n",
    "f.write(\"Learner \\n\")\n",
    "\n",
    "print(\"Data written to the file sucessfully..!\")\n",
    "\n",
    "f.close()"
   ]
  },
  {
   "cell_type": "code",
   "execution_count": 5,
   "id": "cbfc2142",
   "metadata": {},
   "outputs": [],
   "source": [
    "f=open(\"abcd.txt\",\"r\")"
   ]
  },
  {
   "cell_type": "code",
   "execution_count": 6,
   "id": "5536c1a1",
   "metadata": {},
   "outputs": [
    {
     "data": {
      "text/plain": [
       "<_io.TextIOWrapper name='abcd.txt' mode='r' encoding='cp1252'>"
      ]
     },
     "execution_count": 6,
     "metadata": {},
     "output_type": "execute_result"
    }
   ],
   "source": [
    "f"
   ]
  },
  {
   "cell_type": "code",
   "execution_count": 7,
   "id": "463a96ce",
   "metadata": {},
   "outputs": [
    {
     "data": {
      "text/plain": [
       "<_io.TextIOWrapper name='file1.txt' mode='r' encoding='cp1252'>"
      ]
     },
     "execution_count": 7,
     "metadata": {},
     "output_type": "execute_result"
    }
   ],
   "source": [
    "f=open(\"file1.txt\",\"r\")\n",
    "f"
   ]
  },
  {
   "cell_type": "code",
   "execution_count": 8,
   "id": "de876e73",
   "metadata": {},
   "outputs": [
    {
     "name": "stdout",
     "output_type": "stream",
     "text": [
      "Sunil\n",
      "Great \n",
      "Learner \n",
      "\n"
     ]
    }
   ],
   "source": [
    "f = open(\"abcd.txt\", \"r\")\n",
    "_read = f.read()\n",
    "print(_read)\n",
    "f.close()"
   ]
  },
  {
   "cell_type": "code",
   "execution_count": 9,
   "id": "560f8731",
   "metadata": {},
   "outputs": [
    {
     "name": "stdout",
     "output_type": "stream",
     "text": [
      "The story of the \"Elephant Whisperer\" is a true tale about a man named Lawrence Anthony who owned a game reserve in South Africa. In 1999, he was asked to take in a group of wild elephants that were going to be killed because they were causing problems in another reserve.\n",
      "\n",
      "When Lawrence first encountered the elephants, they were extremely aggressive and dangerous. They had already killed a few people, and were destroying everything in their path. Lawrence knew he had to do something to gain their trust and stop their destructive behavior.\n",
      "\n",
      "He decided to stay with the elephants around the clock, observing their behavior and learning their language. He quickly discovered that they communicated with each other through a series of rumbles, grunts, and trumpets.\n",
      "\n",
      "Lawrence began mimicking their sounds and movements, and gradually the elephants started to accept him as one of their own. He spent countless hours talking to them and soothing them, until they eventually calmed down and stopped their destructive behavior.\n",
      "\n",
      "Over time, Lawrence became known as the \"Elephant Whisperer\". He was able to create a bond with these majestic creatures that few others could achieve. He continued to work with the elephants for many years, until his death in 2012.\n",
      "\n",
      "His legacy lives on in the book \"The Elephant Whisperer\" which was written by his friend and co-author Graham Spence, and in the memories of those who were fortunate enough to witness his incredible connection with these magnificent animals.\n"
     ]
    }
   ],
   "source": [
    "f = open(\"file1.txt\", \"r\")\n",
    "ele_read = f.read()\n",
    "print(ele_read)\n",
    "f.close()"
   ]
  },
  {
   "cell_type": "markdown",
   "id": "3f5cf7a8",
   "metadata": {},
   "source": [
    "## 4.program using with statement"
   ]
  },
  {
   "cell_type": "code",
   "execution_count": 2,
   "id": "ed2cfd90",
   "metadata": {},
   "outputs": [
    {
     "name": "stdout",
     "output_type": "stream",
     "text": [
      "This is a python example file.\n",
      "\n",
      "This is a python example file.\n",
      "\n",
      "This is a python example file.\n",
      "\n",
      "This is a python example file.\n",
      "\n",
      "This is a python example file.\n",
      "\n",
      "This is a python example file.\n",
      "\n",
      "This is a python example file.\n",
      "\n",
      "This is a python example file.\n",
      "\n",
      "This is a python example file.\n",
      "\n",
      "This is a python example file.\n",
      "Is file colsed: False\n",
      "Is file colsed: True\n"
     ]
    }
   ],
   "source": [
    "with open('example.txt', 'r') as file:\n",
    "    content = file.read()\n",
    "    print(content)\n",
    "    print(\"Is file closed:\",file.closed)\n",
    "print(\"Is file closed:\",file.closed)"
   ]
  },
  {
   "cell_type": "markdown",
   "id": "47737012",
   "metadata": {},
   "source": [
    "## 5.write a python code to read first 10 character of the file and change the current postion of the file and Read the next 5 characters of the file."
   ]
  },
  {
   "cell_type": "code",
   "execution_count": 3,
   "id": "aa3bbc07",
   "metadata": {},
   "outputs": [
    {
     "name": "stdout",
     "output_type": "stream",
     "text": [
      "This is a \n",
      "This \n"
     ]
    }
   ],
   "source": [
    "# Open the file for reading\n",
    "file = open('example.txt', 'r')\n",
    "\n",
    "# Read the first 10 characters of the file\n",
    "content1 = file.read(10)\n",
    "print(content1)\n",
    "\n",
    "# Move the current position to the beginning of the file\n",
    "file.seek(0)\n",
    "\n",
    "# Read the next 5 characters of the file\n",
    "content2 = file.read(5)\n",
    "print(content2)\n",
    "\n",
    "# Close the file\n",
    "file.close()"
   ]
  },
  {
   "cell_type": "markdown",
   "id": "8aea8fd6",
   "metadata": {},
   "source": [
    "## 6.Write a code to use the tell() function to determine the current position within a file."
   ]
  },
  {
   "cell_type": "code",
   "execution_count": 4,
   "id": "183180a0",
   "metadata": {},
   "outputs": [
    {
     "name": "stdout",
     "output_type": "stream",
     "text": [
      "This is a \n",
      "10\n"
     ]
    }
   ],
   "source": [
    "# Open the file for reading\n",
    "file = open('example.txt', 'r')\n",
    "\n",
    "# Read the first 10 characters of the file\n",
    "content1 = file.read(10)\n",
    "print(content1)\n",
    "\n",
    "# Get the current position within the file\n",
    "position = file.tell()\n",
    "print(position)\n",
    "\n",
    "# Close the file\n",
    "file.close()"
   ]
  },
  {
   "cell_type": "markdown",
   "id": "1d28bdaa",
   "metadata": {},
   "source": [
    "## 7.Write a code To check if a particular file exists in Python or not."
   ]
  },
  {
   "cell_type": "code",
   "execution_count": 5,
   "id": "dd2b1833",
   "metadata": {},
   "outputs": [
    {
     "name": "stdout",
     "output_type": "stream",
     "text": [
      "example.txt exists\n"
     ]
    }
   ],
   "source": [
    "import os\n",
    "\n",
    "filename = \"example.txt\"\n",
    "\n",
    "if os.path.isfile(filename):\n",
    "    print(f\"{filename} exists\")\n",
    "else:\n",
    "    print(f\"{filename} does not exist\")"
   ]
  },
  {
   "cell_type": "markdown",
   "id": "d70b5a16",
   "metadata": {},
   "source": [
    "## 8.Write a code to pen a binary file for reading."
   ]
  },
  {
   "cell_type": "code",
   "execution_count": 7,
   "id": "90311f9c",
   "metadata": {},
   "outputs": [
    {
     "name": "stdout",
     "output_type": "stream",
     "text": [
      "Length of binary data: 5892\n"
     ]
    }
   ],
   "source": [
    "# Open a binary file for reading\n",
    "with open(\"rossum.jpeg\", \"rb\") as file:\n",
    "    # Read the entire file as binary data\n",
    "    data = file.read()\n",
    "\n",
    "    # Do something with the binary data, e.g. print the length\n",
    "    print(f\"Length of binary data: {len(data)}\")"
   ]
  },
  {
   "cell_type": "markdown",
   "id": "62166b1e",
   "metadata": {},
   "source": [
    "## 9.Write a python code a new image file using file handling in Python."
   ]
  },
  {
   "cell_type": "code",
   "execution_count": 11,
   "id": "f5bb1eef",
   "metadata": {},
   "outputs": [],
   "source": [
    "from PIL import Image\n",
    "\n",
    "# Create a new 100x100 pixel image with a white background\n",
    "image = Image.new(\"RGB\", (100, 100), color=\"white\")\n",
    "\n",
    "# Open a new file for writing in binary mode\n",
    "with open(\"new_image.jpg\", \"wb\") as file:\n",
    "    # Save the image to the file in JPEG format\n",
    "    image.save(file, format=\"JPEG\")\n",
    "\n",
    "    # Display the image in a new window\n",
    "image.show()"
   ]
  },
  {
   "cell_type": "markdown",
   "id": "43818c7c",
   "metadata": {},
   "source": [
    "## 10.Write a code to read data from a CSV file."
   ]
  },
  {
   "cell_type": "code",
   "execution_count": 12,
   "id": "a16c2d63",
   "metadata": {},
   "outputs": [
    {
     "name": "stdout",
     "output_type": "stream",
     "text": [
      "['city', 'country', 'name', 'year', 'year_last_expansion', 'stations', 'length_km', 'annual_ridership_mill', 'region']\n",
      "['Algiers', 'Algeria', 'Algiers Metro', '2011', '2018', '19', '185', '45.3', 'africa']\n",
      "['Buenos Aires', 'Argentina', 'Buenos Aires Underground', '1913', '2019', '90', '567', '74.0', 'latin_america']\n",
      "['Yerevan', 'Armenia', 'Yerevan Metro', '1981', '1996', '10', '134', '10.75', 'asia']\n",
      "['Sydney', 'Australia', 'Sydney Metro', '2019', '2019', '13', '36', '12.9', 'australia']\n",
      "['Vienna', 'Austria', 'Vienna U-Bahn', '1976', '2017', '98', '833', '459.8', 'europe']\n",
      "['Baku', 'Azerbaijan', 'Baku Metro', '1967', '2021', '26', '3803', '72.1', 'asia']\n",
      "['Minsk', 'Belarus', 'Minsk Metro', '1984', '2020', '33', '408', '219.3', 'europe']\n",
      "['Brussels', 'Belgium', 'Brussels Metro', '1976', '2009', '59', '399', '87.6', 'europe']\n",
      "['Belo Horizonte', 'Brazil', 'Belo Horizonte Metro', '1986', '2002', '19', '281', '54.4', 'latin_america']\n",
      "['BrasÃ\\xadlia', 'Brazil', 'BrasÃ\\xadlia Metro', '2001', '2020', '27', '424', '42.8', 'latin_america']\n",
      "['Porto Alegre', 'Brazil', 'Porto Alegre Metro', '1985', '2014', '22', '438', '48.1', 'latin_america']\n",
      "['Recife', 'Brazil', 'Recife Metro', '1985', '2009', '28', '395', '93.5', 'latin_america']\n",
      "['Rio de Janeiro', 'Brazil', 'Rio de Janeiro Metro', '1979', '2016', '41', '58', '118.7', 'latin_america']\n",
      "['Salvador', 'Brazil', 'Salvador Metro', '2014', '2018', '19', '325', '62.0', 'latin_america']\n",
      "['SÃ£o Paulo', 'Brazil', 'SÃ£o Paulo Metro', '1974', '2021', '91', '1044', '763.6', 'latin_america']\n",
      "['Sofia', 'Bulgaria', 'Sofia Metro', '1998', '2021', '47', '52', '92.4', 'europe']\n",
      "['Montreal', 'Canada', 'Montreal Metro', '1966', '2007', '68', '71', '164.0', 'north_america']\n",
      "['Toronto', 'Canada', 'Toronto Subway', '1954', '2017', '75', '765', '166.0', 'north_america']\n",
      "['Vancouver', 'Canada', 'SkyTrain', '1985', '2016', '53', '796', '74.5', 'north_america']\n",
      "['Santiago', 'Chile', 'Santiago Metro', '1975', '2019', '136', '140', '263.4', 'latin_america']\n",
      "['Beijing', 'China', 'Beijing Subway', '1971', '2021', '366', '762', '2292.65', 'asia']\n",
      "['Changchun', 'China', 'Changchun Rail Transit', '2002', '2021', '63', '726', '154.37', 'asia']\n",
      "['Changsha', 'China', 'Changsha Metro', '2014', '2020', '100', '1425', '385.76', 'asia']\n",
      "['Changzhou', 'China', 'Changzhou Metro', '2019', '2021', '43', '5421', '22.82', 'asia']\n",
      "['Chengdu', 'China', 'Chengdu Metro', '2010', '2020', '285', '5192', '1800.0', 'asia']\n",
      "['Chongqing', 'China', 'Chongqing Rail Transit', '2005', '2022', '210', '4025', '839.75', 'asia']\n",
      "['Dalian', 'China', 'Dalian Metro', '2003', '2021', '80', '20103', '125.22', 'asia']\n",
      "['Dongguan', 'China', 'Dongguan Rail Transit', '2016', '2016', '15', '378', '35.06', 'asia']\n",
      "['Foshan', 'China', 'Foshan Metro', '2010', '2021', '41', '719', '0.0', 'asia']\n",
      "['Fuzhou', 'China', 'Fuzhou Metro', '2016', '2020', '46', '5972', '94.75', 'asia']\n",
      "['Guangzhou', 'China', 'Guangzhou Metro', '1997', '2021', '290', '5894', '2415.6', 'asia']\n",
      "['Guiyang', 'China', 'Guiyang Metro', '2017', '2021', '55', '757', '36.98', 'asia']\n",
      "['Hangzhou', 'China', 'Hangzhou Metro', '2012', '2022', '207', '401', '582.41', 'asia']\n",
      "['Harbin', 'China', 'Harbin Metro', '2013', '2021', '63', '79', '51.33', 'asia']\n",
      "['Hefei', 'China', 'Hefei Metro', '2016', '2021', '122', '1562', '195.07', 'asia']\n",
      "['Hohhot', 'China', 'Hohhot Metro', '2019', '2020', '44', '49039', '21.3', 'asia']\n",
      "['Hong Kong', 'China', 'Mass Transit Railway', '1979', '2021', '97', '2044', '1155.8', 'asia']\n",
      "['Jinan', 'China', 'Jinan Metro', '2019', '2021', '40', '843', '8.68', 'asia']\n",
      "['Kunming', 'China', 'Kunming Metro', '2012', '2020', '84', '1394', '159.26', 'asia']\n",
      "['Lanzhou', 'China', 'Lanzhou Metro', '2019', '2019', '20', '259', '52.48', 'asia']\n",
      "['Luoyang', 'China', 'Luoyang Subway', '2021', '2021', '33', '435', '0.0', 'asia']\n",
      "['Nanchang', 'China', 'Nanchang Metro', '2015', '2021', '103', '1286', '135.93', 'asia']\n",
      "['Nanjing', 'China', 'Nanjing Metro', '2005', '2021', '175', '427', '801.34', 'asia']\n",
      "['Nanning', 'China', 'Nanning Metro', '2016', '2021', '94', '1288', '208.41', 'asia']\n",
      "['Ningbo', 'China', 'Ningbo Rail Transit', '2014', '2021', '114', '1825', '159.86', 'asia']\n",
      "['Qingdao', 'China', 'Qingdao Metro', '2015', '2021', '138', '2843', '139.09', 'asia']\n",
      "['Shanghai', 'China', 'Shanghai Metro', '1993', '2021', '396', '803', '2834.69', 'asia']\n",
      "['Shaoxing', 'China', 'Shaoxing Metro', '2021', '2021', '10', '203', '0.0', 'asia']\n",
      "['Shenyang', 'China', 'Shenyang Metro', '2010', '2020', '91', '116', '316.28', 'asia']\n",
      "['Shenzhen', 'China', 'Shenzhen Metro', '2004', '2021', '288', '419', '1626.73', 'asia']\n",
      "['Shijiazhuang', 'China', 'Shijiazhuang Metro', '2017', '2021', '60', '765', '71.71', 'asia']\n",
      "['Suzhou', 'China', 'Suzhou Rail Transit', '2012', '2021', '154', '2108', '308.57', 'asia']\n",
      "['Taiyuan', 'China', 'Taiyuan Metro', '2020', '2020', '23', '2365', '0.876', 'asia']\n",
      "['Tianjin', 'China', 'Tianjin Metro', '1984', '2021', '164', '265', '338.75', 'asia']\n",
      "['ÃœrÃ¼mqi', 'China', 'ÃœrÃ¼mqi Metro', '2018', '2019', '21', '276', '19.11', 'asia']\n",
      "['Wenzhou', 'China', 'Wenzhou Rail Transit', '2019', '2019', '18', '535', '7.01', 'asia']\n",
      "['Wuhan', 'China', 'Wuhan Metro', '2004', '2021', '247', '435', '628.03', 'asia']\n",
      "['Wuhu', 'China', 'Wuhu Rail Transit', '2021', '2021', '36', '4625', '0.0', 'asia']\n",
      "['Wuxi', 'China', 'Wuxi Metro', '2014', '2021', '87', '1148', '87.22', 'asia']\n",
      "['Xiamen', 'China', 'Xiamen Metro', '2017', '2021', '65', '987', '113.97', 'asia']\n",
      "[\"Xi'an\", 'China', \"Xi'an Metro\", '2011', '2021', '164', '26638', '731.04', 'asia']\n",
      "['Xuzhou', 'China', 'Xuzhou Metro', '2019', '2021', '51', '6435', '20.94', 'asia']\n",
      "['Zhengzhou', 'China', 'Zhengzhou Metro', '2013', '2021', '126', '2063', '341.01', 'asia']\n",
      "['MedellÃ\\xadn', 'Colombia', 'MedellÃ\\xadn Metro', '1995', '2012', '27', '313', '115.4', 'latin_america']\n",
      "['Prague', 'Czech Republic', 'Prague Metro', '1974', '2015', '58', '652', '251.4', 'europe']\n",
      "['Copenhagen', 'Denmark', 'Copenhagen Metro', '2002', '2020', '39', '382', '63.7', 'europe']\n",
      "['Santo Domingo', 'Dominican Republic', 'Santo Domingo Metro', '2009', '2018', '34', '310', '49.6', 'latin_america']\n",
      "['Cairo', 'Egypt', 'Cairo Metro', '1987', '2020', '71', '894', '1314.0', 'africa']\n",
      "['Helsinki', 'Finland', 'Helsinki Metro', '1982', '2017', '25', '35', '60.4', 'europe']\n",
      "['Lille', 'France', 'Lille Metro', '1983', '2000', '60', '45', '127.6', 'europe']\n",
      "['Lyon', 'France', 'Lyon Metro', '1978', '2013', '40', '320', '219.5', 'europe']\n",
      "['Marseille', 'France', 'Marseille Metro', '1977', '2019', '29', '223', '76.6', 'europe']\n",
      "['Paris', 'France', 'Paris MÃ©tro', '1900', '2022', '306', '2251', '753.0', 'europe']\n",
      "['Rennes', 'France', 'Rennes Metro', '2002', '2002', '15', '94', '37.2', 'europe']\n",
      "['Toulouse', 'France', 'Toulouse Metro', '1993', '2007', '37', '282', '118.2', 'europe']\n",
      "['Tbilisi', 'Georgia', 'Tbilisi Metro', '1966', '2017', '23', '271', '69.78', 'asia']\n",
      "['Berlin', 'Germany', 'Berlin U-Bahn', '1902', '2021', '175', '1478', '596.0', 'europe']\n",
      "['Hamburg', 'Germany', 'Hamburg U-Bahn', '1912', '2019', '93', '1058', '249.5', 'europe']\n",
      "['Munich', 'Germany', 'Munich U-Bahn', '1971', '2010', '96', '95', '429.0', 'europe']\n",
      "['Nuremberg', 'Germany', 'Nuremberg U-Bahn', '1972', '2020', '49', '382', '114.6', 'europe']\n",
      "['Athens', 'Greece', 'Athens Metro', '1904', '2020', '64', '887', '259.2', 'europe']\n",
      "['Budapest', 'Hungary', 'Budapest Metro', '1896', '2014', '48', '382', '232.8', 'europe']\n",
      "['Ahmedabad', 'India', 'Ahmedabad Metro', '2019', '2019', '6', '65', '0.4', 'asia']\n",
      "['Bengaluru', 'India', 'Namma Metro', '2011', '2021', '51', '56', '174.22', 'asia']\n",
      "['Chennai', 'India', 'Chennai Metro', '2015', '2021', '42', '54', '42.0', 'asia']\n",
      "['Delhi', 'India', 'Delhi Metro', '2002', '2021', '230', '34812', '1790.0', 'asia']\n",
      "['Gurgaon', 'India', 'Rapid Metro', '2013', '2017', '11', '117', '18.3', 'asia']\n",
      "['Hyderabad', 'India', 'Hyderabad Metro', '2017', '2020', '56', '69', '173.0', 'asia']\n",
      "['Jaipur', 'India', 'Jaipur Metro', '2015', '2020', '11', '120', '7.0', 'asia']\n",
      "['Kanpur', 'India', 'Kanpur Metro', '2021', '2021', '9', '898', '0.0', 'asia']\n",
      "['Kochi', 'India', 'Kochi Metro', '2017', '2020', '22', '249', '17.0', 'asia']\n",
      "['Kolkata', 'India', 'Kolkata Metro', '1984', '2021', '33', '3826', '256.0', 'asia']\n",
      "['Lucknow', 'India', 'Lucknow Metro', '2017', '2019', '21', '2287', '22.0', 'asia']\n",
      "['Mumbai', 'India', 'Mumbai Metro', '2014', '2014', '12', '114', '126.0', 'asia']\n",
      "['Nagpur', 'India', 'Nagpur Metro', '2019', '2021', '24', '261', '4.0', 'asia']\n",
      "['Noida', 'India', 'Noida Metro', '2019', '2019', '21', '297', '5.0', 'asia']\n",
      "['Pune', 'India', 'Pune Metro', '2022', '2022', '10', '12', '0.0', 'asia']\n",
      "['Jakarta', 'Indonesia', 'Jakarta MRT', '2019', '2019', '13', '157', '9.9', 'asia']\n",
      "['Isfahan', 'Iran', 'Isfahan Urban Railway', '2015', '2018', '20', '202', '0.0', 'asia']\n",
      "['Mashhad', 'Iran', 'Mashhad Urban Railway', '2011', '2019', '35', '375', '50.7', 'asia']\n",
      "['Shiraz', 'Iran', 'Shiraz Metro', '2014', '2020', '20', '245', '18.0', 'asia']\n",
      "['Tabriz', 'Iran', 'Tabriz Metro', '2015', '2020', '15', '172', '0.0', 'asia']\n",
      "['Tehran', 'Iran', 'Tehran Metro', '2000', '2021', '122', '1556', '820.0', 'asia']\n",
      "['Brescia', 'Italy', 'Brescia Metro', '2013', '2013', '17', '137', '18.7', 'europe']\n",
      "['Catania', 'Italy', 'Catania Metro', '1999', '2021', '10', '88', '5.8', 'europe']\n",
      "['Genoa', 'Italy', 'Genoa Metro', '1990', '2012', '8', '71', '15.3', 'europe']\n",
      "['Milan', 'Italy', 'Milan Metro', '1964', '2015', '106', '968', '386.8', 'europe']\n",
      "['Naples', 'Italy', 'Naples Metro', '1993', '2021', '23', '205', '41.1', 'europe']\n",
      "['Rome', 'Italy', 'Rome Metro', '1955', '2018', '73', '60', '320.0', 'europe']\n",
      "['Turin', 'Italy', 'Turin Metro', '2006', '2021', '23', '151', '42.5', 'europe']\n",
      "['Fukuoka', 'Japan', 'Fukuoka City Subway', '1981', '2005', '35', '298', '173.3', 'asia']\n",
      "['Hiroshima', 'Japan', 'Astram Line', '1994', '2015', '21', '184', '24.0', 'asia']\n",
      "['Kobe', 'Japan', 'Kobe Municipal Subway', '1977', '2001', '28', '381', '114.2', 'asia']\n",
      "['Kyoto', 'Japan', 'Kyoto Municipal Subway', '1981', '2008', '31', '312', '146.4', 'asia']\n",
      "['Nagoya', 'Japan', 'Nagoya Municipal Subway', '1957', '2011', '87', '933', '487.4', 'asia']\n",
      "['Osaka', 'Japan', 'Osaka Metro', '1933', '2006', '100', '1299', '870.4', 'asia']\n",
      "['Sapporo', 'Japan', 'Sapporo Municipal Subway', '1971', '1999', '46', '480', '226.9', 'asia']\n",
      "['Sendai', 'Japan', 'Sendai Subway', '1987', '2015', '29', '287', '91.7', 'asia']\n",
      "['Tokyo', 'Japan', 'Toei Subway', '1960', '2002', '99', '1090', '1174.9', 'asia']\n",
      "['Tokyo', 'Japan', 'Tokyo Metro', '1927', '2020', '142', '1951', '2757.4', 'asia']\n",
      "['Tokyo', 'Japan', 'Rinkai Line', '1996', '2002', '8', '122', '95.0', 'asia']\n",
      "['Yokohama', 'Japan', 'Yokohama Municipal Subway', '1972', '2008', '40', '534', '243.2', 'asia']\n",
      "['Yokohama', 'Japan', 'Minatomirai Line', '2004', '2008', '6', '41', '80.6', 'asia']\n",
      "['Almaty', 'Kazakhstan', 'Almaty Metro', '2011', '2015', '9', '113', '7.0', 'asia']\n",
      "['Pyongyang', 'North Korea', 'Pyongyang Metro', '1973', '1987', '17', '225', '36.0', 'asia']\n",
      "['Busan', 'South Korea', 'Busan Metro', '1985', '2017', '135', '1399', '361.0', 'asia']\n",
      "['Daegu', 'South Korea', 'Daegu Metro', '1997', '2015', '58', '812', '168.0', 'asia']\n",
      "['Daejeon', 'South Korea', 'Daejeon Metro', '2006', '2007', '22', '227', '40.0', 'asia']\n",
      "['Gwangju', 'South Korea', 'Gwangju Metro', '2004', '2008', '20', '201', '19.0', 'asia']\n",
      "['Incheon', 'South Korea', 'Incheon Subway', '1999', '2020', '56', '594', '116.0', 'asia']\n",
      "['Seoul', 'South Korea', 'Seoul Metropolitan Subway', '1974', '2021', '339', '3649', '2127.2', 'asia']\n",
      "['Seoul', 'South Korea', 'Korail metro lines', '1994', '2020', '86', '1517', '426.4', 'asia']\n",
      "['Seoul', 'South Korea', 'Shinbundang Line (Neo Trans)', '2011', '2016', '12', '313', '122.5', 'asia']\n",
      "['Kuala Lumpur', 'Malaysia', 'Rapid KL', '1996', '2017', '104', '1425', '113.2', 'asia']\n",
      "['Guadalajara', 'Mexico', 'Tren ElÃ©ctrico Urbano', '1989', '2020', '18', '215', '0.0', 'latin_america']\n",
      "['Mexico City', 'Mexico', 'Mexico City Metro', '1969', '2012', '163', '2009', '935.2', 'latin_america']\n",
      "['Monterrey', 'Mexico', 'Metrorrey', '1991', '2021', '38', '405', '109.9', 'latin_america']\n",
      "['Amsterdam', 'Netherlands', 'Amsterdam Metro', '1977', '2018', '39', '412', '111.3', 'europe']\n",
      "['Rotterdam', 'Netherlands', 'Rotterdam Metro', '1968', '2019', '70', '1006', '99.0', 'europe']\n",
      "['Oslo', 'Norway', 'Oslo Metro', '1966', '2016', '101', '85', '74.0', 'europe']\n",
      "['Lahore', 'Pakistan', 'Lahore Metro', '2020', '2020', '26', '271', '20.0', 'asia']\n",
      "['Panama City', 'Panama', 'Panama Metro', '2014', '2019', '29', '368', '49.9', 'latin_america']\n",
      "['Lima', 'Peru', 'Lima Metro', '2011', '2014', '26', '346', '110.4', 'latin_america']\n",
      "['Manila', 'Philippines', 'Manila Light Rail Transit System', '1984', '2021', '33', '372', '218.2', 'asia']\n",
      "['Manila', 'Philippines', 'Manila Metro Rail Transit System', '1999', '2000', '13', '169', '96.9', 'asia']\n",
      "['Warsaw', 'Poland', 'Warsaw Metro', '1995', '2020', '33', '355', '195.4', 'europe']\n",
      "['Lisbon', 'Portugal', 'Lisbon Metro', '1959', '2016', '56', '442', '184.6', 'europe']\n",
      "['Doha', 'Qatar', 'Doha Metro', '2019', '2019', '36', '76', '0.0', 'asia']\n",
      "['Bucharest', 'Romania', 'Bucharest Metro', '1979', '2020', '63', '785', '179.2', 'europe']\n",
      "['Kazan', 'Russia', 'Kazan Metro', '2005', '2018', '11', '168', '21.5', 'asia']\n",
      "['Moscow', 'Russia', 'Moscow Metro', '1935', '2021', '203', '4357', '1618.2', 'asia']\n",
      "['Nizhny Novgorod', 'Russia', 'Nizhny Novgorod Metro', '1985', '2018', '15', '216', '20.4', 'asia']\n",
      "['Novosibirsk', 'Russia', 'Novosibirsk Metro', '1986', '2010', '13', '159', '58.1', 'asia']\n",
      "['Saint Petersburg', 'Russia', 'Saint Petersburg Metro', '1955', '2019', '64', '1248', '495.0', 'asia']\n",
      "['Samara', 'Russia', 'Samara Metro', '1987', '2015', '10', '116', '8.8', 'asia']\n",
      "['Yekaterinburg', 'Russia', 'Yekaterinburg Metro', '1991', '2012', '9', '127', '27.3', 'asia']\n",
      "['Singapore', 'Singapore', 'Mass Rapid Transit', '1987', '2021', '127', '216', '738.4', 'asia']\n",
      "['Barcelona', 'Spain', 'Barcelona Metro', '1924', '2021', '166', '1472', '217.93', 'europe']\n",
      "['Bilbao', 'Spain', 'Metro Bilbao', '1995', '2020', '42', '451', '91.6', 'europe']\n",
      "['Madrid', 'Spain', 'Madrid Metro', '1919', '2019', '242', '2885', '349.8', 'europe']\n",
      "['Stockholm', 'Sweden', 'Stockholm Metro', '1950', '1994', '100', '108', '355.0', 'europe']\n",
      "['Lausanne', 'Switzerland', 'Lausanne MÃ©tro', '2008', '2008', '14', '59', '32.8', 'europe']\n",
      "['Kaohsiung', 'Taiwan', 'Kaohsiung Rapid Transit', '2008', '2012', '37', '427', '65.4', 'asia']\n",
      "['Taipei', 'Taiwan', 'Taipei Metro', '1996', '2020', '119', '1462', '695.7', 'asia']\n",
      "['Taichung', 'Taiwan', 'Taichung Metro', '2021', '2021', '18', '167', '0.0', 'asia']\n",
      "['Taoyuan', 'Taiwan', 'Taoyuan Metro', '2017', '2017', '22', '531', '28.0', 'asia']\n",
      "['Bangkok', 'Thailand', 'BTS Skytrain', '1999', '2021', '60', '682', '236.9', 'asia']\n",
      "['Bangkok', 'Thailand', 'Metropolitan Rapid Transit', '2004', '2019', '53', '71', '95.3', 'asia']\n",
      "['Adana', 'Turkey', 'Adana Metro', '2009', '2010', '13', '139', '14.0', 'asia']\n",
      "['Ankara', 'Turkey', 'Ankara Metro', '1997', '2017', '56', '6436', '66.4', 'asia']\n",
      "['Bursa', 'Turkey', 'Bursaray', '2002', '2014', '38', '389', '91.3', 'asia']\n",
      "['Istanbul', 'Turkey', 'Istanbul Metro', '1989', '2021', '107', '1357', '262.3', 'asia']\n",
      "['Ä°zmir', 'Turkey', 'Ä°zmir Metro', '2000', '2014', '17', '20', '100.0', 'asia']\n",
      "['Dnipro', 'Ukraine', 'Dnipro Metro', '1995', '1995', '6', '71', '3.55', 'europe']\n",
      "['Kharkiv', 'Ukraine', 'Kharkiv Metro', '1975', '2016', '30', '381', '128.1', 'europe']\n",
      "['Kyiv', 'Ukraine', 'Kyiv Metro', '1960', '2013', '52', '676', '279.5', 'europe']\n",
      "['Dubai', 'United Arab Emirates', 'Dubai Metro', '2009', '2021', '56', '895', '113.6', 'asia']\n",
      "['Glasgow', 'United Kingdom', 'Glasgow Subway', '1896', '1896', '15', '104', '12.7', 'europe']\n",
      "['London', 'United Kingdom', 'London Underground', '1890', '2021', '272', '4052', '296.0', 'europe']\n",
      "['London', 'United Kingdom', 'Docklands Light Railway', '1987', '2011', '45', '34', '39.9', 'europe']\n",
      "['Atlanta', 'United States', 'MARTA', '1979', '2000', '38', '766', '24.1', 'north_america']\n",
      "['Baltimore', 'United States', 'Baltimore Metro SubwayLink', '1983', '1995', '14', '249', '2.9', 'north_america']\n",
      "['Boston', 'United States', 'MBTA subway', '1901', '2014', '51', '61', '57.5', 'north_america']\n",
      "['Chicago', 'United States', 'Chicago \"L\"', '1892', '2017', '145', '1654', '76.0', 'north_america']\n",
      "['Cleveland', 'United States', 'RTA Rapid Transit: Red Line', '1955', '1968', '18', '31', '2.6', 'north_america']\n",
      "['Los Angeles', 'United States', 'Metro Rail', '1993', '2000', '16', '280', '22.8', 'north_america']\n",
      "['Miami', 'United States', 'Metrorail', '1984', '2012', '23', '401', '9.6', 'north_america']\n",
      "['New York City', 'United States', 'New York City Subway', '1904', '2017', '424', '399', '639.5', 'north_america']\n",
      "['New York City', 'United States', 'Staten Island Railway', '1925', '2017', '21', '225', '2.7', 'north_america']\n",
      "['New York City', 'United States', 'PATH', '1908', '1937', '13', '222', '29.7', 'north_america']\n",
      "['Philadelphia', 'United States', 'SEPTA', '1907', '1973', '75', '591', '37.7', 'north_america']\n",
      "['Philadelphia', 'United States', 'PATCO Speedline', '1936', '1980', '13', '229', '3.9', 'north_america']\n",
      "['San Francisco/Oakland', 'United States', 'BART', '1972', '2020', '47', '1868', '34.1', 'north_america']\n",
      "['San Juan', 'United States', 'Tren Urbano', '2004', '2005', '16', '172', '1.1', 'north_america']\n",
      "['Washington, D.C.', 'United States', 'Washington Metro', '1976', '2014', '91', '188', '68.1', 'north_america']\n",
      "['Tashkent', 'Uzbekistan', 'Tashkent Metro', '1977', '2020', '39', '571', '38.8', 'asia']\n",
      "['Caracas', 'Venezuela', 'Caracas Metro', '1983', '2015', '52', '672', '358.0', 'latin_america']\n",
      "['Hanoi', 'Vietnam', 'Hanoi Metro', '2021', '2021', '12', '131', '0.0', 'asia']\n"
     ]
    }
   ],
   "source": [
    "import csv\n",
    "\n",
    "# Open the CSV file for reading\n",
    "with open(\"metro countries cities.csv\", \"r\") as file:\n",
    "    # Create a reader object\n",
    "    reader = csv.reader(file)\n",
    "\n",
    "    # Read the rows of data\n",
    "    for row in reader:\n",
    "        # Process each row of data\n",
    "        print(row)"
   ]
  },
  {
   "cell_type": "code",
   "execution_count": null,
   "id": "2f259bf3",
   "metadata": {},
   "outputs": [],
   "source": []
  }
 ],
 "metadata": {
  "kernelspec": {
   "display_name": "Python 3 (ipykernel)",
   "language": "python",
   "name": "python3"
  },
  "language_info": {
   "codemirror_mode": {
    "name": "ipython",
    "version": 3
   },
   "file_extension": ".py",
   "mimetype": "text/x-python",
   "name": "python",
   "nbconvert_exporter": "python",
   "pygments_lexer": "ipython3",
   "version": "3.9.12"
  }
 },
 "nbformat": 4,
 "nbformat_minor": 5
}
