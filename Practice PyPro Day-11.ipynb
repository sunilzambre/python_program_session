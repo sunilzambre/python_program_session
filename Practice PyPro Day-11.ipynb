{
 "cells": [
  {
   "cell_type": "code",
   "execution_count": 1,
   "id": "9991725a",
   "metadata": {},
   "outputs": [
    {
     "name": "stdout",
     "output_type": "stream",
     "text": [
      "Enter a number=5\n",
      "factorial of 5 is 120\n"
     ]
    }
   ],
   "source": [
    "def facto(a):\n",
    "    fact=1\n",
    "    for p in range(a,0,-1):\n",
    "        fact=fact*p\n",
    "    return fact\n",
    "n=int(input(\"Enter a number=\"))\n",
    "res=facto(n)\n",
    "print(\"factorial of\",n,\"is\",res)"
   ]
  },
  {
   "cell_type": "code",
   "execution_count": 2,
   "id": "ad505d8a",
   "metadata": {},
   "outputs": [
    {
     "name": "stdout",
     "output_type": "stream",
     "text": [
      "Enter the value for n=4\n",
      "Enter the value for r=2\n",
      "Result is  6.0\n"
     ]
    }
   ],
   "source": [
    "def facto1(a):\n",
    "    fact=1\n",
    "    for p in range(a,0,-1):\n",
    "        fact=fact*p\n",
    "    return fact\n",
    "n=int(input(\"Enter the value for n=\"))\n",
    "r=int(input(\"Enter the value for r=\"))\n",
    "res=facto1(n)/(facto1(r)*facto1(n-r))\n",
    "print(\"Result is \",res)"
   ]
  },
  {
   "cell_type": "code",
   "execution_count": 3,
   "id": "f2783206",
   "metadata": {},
   "outputs": [
    {
     "name": "stdout",
     "output_type": "stream",
     "text": [
      "Enter a number:407\n",
      "407 is not a palindrome\n"
     ]
    }
   ],
   "source": [
    "num=int(input(\"Enter a number:\"))\n",
    "rev=\"\"\n",
    "a=num\n",
    "while num>0:\n",
    "    dg=num%10\n",
    "    num=num//10\n",
    "#     rev=rev+str(dg)\n",
    "    rev=rev*10+str(dg)\n",
    "# print(dg)\n",
    "\n",
    "if a==rev:\n",
    "    print(a,\"is a palindrome\")\n",
    "else:\n",
    "    print(a,\"is not a palindrome\")"
   ]
  },
  {
   "cell_type": "code",
   "execution_count": 4,
   "id": "c7c0f97e",
   "metadata": {},
   "outputs": [
    {
     "name": "stdout",
     "output_type": "stream",
     "text": [
      "Enter the string nursesrun\n",
      "nursesrun\n",
      "string is palindrome\n"
     ]
    }
   ],
   "source": [
    "a=input('Enter the string ')\n",
    "rev=\"\"\n",
    "for ch in a:\n",
    "    rev=ch+rev\n",
    "print(rev)\n",
    "if a==rev:\n",
    "    print(\"string is palindrome\")\n",
    "else:\n",
    "    print(\"string is not palindrome\")"
   ]
  },
  {
   "cell_type": "code",
   "execution_count": 5,
   "id": "1a08b4a9",
   "metadata": {},
   "outputs": [
    {
     "name": "stdout",
     "output_type": "stream",
     "text": [
      "Enter first side of traingle: 5\n",
      "Enter second side of traingle:4\n",
      "Enter third side of traingle: 3\n",
      "Area of traingle is= 6.0\n"
     ]
    }
   ],
   "source": [
    "import math\n",
    "a=float(input('Enter first side of traingle: '))\n",
    "b=float(input('Enter second side of traingle:'))\n",
    "c=float(input('Enter third side of traingle: '))\n",
    "s=(a+b+c)/2\n",
    "area=math.sqrt(s*(s-a)*(s-b)*(s-c))\n",
    "print('Area of traingle is=',area)"
   ]
  },
  {
   "cell_type": "code",
   "execution_count": 6,
   "id": "66c18f9d",
   "metadata": {},
   "outputs": [
    {
     "name": "stdout",
     "output_type": "stream",
     "text": [
      "Enter coefficient for a: 3\n",
      "Enter coefficient for b: 4\n",
      "Enter coefficient for c: 2\n",
      "No real roots are there\n"
     ]
    }
   ],
   "source": [
    "import math\n",
    "a=float(input('Enter coefficient for a: '))\n",
    "b=float(input('Enter coefficient for b: '))\n",
    "c=float(input('Enter coefficient for c: '))\n",
    "d=b*b-4*a*c\n",
    "if d>0:\n",
    "    r1=(-b+math.sqrt(d)/(2*a))\n",
    "    r2=(-b-math.sqrt(d)/(2*a))\n",
    "    print(\"Roots are real and unequal\",r1,\"is\",r2)\n",
    "elif d==0:\n",
    "    r1=-b/(2*a)\n",
    "    print(\"Roots are real and name\",r1)\n",
    "else:\n",
    "    print(\"No real roots are there\")    "
   ]
  },
  {
   "cell_type": "code",
   "execution_count": 7,
   "id": "ebd673bd",
   "metadata": {},
   "outputs": [
    {
     "name": "stdout",
     "output_type": "stream",
     "text": [
      "Enter the number: 123\n",
      "123 is not a perfect number\n"
     ]
    }
   ],
   "source": [
    "num=int(input('Enter the number: '))\n",
    "sum=0\n",
    "for a in range(1,num):\n",
    "    if num%a==0:\n",
    "        sum=sum+a\n",
    "if sum==num:\n",
    "    print(num,'is a perfect number')\n",
    "else:\n",
    "    print(num,\"is not a perfect number\")"
   ]
  },
  {
   "cell_type": "code",
   "execution_count": 8,
   "id": "b7e65e28",
   "metadata": {},
   "outputs": [
    {
     "name": "stdout",
     "output_type": "stream",
     "text": [
      "Enter starting number: 1\n",
      "Enter last number: 15\n",
      "List of prime number is  [1, 2, 3, 5, 7, 11, 13]\n"
     ]
    }
   ],
   "source": [
    "low=int(input('Enter starting number: '))\n",
    "hi=int(input('Enter last number: '))\n",
    "prime=[]\n",
    "for num in range(low,hi+1):\n",
    "    fact=0\n",
    "    for a in range(2,num):\n",
    "        if num%a==0:\n",
    "            fact=1\n",
    "            break\n",
    "    if fact==0:\n",
    "        prime.append(num)\n",
    "print(\"List of prime number is \",prime)"
   ]
  },
  {
   "cell_type": "code",
   "execution_count": 9,
   "id": "cb08014a",
   "metadata": {},
   "outputs": [
    {
     "name": "stdout",
     "output_type": "stream",
     "text": [
      "Enter a number: 7\n",
      "7 is prime number\n"
     ]
    }
   ],
   "source": [
    "num=int(input(\"Enter a number: \"))\n",
    "fact=0\n",
    "for a in range(2,num):\n",
    "    if num%a==0:\n",
    "        fact=fact+1\n",
    "        break\n",
    "if fact==0:\n",
    "    print(num,\"is prime number\")\n",
    "else:\n",
    "    print(num,\"is not prime number\")"
   ]
  },
  {
   "cell_type": "code",
   "execution_count": 10,
   "id": "46401e1b",
   "metadata": {},
   "outputs": [
    {
     "name": "stdout",
     "output_type": "stream",
     "text": [
      "Enter a number25\n",
      "Number is not an armstrong number\n"
     ]
    }
   ],
   "source": [
    "num=int(input(\"Enter a number\"))\n",
    "sum=0\n",
    "a=num\n",
    "while num>0:\n",
    "    dg=num%10\n",
    "    sum=sum+dg*dg*dg\n",
    "    num=num//10\n",
    "if a==sum:\n",
    "    print(\"Number is an armstrong number\")\n",
    "else:\n",
    "    print(\"Number is not an armstrong number\")"
   ]
  },
  {
   "cell_type": "code",
   "execution_count": 11,
   "id": "d10256c6",
   "metadata": {},
   "outputs": [
    {
     "name": "stdout",
     "output_type": "stream",
     "text": [
      "Enter two numbers to calculate L.C.M\n",
      "Enter first number: 20\n",
      "Enter second number: 10\n",
      "LCM of number is  20\n"
     ]
    }
   ],
   "source": [
    "print(\"Enter two numbers to calculate L.C.M\")\n",
    "a=int(input(\"Enter first number: \"))\n",
    "b=int(input(\"Enter second number: \"))\n",
    "for m in range(1,a*b+1):\n",
    "    if m%a==0 and m%b==0:\n",
    "        print(\"LCM of number is \",m)\n",
    "        break"
   ]
  }
 ],
 "metadata": {
  "kernelspec": {
   "display_name": "Python 3 (ipykernel)",
   "language": "python",
   "name": "python3"
  },
  "language_info": {
   "codemirror_mode": {
    "name": "ipython",
    "version": 3
   },
   "file_extension": ".py",
   "mimetype": "text/x-python",
   "name": "python",
   "nbconvert_exporter": "python",
   "pygments_lexer": "ipython3",
   "version": "3.9.12"
  }
 },
 "nbformat": 4,
 "nbformat_minor": 5
}
