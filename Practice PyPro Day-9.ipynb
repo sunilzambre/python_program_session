{
 "cells": [
  {
   "cell_type": "code",
   "execution_count": 1,
   "id": "3820c31b",
   "metadata": {},
   "outputs": [
    {
     "name": "stdout",
     "output_type": "stream",
     "text": [
      "---------------------\n",
      "Addition is 30\n",
      "Substraction is -10\n",
      "Multiplication is 200\n",
      "The division is 0.5 \n",
      "-----------------------------\n",
      "---------------------\n",
      "Addition is 5\n",
      "Substraction is 13\n",
      "Multiplication is -36\n",
      "The division is -2.25 \n",
      "-----------------------------\n",
      "---------------------\n",
      "Addition is -6\n",
      "Substraction is 0\n",
      "Multiplication is 9\n",
      "The division is 1.0 \n",
      "-----------------------------\n"
     ]
    }
   ],
   "source": [
    "def sub(a,b):\n",
    "    print('---------------------\\nAddition is',a+b)\n",
    "    print('Substraction is',a-b)\n",
    "    print('Multiplication is',a*b)\n",
    "    print('The division is',a/b,'\\n-----------------------------')\n",
    "sub(10,20)\n",
    "sub(9,-4)\n",
    "sub(-3,-3)"
   ]
  },
  {
   "cell_type": "code",
   "execution_count": 2,
   "id": "668a7d55",
   "metadata": {},
   "outputs": [
    {
     "name": "stdout",
     "output_type": "stream",
     "text": [
      "Hello sunil Good morning\n",
      "Hello sunil Good Morning\n"
     ]
    }
   ],
   "source": [
    "def wish(name,msg):\n",
    "    print('Hello',name,msg)\n",
    "wish(name='sunil',msg='Good morning')\n",
    "wish(msg='Good Morning',name='sunil')"
   ]
  },
  {
   "cell_type": "code",
   "execution_count": 3,
   "id": "26e796c4",
   "metadata": {},
   "outputs": [
    {
     "name": "stdout",
     "output_type": "stream",
     "text": [
      "Hello sunil Good Morning\n",
      "Hello Guest Good Morning\n"
     ]
    }
   ],
   "source": [
    "def dfault(name='Guest'):\n",
    "    print('Hello',name,'Good Morning')\n",
    "dfault('sunil')\n",
    "dfault()"
   ]
  },
  {
   "cell_type": "code",
   "execution_count": 4,
   "id": "112ae950",
   "metadata": {},
   "outputs": [
    {
     "name": "stdout",
     "output_type": "stream",
     "text": [
      "The names are  ('sunil', 'santosh', 'rahul', 'tushar', 100, 200, 400, 500)\n"
     ]
    }
   ],
   "source": [
    "def vl(*name):\n",
    "    print(\"The names are \",name)\n",
    "vl('sunil','santosh','rahul','tushar',100,200,400,500)"
   ]
  },
  {
   "cell_type": "code",
   "execution_count": 5,
   "id": "ad25adf4",
   "metadata": {},
   "outputs": [
    {
     "name": "stdout",
     "output_type": "stream",
     "text": [
      "The arguments are ('MSD', 'Cricket') and the keyword arguments are {'age': 41, 'DOB': 1980}\n"
     ]
    }
   ],
   "source": [
    "def life(*args,**kwargs):\n",
    "    print(\"The arguments are {} and the keyword arguments are {}\".format(args,kwargs))\n",
    "life('MSD','Cricket',age=41,DOB=1980)"
   ]
  },
  {
   "cell_type": "code",
   "execution_count": 6,
   "id": "a2184082",
   "metadata": {},
   "outputs": [
    {
     "name": "stdout",
     "output_type": "stream",
     "text": [
      "The arguments are (['sunil', 'zambre'], {'age': 37, 'DOB': 1990}) and the keyword arguments are {}\n"
     ]
    }
   ],
   "source": [
    "def instant(*args,**kwargs):\n",
    "    print(\"The arguments are {} and the keyword arguments are {}\".format(args,kwargs))\n",
    "lst=list(('sunil','zambre'))\n",
    "dictv={'age':37,'DOB':1990}\n",
    "instant(lst,dictv)"
   ]
  },
  {
   "cell_type": "code",
   "execution_count": 7,
   "id": "ebbad482",
   "metadata": {},
   "outputs": [
    {
     "name": "stdout",
     "output_type": "stream",
     "text": [
      "The arguments are ('sunil', 'zambre') and the keyword arguments are {'age': 37, 'DOB': 1990}\n"
     ]
    }
   ],
   "source": [
    "def instant(*args,**kwargs):\n",
    "    print(\"The arguments are {} and the keyword arguments are {}\".format(args,kwargs))\n",
    "lst=list(('sunil','zambre'))\n",
    "dictv={'age':37,'DOB':1990}\n",
    "instant(*lst,**dictv)"
   ]
  },
  {
   "cell_type": "code",
   "execution_count": 8,
   "id": "e11b39fa",
   "metadata": {},
   "outputs": [
    {
     "name": "stdout",
     "output_type": "stream",
     "text": [
      "10\n",
      "20\n",
      "30\n",
      "2\n",
      "3\n",
      "1\n",
      "2\n",
      "3\n",
      "4\n",
      "5\n",
      "6\n",
      "7\n"
     ]
    }
   ],
   "source": [
    "def funct1(*mylist):\n",
    "    for num in mylist:\n",
    "        print(num)\n",
    "    return\n",
    "funct1(10,20,30)\n",
    "funct1(2,3)\n",
    "funct1(1,2,3,4,5,6,7)"
   ]
  },
  {
   "cell_type": "code",
   "execution_count": 9,
   "id": "897e3a7d",
   "metadata": {},
   "outputs": [
    {
     "name": "stdout",
     "output_type": "stream",
     "text": [
      "10\n",
      "10\n",
      "20\n",
      "30\n",
      "40\n",
      "50\n",
      "10\n",
      "sunil\n",
      "20\n",
      "A\n",
      "30\n",
      "$%#@&\n"
     ]
    }
   ],
   "source": [
    " def fn2(n1,*s):\n",
    "        print(n1)\n",
    "        for s1 in s:\n",
    "            print(s1)\n",
    "fn2(10)\n",
    "fn2(10,20,30,40,50)\n",
    "fn2(10,'sunil',20,'A',30,'$%#@&')"
   ]
  },
  {
   "cell_type": "code",
   "execution_count": 10,
   "id": "a9fd5410",
   "metadata": {},
   "outputs": [
    {
     "name": "stdout",
     "output_type": "stream",
     "text": [
      "The sum is:  0\n",
      "The sum is:  10\n",
      "The sum is:  30\n",
      "The sum is:  100\n"
     ]
    }
   ],
   "source": [
    " def sum(*n):\n",
    "        total=0\n",
    "        for n1 in n:\n",
    "            total=total+n1\n",
    "        print('The sum is: ',total)\n",
    "sum()\n",
    "sum(10)\n",
    "sum(10,20)\n",
    "sum(10,20,30,40)"
   ]
  }
 ],
 "metadata": {
  "kernelspec": {
   "display_name": "Python 3 (ipykernel)",
   "language": "python",
   "name": "python3"
  },
  "language_info": {
   "codemirror_mode": {
    "name": "ipython",
    "version": 3
   },
   "file_extension": ".py",
   "mimetype": "text/x-python",
   "name": "python",
   "nbconvert_exporter": "python",
   "pygments_lexer": "ipython3",
   "version": "3.9.12"
  }
 },
 "nbformat": 4,
 "nbformat_minor": 5
}
