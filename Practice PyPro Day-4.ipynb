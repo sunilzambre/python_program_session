{
 "cells": [
  {
   "cell_type": "code",
   "execution_count": 1,
   "id": "03a50db4",
   "metadata": {},
   "outputs": [
    {
     "name": "stdout",
     "output_type": "stream",
     "text": [
      "a+b 12.5\n",
      "a-b 8.5\n",
      "a*b 21.0\n",
      "a/b 5.25\n",
      "a//b 5.0\n",
      "a%b 0.5\n",
      "a**b 110.25\n"
     ]
    }
   ],
   "source": [
    "a=10.5\n",
    "b=2\n",
    "print('a+b',a+b)\n",
    "print('a-b',a-b)\n",
    "print('a*b',a*b)\n",
    "print('a/b',a/b)\n",
    "print('a//b', a//b)\n",
    "print('a%b',a%b)\n",
    "print('a**b',a**b)"
   ]
  },
  {
   "cell_type": "code",
   "execution_count": 2,
   "id": "3e052d5c",
   "metadata": {},
   "outputs": [
    {
     "name": "stdout",
     "output_type": "stream",
     "text": [
      "sunil10\n",
      "sunilsunilsunilsunilsunil\n"
     ]
    }
   ],
   "source": [
    "# \"sunil\"+10\n",
    "print(\"sunil\"+\"10\")\n",
    "# 2.5*'sunil'\n",
    "print(5*'sunil')\n",
    "# 'sunil'*'sunil'"
   ]
  },
  {
   "cell_type": "code",
   "execution_count": 3,
   "id": "78cd8bdd",
   "metadata": {},
   "outputs": [
    {
     "name": "stdout",
     "output_type": "stream",
     "text": [
      "a>b False\n",
      "a<b True\n",
      "a<=b True\n",
      "a>=b False\n"
     ]
    }
   ],
   "source": [
    "a=45\n",
    "b=50\n",
    "print(\"a>b\",a>b)\n",
    "print(\"a<b\",a<b)\n",
    "print(\"a<=b\",a<=b)\n",
    "print(\"a>=b\",a>=b)"
   ]
  },
  {
   "cell_type": "code",
   "execution_count": 4,
   "id": "7f200d7c",
   "metadata": {},
   "outputs": [
    {
     "name": "stdout",
     "output_type": "stream",
     "text": [
      "a>b True\n",
      "a<b False\n",
      "a<=b False\n",
      "a>=b True\n"
     ]
    }
   ],
   "source": [
    "a='sunil'\n",
    "b='sun'\n",
    "print(\"a>b\",a>b)\n",
    "print(\"a<b\",a<b)\n",
    "print(\"a<=b\",a<=b)\n",
    "print(\"a>=b\",a>=b)"
   ]
  },
  {
   "cell_type": "code",
   "execution_count": 5,
   "id": "83cd7ef8",
   "metadata": {},
   "outputs": [
    {
     "name": "stdout",
     "output_type": "stream",
     "text": [
      "False\n",
      "True\n",
      "False\n",
      "True\n"
     ]
    }
   ],
   "source": [
    "print(True>True)\n",
    "print(True>=True)\n",
    "print(False>False)\n",
    "print(False>=False)\n",
    "#print(10>'sunil')"
   ]
  },
  {
   "cell_type": "code",
   "execution_count": 6,
   "id": "3399e7e1",
   "metadata": {},
   "outputs": [
    {
     "name": "stdout",
     "output_type": "stream",
     "text": [
      "a is not greater than b\n"
     ]
    }
   ],
   "source": [
    "a=10\n",
    "b=20\n",
    "if(a>b):\n",
    "    print('a is greater than b')\n",
    "else:\n",
    "    print('a is not greater than b')"
   ]
  },
  {
   "cell_type": "code",
   "execution_count": 7,
   "id": "90b5a099",
   "metadata": {},
   "outputs": [
    {
     "name": "stdout",
     "output_type": "stream",
     "text": [
      "True\n",
      "True\n",
      "True\n",
      "False\n"
     ]
    }
   ],
   "source": [
    "print(10<20)\n",
    "print(10<20<30)\n",
    "print(10<20<30<40<50)\n",
    "print(10<20<30<40>50)"
   ]
  },
  {
   "cell_type": "code",
   "execution_count": 8,
   "id": "f34bcc2e",
   "metadata": {},
   "outputs": [
    {
     "name": "stdout",
     "output_type": "stream",
     "text": [
      "False\n",
      "True\n",
      "False\n",
      "True\n",
      "True\n",
      "True\n",
      "False\n"
     ]
    }
   ],
   "source": [
    "print(10==20)\n",
    "print(10!=20)\n",
    "print(10==True)\n",
    "print(False==False)\n",
    "print(True==True)\n",
    "print('sunil'=='sunil')\n",
    "print(10=='sunil')"
   ]
  },
  {
   "cell_type": "code",
   "execution_count": 9,
   "id": "7e973b65",
   "metadata": {},
   "outputs": [
    {
     "name": "stdout",
     "output_type": "stream",
     "text": [
      "False\n",
      "False\n",
      "0\n",
      "0\n",
      "True\n",
      "True\n",
      "1\n",
      "1\n",
      "1\n",
      "0\n",
      "False\n",
      "True\n"
     ]
    }
   ],
   "source": [
    "print(True and False)\n",
    "print(True & False)\n",
    "print(1 & 0)\n",
    "print(0 & 1)\n",
    "print(True or True)\n",
    "print(True or False)\n",
    "print(1 | 1)\n",
    "print(1 | 0)\n",
    "print(0 | 1)\n",
    "print(0 | 0)\n",
    "print(10==20==30==40==50)\n",
    "print(10==10==10==10==10)"
   ]
  },
  {
   "cell_type": "code",
   "execution_count": 10,
   "id": "179d1a01",
   "metadata": {},
   "outputs": [
    {
     "name": "stdout",
     "output_type": "stream",
     "text": [
      "False\n",
      "True\n",
      "False\n",
      "True\n",
      "sunilzambre\n",
      "Tasgaon\n",
      "TasgaonSangli\n",
      "True\n",
      "False\n"
     ]
    }
   ],
   "source": [
    "print(not 1)\n",
    "print(not 0)\n",
    "print(not True)\n",
    "print(not False)\n",
    "print('sunil' and 'sunilzambre')\n",
    "# print('sunil' & 'sunil')\n",
    "# print('' and 'sunilzambre')\n",
    "# print('sunilzambre' and '')\n",
    "print('' or 'Tasgaon')\n",
    "print('TasgaonSangli' or '')\n",
    "print(not'')\n",
    "print(not 'sunil')  "
   ]
  },
  {
   "cell_type": "code",
   "execution_count": 11,
   "id": "2cb100c5",
   "metadata": {},
   "outputs": [
    {
     "name": "stdout",
     "output_type": "stream",
     "text": [
      "4\n",
      "True\n",
      "-6\n",
      "-2\n",
      "-1\n",
      "40\n",
      "2\n",
      "False\n",
      "1\n",
      "0\n",
      "-2\n",
      "-1\n",
      "4\n",
      "0\n"
     ]
    }
   ],
   "source": [
    "print(4 & 5)\n",
    "# print(10.5 & 5.6 )\n",
    "print(True & True)\n",
    "print(~5)\n",
    "print(~1)\n",
    "print(~0)\n",
    "print(10<<2)\n",
    "print(10>>2)\n",
    "print(True ^ True)\n",
    "print(1 ^ 0)\n",
    "print(0 ^ 0)\n",
    "print(~True)\n",
    "print(~False)\n",
    "print(True<<2)\n",
    "print(True>>2)"
   ]
  },
  {
   "cell_type": "code",
   "execution_count": 12,
   "id": "e3483a5d",
   "metadata": {},
   "outputs": [
    {
     "name": "stdout",
     "output_type": "stream",
     "text": [
      "100\n",
      "40\n"
     ]
    }
   ],
   "source": [
    "z=10\n",
    "# z+=20\n",
    "# z-=30\n",
    "z*=10\n",
    "print(z)\n",
    "\n",
    "a,b=10,20\n",
    "x=40 if a<b else 50\n",
    "print(x)"
   ]
  },
  {
   "cell_type": "code",
   "execution_count": 13,
   "id": "58c672fa",
   "metadata": {},
   "outputs": [
    {
     "name": "stdout",
     "output_type": "stream",
     "text": [
      "Enter the first number12 \n",
      "Enter the second number17\n",
      "Minumum value is=  12 \n"
     ]
    }
   ],
   "source": [
    "a=input('Enter the first number')\n",
    "b=input('Enter the second number')\n",
    "min=a if a < b else b\n",
    "print('Minumum value is= ',min)"
   ]
  },
  {
   "cell_type": "code",
   "execution_count": 14,
   "id": "6c2173ad",
   "metadata": {},
   "outputs": [
    {
     "name": "stdout",
     "output_type": "stream",
     "text": [
      "Enter the first number: 34\n",
      "Enter the second number: 67\n",
      "Enter the third number: 23\n",
      "Minumum value is:  23\n"
     ]
    }
   ],
   "source": [
    "a=int(input('Enter the first number: '))\n",
    "b=int(input('Enter the second number: '))\n",
    "c=int(input('Enter the third number: '))\n",
    "min=a if a<b and a<c else b if b<c else c\n",
    "print('Minumum value is: ',min)"
   ]
  },
  {
   "cell_type": "code",
   "execution_count": 15,
   "id": "2c41ca3f",
   "metadata": {},
   "outputs": [
    {
     "name": "stdout",
     "output_type": "stream",
     "text": [
      "Enter the first number: 65\n",
      "Enter the second number:91\n",
      "Enter the third number: 34\n",
      "\tMaximum value is: 91\n"
     ]
    }
   ],
   "source": [
    "a=int(input('Enter the first number: '))\n",
    "b=int(input('Enter the second number:'))\n",
    "c=int(input('Enter the third number: '))\n",
    "max=a if a>b and a>c else b if b>c else c\n",
    "print('\\tMaximum value is:',max)"
   ]
  },
  {
   "cell_type": "code",
   "execution_count": 16,
   "id": "24d3ad5f",
   "metadata": {},
   "outputs": [
    {
     "name": "stdout",
     "output_type": "stream",
     "text": [
      "Enter the first number: 102\n",
      "Enter the second number:130\n",
      "First number is less than second number\n"
     ]
    }
   ],
   "source": [
    "a=int(input('Enter the first number: '))\n",
    "b=int(input('Enter the second number:'))\n",
    "print('Both numbers are equal' if a==b else 'First number is less than second number' if a<b else 'First number greater than second number')"
   ]
  },
  {
   "cell_type": "code",
   "execution_count": 17,
   "id": "e35f9aa2",
   "metadata": {},
   "outputs": [
    {
     "name": "stdout",
     "output_type": "stream",
     "text": [
      "True\n",
      "True\n"
     ]
    }
   ],
   "source": [
    "a=25\n",
    "b=25\n",
    "print(a is b)\n",
    "\n",
    "x=True\n",
    "y=True\n",
    "print( x is y)"
   ]
  },
  {
   "cell_type": "code",
   "execution_count": 18,
   "id": "55b06610",
   "metadata": {},
   "outputs": [
    {
     "name": "stdout",
     "output_type": "stream",
     "text": [
      "2256754086128\n",
      "2256754086128\n",
      "True\n"
     ]
    }
   ],
   "source": [
    "s='sunil'\n",
    "z='sunil'\n",
    "print(id(s))\n",
    "print(id(z))\n",
    "print( s is z)"
   ]
  },
  {
   "cell_type": "code",
   "execution_count": 19,
   "id": "79d0ddd3",
   "metadata": {},
   "outputs": [
    {
     "name": "stdout",
     "output_type": "stream",
     "text": [
      "2256754185280\n",
      "2256754177664\n",
      "False\n",
      "True\n",
      "True\n"
     ]
    }
   ],
   "source": [
    "list1=['one','two','three']\n",
    "list2=['one','two','three']\n",
    "print(id(list1))\n",
    "print(id(list2))\n",
    "print(list1 is list2)\n",
    "print(list1 is not list2)\n",
    "print(list1==list2)"
   ]
  },
  {
   "cell_type": "code",
   "execution_count": 20,
   "id": "d596ea09",
   "metadata": {},
   "outputs": [
    {
     "name": "stdout",
     "output_type": "stream",
     "text": [
      "False\n",
      "True\n",
      "True\n",
      "True\n"
     ]
    }
   ],
   "source": [
    "mo='Hello learning python is something different!!!'\n",
    "print('k' in mo)\n",
    "print('d' in mo)\n",
    "print('x'!= mo)\n",
    "print('python' in mo)"
   ]
  },
  {
   "cell_type": "code",
   "execution_count": 21,
   "id": "79772ca9",
   "metadata": {},
   "outputs": [
    {
     "name": "stdout",
     "output_type": "stream",
     "text": [
      "23\n",
      "26\n",
      "14.0\n"
     ]
    }
   ],
   "source": [
    "print(3+10*2)\n",
    "print((3+10)*2)\n",
    "print((3/3)*4+20//2)"
   ]
  },
  {
   "cell_type": "code",
   "execution_count": 22,
   "id": "b690d50c",
   "metadata": {},
   "outputs": [
    {
     "name": "stdout",
     "output_type": "stream",
     "text": [
      "The operator precedence result of expression:  15.0\n",
      "The operator precedence result of expression:  15.0\n",
      "The operator precedence result of expression:  15.0\n",
      "The operator precedence result of expression:  15.0\n",
      "The operator precedence result of expression:  15.0\n",
      "The operator precedence result of expression:  15.0\n"
     ]
    }
   ],
   "source": [
    "print(\"The operator precedence result of expression: \",3/2*4+3+(10/5)**3-2)\n",
    "print(\"The operator precedence result of expression: \",3/2*4+3+2.0**3-2)\n",
    "print(\"The operator precedence result of expression: \",3/2*4+3+8.0-2)\n",
    "print(\"The operator precedence result of expression: \",1.5*4+3+8.0-2)\n",
    "print(\"The operator precedence result of expression: \",6.0+3+8.0-2)\n",
    "print(\"The operator precedence result of expression: \",15.0)"
   ]
  },
  {
   "cell_type": "code",
   "execution_count": 23,
   "id": "e47e1f1e",
   "metadata": {},
   "outputs": [
    {
     "name": "stdout",
     "output_type": "stream",
     "text": [
      "100.0\n",
      "100.0\n",
      "70.0\n"
     ]
    }
   ],
   "source": [
    "a=30\n",
    "b=20\n",
    "c=10\n",
    "d=5\n",
    "print((a+b)*c/d)\n",
    "print((a+b)*(c/d))\n",
    "print(a+(b*c)/d)"
   ]
  },
  {
   "cell_type": "code",
   "execution_count": 24,
   "id": "2ca38bee",
   "metadata": {},
   "outputs": [
    {
     "name": "stdout",
     "output_type": "stream",
     "text": [
      "5.0\n",
      "3.141592653589793\n"
     ]
    }
   ],
   "source": [
    "import math\n",
    "print(math.sqrt(25))\n",
    "print(math.pi)\n",
    "# print(math.sin(0))\n",
    "# print(math.cos(30))\n",
    "# print(math.sinh(45))"
   ]
  },
  {
   "cell_type": "code",
   "execution_count": 25,
   "id": "09dfb690",
   "metadata": {},
   "outputs": [
    {
     "name": "stdout",
     "output_type": "stream",
     "text": [
      "5.0\n",
      "3.141592653589793\n",
      "8.0\n",
      "20\n",
      "120\n",
      "7\n",
      "2\n",
      "0.8509035245341184\n",
      "1.0\n",
      "0.0\n",
      "-0.5984600690578581\n",
      "-0.4480736161291701\n"
     ]
    }
   ],
   "source": [
    "import math as m\n",
    "print(m.sqrt(25))\n",
    "print(m.pi)\n",
    "print(m.pow(2,3))\n",
    "print(m.floor(20.7869))\n",
    "print(m.factorial(5))\n",
    "print(m.trunc(7.34567889))\n",
    "print(m.gcd(10,2))\n",
    "print(m.sin(45))\n",
    "print(m.cos(0))\n",
    "print(m.sin(0))\n",
    "print(m.cos(180))\n",
    "print(m.cos(90))"
   ]
  },
  {
   "cell_type": "code",
   "execution_count": 26,
   "id": "0cc50f9b",
   "metadata": {},
   "outputs": [
    {
     "name": "stdout",
     "output_type": "stream",
     "text": [
      "5.0\n",
      "3.141592653589793\n",
      "3.141592653589793\n",
      "35\n",
      "10\n",
      "64.0\n"
     ]
    }
   ],
   "source": [
    "from math import sqrt,pi,ceil,floor,pow\n",
    "print(sqrt(25))\n",
    "print(pi)\n",
    "print(math.pi)\n",
    "print(ceil(34.45678))\n",
    "print(floor(10.345))\n",
    "print(pow(4,3))"
   ]
  },
  {
   "cell_type": "code",
   "execution_count": 28,
   "id": "7cb43184",
   "metadata": {},
   "outputs": [
    {
     "name": "stdout",
     "output_type": "stream",
     "text": [
      "Enter the value of radius:3\n",
      "Area of circle is 28.274333882308138\n"
     ]
    }
   ],
   "source": [
    "from math import pi\n",
    "r=eval(input(\"Enter the value of radius:\"))\n",
    "print('Area of circle is',pi*r**2)"
   ]
  },
  {
   "cell_type": "code",
   "execution_count": 29,
   "id": "2fd116e8",
   "metadata": {},
   "outputs": [
    {
     "name": "stdout",
     "output_type": "stream",
     "text": [
      "Enter the value:23\n",
      "<class 'str'>\n"
     ]
    }
   ],
   "source": [
    "x=input('Enter the value:')  \n",
    "print(type(x))"
   ]
  },
  {
   "cell_type": "code",
   "execution_count": 30,
   "id": "96e4b0fd",
   "metadata": {},
   "outputs": [
    {
     "name": "stdout",
     "output_type": "stream",
     "text": [
      "Enter first number21\n",
      "Enter second number25\n",
      "The sum of two number is: 46\n"
     ]
    }
   ],
   "source": [
    "x=input('Enter first number')\n",
    "y=input('Enter second number')\n",
    "i=int(x)\n",
    "j=int(y)\n",
    "print('The sum of two number is:',i+j)"
   ]
  },
  {
   "cell_type": "code",
   "execution_count": 31,
   "id": "27a80410",
   "metadata": {},
   "outputs": [
    {
     "name": "stdout",
     "output_type": "stream",
     "text": [
      "Enter fisrt number:12\n",
      "Enter second number:12\n",
      "The sum of two number is: 24\n"
     ]
    }
   ],
   "source": [
    "print(\"The sum of two number is:\",int(input('Enter fisrt number:'))+int(input('Enter second number:')))"
   ]
  },
  {
   "cell_type": "code",
   "execution_count": 32,
   "id": "653fdbd4",
   "metadata": {},
   "outputs": [
    {
     "name": "stdout",
     "output_type": "stream",
     "text": [
      "enter two number75 75\n",
      "product is 5625\n",
      "sum is 150\n"
     ]
    }
   ],
   "source": [
    "a,b=[int(x) for x in input('enter two number').split()]\n",
    "print('product is',a*b)\n",
    "print('sum is',a+b)"
   ]
  },
  {
   "cell_type": "code",
   "execution_count": 35,
   "id": "c9410c61",
   "metadata": {},
   "outputs": [
    {
     "name": "stdout",
     "output_type": "stream",
     "text": [
      "enter three number3.4,5.6,7.8\n",
      "The sum is: 16.8\n"
     ]
    }
   ],
   "source": [
    "a,b,c=[float(x) for x in input('enter three number').split(',')]\n",
    "print('The sum is:',a+b+c)"
   ]
  },
  {
   "cell_type": "code",
   "execution_count": 36,
   "id": "bc3df869",
   "metadata": {},
   "outputs": [
    {
     "data": {
      "text/plain": [
       "100"
      ]
     },
     "execution_count": 36,
     "metadata": {},
     "output_type": "execute_result"
    }
   ],
   "source": [
    "eval(\"10+20+30+40\")"
   ]
  },
  {
   "cell_type": "code",
   "execution_count": 37,
   "id": "eacef183",
   "metadata": {},
   "outputs": [
    {
     "name": "stdout",
     "output_type": "stream",
     "text": [
      "10,20,30\n",
      "10:20:30\n",
      "10~~~~~20~~~~~30\n"
     ]
    }
   ],
   "source": [
    "a,b,c=10,20,30\n",
    "print(a,b,c,sep=',')\n",
    "print(a,b,c,sep=':')\n",
    "print(a,b,c,sep='~~~~~')"
   ]
  },
  {
   "cell_type": "code",
   "execution_count": 38,
   "id": "124c41ca",
   "metadata": {},
   "outputs": [
    {
     "name": "stdout",
     "output_type": "stream",
     "text": [
      "Hello sunil zambre\n"
     ]
    }
   ],
   "source": [
    "print(\"Hello\",end=' ')\n",
    "print(\"sunil\",end=' ')\n",
    "print(\"zambre\")"
   ]
  },
  {
   "cell_type": "code",
   "execution_count": 39,
   "id": "feb6e2a6",
   "metadata": {},
   "outputs": [
    {
     "name": "stdout",
     "output_type": "stream",
     "text": [
      "Hello sunil Your age is 39\n",
      "You are studying c++ and python\n"
     ]
    }
   ],
   "source": [
    "w='sunil'\n",
    "a=39\n",
    "s1='c++'\n",
    "s2='python'\n",
    "print(\"Hello\",w,'Your age is',a)\n",
    "print('You are studying',s1,'and',s2)\n"
   ]
  },
  {
   "cell_type": "code",
   "execution_count": 40,
   "id": "9a4dcf2a",
   "metadata": {},
   "outputs": [
    {
     "name": "stdout",
     "output_type": "stream",
     "text": [
      "a value is 10\n",
      "b value is 20 and c value is 30\n"
     ]
    }
   ],
   "source": [
    "a=10\n",
    "b=20\n",
    "c=30\n",
    "print('a value is %i'%a)\n",
    "print('b value is %d and c value is %d'%(b,c))"
   ]
  },
  {
   "cell_type": "code",
   "execution_count": 41,
   "id": "726cb8a7",
   "metadata": {},
   "outputs": [
    {
     "name": "stdout",
     "output_type": "stream",
     "text": [
      "Hello sunil..The list of items are [10, 20, 30, 40, 50]\n"
     ]
    }
   ],
   "source": [
    "s='sunil'\n",
    "list1=[10,20,30,40,50]\n",
    "print(\"Hello %s..The list of items are %s\"%(s,list1))"
   ]
  },
  {
   "cell_type": "code",
   "execution_count": 42,
   "id": "4933e160",
   "metadata": {},
   "outputs": [
    {
     "name": "stdout",
     "output_type": "stream",
     "text": [
      "Hello sunil your salary is 25,000 you and your 'family' is enjoying these days\n",
      "Hello sunil your salary is 25,000 you and your 'family' is enjoying these days \n"
     ]
    }
   ],
   "source": [
    "name='sunil'\n",
    "salary='25,000'\n",
    "fami='family'\n",
    "print(\"Hello {0} your salary is {1} you and your \\'{2}\\' is enjoying these days\".format(name,salary,fami))\n",
    "print(\"Hello {x} your salary is {y} you and your \\'{z}\\' is enjoying these days \".format(x=name,y=salary,z=fami))"
   ]
  },
  {
   "cell_type": "code",
   "execution_count": 45,
   "id": "85c263e2",
   "metadata": {},
   "outputs": [
    {
     "name": "stdout",
     "output_type": "stream",
     "text": [
      "s u n i l   z a m b r e   s u n i l   z a m b r e   s u n i l   z a m b r e "
     ]
    },
    {
     "data": {
      "text/plain": [
       "3"
      ]
     },
     "execution_count": 45,
     "metadata": {},
     "output_type": "execute_result"
    }
   ],
   "source": [
    "s=\"sunil zambre sunil zambre sunil zambre\"\n",
    "for d in s:\n",
    "    print(d,end=\" \")\n",
    "s.count('sunil')"
   ]
  },
  {
   "cell_type": "code",
   "execution_count": 46,
   "id": "d316d1bd",
   "metadata": {},
   "outputs": [
    {
     "name": "stdout",
     "output_type": "stream",
     "text": [
      "Enter some string: sunil zambre\n",
      "The character present at  0 index s\n",
      "The character present at  1 index u\n",
      "The character present at  2 index n\n",
      "The character present at  3 index i\n",
      "The character present at  4 index l\n",
      "The character present at  5 index  \n",
      "The character present at  6 index z\n",
      "The character present at  7 index a\n",
      "The character present at  8 index m\n",
      "The character present at  9 index b\n",
      "The character present at  10 index r\n",
      "The character present at  11 index e\n"
     ]
    }
   ],
   "source": [
    "p=input('Enter some string: ')\n",
    "i=0\n",
    "for x in p:\n",
    "    print('The character present at ',i,'index',x)\n",
    "    i=i+1"
   ]
  },
  {
   "cell_type": "code",
   "execution_count": 47,
   "id": "e0aab273",
   "metadata": {},
   "outputs": [
    {
     "name": "stdout",
     "output_type": "stream",
     "text": [
      "HELLO\n",
      "HELLO\n",
      "HELLO\n",
      "HELLO\n",
      "HELLO\n",
      "HELLO\n",
      "HELLO\n",
      "HELLO\n",
      "HELLO\n",
      "HELLO\n"
     ]
    }
   ],
   "source": [
    "for x in range(10):\n",
    "    print('HELLO')"
   ]
  },
  {
   "cell_type": "code",
   "execution_count": 48,
   "id": "cd238a3e",
   "metadata": {},
   "outputs": [
    {
     "name": "stdout",
     "output_type": "stream",
     "text": [
      "0\n",
      "1\n",
      "2\n",
      "3\n",
      "4\n",
      "5\n",
      "6\n",
      "7\n",
      "8\n",
      "9\n",
      "10\n"
     ]
    }
   ],
   "source": [
    "for x in range(11):\n",
    "    print(x)"
   ]
  },
  {
   "cell_type": "code",
   "execution_count": 49,
   "id": "b8cc0380",
   "metadata": {},
   "outputs": [
    {
     "name": "stdout",
     "output_type": "stream",
     "text": [
      "1\n",
      "3\n",
      "5\n",
      "7\n",
      "9\n",
      "11\n",
      "13\n",
      "15\n",
      "17\n",
      "19\n"
     ]
    }
   ],
   "source": [
    " for x in range(21):\n",
    "        if x%2!=0:\n",
    "            print(x)"
   ]
  },
  {
   "cell_type": "code",
   "execution_count": 50,
   "id": "c7dd81e3",
   "metadata": {},
   "outputs": [
    {
     "name": "stdout",
     "output_type": "stream",
     "text": [
      "10\n",
      "9\n",
      "8\n",
      "7\n",
      "6\n",
      "5\n",
      "4\n",
      "3\n",
      "2\n",
      "1\n"
     ]
    }
   ],
   "source": [
    "for x in range(10,0,-1):\n",
    "    print(x)"
   ]
  },
  {
   "cell_type": "code",
   "execution_count": 51,
   "id": "e6024135",
   "metadata": {},
   "outputs": [
    {
     "name": "stdout",
     "output_type": "stream",
     "text": [
      "1\n",
      "2\n",
      "3\n",
      "4\n",
      "5\n",
      "6\n",
      "7\n",
      "8\n",
      "9\n",
      "10\n"
     ]
    }
   ],
   "source": [
    "t=1\n",
    "while t<=10:\n",
    "    print(t)\n",
    "    t=t+1"
   ]
  },
  {
   "cell_type": "code",
   "execution_count": 52,
   "id": "fce42691",
   "metadata": {},
   "outputs": [
    {
     "name": "stdout",
     "output_type": "stream",
     "text": [
      "0\n",
      "1\n",
      "2\n",
      "3\n",
      "4\n",
      "5\n",
      "6\n",
      "processing is enough...please break\n"
     ]
    }
   ],
   "source": [
    "for i in range(20):\n",
    "    if i==7:\n",
    "        print('processing is enough...please break')\n",
    "        break                \n",
    "    print(i)"
   ]
  },
  {
   "cell_type": "code",
   "execution_count": 53,
   "id": "4db14377",
   "metadata": {},
   "outputs": [
    {
     "name": "stdout",
     "output_type": "stream",
     "text": [
      "1\n",
      "3\n",
      "5\n",
      "7\n",
      "9\n"
     ]
    }
   ],
   "source": [
    "for i in range(10):\n",
    "    if i%2==0:\n",
    "        continue\n",
    "    print(i)"
   ]
  },
  {
   "cell_type": "code",
   "execution_count": 54,
   "id": "93568ee0",
   "metadata": {},
   "outputs": [
    {
     "name": "stdout",
     "output_type": "stream",
     "text": [
      "10\n",
      "20\n",
      "30\n",
      "40\n",
      "50\n",
      "To place this order insurance must be required\n"
     ]
    }
   ],
   "source": [
    "cart=[10,20,30,40,50,600,700]\n",
    "for item in cart:\n",
    "    if item>500:\n",
    "        print('To place this order insurance must be required')\n",
    "        break\n",
    "    print(item)"
   ]
  },
  {
   "cell_type": "code",
   "execution_count": 55,
   "id": "bf704037",
   "metadata": {},
   "outputs": [
    {
     "name": "stdout",
     "output_type": "stream",
     "text": [
      "10\n",
      "20\n",
      "30\n",
      "40\n",
      "499.5\n",
      "we cannot process this item 600\n",
      "we cannot process this item 700.9\n",
      "110\n",
      "107\n"
     ]
    }
   ],
   "source": [
    "cart=[10,20,30,40,499.5,600,700.90,110,107]\n",
    "for item in cart:\n",
    "    if item>=500:\n",
    "        print('we cannot process this item',item)\n",
    "        continue\n",
    "    print(item)"
   ]
  },
  {
   "cell_type": "code",
   "execution_count": 56,
   "id": "e6c46dcc",
   "metadata": {},
   "outputs": [
    {
     "name": "stdout",
     "output_type": "stream",
     "text": [
      "100/10=10.0\n",
      "100/20=5.0\n",
      "How we can divide with zero...just skipping\n",
      "100/5=20.0\n",
      "How we can divide with zero...just skipping\n",
      "100/30=3.3333333333333335\n"
     ]
    }
   ],
   "source": [
    "num=[10,20,0,5,0,30]\n",
    "for n in num:\n",
    "    if n==0:\n",
    "        print('How we can divide with zero...just skipping')\n",
    "        continue\n",
    "    print(\"100/{}={}\".format(n,100/n))"
   ]
  },
  {
   "cell_type": "code",
   "execution_count": null,
   "id": "4190fffe",
   "metadata": {},
   "outputs": [],
   "source": []
  }
 ],
 "metadata": {
  "kernelspec": {
   "display_name": "Python 3 (ipykernel)",
   "language": "python",
   "name": "python3"
  },
  "language_info": {
   "codemirror_mode": {
    "name": "ipython",
    "version": 3
   },
   "file_extension": ".py",
   "mimetype": "text/x-python",
   "name": "python",
   "nbconvert_exporter": "python",
   "pygments_lexer": "ipython3",
   "version": "3.9.12"
  }
 },
 "nbformat": 4,
 "nbformat_minor": 5
}
