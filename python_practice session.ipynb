{
 "cells": [
  {
   "cell_type": "code",
   "execution_count": 1,
   "id": "6b4ae010",
   "metadata": {},
   "outputs": [],
   "source": [
    "import numpy as np\n",
    "import pandas as pd \n",
    "import seaborn as sns\n",
    "import matplotlib.pyplot as plt"
   ]
  },
  {
   "cell_type": "code",
   "execution_count": 2,
   "id": "ceb7c842",
   "metadata": {},
   "outputs": [],
   "source": [
    "#Create a two data frame \n",
    "df1=pd.DataFrame({'A':['A1','A2','A3','A4','A5'],\n",
    "                  'B':['B1','B2','B3','B4','B5'],\n",
    "                  'C':['C1','C2','C3','C4','C5'],\n",
    "                  'D':['D1','D2','D3','D4','D5']\n",
    "                 })\n",
    "\n",
    "df2=pd.DataFrame({'A':['A6','A7','A8','A9','A10'],\n",
    "                  'B':['B6','B7','B8','B9','B10'],\n",
    "                  'C':['C6','C7','C8','C9',\"C10\"],\n",
    "                  'D':['D6','D7','D8','D9','D10']\n",
    "                 })"
   ]
  },
  {
   "cell_type": "code",
   "execution_count": 3,
   "id": "8bf8abad",
   "metadata": {},
   "outputs": [],
   "source": [
    "#Concatenate the two data frames\n",
    "result=pd.concat([df1,df2],axis=1)"
   ]
  },
  {
   "cell_type": "code",
   "execution_count": 4,
   "id": "11971926",
   "metadata": {},
   "outputs": [
    {
     "name": "stdout",
     "output_type": "stream",
     "text": [
      "The concatenate dataframe result is\n",
      "    A   B   C   D    A    B    C    D\n",
      "0  A1  B1  C1  D1   A6   B6   C6   D6\n",
      "1  A2  B2  C2  D2   A7   B7   C7   D7\n",
      "2  A3  B3  C3  D3   A8   B8   C8   D8\n",
      "3  A4  B4  C4  D4   A9   B9   C9   D9\n",
      "4  A5  B5  C5  D5  A10  B10  C10  D10\n"
     ]
    }
   ],
   "source": [
    "print(\"The concatenate dataframe result is\\n{}\".format(result))"
   ]
  },
  {
   "cell_type": "code",
   "execution_count": 5,
   "id": "e6d4c415",
   "metadata": {},
   "outputs": [],
   "source": [
    "result1=pd.concat([df1,df2]).reset_index(drop=True)"
   ]
  },
  {
   "cell_type": "code",
   "execution_count": 6,
   "id": "7808309f",
   "metadata": {},
   "outputs": [
    {
     "name": "stdout",
     "output_type": "stream",
     "text": [
      "The old dataframe name is result1\n",
      "      A    B    C    D\n",
      "0   A1   B1   C1   D1\n",
      "1   A2   B2   C2   D2\n",
      "2   A3   B3   C3   D3\n",
      "3   A4   B4   C4   D4\n",
      "4   A5   B5   C5   D5\n",
      "5   A6   B6   C6   D6\n",
      "6   A7   B7   C7   D7\n",
      "7   A8   B8   C8   D8\n",
      "8   A9   B9   C9   D9\n",
      "9  A10  B10  C10  D10\n"
     ]
    }
   ],
   "source": [
    "print(\"The old dataframe name is result1\\n\",result1)"
   ]
  },
  {
   "cell_type": "code",
   "execution_count": 7,
   "id": "e571830b",
   "metadata": {},
   "outputs": [
    {
     "name": "stdout",
     "output_type": "stream",
     "text": [
      "The old dataframe name is result     A   B   C   D    A    B    C    D\n",
      "0  A1  B1  C1  D1   A6   B6   C6   D6\n",
      "1  A2  B2  C2  D2   A7   B7   C7   D7\n",
      "2  A3  B3  C3  D3   A8   B8   C8   D8\n",
      "3  A4  B4  C4  D4   A9   B9   C9   D9\n",
      "4  A5  B5  C5  D5  A10  B10  C10  D10\n"
     ]
    }
   ],
   "source": [
    "print(\"The old dataframe name is result\",result)"
   ]
  },
  {
   "cell_type": "code",
   "execution_count": 8,
   "id": "56f7ec75",
   "metadata": {},
   "outputs": [
    {
     "name": "stdout",
     "output_type": "stream",
     "text": [
      "The old dataframe name is result1      A    B    C    D\n",
      "0   A1   B1   C1   D1\n",
      "1   A2   B2   C2   D2\n",
      "2   A3   B3   C3   D3\n",
      "3   A4   B4   C4   D4\n",
      "4   A5   B5   C5   D5\n",
      "5   A6   B6   C6   D6\n",
      "6   A7   B7   C7   D7\n",
      "7   A8   B8   C8   D8\n",
      "8   A9   B9   C9   D9\n",
      "9  A10  B10  C10  D10\n"
     ]
    }
   ],
   "source": [
    "print(\"The old dataframe name is result1\",result1)"
   ]
  },
  {
   "cell_type": "code",
   "execution_count": 9,
   "id": "2067a401",
   "metadata": {},
   "outputs": [
    {
     "name": "stdout",
     "output_type": "stream",
     "text": [
      "Original DataFrame:\n",
      "\n",
      "     A    B    C    D\n",
      "0   A1   B1   C1   D1\n",
      "1   A2   B2   C2   D2\n",
      "2   A3   B3   C3   D3\n",
      "3   A4   B4   C4   D4\n",
      "4   A5   B5   C5   D5\n",
      "5   A6   B6   C6   D6\n",
      "6   A7   B7   C7   D7\n",
      "7   A8   B8   C8   D8\n",
      "8   A9   B9   C9   D9\n",
      "9  A10  B10  C10  D10\n"
     ]
    }
   ],
   "source": [
    "# DataFrame without any styling\n",
    "print(\"Original DataFrame:\\n\")\n",
    "print(result1)                                     "
   ]
  },
  {
   "cell_type": "code",
   "execution_count": 10,
   "id": "a3cebbf6",
   "metadata": {},
   "outputs": [
    {
     "name": "stdout",
     "output_type": "stream",
     "text": [
      "\n",
      "Modified Stlying DataFrame:\n"
     ]
    },
    {
     "data": {
      "text/html": [
       "<style type=\"text/css\">\n",
       "#T_adaa6_row0_col0, #T_adaa6_row0_col1, #T_adaa6_row0_col2, #T_adaa6_row0_col3, #T_adaa6_row1_col0, #T_adaa6_row1_col1, #T_adaa6_row1_col2, #T_adaa6_row1_col3, #T_adaa6_row2_col0, #T_adaa6_row2_col1, #T_adaa6_row2_col2, #T_adaa6_row2_col3, #T_adaa6_row3_col0, #T_adaa6_row3_col1, #T_adaa6_row3_col2, #T_adaa6_row3_col3, #T_adaa6_row4_col0, #T_adaa6_row4_col1, #T_adaa6_row4_col2, #T_adaa6_row4_col3, #T_adaa6_row5_col0, #T_adaa6_row5_col1, #T_adaa6_row5_col2, #T_adaa6_row5_col3, #T_adaa6_row6_col0, #T_adaa6_row6_col1, #T_adaa6_row6_col2, #T_adaa6_row6_col3, #T_adaa6_row7_col0, #T_adaa6_row7_col1, #T_adaa6_row7_col2, #T_adaa6_row7_col3, #T_adaa6_row8_col0, #T_adaa6_row8_col1, #T_adaa6_row8_col2, #T_adaa6_row8_col3, #T_adaa6_row9_col0, #T_adaa6_row9_col1, #T_adaa6_row9_col2, #T_adaa6_row9_col3 {\n",
       "  background-color: green;\n",
       "  color: orange;\n",
       "}\n",
       "</style>\n",
       "<table id=\"T_adaa6\">\n",
       "  <thead>\n",
       "    <tr>\n",
       "      <th class=\"blank level0\" >&nbsp;</th>\n",
       "      <th id=\"T_adaa6_level0_col0\" class=\"col_heading level0 col0\" >A</th>\n",
       "      <th id=\"T_adaa6_level0_col1\" class=\"col_heading level0 col1\" >B</th>\n",
       "      <th id=\"T_adaa6_level0_col2\" class=\"col_heading level0 col2\" >C</th>\n",
       "      <th id=\"T_adaa6_level0_col3\" class=\"col_heading level0 col3\" >D</th>\n",
       "    </tr>\n",
       "  </thead>\n",
       "  <tbody>\n",
       "    <tr>\n",
       "      <th id=\"T_adaa6_level0_row0\" class=\"row_heading level0 row0\" >0</th>\n",
       "      <td id=\"T_adaa6_row0_col0\" class=\"data row0 col0\" >A1</td>\n",
       "      <td id=\"T_adaa6_row0_col1\" class=\"data row0 col1\" >B1</td>\n",
       "      <td id=\"T_adaa6_row0_col2\" class=\"data row0 col2\" >C1</td>\n",
       "      <td id=\"T_adaa6_row0_col3\" class=\"data row0 col3\" >D1</td>\n",
       "    </tr>\n",
       "    <tr>\n",
       "      <th id=\"T_adaa6_level0_row1\" class=\"row_heading level0 row1\" >1</th>\n",
       "      <td id=\"T_adaa6_row1_col0\" class=\"data row1 col0\" >A2</td>\n",
       "      <td id=\"T_adaa6_row1_col1\" class=\"data row1 col1\" >B2</td>\n",
       "      <td id=\"T_adaa6_row1_col2\" class=\"data row1 col2\" >C2</td>\n",
       "      <td id=\"T_adaa6_row1_col3\" class=\"data row1 col3\" >D2</td>\n",
       "    </tr>\n",
       "    <tr>\n",
       "      <th id=\"T_adaa6_level0_row2\" class=\"row_heading level0 row2\" >2</th>\n",
       "      <td id=\"T_adaa6_row2_col0\" class=\"data row2 col0\" >A3</td>\n",
       "      <td id=\"T_adaa6_row2_col1\" class=\"data row2 col1\" >B3</td>\n",
       "      <td id=\"T_adaa6_row2_col2\" class=\"data row2 col2\" >C3</td>\n",
       "      <td id=\"T_adaa6_row2_col3\" class=\"data row2 col3\" >D3</td>\n",
       "    </tr>\n",
       "    <tr>\n",
       "      <th id=\"T_adaa6_level0_row3\" class=\"row_heading level0 row3\" >3</th>\n",
       "      <td id=\"T_adaa6_row3_col0\" class=\"data row3 col0\" >A4</td>\n",
       "      <td id=\"T_adaa6_row3_col1\" class=\"data row3 col1\" >B4</td>\n",
       "      <td id=\"T_adaa6_row3_col2\" class=\"data row3 col2\" >C4</td>\n",
       "      <td id=\"T_adaa6_row3_col3\" class=\"data row3 col3\" >D4</td>\n",
       "    </tr>\n",
       "    <tr>\n",
       "      <th id=\"T_adaa6_level0_row4\" class=\"row_heading level0 row4\" >4</th>\n",
       "      <td id=\"T_adaa6_row4_col0\" class=\"data row4 col0\" >A5</td>\n",
       "      <td id=\"T_adaa6_row4_col1\" class=\"data row4 col1\" >B5</td>\n",
       "      <td id=\"T_adaa6_row4_col2\" class=\"data row4 col2\" >C5</td>\n",
       "      <td id=\"T_adaa6_row4_col3\" class=\"data row4 col3\" >D5</td>\n",
       "    </tr>\n",
       "    <tr>\n",
       "      <th id=\"T_adaa6_level0_row5\" class=\"row_heading level0 row5\" >5</th>\n",
       "      <td id=\"T_adaa6_row5_col0\" class=\"data row5 col0\" >A6</td>\n",
       "      <td id=\"T_adaa6_row5_col1\" class=\"data row5 col1\" >B6</td>\n",
       "      <td id=\"T_adaa6_row5_col2\" class=\"data row5 col2\" >C6</td>\n",
       "      <td id=\"T_adaa6_row5_col3\" class=\"data row5 col3\" >D6</td>\n",
       "    </tr>\n",
       "    <tr>\n",
       "      <th id=\"T_adaa6_level0_row6\" class=\"row_heading level0 row6\" >6</th>\n",
       "      <td id=\"T_adaa6_row6_col0\" class=\"data row6 col0\" >A7</td>\n",
       "      <td id=\"T_adaa6_row6_col1\" class=\"data row6 col1\" >B7</td>\n",
       "      <td id=\"T_adaa6_row6_col2\" class=\"data row6 col2\" >C7</td>\n",
       "      <td id=\"T_adaa6_row6_col3\" class=\"data row6 col3\" >D7</td>\n",
       "    </tr>\n",
       "    <tr>\n",
       "      <th id=\"T_adaa6_level0_row7\" class=\"row_heading level0 row7\" >7</th>\n",
       "      <td id=\"T_adaa6_row7_col0\" class=\"data row7 col0\" >A8</td>\n",
       "      <td id=\"T_adaa6_row7_col1\" class=\"data row7 col1\" >B8</td>\n",
       "      <td id=\"T_adaa6_row7_col2\" class=\"data row7 col2\" >C8</td>\n",
       "      <td id=\"T_adaa6_row7_col3\" class=\"data row7 col3\" >D8</td>\n",
       "    </tr>\n",
       "    <tr>\n",
       "      <th id=\"T_adaa6_level0_row8\" class=\"row_heading level0 row8\" >8</th>\n",
       "      <td id=\"T_adaa6_row8_col0\" class=\"data row8 col0\" >A9</td>\n",
       "      <td id=\"T_adaa6_row8_col1\" class=\"data row8 col1\" >B9</td>\n",
       "      <td id=\"T_adaa6_row8_col2\" class=\"data row8 col2\" >C9</td>\n",
       "      <td id=\"T_adaa6_row8_col3\" class=\"data row8 col3\" >D9</td>\n",
       "    </tr>\n",
       "    <tr>\n",
       "      <th id=\"T_adaa6_level0_row9\" class=\"row_heading level0 row9\" >9</th>\n",
       "      <td id=\"T_adaa6_row9_col0\" class=\"data row9 col0\" >A10</td>\n",
       "      <td id=\"T_adaa6_row9_col1\" class=\"data row9 col1\" >B10</td>\n",
       "      <td id=\"T_adaa6_row9_col2\" class=\"data row9 col2\" >C10</td>\n",
       "      <td id=\"T_adaa6_row9_col3\" class=\"data row9 col3\" >D10</td>\n",
       "    </tr>\n",
       "  </tbody>\n",
       "</table>\n"
      ],
      "text/plain": [
       "<pandas.io.formats.style.Styler at 0x1aff85adbe0>"
      ]
     },
     "execution_count": 10,
     "metadata": {},
     "output_type": "execute_result"
    }
   ],
   "source": [
    "print(\"\\nModified Stlying DataFrame:\")\n",
    "result1.style.set_properties(**{'background-color': 'green','color': 'orange'}) "
   ]
  },
  {
   "cell_type": "code",
   "execution_count": 11,
   "id": "459f00cd",
   "metadata": {},
   "outputs": [],
   "source": [
    "#Rename the column using dictionary\n",
    "new_columns={'A':'Col1','B':'Col2','C':'Col3','D':'Col4'}\n",
    "new_df=result1.rename(columns=new_columns)"
   ]
  },
  {
   "cell_type": "code",
   "execution_count": 12,
   "id": "34733b7d",
   "metadata": {},
   "outputs": [
    {
     "name": "stdout",
     "output_type": "stream",
     "text": [
      "  Col1 Col2 Col3 Col4\n",
      "0   A1   B1   C1   D1\n",
      "1   A2   B2   C2   D2\n",
      "2   A3   B3   C3   D3\n",
      "3   A4   B4   C4   D4\n",
      "4   A5   B5   C5   D5\n",
      "5   A6   B6   C6   D6\n",
      "6   A7   B7   C7   D7\n",
      "7   A8   B8   C8   D8\n",
      "8   A9   B9   C9   D9\n",
      "9  A10  B10  C10  D10\n"
     ]
    }
   ],
   "source": [
    "print(new_df)"
   ]
  },
  {
   "cell_type": "code",
   "execution_count": 13,
   "id": "b2263ff4",
   "metadata": {},
   "outputs": [],
   "source": [
    "style_df=new_df.style"
   ]
  },
  {
   "cell_type": "code",
   "execution_count": 14,
   "id": "4042849b",
   "metadata": {},
   "outputs": [
    {
     "data": {
      "text/html": [
       "<style type=\"text/css\">\n",
       "</style>\n",
       "<table id=\"T_7c3d3\">\n",
       "  <thead>\n",
       "    <tr>\n",
       "      <th class=\"blank level0\" >&nbsp;</th>\n",
       "      <th id=\"T_7c3d3_level0_col0\" class=\"col_heading level0 col0\" >Col1</th>\n",
       "      <th id=\"T_7c3d3_level0_col1\" class=\"col_heading level0 col1\" >Col2</th>\n",
       "      <th id=\"T_7c3d3_level0_col2\" class=\"col_heading level0 col2\" >Col3</th>\n",
       "      <th id=\"T_7c3d3_level0_col3\" class=\"col_heading level0 col3\" >Col4</th>\n",
       "    </tr>\n",
       "  </thead>\n",
       "  <tbody>\n",
       "    <tr>\n",
       "      <th id=\"T_7c3d3_level0_row0\" class=\"row_heading level0 row0\" >0</th>\n",
       "      <td id=\"T_7c3d3_row0_col0\" class=\"data row0 col0\" >A1</td>\n",
       "      <td id=\"T_7c3d3_row0_col1\" class=\"data row0 col1\" >B1</td>\n",
       "      <td id=\"T_7c3d3_row0_col2\" class=\"data row0 col2\" >C1</td>\n",
       "      <td id=\"T_7c3d3_row0_col3\" class=\"data row0 col3\" >D1</td>\n",
       "    </tr>\n",
       "    <tr>\n",
       "      <th id=\"T_7c3d3_level0_row1\" class=\"row_heading level0 row1\" >1</th>\n",
       "      <td id=\"T_7c3d3_row1_col0\" class=\"data row1 col0\" >A2</td>\n",
       "      <td id=\"T_7c3d3_row1_col1\" class=\"data row1 col1\" >B2</td>\n",
       "      <td id=\"T_7c3d3_row1_col2\" class=\"data row1 col2\" >C2</td>\n",
       "      <td id=\"T_7c3d3_row1_col3\" class=\"data row1 col3\" >D2</td>\n",
       "    </tr>\n",
       "    <tr>\n",
       "      <th id=\"T_7c3d3_level0_row2\" class=\"row_heading level0 row2\" >2</th>\n",
       "      <td id=\"T_7c3d3_row2_col0\" class=\"data row2 col0\" >A3</td>\n",
       "      <td id=\"T_7c3d3_row2_col1\" class=\"data row2 col1\" >B3</td>\n",
       "      <td id=\"T_7c3d3_row2_col2\" class=\"data row2 col2\" >C3</td>\n",
       "      <td id=\"T_7c3d3_row2_col3\" class=\"data row2 col3\" >D3</td>\n",
       "    </tr>\n",
       "    <tr>\n",
       "      <th id=\"T_7c3d3_level0_row3\" class=\"row_heading level0 row3\" >3</th>\n",
       "      <td id=\"T_7c3d3_row3_col0\" class=\"data row3 col0\" >A4</td>\n",
       "      <td id=\"T_7c3d3_row3_col1\" class=\"data row3 col1\" >B4</td>\n",
       "      <td id=\"T_7c3d3_row3_col2\" class=\"data row3 col2\" >C4</td>\n",
       "      <td id=\"T_7c3d3_row3_col3\" class=\"data row3 col3\" >D4</td>\n",
       "    </tr>\n",
       "    <tr>\n",
       "      <th id=\"T_7c3d3_level0_row4\" class=\"row_heading level0 row4\" >4</th>\n",
       "      <td id=\"T_7c3d3_row4_col0\" class=\"data row4 col0\" >A5</td>\n",
       "      <td id=\"T_7c3d3_row4_col1\" class=\"data row4 col1\" >B5</td>\n",
       "      <td id=\"T_7c3d3_row4_col2\" class=\"data row4 col2\" >C5</td>\n",
       "      <td id=\"T_7c3d3_row4_col3\" class=\"data row4 col3\" >D5</td>\n",
       "    </tr>\n",
       "    <tr>\n",
       "      <th id=\"T_7c3d3_level0_row5\" class=\"row_heading level0 row5\" >5</th>\n",
       "      <td id=\"T_7c3d3_row5_col0\" class=\"data row5 col0\" >A6</td>\n",
       "      <td id=\"T_7c3d3_row5_col1\" class=\"data row5 col1\" >B6</td>\n",
       "      <td id=\"T_7c3d3_row5_col2\" class=\"data row5 col2\" >C6</td>\n",
       "      <td id=\"T_7c3d3_row5_col3\" class=\"data row5 col3\" >D6</td>\n",
       "    </tr>\n",
       "    <tr>\n",
       "      <th id=\"T_7c3d3_level0_row6\" class=\"row_heading level0 row6\" >6</th>\n",
       "      <td id=\"T_7c3d3_row6_col0\" class=\"data row6 col0\" >A7</td>\n",
       "      <td id=\"T_7c3d3_row6_col1\" class=\"data row6 col1\" >B7</td>\n",
       "      <td id=\"T_7c3d3_row6_col2\" class=\"data row6 col2\" >C7</td>\n",
       "      <td id=\"T_7c3d3_row6_col3\" class=\"data row6 col3\" >D7</td>\n",
       "    </tr>\n",
       "    <tr>\n",
       "      <th id=\"T_7c3d3_level0_row7\" class=\"row_heading level0 row7\" >7</th>\n",
       "      <td id=\"T_7c3d3_row7_col0\" class=\"data row7 col0\" >A8</td>\n",
       "      <td id=\"T_7c3d3_row7_col1\" class=\"data row7 col1\" >B8</td>\n",
       "      <td id=\"T_7c3d3_row7_col2\" class=\"data row7 col2\" >C8</td>\n",
       "      <td id=\"T_7c3d3_row7_col3\" class=\"data row7 col3\" >D8</td>\n",
       "    </tr>\n",
       "    <tr>\n",
       "      <th id=\"T_7c3d3_level0_row8\" class=\"row_heading level0 row8\" >8</th>\n",
       "      <td id=\"T_7c3d3_row8_col0\" class=\"data row8 col0\" >A9</td>\n",
       "      <td id=\"T_7c3d3_row8_col1\" class=\"data row8 col1\" >B9</td>\n",
       "      <td id=\"T_7c3d3_row8_col2\" class=\"data row8 col2\" >C9</td>\n",
       "      <td id=\"T_7c3d3_row8_col3\" class=\"data row8 col3\" >D9</td>\n",
       "    </tr>\n",
       "    <tr>\n",
       "      <th id=\"T_7c3d3_level0_row9\" class=\"row_heading level0 row9\" >9</th>\n",
       "      <td id=\"T_7c3d3_row9_col0\" class=\"data row9 col0\" >A10</td>\n",
       "      <td id=\"T_7c3d3_row9_col1\" class=\"data row9 col1\" >B10</td>\n",
       "      <td id=\"T_7c3d3_row9_col2\" class=\"data row9 col2\" >C10</td>\n",
       "      <td id=\"T_7c3d3_row9_col3\" class=\"data row9 col3\" >D10</td>\n",
       "    </tr>\n",
       "  </tbody>\n",
       "</table>\n"
      ],
      "text/plain": [
       "<pandas.io.formats.style.Styler at 0x1aff85ad130>"
      ]
     },
     "execution_count": 14,
     "metadata": {},
     "output_type": "execute_result"
    }
   ],
   "source": [
    "style_df"
   ]
  },
  {
   "cell_type": "code",
   "execution_count": 15,
   "id": "5051f6f7",
   "metadata": {},
   "outputs": [
    {
     "name": "stdout",
     "output_type": "stream",
     "text": [
      "Original dataframe:\n",
      "   Col1 Col2 Col3 Col4\n",
      "0   A1   B1   C1   D1\n",
      "1   A2   B2   C2   D2\n",
      "2   A3   B3   C3   D3\n",
      "3   A4   B4   C4   D4\n",
      "4   A5   B5   C5   D5\n",
      "5   A6   B6   C6   D6\n",
      "6   A7   B7   C7   D7\n",
      "7   A8   B8   C8   D8\n",
      "8   A9   B9   C9   D9\n",
      "9  A10  B10  C10  D10\n",
      "-------------------------\n",
      "Copy of dataframe :\n",
      "   Col1 Col2 Col3 Col4\n",
      "0   A1   B1   C1   D1\n",
      "1   A2   B2   C2   D2\n",
      "2   A3   B3   C3   D3\n",
      "3   A4   B4   C4   D4\n",
      "4   A5   B5   C5   D5\n",
      "5   A6   B6   C6   D6\n",
      "6   A7   B7   C7   D7\n",
      "7   A8   B8   C8   D8\n",
      "8   A9   B9   C9   D9\n",
      "9  A10  B10  C10  D10\n"
     ]
    }
   ],
   "source": [
    "copy_df=new_df.copy()\n",
    "\n",
    "print(\"Original dataframe:\\n\",new_df);print(\"-\"*25)\n",
    "\n",
    "print(\"Copy of dataframe :\\n\",copy_df)"
   ]
  },
  {
   "cell_type": "code",
   "execution_count": 16,
   "id": "f364e583",
   "metadata": {},
   "outputs": [
    {
     "data": {
      "text/plain": [
       "'1.21.5'"
      ]
     },
     "execution_count": 16,
     "metadata": {},
     "output_type": "execute_result"
    }
   ],
   "source": [
    "np.__version__"
   ]
  },
  {
   "cell_type": "code",
   "execution_count": 17,
   "id": "399a31fa",
   "metadata": {},
   "outputs": [],
   "source": [
    "#create a list comprising numbers from 0 to 9\n",
    "L = list(range(10))\n",
    "L1=list(range(20))"
   ]
  },
  {
   "cell_type": "code",
   "execution_count": 18,
   "id": "b703c601",
   "metadata": {},
   "outputs": [
    {
     "name": "stdout",
     "output_type": "stream",
     "text": [
      "The element in the list L is : [0, 1, 2, 3, 4, 5, 6, 7, 8, 9]\n",
      "The element in the list L1 is : [0, 1, 2, 3, 4, 5, 6, 7, 8, 9, 10, 11, 12, 13, 14, 15, 16, 17, 18, 19]\n"
     ]
    }
   ],
   "source": [
    "print(\"The element in the list L is :\",L)\n",
    "print(\"The element in the list L1 is :\",L1)"
   ]
  },
  {
   "cell_type": "code",
   "execution_count": 19,
   "id": "6c3e68d6",
   "metadata": {},
   "outputs": [
    {
     "data": {
      "text/plain": [
       "['0', '1', '2', '3', '4', '5', '6', '7', '8', '9']"
      ]
     },
     "execution_count": 19,
     "metadata": {},
     "output_type": "execute_result"
    }
   ],
   "source": [
    "#converting integers to string - this style of handling lists is known as list comprehension.\n",
    "[str(c) for c in L]"
   ]
  },
  {
   "cell_type": "code",
   "execution_count": 20,
   "id": "abb03b26",
   "metadata": {},
   "outputs": [
    {
     "data": {
      "text/plain": [
       "[int, int, int, int, int, int, int, int, int, int]"
      ]
     },
     "execution_count": 20,
     "metadata": {},
     "output_type": "execute_result"
    }
   ],
   "source": [
    "[type(item) for item in L]"
   ]
  },
  {
   "cell_type": "code",
   "execution_count": 21,
   "id": "e74e2e80",
   "metadata": {},
   "outputs": [
    {
     "data": {
      "text/plain": [
       "array([0, 0, 0, 0, 0, 0, 0, 0, 0, 0])"
      ]
     },
     "execution_count": 21,
     "metadata": {},
     "output_type": "execute_result"
    }
   ],
   "source": [
    "#Creating Arrays\n",
    "np.zeros(10,dtype=int)"
   ]
  },
  {
   "cell_type": "code",
   "execution_count": 22,
   "id": "88d28a87",
   "metadata": {},
   "outputs": [
    {
     "data": {
      "text/plain": [
       "array([[1., 1., 1., 1., 1.],\n",
       "       [1., 1., 1., 1., 1.],\n",
       "       [1., 1., 1., 1., 1.]])"
      ]
     },
     "execution_count": 22,
     "metadata": {},
     "output_type": "execute_result"
    }
   ],
   "source": [
    "#creating a 3 row x 5 column matrix\n",
    "np.ones((3,5),dtype=float)"
   ]
  },
  {
   "cell_type": "code",
   "execution_count": 23,
   "id": "e0e8b300",
   "metadata": {},
   "outputs": [
    {
     "data": {
      "text/plain": [
       "array([[1.23, 1.23, 1.23, 1.23, 1.23],\n",
       "       [1.23, 1.23, 1.23, 1.23, 1.23],\n",
       "       [1.23, 1.23, 1.23, 1.23, 1.23]])"
      ]
     },
     "execution_count": 23,
     "metadata": {},
     "output_type": "execute_result"
    }
   ],
   "source": [
    "#creating a matrix with a predefined value\n",
    "np.full((3,5),1.23)"
   ]
  },
  {
   "cell_type": "code",
   "execution_count": 24,
   "id": "9f82a437",
   "metadata": {},
   "outputs": [
    {
     "data": {
      "text/plain": [
       "array([ 0,  2,  4,  6,  8, 10, 12, 14, 16, 18])"
      ]
     },
     "execution_count": 24,
     "metadata": {},
     "output_type": "execute_result"
    }
   ],
   "source": [
    "#create an array with a set sequence\n",
    "np.arange(0,20,2)"
   ]
  },
  {
   "cell_type": "code",
   "execution_count": 25,
   "id": "a81bd1a4",
   "metadata": {},
   "outputs": [
    {
     "data": {
      "text/plain": [
       "array([0.  , 0.25, 0.5 , 0.75, 1.  ])"
      ]
     },
     "execution_count": 25,
     "metadata": {},
     "output_type": "execute_result"
    }
   ],
   "source": [
    "#create an array of even space between the given range of values\n",
    "np.linspace(0,1,5)"
   ]
  },
  {
   "cell_type": "code",
   "execution_count": 26,
   "id": "a1cc17ec",
   "metadata": {},
   "outputs": [
    {
     "data": {
      "text/plain": [
       "array([[-0.45236635,  0.90507986, -0.3266239 ],\n",
       "       [ 0.26041967, -0.43365285,  0.8634539 ],\n",
       "       [-0.4189624 ,  1.52350016, -0.40677646]])"
      ]
     },
     "execution_count": 26,
     "metadata": {},
     "output_type": "execute_result"
    }
   ],
   "source": [
    "#create a 3x3 array with mean 0 and standard deviation 1 in a given dimension\n",
    "np.random.normal(0,1,(3,3))"
   ]
  },
  {
   "cell_type": "code",
   "execution_count": 27,
   "id": "926f9ebe",
   "metadata": {},
   "outputs": [
    {
     "data": {
      "text/plain": [
       "array([[1., 0., 0.],\n",
       "       [0., 1., 0.],\n",
       "       [0., 0., 1.]])"
      ]
     },
     "execution_count": 27,
     "metadata": {},
     "output_type": "execute_result"
    }
   ],
   "source": [
    "#create an identity matrix\n",
    "np.eye(3)"
   ]
  },
  {
   "cell_type": "code",
   "execution_count": 28,
   "id": "291830ce",
   "metadata": {},
   "outputs": [],
   "source": [
    "#create an identity matrix\n",
    "np.random.seed(0)\n",
    "x1=np.random.randint(10,size=6) #one dimension\n",
    "x2=np.random.randint(10,size=(3,4))#two dimension\n",
    "x3=np.random.randint(10,size=(3,4,5))#three dimension"
   ]
  },
  {
   "cell_type": "code",
   "execution_count": 29,
   "id": "0476fb0d",
   "metadata": {},
   "outputs": [
    {
     "name": "stdout",
     "output_type": "stream",
     "text": [
      "x1 ndim  1\n",
      "x1 ndim  (6,)\n",
      "x1 ndim 6\n"
     ]
    }
   ],
   "source": [
    "print(\"x1 ndim \",x1.ndim)\n",
    "print(\"x1 ndim \",x1.shape)\n",
    "print(\"x1 ndim\",x1.size)"
   ]
  },
  {
   "cell_type": "code",
   "execution_count": 30,
   "id": "92918f03",
   "metadata": {},
   "outputs": [
    {
     "name": "stdout",
     "output_type": "stream",
     "text": [
      "x2 ndim  2\n",
      "x2 ndim  (3, 4)\n",
      "x2 ndim 12\n"
     ]
    }
   ],
   "source": [
    "print(\"x2 ndim \",x2.ndim)\n",
    "print(\"x2 ndim \",x2.shape)\n",
    "print(\"x2 ndim\",x2.size)"
   ]
  },
  {
   "cell_type": "code",
   "execution_count": 31,
   "id": "3b7a8f92",
   "metadata": {},
   "outputs": [
    {
     "name": "stdout",
     "output_type": "stream",
     "text": [
      "x3 ndim  3\n",
      "x3 ndim  (3, 4, 5)\n",
      "x3 ndim 60\n"
     ]
    }
   ],
   "source": [
    "print(\"x3 ndim \",x3.ndim)\n",
    "print(\"x3 ndim \",x3.shape)\n",
    "print(\"x3 ndim\",x3.size)"
   ]
  },
  {
   "cell_type": "code",
   "execution_count": 32,
   "id": "25dbd62a",
   "metadata": {},
   "outputs": [
    {
     "name": "stdout",
     "output_type": "stream",
     "text": [
      "[4 3 4 4 8 4]\n"
     ]
    }
   ],
   "source": [
    "#Array Indexing\n",
    "x1=np.array([4,3,4,4,8,4])\n",
    "print(x1)"
   ]
  },
  {
   "cell_type": "code",
   "execution_count": 33,
   "id": "b38b20c4",
   "metadata": {},
   "outputs": [
    {
     "data": {
      "text/plain": [
       "4"
      ]
     },
     "execution_count": 33,
     "metadata": {},
     "output_type": "execute_result"
    }
   ],
   "source": [
    "#Asess the value to index zero\n",
    "x1[0]"
   ]
  },
  {
   "cell_type": "code",
   "execution_count": 34,
   "id": "7f2e5b69",
   "metadata": {},
   "outputs": [
    {
     "data": {
      "text/plain": [
       "8"
      ]
     },
     "execution_count": 34,
     "metadata": {},
     "output_type": "execute_result"
    }
   ],
   "source": [
    "#asesss fifth value\n",
    "x1[4]"
   ]
  },
  {
   "cell_type": "code",
   "execution_count": 35,
   "id": "a4fbfe75",
   "metadata": {},
   "outputs": [
    {
     "data": {
      "text/plain": [
       "4"
      ]
     },
     "execution_count": 35,
     "metadata": {},
     "output_type": "execute_result"
    }
   ],
   "source": [
    "#get the last value\n",
    "x1[-1]"
   ]
  },
  {
   "cell_type": "code",
   "execution_count": 36,
   "id": "deaf2f12",
   "metadata": {},
   "outputs": [
    {
     "data": {
      "text/plain": [
       "8"
      ]
     },
     "execution_count": 36,
     "metadata": {},
     "output_type": "execute_result"
    }
   ],
   "source": [
    "#get the second last value\n",
    "x1[-2]"
   ]
  },
  {
   "cell_type": "code",
   "execution_count": 37,
   "id": "1a991311",
   "metadata": {},
   "outputs": [
    {
     "name": "stdout",
     "output_type": "stream",
     "text": [
      "[5 7 9]\n"
     ]
    }
   ],
   "source": [
    "ar1=np.array([1,2,3])\n",
    "ar2=np.array([4,5,6])\n",
    "result=ar1 + ar2\n",
    "print(result)"
   ]
  },
  {
   "cell_type": "code",
   "execution_count": 38,
   "id": "b01cfe14",
   "metadata": {},
   "outputs": [
    {
     "name": "stdout",
     "output_type": "stream",
     "text": [
      "[5 7 9]\n"
     ]
    }
   ],
   "source": [
    "nm_add=np.add(ar1,ar2)\n",
    "print(nm_add)"
   ]
  },
  {
   "cell_type": "code",
   "execution_count": 39,
   "id": "954dc937",
   "metadata": {},
   "outputs": [
    {
     "name": "stdout",
     "output_type": "stream",
     "text": [
      "[1 2 3]\n",
      "[[4 5 6]\n",
      " [7 8 9]]\n",
      "[[[1 2 3]\n",
      "  [4 5 6]\n",
      "  [7 8 9]]]\n"
     ]
    }
   ],
   "source": [
    "#create a 1D,2D, 3D array of list\n",
    "_1Dr=np.array([1,2,3])\n",
    "_2Dr=np.array([[4,5,6],[7,8,9]])\n",
    "_3Dr=np.array([[[1,2,3],[4,5,6],[7,8,9]]])\n",
    "print(_1Dr)\n",
    "print(_2Dr)\n",
    "print(_3Dr)"
   ]
  },
  {
   "cell_type": "code",
   "execution_count": 40,
   "id": "27226464",
   "metadata": {},
   "outputs": [
    {
     "name": "stdout",
     "output_type": "stream",
     "text": [
      "[0, 1, 2, 3, 4, 5, 6, 7, 8, 9, 10, 11, 12, 13, 14, 15, 16, 17, 18, 19]\n"
     ]
    }
   ],
   "source": [
    "c=[]\n",
    "for i in range(20):\n",
    "    c.append(i)\n",
    "print(c)"
   ]
  },
  {
   "cell_type": "code",
   "execution_count": 41,
   "id": "389d1ab8",
   "metadata": {},
   "outputs": [
    {
     "name": "stdout",
     "output_type": "stream",
     "text": [
      "[20, 60, 120]\n"
     ]
    }
   ],
   "source": [
    "a=[10,20,30]\n",
    "b=[2,3,4]\n",
    "c=[]\n",
    "for x in range(len(a)):\n",
    "    c.append(a[x]*b[x])\n",
    "print(c)"
   ]
  },
  {
   "cell_type": "code",
   "execution_count": 42,
   "id": "eb95056b",
   "metadata": {},
   "outputs": [
    {
     "name": "stdout",
     "output_type": "stream",
     "text": [
      "[0 1 2 3 4 5 6 7 8 9]\n"
     ]
    }
   ],
   "source": [
    "a=np.arange(10)\n",
    "print(a)"
   ]
  },
  {
   "cell_type": "markdown",
   "id": "ce1e4201",
   "metadata": {},
   "source": [
    "### Simple Linear regression"
   ]
  },
  {
   "cell_type": "code",
   "execution_count": 43,
   "id": "8e9e5bf1",
   "metadata": {},
   "outputs": [
    {
     "name": "stdout",
     "output_type": "stream",
     "text": [
      "Coefficients:  [0.6]\n",
      "Intercept:  2.1999999999999993\n",
      "Predicted y for x_new = 6:  [5.8]\n"
     ]
    }
   ],
   "source": [
    "import numpy as np\n",
    "from sklearn.linear_model import LinearRegression\n",
    "\n",
    "# Create sample data\n",
    "x = np.array([1, 2, 3, 4, 5]).reshape((-1, 1))\n",
    "y = np.array([2, 4, 5, 4, 5])\n",
    "\n",
    "# Create the linear regression model\n",
    "model = LinearRegression()\n",
    "\n",
    "# Fit the model to the data\n",
    "model.fit(x, y)\n",
    "\n",
    "# Print the model's coefficients\n",
    "print('Coefficients: ', model.coef_)\n",
    "print('Intercept: ', model.intercept_)\n",
    "\n",
    "# Predict using the model\n",
    "x_new = np.array([6]).reshape((-1, 1))\n",
    "y_new = model.predict(x_new)\n",
    "print('Predicted y for x_new = 6: ', y_new)"
   ]
  },
  {
   "cell_type": "code",
   "execution_count": 44,
   "id": "79e7f0ba",
   "metadata": {},
   "outputs": [
    {
     "data": {
      "image/png": "[encoded data removed]",
      "text/plain": [
       "<Figure size 432x288 with 1 Axes>"
      ]
     },
     "metadata": {
      "needs_background": "light"
     },
     "output_type": "display_data"
    }
   ],
   "source": [
    "import matplotlib.pyplot as plt\n",
    "\n",
    "y_pred = model.predict(x)\n",
    "# Plot the data points and the regression line\n",
    "plt.scatter(x, y)\n",
    "plt.plot(x, y_pred, color='red')\n",
    "plt.xlabel('X')\n",
    "plt.ylabel('Y')\n",
    "plt.title('Simple Linear Regression Model')\n",
    "plt.show()"
   ]
  },
  {
   "cell_type": "markdown",
   "id": "787a2821",
   "metadata": {},
   "source": [
    "### Multiple linear regression "
   ]
  },
  {
   "cell_type": "code",
   "execution_count": 45,
   "id": "0362ca79",
   "metadata": {},
   "outputs": [
    {
     "name": "stdout",
     "output_type": "stream",
     "text": [
      "Coefficients:  [0.44444444 0.44444444 0.44444444]\n",
      "Intercept:  1.3333333333333286\n",
      "Predicted y for X_new:  [5.33333333 9.33333333]\n"
     ]
    }
   ],
   "source": [
    "import numpy as np\n",
    "from sklearn.linear_model import LinearRegression\n",
    "\n",
    "# Create sample data\n",
    "X = np.array([[1, 2, 3], [4, 5, 6], [7, 8, 9], [10, 11, 12]])\n",
    "y = np.array([4, 8, 12, 16])\n",
    "\n",
    "# Create the linear regression model\n",
    "model = LinearRegression()\n",
    "\n",
    "# Fit the model to the data\n",
    "model.fit(X, y)\n",
    "\n",
    "# Print the model's coefficients\n",
    "print('Coefficients: ', model.coef_)\n",
    "print('Intercept: ', model.intercept_)\n",
    "\n",
    "# Predict using the model\n",
    "X_new = np.array([[2, 3, 4], [5, 6, 7]])\n",
    "y_new = model.predict(X_new)\n",
    "print('Predicted y for X_new: ', y_new)"
   ]
  },
  {
   "cell_type": "code",
   "execution_count": 46,
   "id": "5c575480",
   "metadata": {},
   "outputs": [
    {
     "data": {
      "image/png": "[encoded data removed]",
      "text/plain": [
       "<Figure size 432x288 with 1 Axes>"
      ]
     },
     "metadata": {
      "needs_background": "light"
     },
     "output_type": "display_data"
    }
   ],
   "source": [
    "import matplotlib.pyplot as plt\n",
    "\n",
    "# Make predictions using the model\n",
    "y_pred = model.predict(X)\n",
    "\n",
    "# Plot the actual y values versus the predicted y values\n",
    "plt.scatter(y, y_pred)\n",
    "plt.xlabel('Actual Y')\n",
    "plt.ylabel('Predicted Y')\n",
    "plt.title('Multiple Linear Regression Model')\n",
    "plt.show()"
   ]
  },
  {
   "cell_type": "markdown",
   "id": "eb86bf2b",
   "metadata": {},
   "source": [
    "### Non Linear regression using python Scipy Library"
   ]
  },
  {
   "cell_type": "code",
   "execution_count": 47,
   "id": "c671b1d9",
   "metadata": {},
   "outputs": [
    {
     "data": {
      "image/png": "[encoded data removed]",
      "text/plain": [
       "<Figure size 432x288 with 1 Axes>"
      ]
     },
     "metadata": {
      "needs_background": "light"
     },
     "output_type": "display_data"
    }
   ],
   "source": [
    "import numpy as np\n",
    "from scipy.optimize import curve_fit\n",
    "import matplotlib.pyplot as plt\n",
    "\n",
    "# Define the nonlinear function to fit\n",
    "def func(x, a, b, c):\n",
    "    return a * np.exp(-b * x) + c\n",
    "\n",
    "# Create sample data\n",
    "xdata = np.linspace(0, 4, 50)\n",
    "ydata = func(xdata, 2.5, 1.3, 0.5) + 0.2 * np.random.normal(size=len(xdata))\n",
    "\n",
    "# Fit the model to the data\n",
    "popt, pcov = curve_fit(func, xdata, ydata)\n",
    "\n",
    "# Plot the results\n",
    "plt.plot(xdata, ydata, 'b-', label='Actual Data')\n",
    "plt.plot(xdata, func(xdata, *popt), 'r-', label='Fitted Curve')\n",
    "plt.xlabel('X')\n",
    "plt.ylabel('Y')\n",
    "plt.title('Nonlinear Regression Model')\n",
    "plt.legend()\n",
    "plt.show()"
   ]
  },
  {
   "cell_type": "code",
   "execution_count": 48,
   "id": "f9aae3f4",
   "metadata": {},
   "outputs": [
    {
     "name": "stdout",
     "output_type": "stream",
     "text": [
      "Mean Squared Error (MSE): 11.0\n"
     ]
    }
   ],
   "source": [
    "import numpy as np\n",
    "\n",
    "# Define predicted and actual outputs\n",
    "y_pred = np.array([1, 2, 3, 4, 5])\n",
    "y_true = np.array([2, 4, 6, 8, 10])\n",
    "\n",
    "# Calculate MSE\n",
    "mse = np.mean((y_true - y_pred) ** 2)\n",
    "\n",
    "print(\"Mean Squared Error (MSE):\", mse)"
   ]
  },
  {
   "cell_type": "code",
   "execution_count": 49,
   "id": "c9a30367",
   "metadata": {},
   "outputs": [
    {
     "data": {
      "image/png": "[encoded data removed]",
      "text/plain": [
       "<Figure size 432x288 with 1 Axes>"
      ]
     },
     "metadata": {
      "needs_background": "light"
     },
     "output_type": "display_data"
    }
   ],
   "source": [
    "# Plot predicted vs actual values\n",
    "plt.scatter(y_true, y_pred, color='b')\n",
    "plt.plot(y_true, y_true, color='r')\n",
    "plt.xlabel('Actual Values')\n",
    "plt.ylabel('Predicted Values')\n",
    "plt.title('MSE: {:.4f}'.format(mse))\n",
    "plt.show()"
   ]
  },
  {
   "cell_type": "markdown",
   "id": "827af48e",
   "metadata": {},
   "source": [
    "## Logistic regression"
   ]
  },
  {
   "cell_type": "code",
   "execution_count": 50,
   "id": "df1dae18",
   "metadata": {},
   "outputs": [
    {
     "name": "stdout",
     "output_type": "stream",
     "text": [
      "Accuracy: 0.835\n"
     ]
    }
   ],
   "source": [
    "# import necessary libraries\n",
    "import numpy as np\n",
    "from sklearn.linear_model import LogisticRegression\n",
    "from sklearn.model_selection import train_test_split\n",
    "from sklearn.datasets import make_classification\n",
    "\n",
    "# generate a random binary classification dataset\n",
    "X, y = make_classification(n_samples=1000, n_features=10, n_informative=5, random_state=42)\n",
    "\n",
    "# split the dataset into training and testing sets\n",
    "X_train, X_test, y_train, y_test = train_test_split(X, y, test_size=0.2, random_state=42)\n",
    "\n",
    "# create a logistic regression model\n",
    "model = LogisticRegression()\n",
    "\n",
    "# fit the model on the training set\n",
    "model.fit(X_train, y_train)\n",
    "\n",
    "# predict on the testing set\n",
    "y_pred = model.predict(X_test)\n",
    "\n",
    "# evaluate the performance of the model\n",
    "accuracy = model.score(X_test, y_test)\n",
    "print(\"Accuracy:\", accuracy)"
   ]
  },
  {
   "cell_type": "code",
   "execution_count": 51,
   "id": "e323ad15",
   "metadata": {},
   "outputs": [
    {
     "data": {
      "image/png": "[encoded data removed]",
      "text/plain": [
       "<Figure size 432x288 with 1 Axes>"
      ]
     },
     "metadata": {
      "needs_background": "light"
     },
     "output_type": "display_data"
    }
   ],
   "source": [
    "# import necessary libraries\n",
    "import numpy as np\n",
    "import matplotlib.pyplot as plt\n",
    "from sklearn.linear_model import LogisticRegression\n",
    "from sklearn.datasets import make_classification\n",
    "\n",
    "# generate a random binary classification dataset\n",
    "X, y = make_classification(n_samples=100, n_features=2, n_informative=2, n_redundant=0, n_clusters_per_class=1, random_state=42)\n",
    "\n",
    "# create a logistic regression model\n",
    "model = LogisticRegression()\n",
    "\n",
    "# fit the model on the dataset\n",
    "model.fit(X, y)\n",
    "\n",
    "# define the range of values for the two features\n",
    "x1_min, x1_max = X[:, 0].min() - 0.5, X[:, 0].max() + 0.5\n",
    "x2_min, x2_max = X[:, 1].min() - 0.5, X[:, 1].max() + 0.5\n",
    "\n",
    "# create a grid of values to plot the decision boundary\n",
    "xx1, xx2 = np.meshgrid(np.arange(x1_min, x1_max, 0.01), np.arange(x2_min, x2_max, 0.01))\n",
    "Z = model.predict(np.c_[xx1.ravel(), xx2.ravel()])\n",
    "Z = Z.reshape(xx1.shape)\n",
    "\n",
    "# plot the decision boundary and the data points\n",
    "plt.figure()\n",
    "plt.contourf(xx1, xx2, Z, cmap=plt.cm.Paired)\n",
    "plt.scatter(X[:, 0], X[:, 1], c=y, cmap=plt.cm.Paired)\n",
    "plt.xlabel('Feature 1')\n",
    "plt.ylabel('Feature 2')\n",
    "plt.title('Logistic Regression')\n",
    "plt.show()"
   ]
  },
  {
   "cell_type": "code",
   "execution_count": 52,
   "id": "18736589",
   "metadata": {},
   "outputs": [
    {
     "name": "stdout",
     "output_type": "stream",
     "text": [
      "Predicted class: [1]\n"
     ]
    }
   ],
   "source": [
    "# import necessary libraries\n",
    "import numpy as np\n",
    "from sklearn.linear_model import LogisticRegression\n",
    "\n",
    "# create a dataset\n",
    "X = np.array([[0.5], [0.75], [1.0], [1.25], [1.5], [1.75], [1.75], [2.0], [2.25], \n",
    "              [2.5], [2.75], [3.0], [3.25], [3.5], [4.0], [4.25], [4.5], [4.75], [5.0], [5.5]])\n",
    "y = np.array([0, 0, 0, 0, 0, 0, 1, 0, 1, 1, 1, 1, 1, 1, 1, 1, 1, 1, 1, 1])\n",
    "\n",
    "# create a logistic regression model\n",
    "model = LogisticRegression()\n",
    "\n",
    "# fit the model on the dataset\n",
    "model.fit(X, y)\n",
    "\n",
    "# predict the class of a new data point\n",
    "x_new = np.array([[2.2]])\n",
    "y_new = model.predict(x_new)\n",
    "\n",
    "print(\"Predicted class:\", y_new)"
   ]
  },
  {
   "cell_type": "code",
   "execution_count": 53,
   "id": "722b8669",
   "metadata": {},
   "outputs": [
    {
     "data": {
      "image/png": "[encoded data removed]",
      "text/plain": [
       "<Figure size 432x288 with 1 Axes>"
      ]
     },
     "metadata": {
      "needs_background": "light"
     },
     "output_type": "display_data"
    }
   ],
   "source": [
    "# import necessary libraries\n",
    "import numpy as np\n",
    "import matplotlib.pyplot as plt\n",
    "\n",
    "# create a sigmoid function\n",
    "def sigmoid(x):\n",
    "    return 1 / (1 + np.exp(-x))\n",
    "\n",
    "# define the range of values for the input feature\n",
    "x_min, x_max = -5, 5\n",
    "\n",
    "# create a grid of values to plot the sigmoid curve\n",
    "xx = np.linspace(x_min, x_max, 100)\n",
    "yy = sigmoid(xx)\n",
    "\n",
    "# plot the sigmoid curve\n",
    "plt.figure()\n",
    "plt.plot(xx, yy, color='red', linewidth=2)\n",
    "plt.axhline(y=0.5, color='black', linestyle='--')\n",
    "plt.axvline(x=2.2, color='green', linestyle='--')\n",
    "plt.xlabel('Input Feature')\n",
    "plt.ylabel('Probability')\n",
    "plt.title('Sigmoid Curve')\n",
    "plt.show()"
   ]
  },
  {
   "cell_type": "markdown",
   "id": "c0362458",
   "metadata": {},
   "source": [
    "### Inferential statistics"
   ]
  },
  {
   "cell_type": "code",
   "execution_count": 54,
   "id": "06a7ea1c",
   "metadata": {},
   "outputs": [],
   "source": [
    "import numpy as np "
   ]
  },
  {
   "cell_type": "code",
   "execution_count": 55,
   "id": "523e5716",
   "metadata": {},
   "outputs": [],
   "source": [
    "population=np.random.randint(10,20,50)"
   ]
  },
  {
   "cell_type": "code",
   "execution_count": 56,
   "id": "4e54113e",
   "metadata": {},
   "outputs": [
    {
     "data": {
      "text/plain": [
       "array([15, 13, 11, 18, 10, 14, 19, 16, 15, 17, 18, 18, 19, 12, 18, 16, 16,\n",
       "       19, 11, 16, 18, 18, 13, 12, 13, 16, 13, 16, 15, 17, 10, 18, 14, 16,\n",
       "       15, 18, 12, 13, 19, 17, 15, 13, 14, 15, 13, 13, 17, 19, 19, 19])"
      ]
     },
     "execution_count": 56,
     "metadata": {},
     "output_type": "execute_result"
    }
   ],
   "source": [
    "population"
   ]
  },
  {
   "cell_type": "code",
   "execution_count": 57,
   "id": "4cee829e",
   "metadata": {},
   "outputs": [
    {
     "data": {
      "text/plain": [
       "15.42"
      ]
     },
     "execution_count": 57,
     "metadata": {},
     "output_type": "execute_result"
    }
   ],
   "source": [
    "np.mean(population)"
   ]
  },
  {
   "cell_type": "code",
   "execution_count": 58,
   "id": "e15d772f",
   "metadata": {},
   "outputs": [
    {
     "data": {
      "text/plain": [
       "16.0"
      ]
     },
     "execution_count": 58,
     "metadata": {},
     "output_type": "execute_result"
    }
   ],
   "source": [
    "np.median(population)"
   ]
  },
  {
   "cell_type": "code",
   "execution_count": 59,
   "id": "62070c8b",
   "metadata": {},
   "outputs": [],
   "source": [
    "from scipy import stats\n",
    "mode=stats.mode(population)"
   ]
  },
  {
   "cell_type": "code",
   "execution_count": 60,
   "id": "78d3daa9",
   "metadata": {},
   "outputs": [
    {
     "data": {
      "text/plain": [
       "ModeResult(mode=array([13]), count=array([8]))"
      ]
     },
     "execution_count": 60,
     "metadata": {},
     "output_type": "execute_result"
    }
   ],
   "source": [
    "mode"
   ]
  },
  {
   "cell_type": "code",
   "execution_count": 61,
   "id": "ec9486f4",
   "metadata": {},
   "outputs": [
    {
     "data": {
      "text/plain": [
       "13"
      ]
     },
     "execution_count": 61,
     "metadata": {},
     "output_type": "execute_result"
    }
   ],
   "source": [
    "from statistics import mode\n",
    "mode(population)"
   ]
  },
  {
   "cell_type": "code",
   "execution_count": 62,
   "id": "2b17327e",
   "metadata": {},
   "outputs": [
    {
     "name": "stdout",
     "output_type": "stream",
     "text": [
      "Mean of pupulation  = 15.42\n",
      "Median of pupulation= 16.0\n",
      "Mode of pupulation  = 13\n"
     ]
    }
   ],
   "source": [
    "print(f\"Mean of pupulation  = {np.mean(population)}\")\n",
    "print(f\"Median of pupulation= {np.median(population)}\")\n",
    "print(f\"Mode of pupulation  = {mode(population)}\")"
   ]
  },
  {
   "cell_type": "code",
   "execution_count": 63,
   "id": "e43a3bef",
   "metadata": {},
   "outputs": [],
   "source": [
    "sample=np.random.choice(population,20)"
   ]
  },
  {
   "cell_type": "code",
   "execution_count": 64,
   "id": "167693e4",
   "metadata": {},
   "outputs": [
    {
     "data": {
      "text/plain": [
       "array([12, 18, 17, 13, 13, 18, 18, 17, 18, 16, 13, 16, 17, 18, 16, 13, 15,\n",
       "       15, 13, 16])"
      ]
     },
     "execution_count": 64,
     "metadata": {},
     "output_type": "execute_result"
    }
   ],
   "source": [
    "sample"
   ]
  },
  {
   "cell_type": "code",
   "execution_count": 65,
   "id": "9cfadb2d",
   "metadata": {},
   "outputs": [
    {
     "name": "stdout",
     "output_type": "stream",
     "text": [
      "Mean of the sample data  = 15.6\n",
      "Median of the sample data= 16.0\n",
      "Mode of the sample data  = 18\n"
     ]
    }
   ],
   "source": [
    "print(f\"Mean of the sample data  = {np.mean(sample)}\")\n",
    "print(f\"Median of the sample data= {np.median(sample)}\")\n",
    "print(f\"Mode of the sample data  = {mode(sample)}\")"
   ]
  },
  {
   "cell_type": "code",
   "execution_count": 66,
   "id": "f38bc5f6",
   "metadata": {},
   "outputs": [],
   "source": [
    "sample1=np.random.choice(population,20)\n",
    "sample2=np.random.choice(population,20)\n",
    "sample3=np.random.choice(population,20)\n",
    "sample4=np.random.choice(population,20)"
   ]
  },
  {
   "cell_type": "code",
   "execution_count": 67,
   "id": "518eafed",
   "metadata": {},
   "outputs": [
    {
     "name": "stdout",
     "output_type": "stream",
     "text": [
      "Random sample1 data [14 15 12 15 18 15 14 16 15 13 19 19 18 16 15 12 19 16 18 17]\n",
      "Random Sample2 data [18 10 17 19 16 11 19 17 18 11 14 13 19 13 11 19 16 18 17 17]\n",
      "Random sample3 data [18 13 10 19 19 16 11 15 15 16 19 13 17 17 18 17 16 14 16 17]\n",
      "Random sample4 data [15 15 19 13 15 13 16 14 12 10 13 18 15 16 17 17 12 14 16 15]\n"
     ]
    }
   ],
   "source": [
    "print(\"Random sample1 data\",sample1)\n",
    "print(\"Random Sample2 data\",sample2)\n",
    "print(\"Random sample3 data\",sample3)\n",
    "print(\"Random sample4 data\",sample4)"
   ]
  },
  {
   "cell_type": "code",
   "execution_count": 68,
   "id": "a115d8c2",
   "metadata": {},
   "outputs": [],
   "source": [
    "mean_of_sample=[]\n",
    "all_sample=[sample1,sample2,sample3,sample4]\n",
    "for sample in all_sample:\n",
    "    mean_of_sample.append(np.mean(sample))"
   ]
  },
  {
   "cell_type": "code",
   "execution_count": 69,
   "id": "d83e4e77",
   "metadata": {},
   "outputs": [
    {
     "data": {
      "text/plain": [
       "[15.8, 15.65, 15.8, 14.75]"
      ]
     },
     "execution_count": 69,
     "metadata": {},
     "output_type": "execute_result"
    }
   ],
   "source": [
    "mean_of_sample"
   ]
  },
  {
   "cell_type": "markdown",
   "id": "645d9f33",
   "metadata": {},
   "source": [
    "### Central limit theorem"
   ]
  },
  {
   "cell_type": "code",
   "execution_count": 70,
   "id": "95fd9433",
   "metadata": {},
   "outputs": [],
   "source": [
    "population_data=np.random.binomial(10,0.5,10000)"
   ]
  },
  {
   "cell_type": "code",
   "execution_count": 71,
   "id": "d6859c67",
   "metadata": {},
   "outputs": [
    {
     "data": {
      "text/plain": [
       "array([4, 6, 4, ..., 4, 5, 4])"
      ]
     },
     "execution_count": 71,
     "metadata": {},
     "output_type": "execute_result"
    }
   ],
   "source": [
    "population_data"
   ]
  },
  {
   "cell_type": "code",
   "execution_count": 72,
   "id": "7eababa9",
   "metadata": {},
   "outputs": [
    {
     "data": {
      "text/plain": [
       "10000"
      ]
     },
     "execution_count": 72,
     "metadata": {},
     "output_type": "execute_result"
    }
   ],
   "source": [
    "len(population_data)"
   ]
  },
  {
   "cell_type": "code",
   "execution_count": 73,
   "id": "99ead894",
   "metadata": {},
   "outputs": [
    {
     "name": "stderr",
     "output_type": "stream",
     "text": [
      "C:\\Users\\Admin\\anaconda3\\lib\\site-packages\\seaborn\\distributions.py:2619: FutureWarning: `distplot` is a deprecated function and will be removed in a future version. Please adapt your code to use either `displot` (a figure-level function with similar flexibility) or `histplot` (an axes-level function for histograms).\n",
      "  warnings.warn(msg, FutureWarning)\n"
     ]
    },
    {
     "data": {
      "text/plain": [
       "<AxesSubplot:ylabel='Density'>"
      ]
     },
     "execution_count": 73,
     "metadata": {},
     "output_type": "execute_result"
    },
    {
     "data": {
      "image/png": "[encoded data removed]",
      "text/plain": [
       "<Figure size 432x288 with 1 Axes>"
      ]
     },
     "metadata": {
      "needs_background": "light"
     },
     "output_type": "display_data"
    }
   ],
   "source": [
    "import seaborn as sns\n",
    "sns.distplot(population_data)"
   ]
  },
  {
   "cell_type": "code",
   "execution_count": 74,
   "id": "6ee1388f",
   "metadata": {},
   "outputs": [],
   "source": [
    "sample_size=int(len(population_data)*0.30)"
   ]
  },
  {
   "cell_type": "code",
   "execution_count": 75,
   "id": "5bfd8b75",
   "metadata": {},
   "outputs": [],
   "source": [
    "n=sample_size"
   ]
  },
  {
   "cell_type": "code",
   "execution_count": 76,
   "id": "adf45083",
   "metadata": {},
   "outputs": [],
   "source": [
    "sample_mean=[]\n",
    "for i in range(1,31):\n",
    "    sample=np.random.choice(population_data,size=n)\n",
    "    sample_mean.append(np.mean(sample))"
   ]
  },
  {
   "cell_type": "code",
   "execution_count": 77,
   "id": "9c774fb1",
   "metadata": {},
   "outputs": [
    {
     "data": {
      "text/plain": [
       "[4.959333333333333,\n",
       " 5.001333333333333,\n",
       " 4.929666666666667,\n",
       " 4.914666666666666,\n",
       " 4.969333333333333,\n",
       " 4.959666666666666,\n",
       " 4.957666666666666,\n",
       " 5.016666666666667,\n",
       " 5.032333333333334,\n",
       " 4.964,\n",
       " 4.9446666666666665,\n",
       " 4.96,\n",
       " 4.968666666666667,\n",
       " 4.992666666666667,\n",
       " 4.983666666666666,\n",
       " 4.97,\n",
       " 4.940333333333333,\n",
       " 4.959,\n",
       " 4.999,\n",
       " 4.998333333333333,\n",
       " 4.964,\n",
       " 4.947333333333333,\n",
       " 5.022,\n",
       " 4.951,\n",
       " 4.964,\n",
       " 4.941666666666666,\n",
       " 4.933333333333334,\n",
       " 4.938,\n",
       " 5.019333333333333,\n",
       " 4.967666666666666]"
      ]
     },
     "execution_count": 77,
     "metadata": {},
     "output_type": "execute_result"
    }
   ],
   "source": [
    "sample_mean"
   ]
  },
  {
   "cell_type": "code",
   "execution_count": 78,
   "id": "5740c52c",
   "metadata": {},
   "outputs": [
    {
     "data": {
      "text/plain": [
       "4.968977777777777"
      ]
     },
     "execution_count": 78,
     "metadata": {},
     "output_type": "execute_result"
    }
   ],
   "source": [
    "np.mean(sample_mean)"
   ]
  },
  {
   "cell_type": "code",
   "execution_count": 79,
   "id": "19789a63",
   "metadata": {},
   "outputs": [
    {
     "name": "stderr",
     "output_type": "stream",
     "text": [
      "C:\\Users\\Admin\\anaconda3\\lib\\site-packages\\seaborn\\distributions.py:2619: FutureWarning: `distplot` is a deprecated function and will be removed in a future version. Please adapt your code to use either `displot` (a figure-level function with similar flexibility) or `histplot` (an axes-level function for histograms).\n",
      "  warnings.warn(msg, FutureWarning)\n"
     ]
    },
    {
     "data": {
      "text/plain": [
       "<AxesSubplot:ylabel='Density'>"
      ]
     },
     "execution_count": 79,
     "metadata": {},
     "output_type": "execute_result"
    },
    {
     "data": {
      "image/png": "[encoded data removed]",
      "text/plain": [
       "<Figure size 432x288 with 1 Axes>"
      ]
     },
     "metadata": {
      "needs_background": "light"
     },
     "output_type": "display_data"
    }
   ],
   "source": [
    "sns.distplot(sample_mean)"
   ]
  },
  {
   "cell_type": "code",
   "execution_count": 80,
   "id": "516b6ca0",
   "metadata": {},
   "outputs": [],
   "source": [
    "sample_mean=[]\n",
    "for i in range(1,500):\n",
    "    sample=np.random.choice(population,size=n)\n",
    "    sample_mean.append(np.mean(sample))"
   ]
  },
  {
   "cell_type": "code",
   "execution_count": 81,
   "id": "298cdccf",
   "metadata": {},
   "outputs": [
    {
     "data": {
      "text/plain": [
       "[15.469333333333333,\n",
       " 15.437333333333333,\n",
       " 15.334,\n",
       " 15.402666666666667,\n",
       " 15.413666666666666,\n",
       " 15.35,\n",
       " 15.505333333333333,\n",
       " 15.524666666666667,\n",
       " 15.347666666666667,\n",
       " 15.414333333333333,\n",
       " 15.442666666666666,\n",
       " 15.403666666666666,\n",
       " 15.431333333333333,\n",
       " 15.472666666666667,\n",
       " 15.431333333333333,\n",
       " 15.388333333333334,\n",
       " 15.447,\n",
       " 15.463666666666667,\n",
       " 15.430333333333333,\n",
       " 15.392333333333333,\n",
       " 15.342666666666666,\n",
       " 15.463666666666667,\n",
       " 15.384,\n",
       " 15.402333333333333,\n",
       " 15.436333333333334,\n",
       " 15.381,\n",
       " 15.470666666666666,\n",
       " 15.436666666666667,\n",
       " 15.434333333333333,\n",
       " 15.453333333333333,\n",
       " 15.394333333333334,\n",
       " 15.408333333333333,\n",
       " 15.415666666666667,\n",
       " 15.495,\n",
       " 15.393666666666666,\n",
       " 15.348,\n",
       " 15.377666666666666,\n",
       " 15.412333333333333,\n",
       " 15.379,\n",
       " 15.523333333333333,\n",
       " 15.378333333333334,\n",
       " 15.414,\n",
       " 15.464,\n",
       " 15.384666666666666,\n",
       " 15.514,\n",
       " 15.409666666666666,\n",
       " 15.457,\n",
       " 15.44,\n",
       " 15.45,\n",
       " 15.341333333333333,\n",
       " 15.479666666666667,\n",
       " 15.384333333333334,\n",
       " 15.411666666666667,\n",
       " 15.421,\n",
       " 15.317666666666666,\n",
       " 15.452,\n",
       " 15.463,\n",
       " 15.444,\n",
       " 15.35,\n",
       " 15.345666666666666,\n",
       " 15.417333333333334,\n",
       " 15.423,\n",
       " 15.345666666666666,\n",
       " 15.369,\n",
       " 15.358666666666666,\n",
       " 15.441666666666666,\n",
       " 15.304,\n",
       " 15.368,\n",
       " 15.421666666666667,\n",
       " 15.403,\n",
       " 15.411333333333333,\n",
       " 15.333333333333334,\n",
       " 15.475333333333333,\n",
       " 15.376333333333333,\n",
       " 15.496,\n",
       " 15.423,\n",
       " 15.402666666666667,\n",
       " 15.411666666666667,\n",
       " 15.425,\n",
       " 15.440666666666667,\n",
       " 15.475,\n",
       " 15.420666666666667,\n",
       " 15.381666666666666,\n",
       " 15.375,\n",
       " 15.328333333333333,\n",
       " 15.369666666666667,\n",
       " 15.395333333333333,\n",
       " 15.364,\n",
       " 15.356333333333334,\n",
       " 15.439,\n",
       " 15.301,\n",
       " 15.432,\n",
       " 15.376,\n",
       " 15.397,\n",
       " 15.46,\n",
       " 15.394333333333334,\n",
       " 15.481666666666667,\n",
       " 15.378333333333334,\n",
       " 15.46,\n",
       " 15.365,\n",
       " 15.410333333333334,\n",
       " 15.545333333333334,\n",
       " 15.386,\n",
       " 15.417333333333334,\n",
       " 15.411333333333333,\n",
       " 15.405666666666667,\n",
       " 15.432666666666666,\n",
       " 15.51,\n",
       " 15.379,\n",
       " 15.375666666666667,\n",
       " 15.418,\n",
       " 15.458,\n",
       " 15.439666666666668,\n",
       " 15.443333333333333,\n",
       " 15.428666666666667,\n",
       " 15.421,\n",
       " 15.389333333333333,\n",
       " 15.313,\n",
       " 15.400666666666666,\n",
       " 15.437666666666667,\n",
       " 15.479666666666667,\n",
       " 15.47,\n",
       " 15.405333333333333,\n",
       " 15.53,\n",
       " 15.377,\n",
       " 15.465,\n",
       " 15.421666666666667,\n",
       " 15.446666666666667,\n",
       " 15.433333333333334,\n",
       " 15.409666666666666,\n",
       " 15.555666666666667,\n",
       " 15.509666666666666,\n",
       " 15.493333333333334,\n",
       " 15.435,\n",
       " 15.404666666666667,\n",
       " 15.423,\n",
       " 15.467666666666666,\n",
       " 15.379333333333333,\n",
       " 15.397666666666666,\n",
       " 15.444333333333333,\n",
       " 15.454666666666666,\n",
       " 15.352333333333334,\n",
       " 15.450666666666667,\n",
       " 15.395666666666667,\n",
       " 15.414,\n",
       " 15.403666666666666,\n",
       " 15.415666666666667,\n",
       " 15.403666666666666,\n",
       " 15.341333333333333,\n",
       " 15.414666666666667,\n",
       " 15.471,\n",
       " 15.412333333333333,\n",
       " 15.378666666666666,\n",
       " 15.478333333333333,\n",
       " 15.393,\n",
       " 15.408333333333333,\n",
       " 15.379,\n",
       " 15.416333333333334,\n",
       " 15.435666666666666,\n",
       " 15.375666666666667,\n",
       " 15.379333333333333,\n",
       " 15.459333333333333,\n",
       " 15.453333333333333,\n",
       " 15.377,\n",
       " 15.393333333333333,\n",
       " 15.420333333333334,\n",
       " 15.426,\n",
       " 15.405666666666667,\n",
       " 15.432,\n",
       " 15.469666666666667,\n",
       " 15.403666666666666,\n",
       " 15.406666666666666,\n",
       " 15.489333333333333,\n",
       " 15.354333333333333,\n",
       " 15.448666666666666,\n",
       " 15.396,\n",
       " 15.443666666666667,\n",
       " 15.414333333333333,\n",
       " 15.476,\n",
       " 15.390666666666666,\n",
       " 15.423666666666668,\n",
       " 15.429666666666666,\n",
       " 15.348666666666666,\n",
       " 15.393666666666666,\n",
       " 15.399,\n",
       " 15.401333333333334,\n",
       " 15.428333333333333,\n",
       " 15.437666666666667,\n",
       " 15.372333333333334,\n",
       " 15.522,\n",
       " 15.457333333333333,\n",
       " 15.433666666666667,\n",
       " 15.468,\n",
       " 15.442333333333334,\n",
       " 15.392666666666667,\n",
       " 15.398333333333333,\n",
       " 15.397333333333334,\n",
       " 15.436,\n",
       " 15.432,\n",
       " 15.442,\n",
       " 15.391333333333334,\n",
       " 15.372333333333334,\n",
       " 15.437333333333333,\n",
       " 15.456,\n",
       " 15.440666666666667,\n",
       " 15.434333333333333,\n",
       " 15.433333333333334,\n",
       " 15.385333333333334,\n",
       " 15.433666666666667,\n",
       " 15.437,\n",
       " 15.412,\n",
       " 15.411666666666667,\n",
       " 15.454333333333333,\n",
       " 15.432333333333334,\n",
       " 15.444666666666667,\n",
       " 15.386666666666667,\n",
       " 15.479,\n",
       " 15.405,\n",
       " 15.428,\n",
       " 15.466,\n",
       " 15.429333333333334,\n",
       " 15.307,\n",
       " 15.447,\n",
       " 15.398666666666667,\n",
       " 15.485666666666667,\n",
       " 15.414666666666667,\n",
       " 15.452333333333334,\n",
       " 15.386333333333333,\n",
       " 15.417666666666667,\n",
       " 15.505,\n",
       " 15.471,\n",
       " 15.424,\n",
       " 15.488666666666667,\n",
       " 15.383,\n",
       " 15.409,\n",
       " 15.358666666666666,\n",
       " 15.468333333333334,\n",
       " 15.407333333333334,\n",
       " 15.365333333333334,\n",
       " 15.338666666666667,\n",
       " 15.497666666666667,\n",
       " 15.438,\n",
       " 15.369333333333334,\n",
       " 15.445,\n",
       " 15.461,\n",
       " 15.508,\n",
       " 15.424666666666667,\n",
       " 15.395333333333333,\n",
       " 15.409333333333333,\n",
       " 15.543,\n",
       " 15.434,\n",
       " 15.38,\n",
       " 15.425666666666666,\n",
       " 15.458,\n",
       " 15.426666666666666,\n",
       " 15.42,\n",
       " 15.453333333333333,\n",
       " 15.432666666666666,\n",
       " 15.449333333333334,\n",
       " 15.514,\n",
       " 15.452333333333334,\n",
       " 15.489,\n",
       " 15.426,\n",
       " 15.449333333333334,\n",
       " 15.462666666666667,\n",
       " 15.372333333333334,\n",
       " 15.460333333333333,\n",
       " 15.425666666666666,\n",
       " 15.446333333333333,\n",
       " 15.502333333333333,\n",
       " 15.399,\n",
       " 15.386,\n",
       " 15.423666666666668,\n",
       " 15.429333333333334,\n",
       " 15.449,\n",
       " 15.396333333333333,\n",
       " 15.468333333333334,\n",
       " 15.483666666666666,\n",
       " 15.481666666666667,\n",
       " 15.410666666666666,\n",
       " 15.337666666666667,\n",
       " 15.411333333333333,\n",
       " 15.349,\n",
       " 15.449666666666667,\n",
       " 15.319666666666667,\n",
       " 15.4,\n",
       " 15.486666666666666,\n",
       " 15.410333333333334,\n",
       " 15.393,\n",
       " 15.436333333333334,\n",
       " 15.388666666666667,\n",
       " 15.425666666666666,\n",
       " 15.426,\n",
       " 15.472666666666667,\n",
       " 15.335333333333333,\n",
       " 15.331666666666667,\n",
       " 15.416666666666666,\n",
       " 15.412,\n",
       " 15.422333333333333,\n",
       " 15.457,\n",
       " 15.477333333333334,\n",
       " 15.402,\n",
       " 15.509333333333334,\n",
       " 15.357,\n",
       " 15.336666666666666,\n",
       " 15.357,\n",
       " 15.438666666666666,\n",
       " 15.386,\n",
       " 15.393,\n",
       " 15.365333333333334,\n",
       " 15.437,\n",
       " 15.417666666666667,\n",
       " 15.467666666666666,\n",
       " 15.428666666666667,\n",
       " 15.345,\n",
       " 15.369666666666667,\n",
       " 15.343333333333334,\n",
       " 15.427666666666667,\n",
       " 15.449,\n",
       " 15.444,\n",
       " 15.364,\n",
       " 15.384,\n",
       " 15.460666666666667,\n",
       " 15.438333333333333,\n",
       " 15.469666666666667,\n",
       " 15.384666666666666,\n",
       " 15.446666666666667,\n",
       " 15.349666666666666,\n",
       " 15.363,\n",
       " 15.414333333333333,\n",
       " 15.325333333333333,\n",
       " 15.464333333333334,\n",
       " 15.395666666666667,\n",
       " 15.435,\n",
       " 15.462,\n",
       " 15.425333333333333,\n",
       " 15.375333333333334,\n",
       " 15.412,\n",
       " 15.428666666666667,\n",
       " 15.397666666666666,\n",
       " 15.405333333333333,\n",
       " 15.387333333333334,\n",
       " 15.353,\n",
       " 15.438,\n",
       " 15.415,\n",
       " 15.478333333333333,\n",
       " 15.375,\n",
       " 15.401666666666667,\n",
       " 15.399,\n",
       " 15.339333333333334,\n",
       " 15.403666666666666,\n",
       " 15.375666666666667,\n",
       " 15.370666666666667,\n",
       " 15.341,\n",
       " 15.389333333333333,\n",
       " 15.51,\n",
       " 15.454666666666666,\n",
       " 15.405666666666667,\n",
       " 15.399,\n",
       " 15.458666666666666,\n",
       " 15.450666666666667,\n",
       " 15.432333333333334,\n",
       " 15.446,\n",
       " 15.437666666666667,\n",
       " 15.400666666666666,\n",
       " 15.357333333333333,\n",
       " 15.531666666666666,\n",
       " 15.456666666666667,\n",
       " 15.381,\n",
       " 15.396666666666667,\n",
       " 15.496,\n",
       " 15.429666666666666,\n",
       " 15.465,\n",
       " 15.447666666666667,\n",
       " 15.403333333333334,\n",
       " 15.328666666666667,\n",
       " 15.493333333333334,\n",
       " 15.333666666666666,\n",
       " 15.433,\n",
       " 15.448333333333334,\n",
       " 15.455333333333334,\n",
       " 15.331666666666667,\n",
       " 15.446,\n",
       " 15.373333333333333,\n",
       " 15.418,\n",
       " 15.451,\n",
       " 15.442,\n",
       " 15.419333333333332,\n",
       " 15.402333333333333,\n",
       " 15.434333333333333,\n",
       " 15.424333333333333,\n",
       " 15.258,\n",
       " 15.398,\n",
       " 15.453666666666667,\n",
       " 15.376,\n",
       " 15.439333333333334,\n",
       " 15.356666666666667,\n",
       " 15.424333333333333,\n",
       " 15.433333333333334,\n",
       " 15.54,\n",
       " 15.392666666666667,\n",
       " 15.414333333333333,\n",
       " 15.395,\n",
       " 15.458,\n",
       " 15.435666666666666,\n",
       " 15.473666666666666,\n",
       " 15.437333333333333,\n",
       " 15.472,\n",
       " 15.4,\n",
       " 15.415333333333333,\n",
       " 15.457666666666666,\n",
       " 15.430666666666667,\n",
       " 15.377666666666666,\n",
       " 15.413666666666666,\n",
       " 15.421,\n",
       " 15.408,\n",
       " 15.483666666666666,\n",
       " 15.499666666666666,\n",
       " 15.409,\n",
       " 15.433666666666667,\n",
       " 15.430666666666667,\n",
       " 15.349,\n",
       " 15.323666666666666,\n",
       " 15.483,\n",
       " 15.389666666666667,\n",
       " 15.493333333333334,\n",
       " 15.396,\n",
       " 15.390333333333333,\n",
       " 15.388,\n",
       " 15.442333333333334,\n",
       " 15.404666666666667,\n",
       " 15.460666666666667,\n",
       " 15.502,\n",
       " 15.478333333333333,\n",
       " 15.379,\n",
       " 15.370333333333333,\n",
       " 15.533,\n",
       " 15.422666666666666,\n",
       " 15.413666666666666,\n",
       " 15.417666666666667,\n",
       " 15.468333333333334,\n",
       " 15.455,\n",
       " 15.429,\n",
       " 15.439333333333334,\n",
       " 15.449,\n",
       " 15.447666666666667,\n",
       " 15.398666666666667,\n",
       " 15.353,\n",
       " 15.468333333333334,\n",
       " 15.399666666666667,\n",
       " 15.442333333333334,\n",
       " 15.444333333333333,\n",
       " 15.400666666666666,\n",
       " 15.393666666666666,\n",
       " 15.421333333333333,\n",
       " 15.424,\n",
       " 15.402666666666667,\n",
       " 15.450333333333333,\n",
       " 15.479,\n",
       " 15.364666666666666,\n",
       " 15.440666666666667,\n",
       " 15.373333333333333,\n",
       " 15.435666666666666,\n",
       " 15.404666666666667,\n",
       " 15.426,\n",
       " 15.474333333333334,\n",
       " 15.418,\n",
       " 15.416,\n",
       " 15.390666666666666,\n",
       " 15.417,\n",
       " 15.416333333333334,\n",
       " 15.436666666666667,\n",
       " 15.454666666666666,\n",
       " 15.470666666666666,\n",
       " 15.523333333333333,\n",
       " 15.446666666666667,\n",
       " 15.469333333333333,\n",
       " 15.44,\n",
       " 15.460666666666667,\n",
       " 15.455,\n",
       " 15.417,\n",
       " 15.426,\n",
       " 15.410666666666666,\n",
       " 15.459666666666667,\n",
       " 15.363666666666667,\n",
       " 15.400666666666666,\n",
       " 15.447333333333333,\n",
       " 15.429333333333334,\n",
       " 15.371,\n",
       " 15.442666666666666,\n",
       " 15.354666666666667,\n",
       " 15.499333333333333,\n",
       " 15.439666666666668,\n",
       " 15.368666666666666,\n",
       " 15.304666666666666,\n",
       " 15.416666666666666,\n",
       " 15.342333333333332,\n",
       " 15.393666666666666,\n",
       " 15.440666666666667]"
      ]
     },
     "execution_count": 81,
     "metadata": {},
     "output_type": "execute_result"
    }
   ],
   "source": [
    "sample_mean"
   ]
  },
  {
   "cell_type": "code",
   "execution_count": 82,
   "id": "aa61e5af",
   "metadata": {},
   "outputs": [
    {
     "name": "stderr",
     "output_type": "stream",
     "text": [
      "C:\\Users\\Admin\\anaconda3\\lib\\site-packages\\seaborn\\distributions.py:2619: FutureWarning: `distplot` is a deprecated function and will be removed in a future version. Please adapt your code to use either `displot` (a figure-level function with similar flexibility) or `histplot` (an axes-level function for histograms).\n",
      "  warnings.warn(msg, FutureWarning)\n"
     ]
    },
    {
     "data": {
      "text/plain": [
       "<AxesSubplot:ylabel='Density'>"
      ]
     },
     "execution_count": 82,
     "metadata": {},
     "output_type": "execute_result"
    },
    {
     "data": {
      "image/png": "[encoded data removed]",
      "text/plain": [
       "<Figure size 432x288 with 1 Axes>"
      ]
     },
     "metadata": {
      "needs_background": "light"
     },
     "output_type": "display_data"
    }
   ],
   "source": [
    "sns.distplot(sample_mean)"
   ]
  },
  {
   "cell_type": "code",
   "execution_count": 83,
   "id": "1024d72b",
   "metadata": {},
   "outputs": [],
   "source": [
    "sample_mean=[]\n",
    "for i in range(1,1001):\n",
    "    sample=np.random.choice(population_data,size=n)\n",
    "    sample_mean.append(np.mean(sample))"
   ]
  },
  {
   "cell_type": "code",
   "execution_count": 84,
   "id": "afe019a6",
   "metadata": {},
   "outputs": [
    {
     "data": {
      "text/plain": [
       "[4.952333333333334,\n",
       " 4.895,\n",
       " 4.958333333333333,\n",
       " 4.908333333333333,\n",
       " 4.956333333333333,\n",
       " 4.958666666666667,\n",
       " 4.9656666666666665,\n",
       " 4.9446666666666665,\n",
       " 4.999333333333333,\n",
       " 4.992666666666667,\n",
       " 4.982666666666667,\n",
       " 4.973,\n",
       " 4.938666666666666,\n",
       " 4.974,\n",
       " 5.017333333333333,\n",
       " 4.935,\n",
       " 5.011333333333333,\n",
       " 4.9656666666666665,\n",
       " 5.043666666666667,\n",
       " 4.9463333333333335,\n",
       " 4.967333333333333,\n",
       " 4.958,\n",
       " 4.950333333333333,\n",
       " 5.011333333333333,\n",
       " 4.963333333333333,\n",
       " 4.992,\n",
       " 4.988,\n",
       " 4.9943333333333335,\n",
       " 4.908333333333333,\n",
       " 4.981,\n",
       " 5.019,\n",
       " 4.927666666666667,\n",
       " 4.950333333333333,\n",
       " 4.988666666666667,\n",
       " 4.978,\n",
       " 4.950333333333333,\n",
       " 4.99,\n",
       " 4.944333333333334,\n",
       " 4.942333333333333,\n",
       " 5.009333333333333,\n",
       " 4.9816666666666665,\n",
       " 4.976333333333334,\n",
       " 5.0023333333333335,\n",
       " 4.934666666666667,\n",
       " 4.931,\n",
       " 4.96,\n",
       " 4.959333333333333,\n",
       " 4.967333333333333,\n",
       " 4.950666666666667,\n",
       " 4.993,\n",
       " 4.966666666666667,\n",
       " 5.008,\n",
       " 5.001666666666667,\n",
       " 4.995,\n",
       " 4.94,\n",
       " 4.9896666666666665,\n",
       " 4.976333333333334,\n",
       " 4.951666666666667,\n",
       " 4.9463333333333335,\n",
       " 5.0,\n",
       " 4.959,\n",
       " 5.003666666666667,\n",
       " 4.929333333333333,\n",
       " 5.007666666666666,\n",
       " 4.956333333333333,\n",
       " 4.943333333333333,\n",
       " 4.896333333333334,\n",
       " 4.9543333333333335,\n",
       " 4.948,\n",
       " 4.951666666666667,\n",
       " 5.017666666666667,\n",
       " 4.972333333333333,\n",
       " 4.998666666666667,\n",
       " 4.990666666666667,\n",
       " 5.0,\n",
       " 4.999666666666666,\n",
       " 4.991333333333333,\n",
       " 4.973333333333334,\n",
       " 4.926333333333333,\n",
       " 4.908666666666667,\n",
       " 4.963666666666667,\n",
       " 4.976333333333334,\n",
       " 4.994666666666666,\n",
       " 4.917666666666666,\n",
       " 4.926333333333333,\n",
       " 5.015666666666666,\n",
       " 4.978,\n",
       " 4.938,\n",
       " 4.951333333333333,\n",
       " 5.004,\n",
       " 4.999666666666666,\n",
       " 4.990666666666667,\n",
       " 5.001,\n",
       " 4.957666666666666,\n",
       " 4.982,\n",
       " 4.976,\n",
       " 4.9656666666666665,\n",
       " 4.97,\n",
       " 4.975333333333333,\n",
       " 5.007,\n",
       " 4.949666666666666,\n",
       " 5.013,\n",
       " 4.954666666666666,\n",
       " 4.981333333333334,\n",
       " 4.983,\n",
       " 4.968333333333334,\n",
       " 5.002666666666666,\n",
       " 4.972333333333333,\n",
       " 4.931,\n",
       " 4.968333333333334,\n",
       " 4.996666666666667,\n",
       " 4.94,\n",
       " 4.958,\n",
       " 4.915,\n",
       " 4.989333333333334,\n",
       " 5.0183333333333335,\n",
       " 4.9286666666666665,\n",
       " 5.003,\n",
       " 4.963666666666667,\n",
       " 4.978,\n",
       " 5.004,\n",
       " 4.971333333333333,\n",
       " 4.981333333333334,\n",
       " 4.9816666666666665,\n",
       " 5.004666666666667,\n",
       " 4.991333333333333,\n",
       " 5.014333333333333,\n",
       " 4.9446666666666665,\n",
       " 4.972333333333333,\n",
       " 4.915333333333334,\n",
       " 4.974333333333333,\n",
       " 4.934,\n",
       " 4.937333333333333,\n",
       " 5.023333333333333,\n",
       " 4.949333333333334,\n",
       " 4.962666666666666,\n",
       " 5.033333333333333,\n",
       " 4.9863333333333335,\n",
       " 4.939666666666667,\n",
       " 4.9976666666666665,\n",
       " 4.958333333333333,\n",
       " 4.926,\n",
       " 4.940666666666667,\n",
       " 4.954,\n",
       " 4.955333333333333,\n",
       " 4.9656666666666665,\n",
       " 4.955666666666667,\n",
       " 4.959666666666666,\n",
       " 4.953666666666667,\n",
       " 4.976333333333334,\n",
       " 4.986666666666666,\n",
       " 4.98,\n",
       " 4.997333333333334,\n",
       " 4.9863333333333335,\n",
       " 4.966666666666667,\n",
       " 4.957666666666666,\n",
       " 4.978666666666666,\n",
       " 4.980666666666667,\n",
       " 4.996,\n",
       " 4.992,\n",
       " 5.009333333333333,\n",
       " 4.964333333333333,\n",
       " 4.995,\n",
       " 4.982666666666667,\n",
       " 4.999333333333333,\n",
       " 5.014666666666667,\n",
       " 4.959666666666666,\n",
       " 4.993,\n",
       " 4.927333333333333,\n",
       " 4.979333333333333,\n",
       " 5.018666666666666,\n",
       " 4.988666666666667,\n",
       " 4.928,\n",
       " 4.958666666666667,\n",
       " 5.013333333333334,\n",
       " 5.008333333333334,\n",
       " 4.962666666666666,\n",
       " 4.987333333333333,\n",
       " 4.953,\n",
       " 4.950333333333333,\n",
       " 5.013,\n",
       " 5.019,\n",
       " 4.97,\n",
       " 4.984666666666667,\n",
       " 4.999666666666666,\n",
       " 4.948333333333333,\n",
       " 4.953333333333333,\n",
       " 4.962,\n",
       " 4.962,\n",
       " 5.049,\n",
       " 4.934333333333333,\n",
       " 4.969666666666667,\n",
       " 4.963,\n",
       " 4.990333333333333,\n",
       " 4.959666666666666,\n",
       " 4.965,\n",
       " 4.985333333333333,\n",
       " 4.991333333333333,\n",
       " 4.937333333333333,\n",
       " 4.9526666666666666,\n",
       " 4.984333333333334,\n",
       " 4.945,\n",
       " 5.019,\n",
       " 4.992333333333334,\n",
       " 5.015,\n",
       " 4.973333333333334,\n",
       " 4.958,\n",
       " 4.959,\n",
       " 4.979,\n",
       " 4.996666666666667,\n",
       " 4.943,\n",
       " 4.956333333333333,\n",
       " 4.991666666666666,\n",
       " 4.986,\n",
       " 4.931666666666667,\n",
       " 4.973,\n",
       " 5.015666666666666,\n",
       " 5.004,\n",
       " 5.028666666666667,\n",
       " 4.970666666666666,\n",
       " 4.961333333333333,\n",
       " 5.017,\n",
       " 4.95,\n",
       " 4.984,\n",
       " 5.011333333333333,\n",
       " 5.018,\n",
       " 4.9863333333333335,\n",
       " 4.982666666666667,\n",
       " 4.981333333333334,\n",
       " 4.945666666666667,\n",
       " 4.953666666666667,\n",
       " 4.932333333333333,\n",
       " 5.004666666666667,\n",
       " 4.997,\n",
       " 4.9526666666666666,\n",
       " 5.024666666666667,\n",
       " 5.009333333333333,\n",
       " 4.921333333333333,\n",
       " 4.964,\n",
       " 5.048333333333333,\n",
       " 4.944,\n",
       " 4.980666666666667,\n",
       " 4.994666666666666,\n",
       " 5.000333333333334,\n",
       " 4.973,\n",
       " 4.946,\n",
       " 5.026666666666666,\n",
       " 4.9703333333333335,\n",
       " 5.012333333333333,\n",
       " 4.946666666666666,\n",
       " 4.998333333333333,\n",
       " 4.971,\n",
       " 4.976,\n",
       " 4.998333333333333,\n",
       " 5.031333333333333,\n",
       " 4.963666666666667,\n",
       " 5.003333333333333,\n",
       " 4.978,\n",
       " 5.002,\n",
       " 4.925333333333334,\n",
       " 5.010666666666666,\n",
       " 4.986,\n",
       " 4.9286666666666665,\n",
       " 5.012333333333333,\n",
       " 5.013333333333334,\n",
       " 5.002666666666666,\n",
       " 4.9943333333333335,\n",
       " 4.969333333333333,\n",
       " 4.972,\n",
       " 5.035666666666667,\n",
       " 4.969333333333333,\n",
       " 4.982333333333333,\n",
       " 4.967,\n",
       " 4.9896666666666665,\n",
       " 4.995,\n",
       " 4.988666666666667,\n",
       " 4.995333333333333,\n",
       " 5.001333333333333,\n",
       " 5.040333333333334,\n",
       " 4.917,\n",
       " 4.985666666666667,\n",
       " 4.986,\n",
       " 4.973,\n",
       " 4.907333333333334,\n",
       " 4.955333333333333,\n",
       " 4.988,\n",
       " 5.008333333333334,\n",
       " 4.955666666666667,\n",
       " 4.938666666666666,\n",
       " 4.923666666666667,\n",
       " 4.982666666666667,\n",
       " 4.971666666666667,\n",
       " 4.901,\n",
       " 5.004,\n",
       " 4.971,\n",
       " 4.935333333333333,\n",
       " 4.967333333333333,\n",
       " 4.969,\n",
       " 4.999333333333333,\n",
       " 4.992333333333334,\n",
       " 4.983333333333333,\n",
       " 5.015333333333333,\n",
       " 5.052666666666667,\n",
       " 4.994666666666666,\n",
       " 4.991666666666666,\n",
       " 4.987,\n",
       " 4.960333333333334,\n",
       " 4.953333333333333,\n",
       " 5.004333333333333,\n",
       " 4.990666666666667,\n",
       " 4.923333333333333,\n",
       " 4.9736666666666665,\n",
       " 5.0263333333333335,\n",
       " 5.006666666666667,\n",
       " 4.988666666666667,\n",
       " 4.939666666666667,\n",
       " 4.941666666666666,\n",
       " 4.996666666666667,\n",
       " 4.977666666666667,\n",
       " 4.939333333333333,\n",
       " 4.979,\n",
       " 5.0056666666666665,\n",
       " 4.985666666666667,\n",
       " 4.9206666666666665,\n",
       " 4.9126666666666665,\n",
       " 4.932,\n",
       " 5.003333333333333,\n",
       " 5.002,\n",
       " 4.962,\n",
       " 4.899333333333334,\n",
       " 4.974666666666667,\n",
       " 4.995666666666667,\n",
       " 4.982333333333333,\n",
       " 5.023333333333333,\n",
       " 4.977,\n",
       " 5.027,\n",
       " 4.991666666666666,\n",
       " 5.0216666666666665,\n",
       " 4.972666666666667,\n",
       " 4.978666666666666,\n",
       " 4.959333333333333,\n",
       " 4.995666666666667,\n",
       " 4.971,\n",
       " 4.993666666666667,\n",
       " 5.011333333333333,\n",
       " 5.007,\n",
       " 4.974333333333333,\n",
       " 4.980666666666667,\n",
       " 4.944333333333334,\n",
       " 5.011,\n",
       " 4.915,\n",
       " 4.972333333333333,\n",
       " 4.932333333333333,\n",
       " 4.943,\n",
       " 4.995,\n",
       " 4.933,\n",
       " 4.980666666666667,\n",
       " 4.936,\n",
       " 4.9623333333333335,\n",
       " 4.980666666666667,\n",
       " 4.948333333333333,\n",
       " 5.029333333333334,\n",
       " 5.015333333333333,\n",
       " 4.945666666666667,\n",
       " 4.991,\n",
       " 5.031,\n",
       " 5.004666666666667,\n",
       " 4.9286666666666665,\n",
       " 4.9976666666666665,\n",
       " 4.934333333333333,\n",
       " 4.9863333333333335,\n",
       " 5.005,\n",
       " 4.966666666666667,\n",
       " 4.972666666666667,\n",
       " 4.995666666666667,\n",
       " 4.957333333333334,\n",
       " 4.92,\n",
       " 4.957666666666666,\n",
       " 4.980333333333333,\n",
       " 4.9526666666666666,\n",
       " 4.9543333333333335,\n",
       " 4.998666666666667,\n",
       " 4.981333333333334,\n",
       " 4.959333333333333,\n",
       " 4.993666666666667,\n",
       " 4.995666666666667,\n",
       " 4.972333333333333,\n",
       " 4.947333333333333,\n",
       " 4.9303333333333335,\n",
       " 4.951333333333333,\n",
       " 4.977333333333333,\n",
       " 4.9206666666666665,\n",
       " 4.957,\n",
       " 4.974,\n",
       " 4.916666666666667,\n",
       " 4.953,\n",
       " 4.971333333333333,\n",
       " 4.961333333333333,\n",
       " 4.941666666666666,\n",
       " 5.029333333333334,\n",
       " 5.025333333333333,\n",
       " 4.973333333333334,\n",
       " 4.93,\n",
       " 4.977,\n",
       " 4.966666666666667,\n",
       " 4.959333333333333,\n",
       " 4.965,\n",
       " 5.008,\n",
       " 4.945,\n",
       " 4.991666666666666,\n",
       " 4.929,\n",
       " 5.0023333333333335,\n",
       " 4.986,\n",
       " 4.961,\n",
       " 4.939666666666667,\n",
       " 4.981,\n",
       " 5.003,\n",
       " 4.9896666666666665,\n",
       " 4.933333333333334,\n",
       " 5.032,\n",
       " 5.0,\n",
       " 4.986,\n",
       " 4.946666666666666,\n",
       " 4.942,\n",
       " 4.883333333333334,\n",
       " 4.949666666666666,\n",
       " 4.957333333333334,\n",
       " 4.969333333333333,\n",
       " 5.022666666666667,\n",
       " 4.972666666666667,\n",
       " 5.009333333333333,\n",
       " 4.951666666666667,\n",
       " 4.967,\n",
       " 5.0103333333333335,\n",
       " 5.022666666666667,\n",
       " 4.942666666666667,\n",
       " 4.997,\n",
       " 4.939,\n",
       " 4.969666666666667,\n",
       " 4.996,\n",
       " 4.981,\n",
       " 4.999,\n",
       " 4.979333333333333,\n",
       " 4.997333333333334,\n",
       " 4.971666666666667,\n",
       " 5.03,\n",
       " 4.999333333333333,\n",
       " 4.9703333333333335,\n",
       " 4.958333333333333,\n",
       " 4.954666666666666,\n",
       " 4.966,\n",
       " 4.961666666666667,\n",
       " 4.952333333333334,\n",
       " 4.929,\n",
       " 4.939,\n",
       " 4.966333333333333,\n",
       " 4.982,\n",
       " 4.9703333333333335,\n",
       " 4.937666666666667,\n",
       " 4.996666666666667,\n",
       " 5.016666666666667,\n",
       " 4.990666666666667,\n",
       " 4.988333333333333,\n",
       " 5.001666666666667,\n",
       " 4.9656666666666665,\n",
       " 4.994666666666666,\n",
       " 4.972,\n",
       " 5.005333333333334,\n",
       " 4.956666666666667,\n",
       " 5.01,\n",
       " 4.917,\n",
       " 4.948,\n",
       " 5.025,\n",
       " 4.969333333333333,\n",
       " 4.984666666666667,\n",
       " 4.965,\n",
       " 4.958666666666667,\n",
       " 4.966666666666667,\n",
       " 5.005,\n",
       " 4.972666666666667,\n",
       " 4.963333333333333,\n",
       " 5.01,\n",
       " 4.975,\n",
       " 4.956666666666667,\n",
       " 4.981,\n",
       " 4.943666666666667,\n",
       " 4.937333333333333,\n",
       " 4.939,\n",
       " 4.977333333333333,\n",
       " 4.994,\n",
       " 4.978,\n",
       " 4.914666666666666,\n",
       " 4.957666666666666,\n",
       " 4.996,\n",
       " 4.992333333333334,\n",
       " 4.943,\n",
       " 4.974,\n",
       " 4.916666666666667,\n",
       " 4.984333333333334,\n",
       " 4.975,\n",
       " 4.943,\n",
       " 4.9816666666666665,\n",
       " 5.033666666666667,\n",
       " 4.939666666666667,\n",
       " 4.946666666666666,\n",
       " 4.968666666666667,\n",
       " 4.997,\n",
       " 4.989333333333334,\n",
       " 4.991333333333333,\n",
       " 4.981,\n",
       " 4.946666666666666,\n",
       " 4.914333333333333,\n",
       " 4.96,\n",
       " 4.964666666666667,\n",
       " 5.004333333333333,\n",
       " 4.984666666666667,\n",
       " 4.940333333333333,\n",
       " 4.933666666666666,\n",
       " 4.968,\n",
       " 5.030333333333333,\n",
       " 5.014,\n",
       " 4.961,\n",
       " 4.97,\n",
       " 4.954,\n",
       " 4.976333333333334,\n",
       " 4.975333333333333,\n",
       " 4.983333333333333,\n",
       " 4.9543333333333335,\n",
       " 4.929333333333333,\n",
       " 4.998,\n",
       " 4.940333333333333,\n",
       " 4.990333333333333,\n",
       " 5.033666666666667,\n",
       " 5.000666666666667,\n",
       " 4.967666666666666,\n",
       " 4.975666666666666,\n",
       " 4.939,\n",
       " 4.991333333333333,\n",
       " 4.956,\n",
       " 5.0023333333333335,\n",
       " 5.0263333333333335,\n",
       " 4.937666666666667,\n",
       " 4.9303333333333335,\n",
       " 4.948,\n",
       " 4.978666666666666,\n",
       " 4.972,\n",
       " 4.991,\n",
       " 4.947666666666667,\n",
       " 4.979,\n",
       " 4.918333333333333,\n",
       " 4.993666666666667,\n",
       " 4.964,\n",
       " 4.986,\n",
       " 4.960666666666667,\n",
       " 4.987,\n",
       " 4.905,\n",
       " 4.937,\n",
       " 4.971,\n",
       " 4.959,\n",
       " 5.037,\n",
       " 4.982,\n",
       " 4.951333333333333,\n",
       " 4.935,\n",
       " 4.95,\n",
       " 4.975333333333333,\n",
       " 4.967666666666666,\n",
       " 5.001,\n",
       " 4.945,\n",
       " 4.989333333333334,\n",
       " 4.925666666666666,\n",
       " 4.956,\n",
       " 4.982333333333333,\n",
       " 4.921333333333333,\n",
       " 4.920333333333334,\n",
       " 4.916666666666667,\n",
       " 4.924,\n",
       " 4.996333333333333,\n",
       " 5.053,\n",
       " 4.935666666666667,\n",
       " 4.973,\n",
       " 4.957666666666666,\n",
       " 4.96,\n",
       " 5.0216666666666665,\n",
       " 4.973333333333334,\n",
       " 4.999666666666666,\n",
       " 4.9366666666666665,\n",
       " 4.961,\n",
       " 4.963666666666667,\n",
       " 4.981,\n",
       " 4.959333333333333,\n",
       " 4.983333333333333,\n",
       " 4.987666666666667,\n",
       " 5.009666666666667,\n",
       " 4.959666666666666,\n",
       " 5.007666666666666,\n",
       " 4.9703333333333335,\n",
       " 4.946666666666666,\n",
       " 4.946666666666666,\n",
       " 4.945666666666667,\n",
       " 4.975666666666666,\n",
       " 4.916666666666667,\n",
       " 4.975,\n",
       " 5.011,\n",
       " 5.004333333333333,\n",
       " 4.958666666666667,\n",
       " 4.971333333333333,\n",
       " 4.968666666666667,\n",
       " 5.023333333333333,\n",
       " 4.924,\n",
       " 4.953,\n",
       " 5.013333333333334,\n",
       " 4.982333333333333,\n",
       " 4.974666666666667,\n",
       " 4.972666666666667,\n",
       " 5.003,\n",
       " 4.9656666666666665,\n",
       " 4.977,\n",
       " 4.918333333333333,\n",
       " 4.952333333333334,\n",
       " 4.992,\n",
       " 5.001666666666667,\n",
       " 4.976,\n",
       " 5.012333333333333,\n",
       " 4.93,\n",
       " 4.94,\n",
       " 4.9783333333333335,\n",
       " 4.979333333333333,\n",
       " 4.979,\n",
       " 4.990666666666667,\n",
       " 4.9703333333333335,\n",
       " 4.998,\n",
       " 4.970666666666666,\n",
       " 4.948666666666667,\n",
       " 4.954,\n",
       " 4.939,\n",
       " 4.994,\n",
       " 5.009666666666667,\n",
       " 4.979666666666667,\n",
       " 4.894333333333333,\n",
       " 4.961333333333333,\n",
       " 4.9656666666666665,\n",
       " 4.991,\n",
       " 4.972,\n",
       " 4.984666666666667,\n",
       " 4.967666666666666,\n",
       " 5.005333333333334,\n",
       " 4.953333333333333,\n",
       " 4.925666666666666,\n",
       " 4.955,\n",
       " 4.980333333333333,\n",
       " 4.990333333333333,\n",
       " 4.980666666666667,\n",
       " 4.951666666666667,\n",
       " 5.013333333333334,\n",
       " 5.042,\n",
       " 4.977333333333333,\n",
       " 4.995666666666667,\n",
       " 4.980666666666667,\n",
       " 4.904,\n",
       " 4.966,\n",
       " 4.942333333333333,\n",
       " 4.986666666666666,\n",
       " 4.927,\n",
       " 4.999333333333333,\n",
       " 4.957333333333334,\n",
       " 4.9976666666666665,\n",
       " 4.9623333333333335,\n",
       " 4.956333333333333,\n",
       " 4.95,\n",
       " 4.937666666666667,\n",
       " 5.012666666666667,\n",
       " 5.024,\n",
       " 5.007,\n",
       " 4.956,\n",
       " 4.984333333333334,\n",
       " 4.912333333333334,\n",
       " 4.976666666666667,\n",
       " 4.954666666666666,\n",
       " 5.015,\n",
       " 4.927333333333333,\n",
       " 4.993666666666667,\n",
       " 4.929666666666667,\n",
       " 4.994666666666666,\n",
       " 4.948333333333333,\n",
       " 4.963,\n",
       " 4.935,\n",
       " 4.962,\n",
       " 4.990666666666667,\n",
       " 4.969,\n",
       " 4.946666666666666,\n",
       " 4.966,\n",
       " 4.971,\n",
       " 4.937333333333333,\n",
       " 4.957333333333334,\n",
       " 5.001333333333333,\n",
       " 5.001333333333333,\n",
       " 4.979,\n",
       " 4.9366666666666665,\n",
       " 4.988,\n",
       " 4.924,\n",
       " 4.990333333333333,\n",
       " 4.974,\n",
       " 4.935666666666667,\n",
       " 4.976666666666667,\n",
       " 4.959666666666666,\n",
       " 4.991666666666666,\n",
       " 4.997333333333334,\n",
       " 4.953333333333333,\n",
       " 5.007,\n",
       " 5.019333333333333,\n",
       " 4.936333333333334,\n",
       " 5.007,\n",
       " 4.957,\n",
       " 4.9736666666666665,\n",
       " 4.973333333333334,\n",
       " 5.005333333333334,\n",
       " 4.955,\n",
       " 5.027666666666667,\n",
       " 4.944333333333334,\n",
       " 4.976333333333334,\n",
       " 4.963,\n",
       " 4.964666666666667,\n",
       " 4.976,\n",
       " 4.986666666666666,\n",
       " 4.976666666666667,\n",
       " 4.968666666666667,\n",
       " 4.992333333333334,\n",
       " 4.873666666666667,\n",
       " 4.955333333333333,\n",
       " 4.951666666666667,\n",
       " 4.963333333333333,\n",
       " 4.971,\n",
       " 4.977333333333333,\n",
       " 4.975666666666666,\n",
       " 5.035666666666667,\n",
       " 4.952,\n",
       " 5.0216666666666665,\n",
       " 4.989,\n",
       " 4.973333333333334,\n",
       " 4.987333333333333,\n",
       " 4.936,\n",
       " 5.011333333333333,\n",
       " 4.985,\n",
       " 4.994666666666666,\n",
       " 4.970666666666666,\n",
       " 4.950333333333333,\n",
       " 5.023,\n",
       " 4.984666666666667,\n",
       " 4.959666666666666,\n",
       " 4.991666666666666,\n",
       " 4.978666666666666,\n",
       " 4.948666666666667,\n",
       " 4.989333333333334,\n",
       " 4.952333333333334,\n",
       " 4.9013333333333335,\n",
       " 4.978,\n",
       " 4.981333333333334,\n",
       " 4.932,\n",
       " 5.016333333333334,\n",
       " 4.993,\n",
       " 4.937666666666667,\n",
       " 4.949333333333334,\n",
       " 4.959333333333333,\n",
       " 5.022666666666667,\n",
       " 4.998666666666667,\n",
       " 4.993666666666667,\n",
       " 4.907,\n",
       " 4.938,\n",
       " 5.028,\n",
       " 4.957666666666666,\n",
       " 4.953666666666667,\n",
       " 5.008,\n",
       " 4.945,\n",
       " 4.9526666666666666,\n",
       " 4.971,\n",
       " 5.014666666666667,\n",
       " 4.99,\n",
       " 4.938666666666666,\n",
       " 4.933666666666666,\n",
       " 4.956,\n",
       " 4.969333333333333,\n",
       " 4.981,\n",
       " 4.956666666666667,\n",
       " 5.011,\n",
       " 4.979,\n",
       " 4.998333333333333,\n",
       " 4.993666666666667,\n",
       " 4.934666666666667,\n",
       " 4.982,\n",
       " 5.005333333333334,\n",
       " 4.995,\n",
       " 5.0183333333333335,\n",
       " 5.0296666666666665,\n",
       " 4.976,\n",
       " 4.988333333333333,\n",
       " 4.948666666666667,\n",
       " 4.970666666666666,\n",
       " 4.962666666666666,\n",
       " 4.962,\n",
       " 4.949666666666666,\n",
       " 4.958333333333333,\n",
       " 4.977333333333333,\n",
       " 4.979,\n",
       " 4.964333333333333,\n",
       " 4.967,\n",
       " 4.996333333333333,\n",
       " 5.004666666666667,\n",
       " 4.984,\n",
       " 4.991,\n",
       " 4.944333333333334,\n",
       " 4.959,\n",
       " 4.918333333333333,\n",
       " 4.943,\n",
       " 4.9,\n",
       " 4.997,\n",
       " 4.948,\n",
       " 4.988,\n",
       " 4.921,\n",
       " 4.971,\n",
       " 4.952,\n",
       " 4.975,\n",
       " 4.967666666666666,\n",
       " 4.941666666666666,\n",
       " 4.951,\n",
       " 4.99,\n",
       " 4.951666666666667,\n",
       " 4.963,\n",
       " 4.943333333333333,\n",
       " 5.008,\n",
       " 4.996333333333333,\n",
       " 4.980666666666667,\n",
       " 4.969666666666667,\n",
       " 4.969,\n",
       " 4.972333333333333,\n",
       " 4.954666666666666,\n",
       " 4.977,\n",
       " 4.944333333333334,\n",
       " 4.988333333333333,\n",
       " 4.932666666666667,\n",
       " 4.965333333333334,\n",
       " 4.981,\n",
       " 5.031666666666666,\n",
       " 4.968666666666667,\n",
       " 5.001333333333333,\n",
       " 4.992666666666667,\n",
       " 5.0103333333333335,\n",
       " 4.979,\n",
       " 4.949666666666666,\n",
       " 4.964666666666667,\n",
       " 4.941333333333334,\n",
       " 4.937666666666667,\n",
       " 4.948333333333333,\n",
       " 5.004666666666667,\n",
       " 5.0103333333333335,\n",
       " 4.941,\n",
       " 5.016333333333334,\n",
       " 4.985333333333333,\n",
       " 4.928333333333334,\n",
       " 4.951666666666667,\n",
       " 4.977666666666667,\n",
       " 4.991666666666666,\n",
       " 4.947,\n",
       " 4.972333333333333,\n",
       " 4.959333333333333,\n",
       " 4.9656666666666665,\n",
       " 5.015333333333333,\n",
       " 4.948333333333333,\n",
       " 5.018,\n",
       " 4.976,\n",
       " 4.959,\n",
       " 4.983666666666666,\n",
       " 4.941666666666666,\n",
       " 4.961333333333333,\n",
       " 4.946666666666666,\n",
       " 4.952333333333334,\n",
       " 4.946,\n",
       " 4.948333333333333,\n",
       " 4.929,\n",
       " 5.011,\n",
       " 4.969333333333333,\n",
       " 5.004,\n",
       " 4.990333333333333,\n",
       " 4.949333333333334,\n",
       " 5.024666666666667,\n",
       " 4.953666666666667,\n",
       " 4.977,\n",
       " 4.973333333333334,\n",
       " 4.955333333333333,\n",
       " 4.921666666666667,\n",
       " 4.961,\n",
       " 4.982,\n",
       " 4.992333333333334,\n",
       " 4.965,\n",
       " 4.9703333333333335,\n",
       " 4.976666666666667,\n",
       " 4.955333333333333,\n",
       " 5.021,\n",
       " 4.9623333333333335,\n",
       " 4.942333333333333,\n",
       " 5.005,\n",
       " 4.9943333333333335,\n",
       " 4.975,\n",
       " 4.944333333333334,\n",
       " 5.036666666666667,\n",
       " 4.998333333333333,\n",
       " 5.019333333333333,\n",
       " 4.985,\n",
       " 4.985,\n",
       " 4.95,\n",
       " 5.003666666666667,\n",
       " 4.971333333333333,\n",
       " 4.930666666666666,\n",
       " 4.949666666666666,\n",
       " 4.983,\n",
       " 4.945,\n",
       " 4.983666666666666,\n",
       " 4.966333333333333,\n",
       " 4.9896666666666665,\n",
       " 4.955666666666667,\n",
       " 4.974333333333333,\n",
       " 4.998333333333333,\n",
       " 4.898666666666666,\n",
       " 4.965333333333334,\n",
       " 4.9463333333333335,\n",
       " 4.963,\n",
       " 4.960666666666667,\n",
       " 4.9896666666666665,\n",
       " 4.962666666666666,\n",
       " 4.992333333333334,\n",
       " 4.955,\n",
       " 4.985666666666667,\n",
       " 4.9816666666666665,\n",
       " 4.947,\n",
       " 4.993666666666667,\n",
       " 5.006333333333333,\n",
       " 4.967333333333333,\n",
       " 4.942,\n",
       " 4.964333333333333,\n",
       " 4.98,\n",
       " 4.995,\n",
       " 4.939,\n",
       " 4.997,\n",
       " 4.945,\n",
       " 4.96,\n",
       " 4.941,\n",
       " 4.959666666666666,\n",
       " 5.008666666666667,\n",
       " 4.979333333333333,\n",
       " 4.917,\n",
       " 4.919666666666667,\n",
       " 4.997333333333334,\n",
       " 4.955666666666667,\n",
       " 4.962,\n",
       " 5.002,\n",
       " 4.955666666666667,\n",
       " 4.945666666666667,\n",
       " 5.042,\n",
       " 4.991,\n",
       " 4.908,\n",
       " 4.949666666666666,\n",
       " 4.993333333333333,\n",
       " 4.942666666666667,\n",
       " 5.066666666666666,\n",
       " 5.013333333333334,\n",
       " 4.951,\n",
       " 4.923333333333333,\n",
       " 4.950333333333333,\n",
       " 5.009666666666667,\n",
       " 4.9783333333333335,\n",
       " 4.943333333333333,\n",
       " 4.931333333333333,\n",
       " 4.927,\n",
       " 4.961,\n",
       " 4.959,\n",
       " 5.002,\n",
       " 4.974333333333333,\n",
       " 4.981333333333334,\n",
       " 4.981333333333334,\n",
       " 4.969333333333333,\n",
       " 4.972,\n",
       " 4.993666666666667,\n",
       " 5.009,\n",
       " 4.947333333333333,\n",
       " 4.998333333333333,\n",
       " 5.050333333333334,\n",
       " 5.008333333333334,\n",
       " 4.987,\n",
       " 4.945666666666667,\n",
       " 4.933333333333334,\n",
       " 4.942,\n",
       " 4.991666666666666,\n",
       " 4.9446666666666665,\n",
       " 4.940333333333333,\n",
       " 4.996666666666667,\n",
       " 5.016333333333334,\n",
       " 4.983,\n",
       " 5.032333333333334,\n",
       " 4.993,\n",
       " 4.966333333333333,\n",
       " 4.999666666666666]"
      ]
     },
     "execution_count": 84,
     "metadata": {},
     "output_type": "execute_result"
    }
   ],
   "source": [
    "sample_mean"
   ]
  },
  {
   "cell_type": "code",
   "execution_count": 85,
   "id": "613a828b",
   "metadata": {},
   "outputs": [
    {
     "name": "stderr",
     "output_type": "stream",
     "text": [
      "C:\\Users\\Admin\\anaconda3\\lib\\site-packages\\seaborn\\distributions.py:2619: FutureWarning: `distplot` is a deprecated function and will be removed in a future version. Please adapt your code to use either `displot` (a figure-level function with similar flexibility) or `histplot` (an axes-level function for histograms).\n",
      "  warnings.warn(msg, FutureWarning)\n"
     ]
    },
    {
     "data": {
      "text/plain": [
       "<AxesSubplot:ylabel='Density'>"
      ]
     },
     "execution_count": 85,
     "metadata": {},
     "output_type": "execute_result"
    },
    {
     "data": {
      "image/png": "[encoded data removed]",
      "text/plain": [
       "<Figure size 432x288 with 1 Axes>"
      ]
     },
     "metadata": {
      "needs_background": "light"
     },
     "output_type": "display_data"
    }
   ],
   "source": [
    "sns.distplot(sample_mean)"
   ]
  },
  {
   "cell_type": "code",
   "execution_count": 86,
   "id": "2aa438f1",
   "metadata": {},
   "outputs": [],
   "source": [
    "sample_mean=[]\n",
    "for i in range(1,2001):\n",
    "    sample=np.random.choice(population_data,size=n)\n",
    "    sample_mean.append(np.mean(sample))"
   ]
  },
  {
   "cell_type": "code",
   "execution_count": 87,
   "id": "b65cd703",
   "metadata": {},
   "outputs": [
    {
     "data": {
      "text/plain": [
       "[4.949333333333334,\n",
       " 4.961666666666667,\n",
       " 5.0183333333333335,\n",
       " 5.020666666666667,\n",
       " 4.9303333333333335,\n",
       " 4.990333333333333,\n",
       " 4.943333333333333,\n",
       " 4.886666666666667,\n",
       " 4.949666666666666,\n",
       " 5.011333333333333,\n",
       " 4.974333333333333,\n",
       " 4.970666666666666,\n",
       " 5.000666666666667,\n",
       " 5.018666666666666,\n",
       " 4.975666666666666,\n",
       " 4.9896666666666665,\n",
       " 4.934666666666667,\n",
       " 4.941666666666666,\n",
       " 4.94,\n",
       " 5.007,\n",
       " 4.940666666666667,\n",
       " 4.931333333333333,\n",
       " 4.975,\n",
       " 4.933,\n",
       " 5.003666666666667,\n",
       " 4.952,\n",
       " 4.951,\n",
       " 4.939,\n",
       " 4.964333333333333,\n",
       " 4.974666666666667,\n",
       " 5.004333333333333,\n",
       " 5.021333333333334,\n",
       " 5.003,\n",
       " 4.975,\n",
       " 4.949666666666666,\n",
       " 4.963,\n",
       " 4.9366666666666665,\n",
       " 4.934666666666667,\n",
       " 4.970666666666666,\n",
       " 4.996333333333333,\n",
       " 4.956333333333333,\n",
       " 4.989333333333334,\n",
       " 4.975666666666666,\n",
       " 5.012666666666667,\n",
       " 4.944,\n",
       " 4.992666666666667,\n",
       " 4.927666666666667,\n",
       " 4.921333333333333,\n",
       " 4.989333333333334,\n",
       " 4.92,\n",
       " 4.936333333333334,\n",
       " 4.985666666666667,\n",
       " 4.97,\n",
       " 4.986,\n",
       " 4.943333333333333,\n",
       " 4.992,\n",
       " 5.014,\n",
       " 5.030333333333333,\n",
       " 4.950333333333333,\n",
       " 5.001666666666667,\n",
       " 5.004,\n",
       " 4.990333333333333,\n",
       " 4.987333333333333,\n",
       " 4.9366666666666665,\n",
       " 4.979666666666667,\n",
       " 4.911,\n",
       " 4.997333333333334,\n",
       " 4.958333333333333,\n",
       " 4.988333333333333,\n",
       " 4.941666666666666,\n",
       " 4.977333333333333,\n",
       " 4.976333333333334,\n",
       " 4.968,\n",
       " 4.974333333333333,\n",
       " 4.980333333333333,\n",
       " 4.979333333333333,\n",
       " 4.943,\n",
       " 4.982,\n",
       " 4.912,\n",
       " 4.996,\n",
       " 4.994666666666666,\n",
       " 4.975,\n",
       " 5.0,\n",
       " 4.994,\n",
       " 4.974,\n",
       " 4.940666666666667,\n",
       " 4.937333333333333,\n",
       " 4.964333333333333,\n",
       " 4.9783333333333335,\n",
       " 4.94,\n",
       " 5.067666666666667,\n",
       " 4.9703333333333335,\n",
       " 4.954,\n",
       " 4.946666666666666,\n",
       " 4.964,\n",
       " 4.999,\n",
       " 5.025,\n",
       " 5.031333333333333,\n",
       " 4.918666666666667,\n",
       " 5.009,\n",
       " 4.94,\n",
       " 4.993333333333333,\n",
       " 4.9783333333333335,\n",
       " 5.059666666666667,\n",
       " 4.984666666666667,\n",
       " 5.009333333333333,\n",
       " 4.942666666666667,\n",
       " 4.963333333333333,\n",
       " 4.981,\n",
       " 4.961666666666667,\n",
       " 4.967,\n",
       " 4.952,\n",
       " 4.888,\n",
       " 4.917666666666666,\n",
       " 4.916,\n",
       " 4.98,\n",
       " 4.997,\n",
       " 4.969666666666667,\n",
       " 5.0103333333333335,\n",
       " 4.999333333333333,\n",
       " 4.939,\n",
       " 4.968666666666667,\n",
       " 4.975,\n",
       " 4.983333333333333,\n",
       " 5.006666666666667,\n",
       " 5.0,\n",
       " 5.027333333333333,\n",
       " 4.944,\n",
       " 4.941,\n",
       " 4.934333333333333,\n",
       " 4.942,\n",
       " 4.946,\n",
       " 4.947,\n",
       " 4.967333333333333,\n",
       " 4.998333333333333,\n",
       " 4.9366666666666665,\n",
       " 4.966333333333333,\n",
       " 4.965333333333334,\n",
       " 5.007666666666666,\n",
       " 4.976666666666667,\n",
       " 4.994666666666666,\n",
       " 4.966333333333333,\n",
       " 4.961333333333333,\n",
       " 4.977,\n",
       " 4.954,\n",
       " 4.984666666666667,\n",
       " 4.969333333333333,\n",
       " 4.945333333333333,\n",
       " 4.967666666666666,\n",
       " 4.967,\n",
       " 4.960333333333334,\n",
       " 4.995,\n",
       " 4.987333333333333,\n",
       " 4.956,\n",
       " 4.927666666666667,\n",
       " 4.985,\n",
       " 4.9526666666666666,\n",
       " 5.029333333333334,\n",
       " 4.995333333333333,\n",
       " 4.9943333333333335,\n",
       " 4.983,\n",
       " 4.994666666666666,\n",
       " 4.992666666666667,\n",
       " 5.014,\n",
       " 4.995333333333333,\n",
       " 5.0,\n",
       " 5.004666666666667,\n",
       " 4.999666666666666,\n",
       " 5.03,\n",
       " 4.952,\n",
       " 5.020666666666667,\n",
       " 5.036333333333333,\n",
       " 5.000666666666667,\n",
       " 4.9543333333333335,\n",
       " 4.963333333333333,\n",
       " 5.007,\n",
       " 5.001666666666667,\n",
       " 5.009333333333333,\n",
       " 4.972333333333333,\n",
       " 4.95,\n",
       " 4.988,\n",
       " 4.995666666666667,\n",
       " 4.971,\n",
       " 4.99,\n",
       " 4.987666666666667,\n",
       " 4.986,\n",
       " 4.968,\n",
       " 5.001,\n",
       " 4.957,\n",
       " 4.988666666666667,\n",
       " 5.010666666666666,\n",
       " 5.030333333333333,\n",
       " 4.957333333333334,\n",
       " 4.943666666666667,\n",
       " 5.020333333333333,\n",
       " 4.978,\n",
       " 4.969,\n",
       " 4.979666666666667,\n",
       " 5.0376666666666665,\n",
       " 4.951666666666667,\n",
       " 4.938666666666666,\n",
       " 4.954666666666666,\n",
       " 4.968333333333334,\n",
       " 4.978666666666666,\n",
       " 4.996,\n",
       " 4.974,\n",
       " 4.9383333333333335,\n",
       " 4.97,\n",
       " 4.988333333333333,\n",
       " 5.011666666666667,\n",
       " 4.987333333333333,\n",
       " 4.971,\n",
       " 5.013333333333334,\n",
       " 4.9976666666666665,\n",
       " 4.947333333333333,\n",
       " 5.006,\n",
       " 5.008333333333334,\n",
       " 4.956333333333333,\n",
       " 4.9623333333333335,\n",
       " 5.001666666666667,\n",
       " 5.015333333333333,\n",
       " 4.952333333333334,\n",
       " 4.9656666666666665,\n",
       " 5.046666666666667,\n",
       " 4.999666666666666,\n",
       " 4.961333333333333,\n",
       " 4.956333333333333,\n",
       " 4.93,\n",
       " 4.9703333333333335,\n",
       " 4.961,\n",
       " 4.979666666666667,\n",
       " 4.948,\n",
       " 4.932666666666667,\n",
       " 4.9656666666666665,\n",
       " 4.960333333333334,\n",
       " 4.980666666666667,\n",
       " 4.999666666666666,\n",
       " 4.953,\n",
       " 5.001,\n",
       " 4.976666666666667,\n",
       " 4.98,\n",
       " 4.962666666666666,\n",
       " 5.016,\n",
       " 4.986,\n",
       " 4.976666666666667,\n",
       " 4.976333333333334,\n",
       " 4.989333333333334,\n",
       " 4.948333333333333,\n",
       " 4.991,\n",
       " 4.952333333333334,\n",
       " 4.964333333333333,\n",
       " 5.001666666666667,\n",
       " 4.934,\n",
       " 5.003,\n",
       " 4.989333333333334,\n",
       " 4.924,\n",
       " 4.99,\n",
       " 4.936333333333334,\n",
       " 4.926666666666667,\n",
       " 4.927,\n",
       " 4.971,\n",
       " 4.959,\n",
       " 5.002,\n",
       " 4.993333333333333,\n",
       " 4.960666666666667,\n",
       " 4.9656666666666665,\n",
       " 5.013333333333334,\n",
       " 4.996333333333333,\n",
       " 4.921666666666667,\n",
       " 4.993666666666667,\n",
       " 4.992,\n",
       " 5.003666666666667,\n",
       " 5.009666666666667,\n",
       " 4.9736666666666665,\n",
       " 5.006666666666667,\n",
       " 4.993333333333333,\n",
       " 4.964333333333333,\n",
       " 5.001,\n",
       " 4.972,\n",
       " 4.993333333333333,\n",
       " 4.956,\n",
       " 4.985666666666667,\n",
       " 5.054,\n",
       " 4.983333333333333,\n",
       " 4.95,\n",
       " 4.99,\n",
       " 4.963,\n",
       " 4.9366666666666665,\n",
       " 4.957333333333334,\n",
       " 5.014,\n",
       " 4.971333333333333,\n",
       " 4.974333333333333,\n",
       " 4.997333333333334,\n",
       " 5.011333333333333,\n",
       " 4.993333333333333,\n",
       " 4.964666666666667,\n",
       " 4.961333333333333,\n",
       " 4.976666666666667,\n",
       " 5.0103333333333335,\n",
       " 4.960333333333334,\n",
       " 4.967666666666666,\n",
       " 4.963666666666667,\n",
       " 4.950333333333333,\n",
       " 4.975666666666666,\n",
       " 4.963333333333333,\n",
       " 4.983333333333333,\n",
       " 5.001666666666667,\n",
       " 4.996333333333333,\n",
       " 4.962666666666666,\n",
       " 4.9463333333333335,\n",
       " 4.932333333333333,\n",
       " 4.958333333333333,\n",
       " 4.993,\n",
       " 4.956,\n",
       " 4.948,\n",
       " 4.987,\n",
       " 4.985,\n",
       " 4.9463333333333335,\n",
       " 4.989,\n",
       " 4.974666666666667,\n",
       " 4.937333333333333,\n",
       " 4.986,\n",
       " 5.021,\n",
       " 4.904,\n",
       " 4.942666666666667,\n",
       " 4.942333333333333,\n",
       " 4.9206666666666665,\n",
       " 4.961,\n",
       " 4.972333333333333,\n",
       " 4.965333333333334,\n",
       " 4.876333333333333,\n",
       " 4.955333333333333,\n",
       " 4.989333333333334,\n",
       " 4.917,\n",
       " 4.974666666666667,\n",
       " 5.001,\n",
       " 4.989333333333334,\n",
       " 4.941666666666666,\n",
       " 4.949666666666666,\n",
       " 4.939,\n",
       " 5.019333333333333,\n",
       " 5.006333333333333,\n",
       " 4.973333333333334,\n",
       " 4.964333333333333,\n",
       " 4.930666666666666,\n",
       " 5.007666666666666,\n",
       " 5.028,\n",
       " 4.946,\n",
       " 4.981333333333334,\n",
       " 4.964,\n",
       " 4.968666666666667,\n",
       " 4.991,\n",
       " 4.969333333333333,\n",
       " 4.931666666666667,\n",
       " 4.998333333333333,\n",
       " 4.9463333333333335,\n",
       " 4.956333333333333,\n",
       " 4.912333333333334,\n",
       " 4.941,\n",
       " 4.987666666666667,\n",
       " 4.953,\n",
       " 4.9446666666666665,\n",
       " 4.960333333333334,\n",
       " 4.929,\n",
       " 4.961,\n",
       " 4.979666666666667,\n",
       " 5.0103333333333335,\n",
       " 4.9736666666666665,\n",
       " 4.932666666666667,\n",
       " 4.979333333333333,\n",
       " 4.985,\n",
       " 4.939666666666667,\n",
       " 4.971333333333333,\n",
       " 4.985333333333333,\n",
       " 5.007333333333333,\n",
       " 5.000333333333334,\n",
       " 4.948666666666667,\n",
       " 5.02,\n",
       " 4.963333333333333,\n",
       " 5.001,\n",
       " 4.963666666666667,\n",
       " 4.9446666666666665,\n",
       " 4.956666666666667,\n",
       " 4.9526666666666666,\n",
       " 4.984333333333334,\n",
       " 4.972,\n",
       " 4.960333333333334,\n",
       " 5.001666666666667,\n",
       " 4.99,\n",
       " 5.017666666666667,\n",
       " 4.987666666666667,\n",
       " 4.916,\n",
       " 4.99,\n",
       " 4.963,\n",
       " 4.980666666666667,\n",
       " 4.937333333333333,\n",
       " 4.984333333333334,\n",
       " 4.987666666666667,\n",
       " 4.967666666666666,\n",
       " 4.9736666666666665,\n",
       " 4.967333333333333,\n",
       " 5.0103333333333335,\n",
       " 4.992333333333334,\n",
       " 4.974333333333333,\n",
       " 4.966333333333333,\n",
       " 4.965333333333334,\n",
       " 4.933333333333334,\n",
       " 4.943666666666667,\n",
       " 4.972,\n",
       " 4.894,\n",
       " 4.994666666666666,\n",
       " 4.917333333333334,\n",
       " 4.959333333333333,\n",
       " 4.976,\n",
       " 4.975666666666666,\n",
       " 4.943666666666667,\n",
       " 4.954666666666666,\n",
       " 4.990666666666667,\n",
       " 4.944333333333334,\n",
       " 5.000666666666667,\n",
       " 4.966666666666667,\n",
       " 4.988333333333333,\n",
       " 4.968666666666667,\n",
       " 4.9526666666666666,\n",
       " 4.944333333333334,\n",
       " 4.96,\n",
       " 5.013,\n",
       " 5.045,\n",
       " 5.075666666666667,\n",
       " 5.008,\n",
       " 5.014666666666667,\n",
       " 4.964333333333333,\n",
       " 4.99,\n",
       " 4.968,\n",
       " 5.020333333333333,\n",
       " 4.985333333333333,\n",
       " 4.980666666666667,\n",
       " 4.994,\n",
       " 4.971333333333333,\n",
       " 4.970666666666666,\n",
       " 4.962,\n",
       " 5.025666666666667,\n",
       " 5.0216666666666665,\n",
       " 4.948666666666667,\n",
       " 4.973333333333334,\n",
       " 4.993666666666667,\n",
       " 4.9463333333333335,\n",
       " 4.9,\n",
       " 4.984333333333334,\n",
       " 4.9816666666666665,\n",
       " 4.967,\n",
       " 4.968,\n",
       " 5.015666666666666,\n",
       " 4.9736666666666665,\n",
       " 4.937,\n",
       " 4.988666666666667,\n",
       " 5.016666666666667,\n",
       " 4.92,\n",
       " 4.959666666666666,\n",
       " 4.999666666666666,\n",
       " 5.014666666666667,\n",
       " 4.97,\n",
       " 4.989,\n",
       " 4.932333333333333,\n",
       " 4.971333333333333,\n",
       " 4.955333333333333,\n",
       " 4.970666666666666,\n",
       " 4.976,\n",
       " 4.999,\n",
       " 4.985,\n",
       " 4.989333333333334,\n",
       " 4.951666666666667,\n",
       " 4.985666666666667,\n",
       " 4.968666666666667,\n",
       " 4.985,\n",
       " 5.008333333333334,\n",
       " 4.956333333333333,\n",
       " 4.919333333333333,\n",
       " 4.923333333333333,\n",
       " 4.956,\n",
       " 4.929666666666667,\n",
       " 4.969666666666667,\n",
       " 5.008333333333334,\n",
       " 4.947,\n",
       " 5.011333333333333,\n",
       " 4.969333333333333,\n",
       " 4.976666666666667,\n",
       " 4.948333333333333,\n",
       " 4.9816666666666665,\n",
       " 4.978,\n",
       " 4.947333333333333,\n",
       " 5.012,\n",
       " 4.99,\n",
       " 4.983666666666666,\n",
       " 4.986,\n",
       " 5.0023333333333335,\n",
       " 4.959333333333333,\n",
       " 4.988,\n",
       " 4.990333333333333,\n",
       " 4.988333333333333,\n",
       " 4.940333333333333,\n",
       " 4.974,\n",
       " 4.9656666666666665,\n",
       " 5.006,\n",
       " 5.009333333333333,\n",
       " 4.935333333333333,\n",
       " 4.9656666666666665,\n",
       " 5.009,\n",
       " 4.94,\n",
       " 4.955666666666667,\n",
       " 4.967,\n",
       " 4.982333333333333,\n",
       " 4.962,\n",
       " 4.958,\n",
       " 4.9783333333333335,\n",
       " 4.9943333333333335,\n",
       " 4.97,\n",
       " 5.009,\n",
       " 4.941,\n",
       " 4.933333333333334,\n",
       " 5.030333333333333,\n",
       " 4.975,\n",
       " 4.999666666666666,\n",
       " 4.96,\n",
       " 4.924,\n",
       " 4.971,\n",
       " 5.008666666666667,\n",
       " 4.933333333333334,\n",
       " 4.971666666666667,\n",
       " 4.98,\n",
       " 5.008666666666667,\n",
       " 4.972,\n",
       " 4.968666666666667,\n",
       " 4.990666666666667,\n",
       " 4.976,\n",
       " 4.951666666666667,\n",
       " 4.942333333333333,\n",
       " 4.976333333333334,\n",
       " 4.9463333333333335,\n",
       " 4.991666666666666,\n",
       " 4.97,\n",
       " 5.01,\n",
       " 5.015666666666666,\n",
       " 5.025666666666667,\n",
       " 4.94,\n",
       " 5.010666666666666,\n",
       " 5.006,\n",
       " 4.986,\n",
       " 4.958,\n",
       " 5.006,\n",
       " 4.963666666666667,\n",
       " 4.974333333333333,\n",
       " 4.959,\n",
       " 4.98,\n",
       " 5.018666666666666,\n",
       " 5.008333333333334,\n",
       " 4.971333333333333,\n",
       " 4.979,\n",
       " 4.996333333333333,\n",
       " 4.991,\n",
       " 5.003333333333333,\n",
       " 4.964,\n",
       " 4.949333333333334,\n",
       " 4.969333333333333,\n",
       " 4.921,\n",
       " 4.963666666666667,\n",
       " 5.009,\n",
       " 4.97,\n",
       " 4.942,\n",
       " 4.925333333333334,\n",
       " 4.996666666666667,\n",
       " 4.953666666666667,\n",
       " 4.952333333333334,\n",
       " 4.968666666666667,\n",
       " 4.972666666666667,\n",
       " 5.02,\n",
       " 4.954666666666666,\n",
       " 5.018,\n",
       " 4.981,\n",
       " 4.975333333333333,\n",
       " 4.964,\n",
       " 5.011,\n",
       " 4.973333333333334,\n",
       " 4.982666666666667,\n",
       " 5.020666666666667,\n",
       " 4.964,\n",
       " 4.951666666666667,\n",
       " 4.887,\n",
       " 4.986666666666666,\n",
       " 4.919666666666667,\n",
       " 4.9526666666666666,\n",
       " 4.948333333333333,\n",
       " 4.981,\n",
       " 4.933333333333334,\n",
       " 4.9383333333333335,\n",
       " 4.996333333333333,\n",
       " 4.955,\n",
       " 4.986,\n",
       " 4.876,\n",
       " 4.985333333333333,\n",
       " 4.999,\n",
       " 4.929333333333333,\n",
       " 4.9446666666666665,\n",
       " 5.015,\n",
       " 4.991666666666666,\n",
       " 4.972333333333333,\n",
       " 4.94,\n",
       " 4.966,\n",
       " 4.9896666666666665,\n",
       " 4.964,\n",
       " 4.926333333333333,\n",
       " 5.005,\n",
       " 4.919333333333333,\n",
       " 5.004666666666667,\n",
       " 4.979,\n",
       " 4.9976666666666665,\n",
       " 5.031333333333333,\n",
       " 4.959333333333333,\n",
       " 4.956,\n",
       " 4.966666666666667,\n",
       " 5.023,\n",
       " 4.986,\n",
       " 4.969666666666667,\n",
       " 4.962666666666666,\n",
       " 4.966666666666667,\n",
       " 4.944,\n",
       " 4.930666666666666,\n",
       " 4.968666666666667,\n",
       " 4.935,\n",
       " 4.957,\n",
       " 4.947,\n",
       " 4.940333333333333,\n",
       " 4.942,\n",
       " 4.993,\n",
       " 4.956666666666667,\n",
       " 4.971333333333333,\n",
       " 4.942,\n",
       " 5.011,\n",
       " 4.914,\n",
       " 4.978666666666666,\n",
       " 4.981,\n",
       " 4.959666666666666,\n",
       " 4.926666666666667,\n",
       " 4.991666666666666,\n",
       " 4.972333333333333,\n",
       " 4.953,\n",
       " 4.992666666666667,\n",
       " 4.932333333333333,\n",
       " 4.9446666666666665,\n",
       " 5.014666666666667,\n",
       " 4.955666666666667,\n",
       " 4.927666666666667,\n",
       " 4.931666666666667,\n",
       " 5.018666666666666,\n",
       " 5.052,\n",
       " 4.977333333333333,\n",
       " 4.9703333333333335,\n",
       " 4.916666666666667,\n",
       " 4.946,\n",
       " 4.942666666666667,\n",
       " 5.013333333333334,\n",
       " 4.973333333333334,\n",
       " 4.965,\n",
       " 4.956333333333333,\n",
       " 4.987666666666667,\n",
       " 4.970666666666666,\n",
       " 5.018,\n",
       " 4.993666666666667,\n",
       " 4.959666666666666,\n",
       " 4.980666666666667,\n",
       " 4.951666666666667,\n",
       " 5.031333333333333,\n",
       " 4.950333333333333,\n",
       " 5.002,\n",
       " 4.974333333333333,\n",
       " 4.998333333333333,\n",
       " 4.967666666666666,\n",
       " 4.952,\n",
       " 4.983333333333333,\n",
       " 4.981,\n",
       " 4.967666666666666,\n",
       " 5.023333333333333,\n",
       " 4.986,\n",
       " 4.937,\n",
       " 4.890666666666666,\n",
       " 4.942,\n",
       " 4.993333333333333,\n",
       " 4.988,\n",
       " 4.973333333333334,\n",
       " 4.9543333333333335,\n",
       " 4.985,\n",
       " 4.934333333333333,\n",
       " 4.923666666666667,\n",
       " 4.994666666666666,\n",
       " 5.010666666666666,\n",
       " 4.958333333333333,\n",
       " 4.952,\n",
       " 4.924,\n",
       " 4.957333333333334,\n",
       " 4.943333333333333,\n",
       " 4.979333333333333,\n",
       " 4.966,\n",
       " 4.969333333333333,\n",
       " 4.943,\n",
       " 4.973,\n",
       " 4.997,\n",
       " 4.984666666666667,\n",
       " 4.998666666666667,\n",
       " 4.953333333333333,\n",
       " 4.982333333333333,\n",
       " 4.960666666666667,\n",
       " 4.978666666666666,\n",
       " 4.976666666666667,\n",
       " 5.016333333333334,\n",
       " 4.950333333333333,\n",
       " 5.021333333333334,\n",
       " 5.012333333333333,\n",
       " 5.000666666666667,\n",
       " 4.9863333333333335,\n",
       " 4.978,\n",
       " 4.958,\n",
       " 4.985666666666667,\n",
       " 5.000333333333334,\n",
       " 4.950333333333333,\n",
       " 4.976666666666667,\n",
       " 5.004,\n",
       " 5.043333333333333,\n",
       " 4.947,\n",
       " 4.957666666666666,\n",
       " 4.971666666666667,\n",
       " 5.001,\n",
       " 4.955666666666667,\n",
       " 4.941666666666666,\n",
       " 4.991666666666666,\n",
       " 4.993,\n",
       " 4.961666666666667,\n",
       " 4.969333333333333,\n",
       " 4.949333333333334,\n",
       " 4.921333333333333,\n",
       " 4.941333333333334,\n",
       " 4.963,\n",
       " 4.999,\n",
       " 4.9896666666666665,\n",
       " 4.982333333333333,\n",
       " 5.039666666666666,\n",
       " 5.014666666666667,\n",
       " 5.027666666666667,\n",
       " 5.005333333333334,\n",
       " 4.999333333333333,\n",
       " 4.980333333333333,\n",
       " 4.961,\n",
       " 4.991333333333333,\n",
       " 4.940333333333333,\n",
       " 4.976,\n",
       " 4.957333333333334,\n",
       " 4.9543333333333335,\n",
       " 4.950666666666667,\n",
       " 4.955,\n",
       " 4.9446666666666665,\n",
       " 4.974,\n",
       " 4.930666666666666,\n",
       " 4.996666666666667,\n",
       " 4.949333333333334,\n",
       " 4.964,\n",
       " 4.947666666666667,\n",
       " 5.003,\n",
       " 4.97,\n",
       " 5.014666666666667,\n",
       " 4.952,\n",
       " 4.995,\n",
       " 4.984666666666667,\n",
       " 5.000333333333334,\n",
       " 4.983,\n",
       " 4.981333333333334,\n",
       " 5.017333333333333,\n",
       " 5.010666666666666,\n",
       " 4.905666666666667,\n",
       " 4.956333333333333,\n",
       " 4.996666666666667,\n",
       " 5.033333333333333,\n",
       " 4.984,\n",
       " 4.946,\n",
       " 5.031333333333333,\n",
       " 4.939333333333333,\n",
       " 4.989,\n",
       " 5.042666666666666,\n",
       " 4.984,\n",
       " 4.967333333333333,\n",
       " 5.007666666666666,\n",
       " 4.966333333333333,\n",
       " 4.953333333333333,\n",
       " 5.008666666666667,\n",
       " 4.953333333333333,\n",
       " 4.948666666666667,\n",
       " 5.006333333333333,\n",
       " 5.001333333333333,\n",
       " 4.929666666666667,\n",
       " 4.987,\n",
       " 5.0103333333333335,\n",
       " 4.916333333333333,\n",
       " 4.948333333333333,\n",
       " 4.988333333333333,\n",
       " 4.9623333333333335,\n",
       " 4.987,\n",
       " 5.014666666666667,\n",
       " 4.997333333333334,\n",
       " 5.027666666666667,\n",
       " 5.020333333333333,\n",
       " 4.967333333333333,\n",
       " 4.950666666666667,\n",
       " 4.973,\n",
       " 4.986666666666666,\n",
       " 4.9543333333333335,\n",
       " 5.0216666666666665,\n",
       " 4.980333333333333,\n",
       " 4.964,\n",
       " 4.948,\n",
       " 4.9943333333333335,\n",
       " 4.958666666666667,\n",
       " 4.986,\n",
       " 4.985,\n",
       " 4.981,\n",
       " 4.994,\n",
       " 4.948,\n",
       " 4.988666666666667,\n",
       " 4.946666666666666,\n",
       " 4.966,\n",
       " 4.929,\n",
       " 4.967333333333333,\n",
       " 5.002,\n",
       " 5.056333333333333,\n",
       " 5.004333333333333,\n",
       " 5.041666666666667,\n",
       " 4.964666666666667,\n",
       " 4.978666666666666,\n",
       " 4.928333333333334,\n",
       " 4.968333333333334,\n",
       " 4.977,\n",
       " 4.922,\n",
       " 4.979333333333333,\n",
       " 4.949,\n",
       " 4.988,\n",
       " 4.957,\n",
       " 4.9896666666666665,\n",
       " 4.914333333333333,\n",
       " 4.948666666666667,\n",
       " 4.918,\n",
       " 5.008333333333334,\n",
       " 5.021,\n",
       " 4.986666666666666,\n",
       " 5.022333333333333,\n",
       " 4.968333333333334,\n",
       " 4.964666666666667,\n",
       " 4.960666666666667,\n",
       " 4.937,\n",
       " 4.940666666666667,\n",
       " 4.930666666666666,\n",
       " 4.967333333333333,\n",
       " 5.0023333333333335,\n",
       " 5.0,\n",
       " 5.007666666666666,\n",
       " 4.917333333333334,\n",
       " 5.007,\n",
       " 4.946666666666666,\n",
       " 4.969333333333333,\n",
       " 4.991,\n",
       " 4.959,\n",
       " 5.005,\n",
       " 4.96,\n",
       " 4.986666666666666,\n",
       " 5.005,\n",
       " 4.924666666666667,\n",
       " 4.962666666666666,\n",
       " 4.984,\n",
       " 4.998,\n",
       " 5.003333333333333,\n",
       " 4.951666666666667,\n",
       " 4.976666666666667,\n",
       " 4.971,\n",
       " 4.980666666666667,\n",
       " 4.967,\n",
       " 5.001,\n",
       " 4.951,\n",
       " 5.013333333333334,\n",
       " 4.978,\n",
       " 4.970666666666666,\n",
       " 4.926666666666667,\n",
       " 4.923666666666667,\n",
       " 4.975333333333333,\n",
       " 4.930666666666666,\n",
       " 5.0263333333333335,\n",
       " 5.003,\n",
       " 4.982666666666667,\n",
       " 4.915333333333334,\n",
       " 4.994666666666666,\n",
       " 4.973,\n",
       " 4.9783333333333335,\n",
       " 4.993333333333333,\n",
       " 4.932,\n",
       " 4.990333333333333,\n",
       " 4.971,\n",
       " 4.946666666666666,\n",
       " 4.9526666666666666,\n",
       " 4.990666666666667,\n",
       " 4.946,\n",
       " 4.978,\n",
       " 4.957666666666666,\n",
       " 5.032333333333334,\n",
       " 5.0,\n",
       " 4.977333333333333,\n",
       " 4.976,\n",
       " 4.931333333333333,\n",
       " 4.949,\n",
       " 4.998333333333333,\n",
       " 5.004333333333333,\n",
       " 4.940333333333333,\n",
       " 4.9286666666666665,\n",
       " 5.005333333333334,\n",
       " 4.9863333333333335,\n",
       " 4.999333333333333,\n",
       " 5.021333333333334,\n",
       " 4.940666666666667,\n",
       " 4.996666666666667,\n",
       " 5.001666666666667,\n",
       " 4.9943333333333335,\n",
       " 4.948333333333333,\n",
       " 4.994666666666666,\n",
       " 4.952333333333334,\n",
       " 4.966,\n",
       " 4.972,\n",
       " 4.971,\n",
       " 4.98,\n",
       " 4.956666666666667,\n",
       " 4.976333333333334,\n",
       " 4.940333333333333,\n",
       " 4.967666666666666,\n",
       " 4.905,\n",
       " 4.979666666666667,\n",
       " 5.019666666666667,\n",
       " 4.884666666666667,\n",
       " 5.002,\n",
       " 4.982666666666667,\n",
       " 4.942666666666667,\n",
       " 5.008,\n",
       " 4.946,\n",
       " 4.981,\n",
       " 4.934666666666667,\n",
       " 4.996666666666667,\n",
       " 4.978,\n",
       " 4.93,\n",
       " 4.959666666666666,\n",
       " 4.954666666666666,\n",
       " 4.990333333333333,\n",
       " 4.966,\n",
       " 4.884,\n",
       " 4.995,\n",
       " 4.941333333333334,\n",
       " 4.996,\n",
       " 5.019,\n",
       " 4.956,\n",
       " 4.945333333333333,\n",
       " 4.935333333333333,\n",
       " 5.009333333333333,\n",
       " 4.972,\n",
       " 4.961,\n",
       " 4.987,\n",
       " 4.911,\n",
       " 4.984666666666667,\n",
       " 4.971,\n",
       " 4.963,\n",
       " 4.972666666666667,\n",
       " 4.970666666666666,\n",
       " 4.984,\n",
       " 5.015666666666666,\n",
       " 4.973333333333334,\n",
       " 4.949333333333334,\n",
       " 4.957333333333334,\n",
       " 5.0023333333333335,\n",
       " 5.009333333333333,\n",
       " 4.948,\n",
       " 4.965333333333334,\n",
       " 4.949,\n",
       " 5.028333333333333,\n",
       " 5.046666666666667,\n",
       " 5.006,\n",
       " 4.949333333333334,\n",
       " 4.993,\n",
       " 4.988,\n",
       " 5.0056666666666665,\n",
       " 5.035666666666667,\n",
       " 4.991666666666666,\n",
       " 4.950666666666667,\n",
       " 4.972666666666667,\n",
       " 4.960333333333334,\n",
       " 4.981333333333334,\n",
       " 4.962666666666666,\n",
       " 4.981333333333334,\n",
       " 4.973333333333334,\n",
       " 4.966666666666667,\n",
       " 4.983333333333333,\n",
       " ...]"
      ]
     },
     "execution_count": 87,
     "metadata": {},
     "output_type": "execute_result"
    }
   ],
   "source": [
    "sample_mean"
   ]
  },
  {
   "cell_type": "code",
   "execution_count": 88,
   "id": "cb636d47",
   "metadata": {},
   "outputs": [
    {
     "name": "stderr",
     "output_type": "stream",
     "text": [
      "C:\\Users\\Admin\\anaconda3\\lib\\site-packages\\seaborn\\distributions.py:2619: FutureWarning: `distplot` is a deprecated function and will be removed in a future version. Please adapt your code to use either `displot` (a figure-level function with similar flexibility) or `histplot` (an axes-level function for histograms).\n",
      "  warnings.warn(msg, FutureWarning)\n"
     ]
    },
    {
     "data": {
      "text/plain": [
       "<AxesSubplot:ylabel='Density'>"
      ]
     },
     "execution_count": 88,
     "metadata": {},
     "output_type": "execute_result"
    },
    {
     "data": {
      "image/png": "[encoded data removed]",
      "text/plain": [
       "<Figure size 432x288 with 1 Axes>"
      ]
     },
     "metadata": {
      "needs_background": "light"
     },
     "output_type": "display_data"
    }
   ],
   "source": [
    "sns.distplot(sample_mean)"
   ]
  },
  {
   "cell_type": "markdown",
   "id": "fb18a171",
   "metadata": {},
   "source": [
    "### Confidence interval and Margin of error"
   ]
  },
  {
   "cell_type": "code",
   "execution_count": 89,
   "id": "04742fd8",
   "metadata": {},
   "outputs": [],
   "source": [
    "import scipy.stats as stats"
   ]
  },
  {
   "cell_type": "code",
   "execution_count": 90,
   "id": "0627a4c3",
   "metadata": {},
   "outputs": [
    {
     "data": {
      "text/plain": [
       "1.6448536269514722"
      ]
     },
     "execution_count": 90,
     "metadata": {},
     "output_type": "execute_result"
    }
   ],
   "source": [
    "stats.norm.ppf(q=0.95)"
   ]
  },
  {
   "cell_type": "code",
   "execution_count": 91,
   "id": "841cce56",
   "metadata": {},
   "outputs": [
    {
     "data": {
      "text/plain": [
       "2.3263478740408408"
      ]
     },
     "execution_count": 91,
     "metadata": {},
     "output_type": "execute_result"
    }
   ],
   "source": [
    "stats.norm.ppf(q=0.99)"
   ]
  },
  {
   "cell_type": "code",
   "execution_count": 92,
   "id": "192cda97",
   "metadata": {},
   "outputs": [
    {
     "data": {
      "text/plain": [
       "array([15, 13, 11, 18, 10, 14, 19, 16, 15, 17, 18, 18, 19, 12, 18, 16, 16,\n",
       "       19, 11, 16, 18, 18, 13, 12, 13, 16, 13, 16, 15, 17, 10, 18, 14, 16,\n",
       "       15, 18, 12, 13, 19, 17, 15, 13, 14, 15, 13, 13, 17, 19, 19, 19])"
      ]
     },
     "execution_count": 92,
     "metadata": {},
     "output_type": "execute_result"
    }
   ],
   "source": [
    "population"
   ]
  },
  {
   "cell_type": "code",
   "execution_count": 93,
   "id": "3f665bd2",
   "metadata": {},
   "outputs": [],
   "source": [
    "sample1=np.random.choice(population,20)\n",
    "sample2=np.random.choice(population,20)\n",
    "sample3=np.random.choice(population,20)\n",
    "sample4=np.random.choice(population,20)"
   ]
  },
  {
   "cell_type": "code",
   "execution_count": 94,
   "id": "c4fd9014",
   "metadata": {},
   "outputs": [],
   "source": [
    "mean_of_sample=[]\n",
    "all_sample=[sample1,sample2,sample3,sample4]\n",
    "for sample in all_sample:\n",
    "    mean_of_sample.append(np.mean(sample))"
   ]
  },
  {
   "cell_type": "code",
   "execution_count": 95,
   "id": "11865cbe",
   "metadata": {},
   "outputs": [
    {
     "data": {
      "text/plain": [
       "[16.5, 16.1, 15.05, 15.25]"
      ]
     },
     "execution_count": 95,
     "metadata": {},
     "output_type": "execute_result"
    }
   ],
   "source": [
    "mean_of_sample"
   ]
  },
  {
   "cell_type": "code",
   "execution_count": 96,
   "id": "68dbbdf0",
   "metadata": {},
   "outputs": [],
   "source": [
    "z_critical=stats.norm.ppf(q=0.975) # Z-score"
   ]
  },
  {
   "cell_type": "code",
   "execution_count": 97,
   "id": "e390b2e9",
   "metadata": {},
   "outputs": [],
   "source": [
    "margin_of_error = z_critical + (np.std(mean_of_sample)/np.sqrt(20))"
   ]
  },
  {
   "cell_type": "code",
   "execution_count": 98,
   "id": "d71c2665",
   "metadata": {},
   "outputs": [],
   "source": [
    "higher_range_CI = np.mean(mean_of_sample) + margin_of_error"
   ]
  },
  {
   "cell_type": "code",
   "execution_count": 99,
   "id": "64a15952",
   "metadata": {},
   "outputs": [
    {
     "data": {
      "text/plain": [
       "17.818310338071"
      ]
     },
     "execution_count": 99,
     "metadata": {},
     "output_type": "execute_result"
    }
   ],
   "source": [
    "higher_range_CI"
   ]
  },
  {
   "cell_type": "code",
   "execution_count": 100,
   "id": "f1312686",
   "metadata": {},
   "outputs": [],
   "source": [
    "lower_range_CI=np.mean(mean_of_sample)-margin_of_error"
   ]
  },
  {
   "cell_type": "code",
   "execution_count": 101,
   "id": "f4c34657",
   "metadata": {},
   "outputs": [
    {
     "data": {
      "text/plain": [
       "13.631689661929002"
      ]
     },
     "execution_count": 101,
     "metadata": {},
     "output_type": "execute_result"
    }
   ],
   "source": [
    "lower_range_CI"
   ]
  },
  {
   "cell_type": "code",
   "execution_count": 102,
   "id": "9527d023",
   "metadata": {},
   "outputs": [],
   "source": [
    "t_critical=stats.t.ppf(q=0.975,df=24) #t-table value"
   ]
  },
  {
   "cell_type": "code",
   "execution_count": 103,
   "id": "3ca749e0",
   "metadata": {},
   "outputs": [
    {
     "data": {
      "text/plain": [
       "2.0638985616280205"
      ]
     },
     "execution_count": 103,
     "metadata": {},
     "output_type": "execute_result"
    }
   ],
   "source": [
    "t_critical"
   ]
  },
  {
   "cell_type": "code",
   "execution_count": 104,
   "id": "021c3b53",
   "metadata": {},
   "outputs": [],
   "source": [
    "margin_of_error= t_critical + (np.std(mean_of_sample)/np.sqrt(20))"
   ]
  },
  {
   "cell_type": "code",
   "execution_count": 105,
   "id": "ea26eeba",
   "metadata": {},
   "outputs": [
    {
     "data": {
      "text/plain": [
       "17.922244915158966"
      ]
     },
     "execution_count": 105,
     "metadata": {},
     "output_type": "execute_result"
    }
   ],
   "source": [
    "np.mean(mean_of_sample) + margin_of_error"
   ]
  },
  {
   "cell_type": "code",
   "execution_count": 106,
   "id": "b7ea31d7",
   "metadata": {},
   "outputs": [
    {
     "data": {
      "text/plain": [
       "13.527755084841035"
      ]
     },
     "execution_count": 106,
     "metadata": {},
     "output_type": "execute_result"
    }
   ],
   "source": [
    "np.mean(mean_of_sample) - margin_of_error"
   ]
  },
  {
   "cell_type": "markdown",
   "id": "dbb73436",
   "metadata": {},
   "source": [
    "## Z_test"
   ]
  },
  {
   "cell_type": "code",
   "execution_count": 107,
   "id": "8d178469",
   "metadata": {},
   "outputs": [],
   "source": [
    "from numpy.random import randn\n",
    "data=randn(100)"
   ]
  },
  {
   "cell_type": "code",
   "execution_count": 108,
   "id": "6dc01d02",
   "metadata": {},
   "outputs": [
    {
     "name": "stderr",
     "output_type": "stream",
     "text": [
      "C:\\Users\\Admin\\anaconda3\\lib\\site-packages\\seaborn\\distributions.py:2619: FutureWarning: `distplot` is a deprecated function and will be removed in a future version. Please adapt your code to use either `displot` (a figure-level function with similar flexibility) or `histplot` (an axes-level function for histograms).\n",
      "  warnings.warn(msg, FutureWarning)\n"
     ]
    },
    {
     "data": {
      "text/plain": [
       "<AxesSubplot:ylabel='Density'>"
      ]
     },
     "execution_count": 108,
     "metadata": {},
     "output_type": "execute_result"
    },
    {
     "data": {
      "image/png": "[encoded data removed]",
      "text/plain": [
       "<Figure size 432x288 with 1 Axes>"
      ]
     },
     "metadata": {
      "needs_background": "light"
     },
     "output_type": "display_data"
    }
   ],
   "source": [
    "sns.distplot(data)"
   ]
  },
  {
   "cell_type": "code",
   "execution_count": 109,
   "id": "f4a4c824",
   "metadata": {},
   "outputs": [
    {
     "name": "stdout",
     "output_type": "stream",
     "text": [
      " mean of the population : -0.16156528696978692 ,\n",
      " standared deviation: 1.0085236445403172\n"
     ]
    }
   ],
   "source": [
    "print(f\" mean of the population : {np.mean(data)} ,\\n standared deviation: {np.std(data)}\")"
   ]
  },
  {
   "cell_type": "markdown",
   "id": "ccae6759",
   "metadata": {},
   "source": [
    "**Some assumtion**\n",
    "1. p<=0.05 #we reject null hypothesis\n",
    "2. p>0.05 # we do not reject null hypothesis"
   ]
  },
  {
   "cell_type": "code",
   "execution_count": 110,
   "id": "1d858ec5",
   "metadata": {},
   "outputs": [],
   "source": [
    "null_mean=0.055"
   ]
  },
  {
   "cell_type": "code",
   "execution_count": 111,
   "id": "224d624d",
   "metadata": {},
   "outputs": [],
   "source": [
    "Alpha=0.05     #this is decided by domain experties"
   ]
  },
  {
   "cell_type": "code",
   "execution_count": 112,
   "id": "41e1d6a8",
   "metadata": {},
   "outputs": [],
   "source": [
    "from statsmodels.stats.weightstats import ztest\n",
    "z_score,p_value=ztest(data,value=null_mean,alternative=\"larger\")"
   ]
  },
  {
   "cell_type": "code",
   "execution_count": 113,
   "id": "ca59183f",
   "metadata": {},
   "outputs": [
    {
     "data": {
      "text/plain": [
       "-2.136585899744008"
      ]
     },
     "execution_count": 113,
     "metadata": {},
     "output_type": "execute_result"
    }
   ],
   "source": [
    "z_score"
   ]
  },
  {
   "cell_type": "code",
   "execution_count": 114,
   "id": "b9260a35",
   "metadata": {},
   "outputs": [
    {
     "data": {
      "text/plain": [
       "0.9836841562642616"
      ]
     },
     "execution_count": 114,
     "metadata": {},
     "output_type": "execute_result"
    }
   ],
   "source": [
    "p_value"
   ]
  }
 ],
 "metadata": {
  "kernelspec": {
   "display_name": "Python 3 (ipykernel)",
   "language": "python",
   "name": "python3"
  },
  "language_info": {
   "codemirror_mode": {
    "name": "ipython",
    "version": 3
   },
   "file_extension": ".py",
   "mimetype": "text/x-python",
   "name": "python",
   "nbconvert_exporter": "python",
   "pygments_lexer": "ipython3",
   "version": "3.9.12"
  }
 },
 "nbformat": 4,
 "nbformat_minor": 5
}
